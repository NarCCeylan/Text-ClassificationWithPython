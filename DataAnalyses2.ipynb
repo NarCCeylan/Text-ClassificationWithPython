{
 "cells": [
  {
   "cell_type": "code",
   "execution_count": 2,
   "id": "715927c5",
   "metadata": {},
   "outputs": [],
   "source": [
    "import numpy as np\n",
    "import pandas as pd\n",
    "import matplotlib.pyplot as plt\n",
    "import tensorflow as tf\n",
    "import keras\n",
    "from keras import layers"
   ]
  },
  {
   "cell_type": "code",
   "execution_count": 5,
   "id": "672af6d3",
   "metadata": {},
   "outputs": [
    {
     "name": "stdout",
     "output_type": "stream",
     "text": [
      "Requirement already satisfied: tensorflow in c:\\users\\ceylan\\anaconda3\\lib\\site-packages (2.9.1)\n",
      "Requirement already satisfied: numpy>=1.20 in c:\\users\\ceylan\\anaconda3\\lib\\site-packages (from tensorflow) (1.20.3)\n",
      "Requirement already satisfied: google-pasta>=0.1.1 in c:\\users\\ceylan\\anaconda3\\lib\\site-packages (from tensorflow) (0.2.0)\n",
      "Requirement already satisfied: protobuf<3.20,>=3.9.2 in c:\\users\\ceylan\\anaconda3\\lib\\site-packages (from tensorflow) (3.19.4)\n",
      "Requirement already satisfied: setuptools in c:\\users\\ceylan\\anaconda3\\lib\\site-packages (from tensorflow) (58.0.4)\n",
      "Requirement already satisfied: termcolor>=1.1.0 in c:\\users\\ceylan\\anaconda3\\lib\\site-packages (from tensorflow) (1.1.0)\n",
      "Requirement already satisfied: opt-einsum>=2.3.2 in c:\\users\\ceylan\\anaconda3\\lib\\site-packages (from tensorflow) (3.3.0)\n",
      "Requirement already satisfied: gast<=0.4.0,>=0.2.1 in c:\\users\\ceylan\\anaconda3\\lib\\site-packages (from tensorflow) (0.4.0)\n",
      "Requirement already satisfied: packaging in c:\\users\\ceylan\\anaconda3\\lib\\site-packages (from tensorflow) (21.0)\n",
      "Requirement already satisfied: tensorflow-estimator<2.10.0,>=2.9.0rc0 in c:\\users\\ceylan\\anaconda3\\lib\\site-packages (from tensorflow) (2.9.0)\n",
      "Requirement already satisfied: keras<2.10.0,>=2.9.0rc0 in c:\\users\\ceylan\\anaconda3\\lib\\site-packages (from tensorflow) (2.9.0)\n",
      "Requirement already satisfied: h5py>=2.9.0 in c:\\users\\ceylan\\anaconda3\\lib\\site-packages (from tensorflow) (3.2.1)\n",
      "Requirement already satisfied: libclang>=13.0.0 in c:\\users\\ceylan\\anaconda3\\lib\\site-packages (from tensorflow) (14.0.1)\n",
      "Requirement already satisfied: wrapt>=1.11.0 in c:\\users\\ceylan\\anaconda3\\lib\\site-packages (from tensorflow) (1.12.1)\n",
      "Requirement already satisfied: tensorflow-io-gcs-filesystem>=0.23.1 in c:\\users\\ceylan\\anaconda3\\lib\\site-packages (from tensorflow) (0.26.0)\n",
      "Requirement already satisfied: astunparse>=1.6.0 in c:\\users\\ceylan\\anaconda3\\lib\\site-packages (from tensorflow) (1.6.3)\n",
      "Requirement already satisfied: six>=1.12.0 in c:\\users\\ceylan\\anaconda3\\lib\\site-packages (from tensorflow) (1.16.0)\n",
      "Requirement already satisfied: keras-preprocessing>=1.1.1 in c:\\users\\ceylan\\anaconda3\\lib\\site-packages (from tensorflow) (1.1.2)\n",
      "Requirement already satisfied: absl-py>=1.0.0 in c:\\users\\ceylan\\anaconda3\\lib\\site-packages (from tensorflow) (1.0.0)\n",
      "Requirement already satisfied: flatbuffers<2,>=1.12 in c:\\users\\ceylan\\anaconda3\\lib\\site-packages (from tensorflow) (1.12)\n",
      "Requirement already satisfied: grpcio<2.0,>=1.24.3 in c:\\users\\ceylan\\anaconda3\\lib\\site-packages (from tensorflow) (1.46.3)\n",
      "Requirement already satisfied: tensorboard<2.10,>=2.9 in c:\\users\\ceylan\\anaconda3\\lib\\site-packages (from tensorflow) (2.9.0)\n",
      "Requirement already satisfied: typing-extensions>=3.6.6 in c:\\users\\ceylan\\anaconda3\\lib\\site-packages (from tensorflow) (3.10.0.2)\n",
      "Requirement already satisfied: wheel<1.0,>=0.23.0 in c:\\users\\ceylan\\anaconda3\\lib\\site-packages (from astunparse>=1.6.0->tensorflow) (0.37.0)\n",
      "Requirement already satisfied: requests<3,>=2.21.0 in c:\\users\\ceylan\\anaconda3\\lib\\site-packages (from tensorboard<2.10,>=2.9->tensorflow) (2.27.1)\n",
      "Requirement already satisfied: google-auth-oauthlib<0.5,>=0.4.1 in c:\\users\\ceylan\\anaconda3\\lib\\site-packages (from tensorboard<2.10,>=2.9->tensorflow) (0.4.6)\n",
      "Requirement already satisfied: tensorboard-plugin-wit>=1.6.0 in c:\\users\\ceylan\\anaconda3\\lib\\site-packages (from tensorboard<2.10,>=2.9->tensorflow) (1.8.1)\n",
      "Requirement already satisfied: werkzeug>=1.0.1 in c:\\users\\ceylan\\anaconda3\\lib\\site-packages (from tensorboard<2.10,>=2.9->tensorflow) (2.0.2)\n",
      "Requirement already satisfied: markdown>=2.6.8 in c:\\users\\ceylan\\anaconda3\\lib\\site-packages (from tensorboard<2.10,>=2.9->tensorflow) (3.3.7)\n",
      "Requirement already satisfied: tensorboard-data-server<0.7.0,>=0.6.0 in c:\\users\\ceylan\\anaconda3\\lib\\site-packages (from tensorboard<2.10,>=2.9->tensorflow) (0.6.1)\n",
      "Requirement already satisfied: google-auth<3,>=1.6.3 in c:\\users\\ceylan\\anaconda3\\lib\\site-packages (from tensorboard<2.10,>=2.9->tensorflow) (2.6.6)\n",
      "Note: you may need to restart the kernel to use updated packages.Requirement already satisfied: cachetools<6.0,>=2.0.0 in c:\\users\\ceylan\\anaconda3\\lib\\site-packages (from google-auth<3,>=1.6.3->tensorboard<2.10,>=2.9->tensorflow) (5.1.0)\n",
      "Requirement already satisfied: pyasn1-modules>=0.2.1 in c:\\users\\ceylan\\anaconda3\\lib\\site-packages (from google-auth<3,>=1.6.3->tensorboard<2.10,>=2.9->tensorflow) (0.2.8)\n",
      "Requirement already satisfied: rsa<5,>=3.1.4 in c:\\users\\ceylan\\anaconda3\\lib\\site-packages (from google-auth<3,>=1.6.3->tensorboard<2.10,>=2.9->tensorflow) (4.8)\n",
      "Requirement already satisfied: requests-oauthlib>=0.7.0 in c:\\users\\ceylan\\anaconda3\\lib\\site-packages (from google-auth-oauthlib<0.5,>=0.4.1->tensorboard<2.10,>=2.9->tensorflow) (1.3.1)\n",
      "Requirement already satisfied: importlib-metadata>=4.4 in c:\\users\\ceylan\\anaconda3\\lib\\site-packages (from markdown>=2.6.8->tensorboard<2.10,>=2.9->tensorflow) (4.8.1)\n",
      "Requirement already satisfied: zipp>=0.5 in c:\\users\\ceylan\\anaconda3\\lib\\site-packages (from importlib-metadata>=4.4->markdown>=2.6.8->tensorboard<2.10,>=2.9->tensorflow) (3.6.0)\n",
      "Requirement already satisfied: pyasn1<0.5.0,>=0.4.6 in c:\\users\\ceylan\\anaconda3\\lib\\site-packages (from pyasn1-modules>=0.2.1->google-auth<3,>=1.6.3->tensorboard<2.10,>=2.9->tensorflow) (0.4.8)\n",
      "Requirement already satisfied: charset-normalizer~=2.0.0 in c:\\users\\ceylan\\anaconda3\\lib\\site-packages (from requests<3,>=2.21.0->tensorboard<2.10,>=2.9->tensorflow) (2.0.4)\n",
      "Requirement already satisfied: idna<4,>=2.5 in c:\\users\\ceylan\\anaconda3\\lib\\site-packages (from requests<3,>=2.21.0->tensorboard<2.10,>=2.9->tensorflow) (3.2)\n",
      "Requirement already satisfied: certifi>=2017.4.17 in c:\\users\\ceylan\\anaconda3\\lib\\site-packages (from requests<3,>=2.21.0->tensorboard<2.10,>=2.9->tensorflow) (2021.10.8)\n",
      "Requirement already satisfied: urllib3<1.27,>=1.21.1 in c:\\users\\ceylan\\anaconda3\\lib\\site-packages (from requests<3,>=2.21.0->tensorboard<2.10,>=2.9->tensorflow) (1.26.7)\n",
      "Requirement already satisfied: oauthlib>=3.0.0 in c:\\users\\ceylan\\anaconda3\\lib\\site-packages (from requests-oauthlib>=0.7.0->google-auth-oauthlib<0.5,>=0.4.1->tensorboard<2.10,>=2.9->tensorflow) (3.2.0)\n",
      "Requirement already satisfied: pyparsing>=2.0.2 in c:\\users\\ceylan\\anaconda3\\lib\\site-packages (from packaging->tensorflow) (3.0.4)\n",
      "\n"
     ]
    }
   ],
   "source": [
    "pip install tensorflow"
   ]
  },
  {
   "cell_type": "code",
   "execution_count": 7,
   "id": "53bd73e0",
   "metadata": {},
   "outputs": [],
   "source": [
    "mydata=pd.read_csv(\"C:/Users/Ceylan/Desktop/EducationCovid19_2905222.csv\")"
   ]
  },
  {
   "cell_type": "code",
   "execution_count": 20,
   "id": "f28b097a",
   "metadata": {
    "scrolled": true
   },
   "outputs": [
    {
     "data": {
      "application/vnd.plotly.v1+json": {
       "config": {
        "plotlyServerURL": "https://plot.ly"
       },
       "data": [
        {
         "alignmentgroup": "True",
         "hovertemplate": "kelime=%{x}<br>geçiş frekansı=%{marker.color}<extra></extra>",
         "legendgroup": "",
         "marker": {
          "color": [
           612,
           353,
           325,
           248,
           236,
           197,
           195,
           172,
           132,
           83,
           83,
           81,
           78,
           77,
           76,
           73,
           73,
           71,
           70,
           61,
           59,
           54,
           54,
           52,
           50,
           46,
           45,
           45,
           43,
           43
          ],
          "coloraxis": "coloraxis",
          "pattern": {
           "shape": ""
          }
         },
         "name": "",
         "offsetgroup": "",
         "orientation": "v",
         "showlegend": false,
         "textposition": "auto",
         "type": "bar",
         "x": [
          "education",
          "the",
          "rt",
          "to",
          "and",
          "in",
          "of",
          "for",
          "you",
          "is",
          "on",
          "this",
          "school",
          "amp",
          "our",
          "learning",
          "we",
          "at",
          "your",
          "it",
          "with",
          "more",
          "are",
          "nous",
          "teacher",
          "be",
          "that",
          "learn",
          "how",
          "teaching"
         ],
         "xaxis": "x",
         "y": [
          612,
          353,
          325,
          248,
          236,
          197,
          195,
          172,
          132,
          83,
          83,
          81,
          78,
          77,
          76,
          73,
          73,
          71,
          70,
          61,
          59,
          54,
          54,
          52,
          50,
          46,
          45,
          45,
          43,
          43
         ],
         "yaxis": "y"
        }
       ],
       "layout": {
        "barmode": "relative",
        "coloraxis": {
         "colorbar": {
          "title": {
           "text": "geçiş frekansı"
          }
         },
         "colorscale": [
          [
           0,
           "#0d0887"
          ],
          [
           0.1111111111111111,
           "#46039f"
          ],
          [
           0.2222222222222222,
           "#7201a8"
          ],
          [
           0.3333333333333333,
           "#9c179e"
          ],
          [
           0.4444444444444444,
           "#bd3786"
          ],
          [
           0.5555555555555556,
           "#d8576b"
          ],
          [
           0.6666666666666666,
           "#ed7953"
          ],
          [
           0.7777777777777778,
           "#fb9f3a"
          ],
          [
           0.8888888888888888,
           "#fdca26"
          ],
          [
           1,
           "#f0f921"
          ]
         ]
        },
        "height": 400,
        "legend": {
         "tracegroupgap": 0
        },
        "template": {
         "data": {
          "bar": [
           {
            "error_x": {
             "color": "#2a3f5f"
            },
            "error_y": {
             "color": "#2a3f5f"
            },
            "marker": {
             "line": {
              "color": "#E5ECF6",
              "width": 0.5
             },
             "pattern": {
              "fillmode": "overlay",
              "size": 10,
              "solidity": 0.2
             }
            },
            "type": "bar"
           }
          ],
          "barpolar": [
           {
            "marker": {
             "line": {
              "color": "#E5ECF6",
              "width": 0.5
             },
             "pattern": {
              "fillmode": "overlay",
              "size": 10,
              "solidity": 0.2
             }
            },
            "type": "barpolar"
           }
          ],
          "carpet": [
           {
            "aaxis": {
             "endlinecolor": "#2a3f5f",
             "gridcolor": "white",
             "linecolor": "white",
             "minorgridcolor": "white",
             "startlinecolor": "#2a3f5f"
            },
            "baxis": {
             "endlinecolor": "#2a3f5f",
             "gridcolor": "white",
             "linecolor": "white",
             "minorgridcolor": "white",
             "startlinecolor": "#2a3f5f"
            },
            "type": "carpet"
           }
          ],
          "choropleth": [
           {
            "colorbar": {
             "outlinewidth": 0,
             "ticks": ""
            },
            "type": "choropleth"
           }
          ],
          "contour": [
           {
            "colorbar": {
             "outlinewidth": 0,
             "ticks": ""
            },
            "colorscale": [
             [
              0,
              "#0d0887"
             ],
             [
              0.1111111111111111,
              "#46039f"
             ],
             [
              0.2222222222222222,
              "#7201a8"
             ],
             [
              0.3333333333333333,
              "#9c179e"
             ],
             [
              0.4444444444444444,
              "#bd3786"
             ],
             [
              0.5555555555555556,
              "#d8576b"
             ],
             [
              0.6666666666666666,
              "#ed7953"
             ],
             [
              0.7777777777777778,
              "#fb9f3a"
             ],
             [
              0.8888888888888888,
              "#fdca26"
             ],
             [
              1,
              "#f0f921"
             ]
            ],
            "type": "contour"
           }
          ],
          "contourcarpet": [
           {
            "colorbar": {
             "outlinewidth": 0,
             "ticks": ""
            },
            "type": "contourcarpet"
           }
          ],
          "heatmap": [
           {
            "colorbar": {
             "outlinewidth": 0,
             "ticks": ""
            },
            "colorscale": [
             [
              0,
              "#0d0887"
             ],
             [
              0.1111111111111111,
              "#46039f"
             ],
             [
              0.2222222222222222,
              "#7201a8"
             ],
             [
              0.3333333333333333,
              "#9c179e"
             ],
             [
              0.4444444444444444,
              "#bd3786"
             ],
             [
              0.5555555555555556,
              "#d8576b"
             ],
             [
              0.6666666666666666,
              "#ed7953"
             ],
             [
              0.7777777777777778,
              "#fb9f3a"
             ],
             [
              0.8888888888888888,
              "#fdca26"
             ],
             [
              1,
              "#f0f921"
             ]
            ],
            "type": "heatmap"
           }
          ],
          "heatmapgl": [
           {
            "colorbar": {
             "outlinewidth": 0,
             "ticks": ""
            },
            "colorscale": [
             [
              0,
              "#0d0887"
             ],
             [
              0.1111111111111111,
              "#46039f"
             ],
             [
              0.2222222222222222,
              "#7201a8"
             ],
             [
              0.3333333333333333,
              "#9c179e"
             ],
             [
              0.4444444444444444,
              "#bd3786"
             ],
             [
              0.5555555555555556,
              "#d8576b"
             ],
             [
              0.6666666666666666,
              "#ed7953"
             ],
             [
              0.7777777777777778,
              "#fb9f3a"
             ],
             [
              0.8888888888888888,
              "#fdca26"
             ],
             [
              1,
              "#f0f921"
             ]
            ],
            "type": "heatmapgl"
           }
          ],
          "histogram": [
           {
            "marker": {
             "pattern": {
              "fillmode": "overlay",
              "size": 10,
              "solidity": 0.2
             }
            },
            "type": "histogram"
           }
          ],
          "histogram2d": [
           {
            "colorbar": {
             "outlinewidth": 0,
             "ticks": ""
            },
            "colorscale": [
             [
              0,
              "#0d0887"
             ],
             [
              0.1111111111111111,
              "#46039f"
             ],
             [
              0.2222222222222222,
              "#7201a8"
             ],
             [
              0.3333333333333333,
              "#9c179e"
             ],
             [
              0.4444444444444444,
              "#bd3786"
             ],
             [
              0.5555555555555556,
              "#d8576b"
             ],
             [
              0.6666666666666666,
              "#ed7953"
             ],
             [
              0.7777777777777778,
              "#fb9f3a"
             ],
             [
              0.8888888888888888,
              "#fdca26"
             ],
             [
              1,
              "#f0f921"
             ]
            ],
            "type": "histogram2d"
           }
          ],
          "histogram2dcontour": [
           {
            "colorbar": {
             "outlinewidth": 0,
             "ticks": ""
            },
            "colorscale": [
             [
              0,
              "#0d0887"
             ],
             [
              0.1111111111111111,
              "#46039f"
             ],
             [
              0.2222222222222222,
              "#7201a8"
             ],
             [
              0.3333333333333333,
              "#9c179e"
             ],
             [
              0.4444444444444444,
              "#bd3786"
             ],
             [
              0.5555555555555556,
              "#d8576b"
             ],
             [
              0.6666666666666666,
              "#ed7953"
             ],
             [
              0.7777777777777778,
              "#fb9f3a"
             ],
             [
              0.8888888888888888,
              "#fdca26"
             ],
             [
              1,
              "#f0f921"
             ]
            ],
            "type": "histogram2dcontour"
           }
          ],
          "mesh3d": [
           {
            "colorbar": {
             "outlinewidth": 0,
             "ticks": ""
            },
            "type": "mesh3d"
           }
          ],
          "parcoords": [
           {
            "line": {
             "colorbar": {
              "outlinewidth": 0,
              "ticks": ""
             }
            },
            "type": "parcoords"
           }
          ],
          "pie": [
           {
            "automargin": true,
            "type": "pie"
           }
          ],
          "scatter": [
           {
            "marker": {
             "colorbar": {
              "outlinewidth": 0,
              "ticks": ""
             }
            },
            "type": "scatter"
           }
          ],
          "scatter3d": [
           {
            "line": {
             "colorbar": {
              "outlinewidth": 0,
              "ticks": ""
             }
            },
            "marker": {
             "colorbar": {
              "outlinewidth": 0,
              "ticks": ""
             }
            },
            "type": "scatter3d"
           }
          ],
          "scattercarpet": [
           {
            "marker": {
             "colorbar": {
              "outlinewidth": 0,
              "ticks": ""
             }
            },
            "type": "scattercarpet"
           }
          ],
          "scattergeo": [
           {
            "marker": {
             "colorbar": {
              "outlinewidth": 0,
              "ticks": ""
             }
            },
            "type": "scattergeo"
           }
          ],
          "scattergl": [
           {
            "marker": {
             "colorbar": {
              "outlinewidth": 0,
              "ticks": ""
             }
            },
            "type": "scattergl"
           }
          ],
          "scattermapbox": [
           {
            "marker": {
             "colorbar": {
              "outlinewidth": 0,
              "ticks": ""
             }
            },
            "type": "scattermapbox"
           }
          ],
          "scatterpolar": [
           {
            "marker": {
             "colorbar": {
              "outlinewidth": 0,
              "ticks": ""
             }
            },
            "type": "scatterpolar"
           }
          ],
          "scatterpolargl": [
           {
            "marker": {
             "colorbar": {
              "outlinewidth": 0,
              "ticks": ""
             }
            },
            "type": "scatterpolargl"
           }
          ],
          "scatterternary": [
           {
            "marker": {
             "colorbar": {
              "outlinewidth": 0,
              "ticks": ""
             }
            },
            "type": "scatterternary"
           }
          ],
          "surface": [
           {
            "colorbar": {
             "outlinewidth": 0,
             "ticks": ""
            },
            "colorscale": [
             [
              0,
              "#0d0887"
             ],
             [
              0.1111111111111111,
              "#46039f"
             ],
             [
              0.2222222222222222,
              "#7201a8"
             ],
             [
              0.3333333333333333,
              "#9c179e"
             ],
             [
              0.4444444444444444,
              "#bd3786"
             ],
             [
              0.5555555555555556,
              "#d8576b"
             ],
             [
              0.6666666666666666,
              "#ed7953"
             ],
             [
              0.7777777777777778,
              "#fb9f3a"
             ],
             [
              0.8888888888888888,
              "#fdca26"
             ],
             [
              1,
              "#f0f921"
             ]
            ],
            "type": "surface"
           }
          ],
          "table": [
           {
            "cells": {
             "fill": {
              "color": "#EBF0F8"
             },
             "line": {
              "color": "white"
             }
            },
            "header": {
             "fill": {
              "color": "#C8D4E3"
             },
             "line": {
              "color": "white"
             }
            },
            "type": "table"
           }
          ]
         },
         "layout": {
          "annotationdefaults": {
           "arrowcolor": "#2a3f5f",
           "arrowhead": 0,
           "arrowwidth": 1
          },
          "autotypenumbers": "strict",
          "coloraxis": {
           "colorbar": {
            "outlinewidth": 0,
            "ticks": ""
           }
          },
          "colorscale": {
           "diverging": [
            [
             0,
             "#8e0152"
            ],
            [
             0.1,
             "#c51b7d"
            ],
            [
             0.2,
             "#de77ae"
            ],
            [
             0.3,
             "#f1b6da"
            ],
            [
             0.4,
             "#fde0ef"
            ],
            [
             0.5,
             "#f7f7f7"
            ],
            [
             0.6,
             "#e6f5d0"
            ],
            [
             0.7,
             "#b8e186"
            ],
            [
             0.8,
             "#7fbc41"
            ],
            [
             0.9,
             "#4d9221"
            ],
            [
             1,
             "#276419"
            ]
           ],
           "sequential": [
            [
             0,
             "#0d0887"
            ],
            [
             0.1111111111111111,
             "#46039f"
            ],
            [
             0.2222222222222222,
             "#7201a8"
            ],
            [
             0.3333333333333333,
             "#9c179e"
            ],
            [
             0.4444444444444444,
             "#bd3786"
            ],
            [
             0.5555555555555556,
             "#d8576b"
            ],
            [
             0.6666666666666666,
             "#ed7953"
            ],
            [
             0.7777777777777778,
             "#fb9f3a"
            ],
            [
             0.8888888888888888,
             "#fdca26"
            ],
            [
             1,
             "#f0f921"
            ]
           ],
           "sequentialminus": [
            [
             0,
             "#0d0887"
            ],
            [
             0.1111111111111111,
             "#46039f"
            ],
            [
             0.2222222222222222,
             "#7201a8"
            ],
            [
             0.3333333333333333,
             "#9c179e"
            ],
            [
             0.4444444444444444,
             "#bd3786"
            ],
            [
             0.5555555555555556,
             "#d8576b"
            ],
            [
             0.6666666666666666,
             "#ed7953"
            ],
            [
             0.7777777777777778,
             "#fb9f3a"
            ],
            [
             0.8888888888888888,
             "#fdca26"
            ],
            [
             1,
             "#f0f921"
            ]
           ]
          },
          "colorway": [
           "#636efa",
           "#EF553B",
           "#00cc96",
           "#ab63fa",
           "#FFA15A",
           "#19d3f3",
           "#FF6692",
           "#B6E880",
           "#FF97FF",
           "#FECB52"
          ],
          "font": {
           "color": "#2a3f5f"
          },
          "geo": {
           "bgcolor": "white",
           "lakecolor": "white",
           "landcolor": "#E5ECF6",
           "showlakes": true,
           "showland": true,
           "subunitcolor": "white"
          },
          "hoverlabel": {
           "align": "left"
          },
          "hovermode": "closest",
          "mapbox": {
           "style": "light"
          },
          "paper_bgcolor": "white",
          "plot_bgcolor": "#E5ECF6",
          "polar": {
           "angularaxis": {
            "gridcolor": "white",
            "linecolor": "white",
            "ticks": ""
           },
           "bgcolor": "#E5ECF6",
           "radialaxis": {
            "gridcolor": "white",
            "linecolor": "white",
            "ticks": ""
           }
          },
          "scene": {
           "xaxis": {
            "backgroundcolor": "#E5ECF6",
            "gridcolor": "white",
            "gridwidth": 2,
            "linecolor": "white",
            "showbackground": true,
            "ticks": "",
            "zerolinecolor": "white"
           },
           "yaxis": {
            "backgroundcolor": "#E5ECF6",
            "gridcolor": "white",
            "gridwidth": 2,
            "linecolor": "white",
            "showbackground": true,
            "ticks": "",
            "zerolinecolor": "white"
           },
           "zaxis": {
            "backgroundcolor": "#E5ECF6",
            "gridcolor": "white",
            "gridwidth": 2,
            "linecolor": "white",
            "showbackground": true,
            "ticks": "",
            "zerolinecolor": "white"
           }
          },
          "shapedefaults": {
           "line": {
            "color": "#2a3f5f"
           }
          },
          "ternary": {
           "aaxis": {
            "gridcolor": "white",
            "linecolor": "white",
            "ticks": ""
           },
           "baxis": {
            "gridcolor": "white",
            "linecolor": "white",
            "ticks": ""
           },
           "bgcolor": "#E5ECF6",
           "caxis": {
            "gridcolor": "white",
            "linecolor": "white",
            "ticks": ""
           }
          },
          "title": {
           "x": 0.05
          },
          "xaxis": {
           "automargin": true,
           "gridcolor": "white",
           "linecolor": "white",
           "ticks": "",
           "title": {
            "standoff": 15
           },
           "zerolinecolor": "white",
           "zerolinewidth": 2
          },
          "yaxis": {
           "automargin": true,
           "gridcolor": "white",
           "linecolor": "white",
           "ticks": "",
           "title": {
            "standoff": 15
           },
           "zerolinecolor": "white",
           "zerolinewidth": 2
          }
         }
        },
        "title": {
         "text": "Stopwordsleri kaldırmadan en çok geçen 25 kelime"
        },
        "xaxis": {
         "anchor": "y",
         "domain": [
          0,
          1
         ],
         "title": {
          "text": "kelime"
         }
        },
        "yaxis": {
         "anchor": "x",
         "domain": [
          0,
          1
         ],
         "title": {
          "text": "geçiş frekansı"
         }
        }
       }
      },
      "text/html": [
       "<div>                            <div id=\"e7dd8c1c-7c10-4436-8992-d23eb0163afe\" class=\"plotly-graph-div\" style=\"height:400px; width:100%;\"></div>            <script type=\"text/javascript\">                require([\"plotly\"], function(Plotly) {                    window.PLOTLYENV=window.PLOTLYENV || {};                                    if (document.getElementById(\"e7dd8c1c-7c10-4436-8992-d23eb0163afe\")) {                    Plotly.newPlot(                        \"e7dd8c1c-7c10-4436-8992-d23eb0163afe\",                        [{\"alignmentgroup\":\"True\",\"hovertemplate\":\"kelime=%{x}<br>ge\\u00e7i\\u015f frekans\\u0131=%{marker.color}<extra></extra>\",\"legendgroup\":\"\",\"marker\":{\"color\":[612,353,325,248,236,197,195,172,132,83,83,81,78,77,76,73,73,71,70,61,59,54,54,52,50,46,45,45,43,43],\"coloraxis\":\"coloraxis\",\"pattern\":{\"shape\":\"\"}},\"name\":\"\",\"offsetgroup\":\"\",\"orientation\":\"v\",\"showlegend\":false,\"textposition\":\"auto\",\"x\":[\"education\",\"the\",\"rt\",\"to\",\"and\",\"in\",\"of\",\"for\",\"you\",\"is\",\"on\",\"this\",\"school\",\"amp\",\"our\",\"learning\",\"we\",\"at\",\"your\",\"it\",\"with\",\"more\",\"are\",\"nous\",\"teacher\",\"be\",\"that\",\"learn\",\"how\",\"teaching\"],\"xaxis\":\"x\",\"y\":[612,353,325,248,236,197,195,172,132,83,83,81,78,77,76,73,73,71,70,61,59,54,54,52,50,46,45,45,43,43],\"yaxis\":\"y\",\"type\":\"bar\"}],                        {\"template\":{\"data\":{\"bar\":[{\"error_x\":{\"color\":\"#2a3f5f\"},\"error_y\":{\"color\":\"#2a3f5f\"},\"marker\":{\"line\":{\"color\":\"#E5ECF6\",\"width\":0.5},\"pattern\":{\"fillmode\":\"overlay\",\"size\":10,\"solidity\":0.2}},\"type\":\"bar\"}],\"barpolar\":[{\"marker\":{\"line\":{\"color\":\"#E5ECF6\",\"width\":0.5},\"pattern\":{\"fillmode\":\"overlay\",\"size\":10,\"solidity\":0.2}},\"type\":\"barpolar\"}],\"carpet\":[{\"aaxis\":{\"endlinecolor\":\"#2a3f5f\",\"gridcolor\":\"white\",\"linecolor\":\"white\",\"minorgridcolor\":\"white\",\"startlinecolor\":\"#2a3f5f\"},\"baxis\":{\"endlinecolor\":\"#2a3f5f\",\"gridcolor\":\"white\",\"linecolor\":\"white\",\"minorgridcolor\":\"white\",\"startlinecolor\":\"#2a3f5f\"},\"type\":\"carpet\"}],\"choropleth\":[{\"colorbar\":{\"outlinewidth\":0,\"ticks\":\"\"},\"type\":\"choropleth\"}],\"contour\":[{\"colorbar\":{\"outlinewidth\":0,\"ticks\":\"\"},\"colorscale\":[[0.0,\"#0d0887\"],[0.1111111111111111,\"#46039f\"],[0.2222222222222222,\"#7201a8\"],[0.3333333333333333,\"#9c179e\"],[0.4444444444444444,\"#bd3786\"],[0.5555555555555556,\"#d8576b\"],[0.6666666666666666,\"#ed7953\"],[0.7777777777777778,\"#fb9f3a\"],[0.8888888888888888,\"#fdca26\"],[1.0,\"#f0f921\"]],\"type\":\"contour\"}],\"contourcarpet\":[{\"colorbar\":{\"outlinewidth\":0,\"ticks\":\"\"},\"type\":\"contourcarpet\"}],\"heatmap\":[{\"colorbar\":{\"outlinewidth\":0,\"ticks\":\"\"},\"colorscale\":[[0.0,\"#0d0887\"],[0.1111111111111111,\"#46039f\"],[0.2222222222222222,\"#7201a8\"],[0.3333333333333333,\"#9c179e\"],[0.4444444444444444,\"#bd3786\"],[0.5555555555555556,\"#d8576b\"],[0.6666666666666666,\"#ed7953\"],[0.7777777777777778,\"#fb9f3a\"],[0.8888888888888888,\"#fdca26\"],[1.0,\"#f0f921\"]],\"type\":\"heatmap\"}],\"heatmapgl\":[{\"colorbar\":{\"outlinewidth\":0,\"ticks\":\"\"},\"colorscale\":[[0.0,\"#0d0887\"],[0.1111111111111111,\"#46039f\"],[0.2222222222222222,\"#7201a8\"],[0.3333333333333333,\"#9c179e\"],[0.4444444444444444,\"#bd3786\"],[0.5555555555555556,\"#d8576b\"],[0.6666666666666666,\"#ed7953\"],[0.7777777777777778,\"#fb9f3a\"],[0.8888888888888888,\"#fdca26\"],[1.0,\"#f0f921\"]],\"type\":\"heatmapgl\"}],\"histogram\":[{\"marker\":{\"pattern\":{\"fillmode\":\"overlay\",\"size\":10,\"solidity\":0.2}},\"type\":\"histogram\"}],\"histogram2d\":[{\"colorbar\":{\"outlinewidth\":0,\"ticks\":\"\"},\"colorscale\":[[0.0,\"#0d0887\"],[0.1111111111111111,\"#46039f\"],[0.2222222222222222,\"#7201a8\"],[0.3333333333333333,\"#9c179e\"],[0.4444444444444444,\"#bd3786\"],[0.5555555555555556,\"#d8576b\"],[0.6666666666666666,\"#ed7953\"],[0.7777777777777778,\"#fb9f3a\"],[0.8888888888888888,\"#fdca26\"],[1.0,\"#f0f921\"]],\"type\":\"histogram2d\"}],\"histogram2dcontour\":[{\"colorbar\":{\"outlinewidth\":0,\"ticks\":\"\"},\"colorscale\":[[0.0,\"#0d0887\"],[0.1111111111111111,\"#46039f\"],[0.2222222222222222,\"#7201a8\"],[0.3333333333333333,\"#9c179e\"],[0.4444444444444444,\"#bd3786\"],[0.5555555555555556,\"#d8576b\"],[0.6666666666666666,\"#ed7953\"],[0.7777777777777778,\"#fb9f3a\"],[0.8888888888888888,\"#fdca26\"],[1.0,\"#f0f921\"]],\"type\":\"histogram2dcontour\"}],\"mesh3d\":[{\"colorbar\":{\"outlinewidth\":0,\"ticks\":\"\"},\"type\":\"mesh3d\"}],\"parcoords\":[{\"line\":{\"colorbar\":{\"outlinewidth\":0,\"ticks\":\"\"}},\"type\":\"parcoords\"}],\"pie\":[{\"automargin\":true,\"type\":\"pie\"}],\"scatter\":[{\"marker\":{\"colorbar\":{\"outlinewidth\":0,\"ticks\":\"\"}},\"type\":\"scatter\"}],\"scatter3d\":[{\"line\":{\"colorbar\":{\"outlinewidth\":0,\"ticks\":\"\"}},\"marker\":{\"colorbar\":{\"outlinewidth\":0,\"ticks\":\"\"}},\"type\":\"scatter3d\"}],\"scattercarpet\":[{\"marker\":{\"colorbar\":{\"outlinewidth\":0,\"ticks\":\"\"}},\"type\":\"scattercarpet\"}],\"scattergeo\":[{\"marker\":{\"colorbar\":{\"outlinewidth\":0,\"ticks\":\"\"}},\"type\":\"scattergeo\"}],\"scattergl\":[{\"marker\":{\"colorbar\":{\"outlinewidth\":0,\"ticks\":\"\"}},\"type\":\"scattergl\"}],\"scattermapbox\":[{\"marker\":{\"colorbar\":{\"outlinewidth\":0,\"ticks\":\"\"}},\"type\":\"scattermapbox\"}],\"scatterpolar\":[{\"marker\":{\"colorbar\":{\"outlinewidth\":0,\"ticks\":\"\"}},\"type\":\"scatterpolar\"}],\"scatterpolargl\":[{\"marker\":{\"colorbar\":{\"outlinewidth\":0,\"ticks\":\"\"}},\"type\":\"scatterpolargl\"}],\"scatterternary\":[{\"marker\":{\"colorbar\":{\"outlinewidth\":0,\"ticks\":\"\"}},\"type\":\"scatterternary\"}],\"surface\":[{\"colorbar\":{\"outlinewidth\":0,\"ticks\":\"\"},\"colorscale\":[[0.0,\"#0d0887\"],[0.1111111111111111,\"#46039f\"],[0.2222222222222222,\"#7201a8\"],[0.3333333333333333,\"#9c179e\"],[0.4444444444444444,\"#bd3786\"],[0.5555555555555556,\"#d8576b\"],[0.6666666666666666,\"#ed7953\"],[0.7777777777777778,\"#fb9f3a\"],[0.8888888888888888,\"#fdca26\"],[1.0,\"#f0f921\"]],\"type\":\"surface\"}],\"table\":[{\"cells\":{\"fill\":{\"color\":\"#EBF0F8\"},\"line\":{\"color\":\"white\"}},\"header\":{\"fill\":{\"color\":\"#C8D4E3\"},\"line\":{\"color\":\"white\"}},\"type\":\"table\"}]},\"layout\":{\"annotationdefaults\":{\"arrowcolor\":\"#2a3f5f\",\"arrowhead\":0,\"arrowwidth\":1},\"autotypenumbers\":\"strict\",\"coloraxis\":{\"colorbar\":{\"outlinewidth\":0,\"ticks\":\"\"}},\"colorscale\":{\"diverging\":[[0,\"#8e0152\"],[0.1,\"#c51b7d\"],[0.2,\"#de77ae\"],[0.3,\"#f1b6da\"],[0.4,\"#fde0ef\"],[0.5,\"#f7f7f7\"],[0.6,\"#e6f5d0\"],[0.7,\"#b8e186\"],[0.8,\"#7fbc41\"],[0.9,\"#4d9221\"],[1,\"#276419\"]],\"sequential\":[[0.0,\"#0d0887\"],[0.1111111111111111,\"#46039f\"],[0.2222222222222222,\"#7201a8\"],[0.3333333333333333,\"#9c179e\"],[0.4444444444444444,\"#bd3786\"],[0.5555555555555556,\"#d8576b\"],[0.6666666666666666,\"#ed7953\"],[0.7777777777777778,\"#fb9f3a\"],[0.8888888888888888,\"#fdca26\"],[1.0,\"#f0f921\"]],\"sequentialminus\":[[0.0,\"#0d0887\"],[0.1111111111111111,\"#46039f\"],[0.2222222222222222,\"#7201a8\"],[0.3333333333333333,\"#9c179e\"],[0.4444444444444444,\"#bd3786\"],[0.5555555555555556,\"#d8576b\"],[0.6666666666666666,\"#ed7953\"],[0.7777777777777778,\"#fb9f3a\"],[0.8888888888888888,\"#fdca26\"],[1.0,\"#f0f921\"]]},\"colorway\":[\"#636efa\",\"#EF553B\",\"#00cc96\",\"#ab63fa\",\"#FFA15A\",\"#19d3f3\",\"#FF6692\",\"#B6E880\",\"#FF97FF\",\"#FECB52\"],\"font\":{\"color\":\"#2a3f5f\"},\"geo\":{\"bgcolor\":\"white\",\"lakecolor\":\"white\",\"landcolor\":\"#E5ECF6\",\"showlakes\":true,\"showland\":true,\"subunitcolor\":\"white\"},\"hoverlabel\":{\"align\":\"left\"},\"hovermode\":\"closest\",\"mapbox\":{\"style\":\"light\"},\"paper_bgcolor\":\"white\",\"plot_bgcolor\":\"#E5ECF6\",\"polar\":{\"angularaxis\":{\"gridcolor\":\"white\",\"linecolor\":\"white\",\"ticks\":\"\"},\"bgcolor\":\"#E5ECF6\",\"radialaxis\":{\"gridcolor\":\"white\",\"linecolor\":\"white\",\"ticks\":\"\"}},\"scene\":{\"xaxis\":{\"backgroundcolor\":\"#E5ECF6\",\"gridcolor\":\"white\",\"gridwidth\":2,\"linecolor\":\"white\",\"showbackground\":true,\"ticks\":\"\",\"zerolinecolor\":\"white\"},\"yaxis\":{\"backgroundcolor\":\"#E5ECF6\",\"gridcolor\":\"white\",\"gridwidth\":2,\"linecolor\":\"white\",\"showbackground\":true,\"ticks\":\"\",\"zerolinecolor\":\"white\"},\"zaxis\":{\"backgroundcolor\":\"#E5ECF6\",\"gridcolor\":\"white\",\"gridwidth\":2,\"linecolor\":\"white\",\"showbackground\":true,\"ticks\":\"\",\"zerolinecolor\":\"white\"}},\"shapedefaults\":{\"line\":{\"color\":\"#2a3f5f\"}},\"ternary\":{\"aaxis\":{\"gridcolor\":\"white\",\"linecolor\":\"white\",\"ticks\":\"\"},\"baxis\":{\"gridcolor\":\"white\",\"linecolor\":\"white\",\"ticks\":\"\"},\"bgcolor\":\"#E5ECF6\",\"caxis\":{\"gridcolor\":\"white\",\"linecolor\":\"white\",\"ticks\":\"\"}},\"title\":{\"x\":0.05},\"xaxis\":{\"automargin\":true,\"gridcolor\":\"white\",\"linecolor\":\"white\",\"ticks\":\"\",\"title\":{\"standoff\":15},\"zerolinecolor\":\"white\",\"zerolinewidth\":2},\"yaxis\":{\"automargin\":true,\"gridcolor\":\"white\",\"linecolor\":\"white\",\"ticks\":\"\",\"title\":{\"standoff\":15},\"zerolinecolor\":\"white\",\"zerolinewidth\":2}}},\"xaxis\":{\"anchor\":\"y\",\"domain\":[0.0,1.0],\"title\":{\"text\":\"kelime\"}},\"yaxis\":{\"anchor\":\"x\",\"domain\":[0.0,1.0],\"title\":{\"text\":\"ge\\u00e7i\\u015f frekans\\u0131\"}},\"coloraxis\":{\"colorbar\":{\"title\":{\"text\":\"ge\\u00e7i\\u015f frekans\\u0131\"}},\"colorscale\":[[0.0,\"#0d0887\"],[0.1111111111111111,\"#46039f\"],[0.2222222222222222,\"#7201a8\"],[0.3333333333333333,\"#9c179e\"],[0.4444444444444444,\"#bd3786\"],[0.5555555555555556,\"#d8576b\"],[0.6666666666666666,\"#ed7953\"],[0.7777777777777778,\"#fb9f3a\"],[0.8888888888888888,\"#fdca26\"],[1.0,\"#f0f921\"]]},\"legend\":{\"tracegroupgap\":0},\"title\":{\"text\":\"Stopwordsleri kald\\u0131rmadan en \\u00e7ok ge\\u00e7en 25 kelime\"},\"barmode\":\"relative\",\"height\":400},                        {\"responsive\": true}                    ).then(function(){\n",
       "                            \n",
       "var gd = document.getElementById('e7dd8c1c-7c10-4436-8992-d23eb0163afe');\n",
       "var x = new MutationObserver(function (mutations, observer) {{\n",
       "        var display = window.getComputedStyle(gd).display;\n",
       "        if (!display || display === 'none') {{\n",
       "            console.log([gd, 'removed!']);\n",
       "            Plotly.purge(gd);\n",
       "            observer.disconnect();\n",
       "        }}\n",
       "}});\n",
       "\n",
       "// Listen for the removal of the full notebook cells\n",
       "var notebookContainer = gd.closest('#notebook-container');\n",
       "if (notebookContainer) {{\n",
       "    x.observe(notebookContainer, {childList: true});\n",
       "}}\n",
       "\n",
       "// Listen for the clearing of the current output cell\n",
       "var outputEl = gd.closest('.output');\n",
       "if (outputEl) {{\n",
       "    x.observe(outputEl, {childList: true});\n",
       "}}\n",
       "\n",
       "                        })                };                });            </script>        </div>"
      ]
     },
     "metadata": {},
     "output_type": "display_data"
    }
   ],
   "source": [
    ">>> from sklearn.feature_extraction.text import CountVectorizer\n",
    "import plotly.express as px\n",
    "\n",
    "def get_top_n_words(corpus, n=None):\n",
    "    vec = CountVectorizer().fit(corpus)\n",
    "    bag_of_words = vec.transform(corpus)\n",
    "    sum_words = bag_of_words.sum(axis=0) \n",
    "    words_freq = [(word, sum_words[0, idx]) for word, idx in vec.vocabulary_.items()]\n",
    "    words_freq =sorted(words_freq, key = lambda x: x[1], reverse=True)\n",
    "    return words_freq[:n]\n",
    "common_words = get_top_n_words(mydata[\"text\"], 30)\n",
    "df1 = pd.DataFrame(common_words, columns = ['kelime' , 'geçiş frekansı'])\n",
    "fig = px.bar(df1, x='kelime', y='geçiş frekansı',\n",
    "             hover_data=['kelime', 'geçiş frekansı'], color='geçiş frekansı',\n",
    "             title='Stopwordsleri kaldırmadan en çok geçen 25 kelime',\n",
    "             height=400)\n",
    "fig.show()"
   ]
  },
  {
   "cell_type": "code",
   "execution_count": 23,
   "id": "f30fd43d",
   "metadata": {},
   "outputs": [
    {
     "data": {
      "application/vnd.plotly.v1+json": {
       "config": {
        "plotlyServerURL": "https://plot.ly"
       },
       "data": [
        {
         "alignmentgroup": "True",
         "hovertemplate": "kelime=%{x}<br>geçiş frekansı=%{marker.color}<extra></extra>",
         "legendgroup": "",
         "marker": {
          "color": [
           2906,
           2057,
           712,
           612,
           610,
           556,
           550,
           550,
           550,
           550,
           520,
           520,
           402,
           360,
           335,
           329,
           329,
           329,
           270,
           256,
           206,
           193,
           180,
           180,
           173
          ],
          "coloraxis": "coloraxis",
          "pattern": {
           "shape": ""
          }
         },
         "name": "",
         "offsetgroup": "",
         "orientation": "v",
         "showlegend": false,
         "textposition": "auto",
         "type": "bar",
         "x": [
          "indices",
          "text",
          "https",
          "id",
          "id_str",
          "com",
          "hashtags",
          "symbols",
          "user_mentions",
          "urls",
          "screen_name",
          "name",
          "education",
          "resize",
          "co",
          "url",
          "expanded_url",
          "display_url",
          "fit",
          "media",
          "twitter",
          "150",
          "pbs",
          "twimg",
          "photo"
         ],
         "xaxis": "x",
         "y": [
          2906,
          2057,
          712,
          612,
          610,
          556,
          550,
          550,
          550,
          550,
          520,
          520,
          402,
          360,
          335,
          329,
          329,
          329,
          270,
          256,
          206,
          193,
          180,
          180,
          173
         ],
         "yaxis": "y"
        }
       ],
       "layout": {
        "barmode": "relative",
        "coloraxis": {
         "colorbar": {
          "title": {
           "text": "geçiş frekansı"
          }
         },
         "colorscale": [
          [
           0,
           "#0d0887"
          ],
          [
           0.1111111111111111,
           "#46039f"
          ],
          [
           0.2222222222222222,
           "#7201a8"
          ],
          [
           0.3333333333333333,
           "#9c179e"
          ],
          [
           0.4444444444444444,
           "#bd3786"
          ],
          [
           0.5555555555555556,
           "#d8576b"
          ],
          [
           0.6666666666666666,
           "#ed7953"
          ],
          [
           0.7777777777777778,
           "#fb9f3a"
          ],
          [
           0.8888888888888888,
           "#fdca26"
          ],
          [
           1,
           "#f0f921"
          ]
         ]
        },
        "height": 400,
        "legend": {
         "tracegroupgap": 0
        },
        "template": {
         "data": {
          "bar": [
           {
            "error_x": {
             "color": "#2a3f5f"
            },
            "error_y": {
             "color": "#2a3f5f"
            },
            "marker": {
             "line": {
              "color": "#E5ECF6",
              "width": 0.5
             },
             "pattern": {
              "fillmode": "overlay",
              "size": 10,
              "solidity": 0.2
             }
            },
            "type": "bar"
           }
          ],
          "barpolar": [
           {
            "marker": {
             "line": {
              "color": "#E5ECF6",
              "width": 0.5
             },
             "pattern": {
              "fillmode": "overlay",
              "size": 10,
              "solidity": 0.2
             }
            },
            "type": "barpolar"
           }
          ],
          "carpet": [
           {
            "aaxis": {
             "endlinecolor": "#2a3f5f",
             "gridcolor": "white",
             "linecolor": "white",
             "minorgridcolor": "white",
             "startlinecolor": "#2a3f5f"
            },
            "baxis": {
             "endlinecolor": "#2a3f5f",
             "gridcolor": "white",
             "linecolor": "white",
             "minorgridcolor": "white",
             "startlinecolor": "#2a3f5f"
            },
            "type": "carpet"
           }
          ],
          "choropleth": [
           {
            "colorbar": {
             "outlinewidth": 0,
             "ticks": ""
            },
            "type": "choropleth"
           }
          ],
          "contour": [
           {
            "colorbar": {
             "outlinewidth": 0,
             "ticks": ""
            },
            "colorscale": [
             [
              0,
              "#0d0887"
             ],
             [
              0.1111111111111111,
              "#46039f"
             ],
             [
              0.2222222222222222,
              "#7201a8"
             ],
             [
              0.3333333333333333,
              "#9c179e"
             ],
             [
              0.4444444444444444,
              "#bd3786"
             ],
             [
              0.5555555555555556,
              "#d8576b"
             ],
             [
              0.6666666666666666,
              "#ed7953"
             ],
             [
              0.7777777777777778,
              "#fb9f3a"
             ],
             [
              0.8888888888888888,
              "#fdca26"
             ],
             [
              1,
              "#f0f921"
             ]
            ],
            "type": "contour"
           }
          ],
          "contourcarpet": [
           {
            "colorbar": {
             "outlinewidth": 0,
             "ticks": ""
            },
            "type": "contourcarpet"
           }
          ],
          "heatmap": [
           {
            "colorbar": {
             "outlinewidth": 0,
             "ticks": ""
            },
            "colorscale": [
             [
              0,
              "#0d0887"
             ],
             [
              0.1111111111111111,
              "#46039f"
             ],
             [
              0.2222222222222222,
              "#7201a8"
             ],
             [
              0.3333333333333333,
              "#9c179e"
             ],
             [
              0.4444444444444444,
              "#bd3786"
             ],
             [
              0.5555555555555556,
              "#d8576b"
             ],
             [
              0.6666666666666666,
              "#ed7953"
             ],
             [
              0.7777777777777778,
              "#fb9f3a"
             ],
             [
              0.8888888888888888,
              "#fdca26"
             ],
             [
              1,
              "#f0f921"
             ]
            ],
            "type": "heatmap"
           }
          ],
          "heatmapgl": [
           {
            "colorbar": {
             "outlinewidth": 0,
             "ticks": ""
            },
            "colorscale": [
             [
              0,
              "#0d0887"
             ],
             [
              0.1111111111111111,
              "#46039f"
             ],
             [
              0.2222222222222222,
              "#7201a8"
             ],
             [
              0.3333333333333333,
              "#9c179e"
             ],
             [
              0.4444444444444444,
              "#bd3786"
             ],
             [
              0.5555555555555556,
              "#d8576b"
             ],
             [
              0.6666666666666666,
              "#ed7953"
             ],
             [
              0.7777777777777778,
              "#fb9f3a"
             ],
             [
              0.8888888888888888,
              "#fdca26"
             ],
             [
              1,
              "#f0f921"
             ]
            ],
            "type": "heatmapgl"
           }
          ],
          "histogram": [
           {
            "marker": {
             "pattern": {
              "fillmode": "overlay",
              "size": 10,
              "solidity": 0.2
             }
            },
            "type": "histogram"
           }
          ],
          "histogram2d": [
           {
            "colorbar": {
             "outlinewidth": 0,
             "ticks": ""
            },
            "colorscale": [
             [
              0,
              "#0d0887"
             ],
             [
              0.1111111111111111,
              "#46039f"
             ],
             [
              0.2222222222222222,
              "#7201a8"
             ],
             [
              0.3333333333333333,
              "#9c179e"
             ],
             [
              0.4444444444444444,
              "#bd3786"
             ],
             [
              0.5555555555555556,
              "#d8576b"
             ],
             [
              0.6666666666666666,
              "#ed7953"
             ],
             [
              0.7777777777777778,
              "#fb9f3a"
             ],
             [
              0.8888888888888888,
              "#fdca26"
             ],
             [
              1,
              "#f0f921"
             ]
            ],
            "type": "histogram2d"
           }
          ],
          "histogram2dcontour": [
           {
            "colorbar": {
             "outlinewidth": 0,
             "ticks": ""
            },
            "colorscale": [
             [
              0,
              "#0d0887"
             ],
             [
              0.1111111111111111,
              "#46039f"
             ],
             [
              0.2222222222222222,
              "#7201a8"
             ],
             [
              0.3333333333333333,
              "#9c179e"
             ],
             [
              0.4444444444444444,
              "#bd3786"
             ],
             [
              0.5555555555555556,
              "#d8576b"
             ],
             [
              0.6666666666666666,
              "#ed7953"
             ],
             [
              0.7777777777777778,
              "#fb9f3a"
             ],
             [
              0.8888888888888888,
              "#fdca26"
             ],
             [
              1,
              "#f0f921"
             ]
            ],
            "type": "histogram2dcontour"
           }
          ],
          "mesh3d": [
           {
            "colorbar": {
             "outlinewidth": 0,
             "ticks": ""
            },
            "type": "mesh3d"
           }
          ],
          "parcoords": [
           {
            "line": {
             "colorbar": {
              "outlinewidth": 0,
              "ticks": ""
             }
            },
            "type": "parcoords"
           }
          ],
          "pie": [
           {
            "automargin": true,
            "type": "pie"
           }
          ],
          "scatter": [
           {
            "marker": {
             "colorbar": {
              "outlinewidth": 0,
              "ticks": ""
             }
            },
            "type": "scatter"
           }
          ],
          "scatter3d": [
           {
            "line": {
             "colorbar": {
              "outlinewidth": 0,
              "ticks": ""
             }
            },
            "marker": {
             "colorbar": {
              "outlinewidth": 0,
              "ticks": ""
             }
            },
            "type": "scatter3d"
           }
          ],
          "scattercarpet": [
           {
            "marker": {
             "colorbar": {
              "outlinewidth": 0,
              "ticks": ""
             }
            },
            "type": "scattercarpet"
           }
          ],
          "scattergeo": [
           {
            "marker": {
             "colorbar": {
              "outlinewidth": 0,
              "ticks": ""
             }
            },
            "type": "scattergeo"
           }
          ],
          "scattergl": [
           {
            "marker": {
             "colorbar": {
              "outlinewidth": 0,
              "ticks": ""
             }
            },
            "type": "scattergl"
           }
          ],
          "scattermapbox": [
           {
            "marker": {
             "colorbar": {
              "outlinewidth": 0,
              "ticks": ""
             }
            },
            "type": "scattermapbox"
           }
          ],
          "scatterpolar": [
           {
            "marker": {
             "colorbar": {
              "outlinewidth": 0,
              "ticks": ""
             }
            },
            "type": "scatterpolar"
           }
          ],
          "scatterpolargl": [
           {
            "marker": {
             "colorbar": {
              "outlinewidth": 0,
              "ticks": ""
             }
            },
            "type": "scatterpolargl"
           }
          ],
          "scatterternary": [
           {
            "marker": {
             "colorbar": {
              "outlinewidth": 0,
              "ticks": ""
             }
            },
            "type": "scatterternary"
           }
          ],
          "surface": [
           {
            "colorbar": {
             "outlinewidth": 0,
             "ticks": ""
            },
            "colorscale": [
             [
              0,
              "#0d0887"
             ],
             [
              0.1111111111111111,
              "#46039f"
             ],
             [
              0.2222222222222222,
              "#7201a8"
             ],
             [
              0.3333333333333333,
              "#9c179e"
             ],
             [
              0.4444444444444444,
              "#bd3786"
             ],
             [
              0.5555555555555556,
              "#d8576b"
             ],
             [
              0.6666666666666666,
              "#ed7953"
             ],
             [
              0.7777777777777778,
              "#fb9f3a"
             ],
             [
              0.8888888888888888,
              "#fdca26"
             ],
             [
              1,
              "#f0f921"
             ]
            ],
            "type": "surface"
           }
          ],
          "table": [
           {
            "cells": {
             "fill": {
              "color": "#EBF0F8"
             },
             "line": {
              "color": "white"
             }
            },
            "header": {
             "fill": {
              "color": "#C8D4E3"
             },
             "line": {
              "color": "white"
             }
            },
            "type": "table"
           }
          ]
         },
         "layout": {
          "annotationdefaults": {
           "arrowcolor": "#2a3f5f",
           "arrowhead": 0,
           "arrowwidth": 1
          },
          "autotypenumbers": "strict",
          "coloraxis": {
           "colorbar": {
            "outlinewidth": 0,
            "ticks": ""
           }
          },
          "colorscale": {
           "diverging": [
            [
             0,
             "#8e0152"
            ],
            [
             0.1,
             "#c51b7d"
            ],
            [
             0.2,
             "#de77ae"
            ],
            [
             0.3,
             "#f1b6da"
            ],
            [
             0.4,
             "#fde0ef"
            ],
            [
             0.5,
             "#f7f7f7"
            ],
            [
             0.6,
             "#e6f5d0"
            ],
            [
             0.7,
             "#b8e186"
            ],
            [
             0.8,
             "#7fbc41"
            ],
            [
             0.9,
             "#4d9221"
            ],
            [
             1,
             "#276419"
            ]
           ],
           "sequential": [
            [
             0,
             "#0d0887"
            ],
            [
             0.1111111111111111,
             "#46039f"
            ],
            [
             0.2222222222222222,
             "#7201a8"
            ],
            [
             0.3333333333333333,
             "#9c179e"
            ],
            [
             0.4444444444444444,
             "#bd3786"
            ],
            [
             0.5555555555555556,
             "#d8576b"
            ],
            [
             0.6666666666666666,
             "#ed7953"
            ],
            [
             0.7777777777777778,
             "#fb9f3a"
            ],
            [
             0.8888888888888888,
             "#fdca26"
            ],
            [
             1,
             "#f0f921"
            ]
           ],
           "sequentialminus": [
            [
             0,
             "#0d0887"
            ],
            [
             0.1111111111111111,
             "#46039f"
            ],
            [
             0.2222222222222222,
             "#7201a8"
            ],
            [
             0.3333333333333333,
             "#9c179e"
            ],
            [
             0.4444444444444444,
             "#bd3786"
            ],
            [
             0.5555555555555556,
             "#d8576b"
            ],
            [
             0.6666666666666666,
             "#ed7953"
            ],
            [
             0.7777777777777778,
             "#fb9f3a"
            ],
            [
             0.8888888888888888,
             "#fdca26"
            ],
            [
             1,
             "#f0f921"
            ]
           ]
          },
          "colorway": [
           "#636efa",
           "#EF553B",
           "#00cc96",
           "#ab63fa",
           "#FFA15A",
           "#19d3f3",
           "#FF6692",
           "#B6E880",
           "#FF97FF",
           "#FECB52"
          ],
          "font": {
           "color": "#2a3f5f"
          },
          "geo": {
           "bgcolor": "white",
           "lakecolor": "white",
           "landcolor": "#E5ECF6",
           "showlakes": true,
           "showland": true,
           "subunitcolor": "white"
          },
          "hoverlabel": {
           "align": "left"
          },
          "hovermode": "closest",
          "mapbox": {
           "style": "light"
          },
          "paper_bgcolor": "white",
          "plot_bgcolor": "#E5ECF6",
          "polar": {
           "angularaxis": {
            "gridcolor": "white",
            "linecolor": "white",
            "ticks": ""
           },
           "bgcolor": "#E5ECF6",
           "radialaxis": {
            "gridcolor": "white",
            "linecolor": "white",
            "ticks": ""
           }
          },
          "scene": {
           "xaxis": {
            "backgroundcolor": "#E5ECF6",
            "gridcolor": "white",
            "gridwidth": 2,
            "linecolor": "white",
            "showbackground": true,
            "ticks": "",
            "zerolinecolor": "white"
           },
           "yaxis": {
            "backgroundcolor": "#E5ECF6",
            "gridcolor": "white",
            "gridwidth": 2,
            "linecolor": "white",
            "showbackground": true,
            "ticks": "",
            "zerolinecolor": "white"
           },
           "zaxis": {
            "backgroundcolor": "#E5ECF6",
            "gridcolor": "white",
            "gridwidth": 2,
            "linecolor": "white",
            "showbackground": true,
            "ticks": "",
            "zerolinecolor": "white"
           }
          },
          "shapedefaults": {
           "line": {
            "color": "#2a3f5f"
           }
          },
          "ternary": {
           "aaxis": {
            "gridcolor": "white",
            "linecolor": "white",
            "ticks": ""
           },
           "baxis": {
            "gridcolor": "white",
            "linecolor": "white",
            "ticks": ""
           },
           "bgcolor": "#E5ECF6",
           "caxis": {
            "gridcolor": "white",
            "linecolor": "white",
            "ticks": ""
           }
          },
          "title": {
           "x": 0.05
          },
          "xaxis": {
           "automargin": true,
           "gridcolor": "white",
           "linecolor": "white",
           "ticks": "",
           "title": {
            "standoff": 15
           },
           "zerolinecolor": "white",
           "zerolinewidth": 2
          },
          "yaxis": {
           "automargin": true,
           "gridcolor": "white",
           "linecolor": "white",
           "ticks": "",
           "title": {
            "standoff": 15
           },
           "zerolinecolor": "white",
           "zerolinewidth": 2
          }
         }
        },
        "title": {
         "text": "Stopwordsleri kaldırmadan en çok geçen 25 kelime"
        },
        "xaxis": {
         "anchor": "y",
         "domain": [
          0,
          1
         ],
         "title": {
          "text": "kelime"
         }
        },
        "yaxis": {
         "anchor": "x",
         "domain": [
          0,
          1
         ],
         "title": {
          "text": "geçiş frekansı"
         }
        }
       }
      },
      "text/html": [
       "<div>                            <div id=\"86f42d8b-ae11-4f4d-8e87-935ed8fcdab5\" class=\"plotly-graph-div\" style=\"height:400px; width:100%;\"></div>            <script type=\"text/javascript\">                require([\"plotly\"], function(Plotly) {                    window.PLOTLYENV=window.PLOTLYENV || {};                                    if (document.getElementById(\"86f42d8b-ae11-4f4d-8e87-935ed8fcdab5\")) {                    Plotly.newPlot(                        \"86f42d8b-ae11-4f4d-8e87-935ed8fcdab5\",                        [{\"alignmentgroup\":\"True\",\"hovertemplate\":\"kelime=%{x}<br>ge\\u00e7i\\u015f frekans\\u0131=%{marker.color}<extra></extra>\",\"legendgroup\":\"\",\"marker\":{\"color\":[2906,2057,712,612,610,556,550,550,550,550,520,520,402,360,335,329,329,329,270,256,206,193,180,180,173],\"coloraxis\":\"coloraxis\",\"pattern\":{\"shape\":\"\"}},\"name\":\"\",\"offsetgroup\":\"\",\"orientation\":\"v\",\"showlegend\":false,\"textposition\":\"auto\",\"x\":[\"indices\",\"text\",\"https\",\"id\",\"id_str\",\"com\",\"hashtags\",\"symbols\",\"user_mentions\",\"urls\",\"screen_name\",\"name\",\"education\",\"resize\",\"co\",\"url\",\"expanded_url\",\"display_url\",\"fit\",\"media\",\"twitter\",\"150\",\"pbs\",\"twimg\",\"photo\"],\"xaxis\":\"x\",\"y\":[2906,2057,712,612,610,556,550,550,550,550,520,520,402,360,335,329,329,329,270,256,206,193,180,180,173],\"yaxis\":\"y\",\"type\":\"bar\"}],                        {\"template\":{\"data\":{\"bar\":[{\"error_x\":{\"color\":\"#2a3f5f\"},\"error_y\":{\"color\":\"#2a3f5f\"},\"marker\":{\"line\":{\"color\":\"#E5ECF6\",\"width\":0.5},\"pattern\":{\"fillmode\":\"overlay\",\"size\":10,\"solidity\":0.2}},\"type\":\"bar\"}],\"barpolar\":[{\"marker\":{\"line\":{\"color\":\"#E5ECF6\",\"width\":0.5},\"pattern\":{\"fillmode\":\"overlay\",\"size\":10,\"solidity\":0.2}},\"type\":\"barpolar\"}],\"carpet\":[{\"aaxis\":{\"endlinecolor\":\"#2a3f5f\",\"gridcolor\":\"white\",\"linecolor\":\"white\",\"minorgridcolor\":\"white\",\"startlinecolor\":\"#2a3f5f\"},\"baxis\":{\"endlinecolor\":\"#2a3f5f\",\"gridcolor\":\"white\",\"linecolor\":\"white\",\"minorgridcolor\":\"white\",\"startlinecolor\":\"#2a3f5f\"},\"type\":\"carpet\"}],\"choropleth\":[{\"colorbar\":{\"outlinewidth\":0,\"ticks\":\"\"},\"type\":\"choropleth\"}],\"contour\":[{\"colorbar\":{\"outlinewidth\":0,\"ticks\":\"\"},\"colorscale\":[[0.0,\"#0d0887\"],[0.1111111111111111,\"#46039f\"],[0.2222222222222222,\"#7201a8\"],[0.3333333333333333,\"#9c179e\"],[0.4444444444444444,\"#bd3786\"],[0.5555555555555556,\"#d8576b\"],[0.6666666666666666,\"#ed7953\"],[0.7777777777777778,\"#fb9f3a\"],[0.8888888888888888,\"#fdca26\"],[1.0,\"#f0f921\"]],\"type\":\"contour\"}],\"contourcarpet\":[{\"colorbar\":{\"outlinewidth\":0,\"ticks\":\"\"},\"type\":\"contourcarpet\"}],\"heatmap\":[{\"colorbar\":{\"outlinewidth\":0,\"ticks\":\"\"},\"colorscale\":[[0.0,\"#0d0887\"],[0.1111111111111111,\"#46039f\"],[0.2222222222222222,\"#7201a8\"],[0.3333333333333333,\"#9c179e\"],[0.4444444444444444,\"#bd3786\"],[0.5555555555555556,\"#d8576b\"],[0.6666666666666666,\"#ed7953\"],[0.7777777777777778,\"#fb9f3a\"],[0.8888888888888888,\"#fdca26\"],[1.0,\"#f0f921\"]],\"type\":\"heatmap\"}],\"heatmapgl\":[{\"colorbar\":{\"outlinewidth\":0,\"ticks\":\"\"},\"colorscale\":[[0.0,\"#0d0887\"],[0.1111111111111111,\"#46039f\"],[0.2222222222222222,\"#7201a8\"],[0.3333333333333333,\"#9c179e\"],[0.4444444444444444,\"#bd3786\"],[0.5555555555555556,\"#d8576b\"],[0.6666666666666666,\"#ed7953\"],[0.7777777777777778,\"#fb9f3a\"],[0.8888888888888888,\"#fdca26\"],[1.0,\"#f0f921\"]],\"type\":\"heatmapgl\"}],\"histogram\":[{\"marker\":{\"pattern\":{\"fillmode\":\"overlay\",\"size\":10,\"solidity\":0.2}},\"type\":\"histogram\"}],\"histogram2d\":[{\"colorbar\":{\"outlinewidth\":0,\"ticks\":\"\"},\"colorscale\":[[0.0,\"#0d0887\"],[0.1111111111111111,\"#46039f\"],[0.2222222222222222,\"#7201a8\"],[0.3333333333333333,\"#9c179e\"],[0.4444444444444444,\"#bd3786\"],[0.5555555555555556,\"#d8576b\"],[0.6666666666666666,\"#ed7953\"],[0.7777777777777778,\"#fb9f3a\"],[0.8888888888888888,\"#fdca26\"],[1.0,\"#f0f921\"]],\"type\":\"histogram2d\"}],\"histogram2dcontour\":[{\"colorbar\":{\"outlinewidth\":0,\"ticks\":\"\"},\"colorscale\":[[0.0,\"#0d0887\"],[0.1111111111111111,\"#46039f\"],[0.2222222222222222,\"#7201a8\"],[0.3333333333333333,\"#9c179e\"],[0.4444444444444444,\"#bd3786\"],[0.5555555555555556,\"#d8576b\"],[0.6666666666666666,\"#ed7953\"],[0.7777777777777778,\"#fb9f3a\"],[0.8888888888888888,\"#fdca26\"],[1.0,\"#f0f921\"]],\"type\":\"histogram2dcontour\"}],\"mesh3d\":[{\"colorbar\":{\"outlinewidth\":0,\"ticks\":\"\"},\"type\":\"mesh3d\"}],\"parcoords\":[{\"line\":{\"colorbar\":{\"outlinewidth\":0,\"ticks\":\"\"}},\"type\":\"parcoords\"}],\"pie\":[{\"automargin\":true,\"type\":\"pie\"}],\"scatter\":[{\"marker\":{\"colorbar\":{\"outlinewidth\":0,\"ticks\":\"\"}},\"type\":\"scatter\"}],\"scatter3d\":[{\"line\":{\"colorbar\":{\"outlinewidth\":0,\"ticks\":\"\"}},\"marker\":{\"colorbar\":{\"outlinewidth\":0,\"ticks\":\"\"}},\"type\":\"scatter3d\"}],\"scattercarpet\":[{\"marker\":{\"colorbar\":{\"outlinewidth\":0,\"ticks\":\"\"}},\"type\":\"scattercarpet\"}],\"scattergeo\":[{\"marker\":{\"colorbar\":{\"outlinewidth\":0,\"ticks\":\"\"}},\"type\":\"scattergeo\"}],\"scattergl\":[{\"marker\":{\"colorbar\":{\"outlinewidth\":0,\"ticks\":\"\"}},\"type\":\"scattergl\"}],\"scattermapbox\":[{\"marker\":{\"colorbar\":{\"outlinewidth\":0,\"ticks\":\"\"}},\"type\":\"scattermapbox\"}],\"scatterpolar\":[{\"marker\":{\"colorbar\":{\"outlinewidth\":0,\"ticks\":\"\"}},\"type\":\"scatterpolar\"}],\"scatterpolargl\":[{\"marker\":{\"colorbar\":{\"outlinewidth\":0,\"ticks\":\"\"}},\"type\":\"scatterpolargl\"}],\"scatterternary\":[{\"marker\":{\"colorbar\":{\"outlinewidth\":0,\"ticks\":\"\"}},\"type\":\"scatterternary\"}],\"surface\":[{\"colorbar\":{\"outlinewidth\":0,\"ticks\":\"\"},\"colorscale\":[[0.0,\"#0d0887\"],[0.1111111111111111,\"#46039f\"],[0.2222222222222222,\"#7201a8\"],[0.3333333333333333,\"#9c179e\"],[0.4444444444444444,\"#bd3786\"],[0.5555555555555556,\"#d8576b\"],[0.6666666666666666,\"#ed7953\"],[0.7777777777777778,\"#fb9f3a\"],[0.8888888888888888,\"#fdca26\"],[1.0,\"#f0f921\"]],\"type\":\"surface\"}],\"table\":[{\"cells\":{\"fill\":{\"color\":\"#EBF0F8\"},\"line\":{\"color\":\"white\"}},\"header\":{\"fill\":{\"color\":\"#C8D4E3\"},\"line\":{\"color\":\"white\"}},\"type\":\"table\"}]},\"layout\":{\"annotationdefaults\":{\"arrowcolor\":\"#2a3f5f\",\"arrowhead\":0,\"arrowwidth\":1},\"autotypenumbers\":\"strict\",\"coloraxis\":{\"colorbar\":{\"outlinewidth\":0,\"ticks\":\"\"}},\"colorscale\":{\"diverging\":[[0,\"#8e0152\"],[0.1,\"#c51b7d\"],[0.2,\"#de77ae\"],[0.3,\"#f1b6da\"],[0.4,\"#fde0ef\"],[0.5,\"#f7f7f7\"],[0.6,\"#e6f5d0\"],[0.7,\"#b8e186\"],[0.8,\"#7fbc41\"],[0.9,\"#4d9221\"],[1,\"#276419\"]],\"sequential\":[[0.0,\"#0d0887\"],[0.1111111111111111,\"#46039f\"],[0.2222222222222222,\"#7201a8\"],[0.3333333333333333,\"#9c179e\"],[0.4444444444444444,\"#bd3786\"],[0.5555555555555556,\"#d8576b\"],[0.6666666666666666,\"#ed7953\"],[0.7777777777777778,\"#fb9f3a\"],[0.8888888888888888,\"#fdca26\"],[1.0,\"#f0f921\"]],\"sequentialminus\":[[0.0,\"#0d0887\"],[0.1111111111111111,\"#46039f\"],[0.2222222222222222,\"#7201a8\"],[0.3333333333333333,\"#9c179e\"],[0.4444444444444444,\"#bd3786\"],[0.5555555555555556,\"#d8576b\"],[0.6666666666666666,\"#ed7953\"],[0.7777777777777778,\"#fb9f3a\"],[0.8888888888888888,\"#fdca26\"],[1.0,\"#f0f921\"]]},\"colorway\":[\"#636efa\",\"#EF553B\",\"#00cc96\",\"#ab63fa\",\"#FFA15A\",\"#19d3f3\",\"#FF6692\",\"#B6E880\",\"#FF97FF\",\"#FECB52\"],\"font\":{\"color\":\"#2a3f5f\"},\"geo\":{\"bgcolor\":\"white\",\"lakecolor\":\"white\",\"landcolor\":\"#E5ECF6\",\"showlakes\":true,\"showland\":true,\"subunitcolor\":\"white\"},\"hoverlabel\":{\"align\":\"left\"},\"hovermode\":\"closest\",\"mapbox\":{\"style\":\"light\"},\"paper_bgcolor\":\"white\",\"plot_bgcolor\":\"#E5ECF6\",\"polar\":{\"angularaxis\":{\"gridcolor\":\"white\",\"linecolor\":\"white\",\"ticks\":\"\"},\"bgcolor\":\"#E5ECF6\",\"radialaxis\":{\"gridcolor\":\"white\",\"linecolor\":\"white\",\"ticks\":\"\"}},\"scene\":{\"xaxis\":{\"backgroundcolor\":\"#E5ECF6\",\"gridcolor\":\"white\",\"gridwidth\":2,\"linecolor\":\"white\",\"showbackground\":true,\"ticks\":\"\",\"zerolinecolor\":\"white\"},\"yaxis\":{\"backgroundcolor\":\"#E5ECF6\",\"gridcolor\":\"white\",\"gridwidth\":2,\"linecolor\":\"white\",\"showbackground\":true,\"ticks\":\"\",\"zerolinecolor\":\"white\"},\"zaxis\":{\"backgroundcolor\":\"#E5ECF6\",\"gridcolor\":\"white\",\"gridwidth\":2,\"linecolor\":\"white\",\"showbackground\":true,\"ticks\":\"\",\"zerolinecolor\":\"white\"}},\"shapedefaults\":{\"line\":{\"color\":\"#2a3f5f\"}},\"ternary\":{\"aaxis\":{\"gridcolor\":\"white\",\"linecolor\":\"white\",\"ticks\":\"\"},\"baxis\":{\"gridcolor\":\"white\",\"linecolor\":\"white\",\"ticks\":\"\"},\"bgcolor\":\"#E5ECF6\",\"caxis\":{\"gridcolor\":\"white\",\"linecolor\":\"white\",\"ticks\":\"\"}},\"title\":{\"x\":0.05},\"xaxis\":{\"automargin\":true,\"gridcolor\":\"white\",\"linecolor\":\"white\",\"ticks\":\"\",\"title\":{\"standoff\":15},\"zerolinecolor\":\"white\",\"zerolinewidth\":2},\"yaxis\":{\"automargin\":true,\"gridcolor\":\"white\",\"linecolor\":\"white\",\"ticks\":\"\",\"title\":{\"standoff\":15},\"zerolinecolor\":\"white\",\"zerolinewidth\":2}}},\"xaxis\":{\"anchor\":\"y\",\"domain\":[0.0,1.0],\"title\":{\"text\":\"kelime\"}},\"yaxis\":{\"anchor\":\"x\",\"domain\":[0.0,1.0],\"title\":{\"text\":\"ge\\u00e7i\\u015f frekans\\u0131\"}},\"coloraxis\":{\"colorbar\":{\"title\":{\"text\":\"ge\\u00e7i\\u015f frekans\\u0131\"}},\"colorscale\":[[0.0,\"#0d0887\"],[0.1111111111111111,\"#46039f\"],[0.2222222222222222,\"#7201a8\"],[0.3333333333333333,\"#9c179e\"],[0.4444444444444444,\"#bd3786\"],[0.5555555555555556,\"#d8576b\"],[0.6666666666666666,\"#ed7953\"],[0.7777777777777778,\"#fb9f3a\"],[0.8888888888888888,\"#fdca26\"],[1.0,\"#f0f921\"]]},\"legend\":{\"tracegroupgap\":0},\"title\":{\"text\":\"Stopwordsleri kald\\u0131rmadan en \\u00e7ok ge\\u00e7en 25 kelime\"},\"barmode\":\"relative\",\"height\":400},                        {\"responsive\": true}                    ).then(function(){\n",
       "                            \n",
       "var gd = document.getElementById('86f42d8b-ae11-4f4d-8e87-935ed8fcdab5');\n",
       "var x = new MutationObserver(function (mutations, observer) {{\n",
       "        var display = window.getComputedStyle(gd).display;\n",
       "        if (!display || display === 'none') {{\n",
       "            console.log([gd, 'removed!']);\n",
       "            Plotly.purge(gd);\n",
       "            observer.disconnect();\n",
       "        }}\n",
       "}});\n",
       "\n",
       "// Listen for the removal of the full notebook cells\n",
       "var notebookContainer = gd.closest('#notebook-container');\n",
       "if (notebookContainer) {{\n",
       "    x.observe(notebookContainer, {childList: true});\n",
       "}}\n",
       "\n",
       "// Listen for the clearing of the current output cell\n",
       "var outputEl = gd.closest('.output');\n",
       "if (outputEl) {{\n",
       "    x.observe(outputEl, {childList: true});\n",
       "}}\n",
       "\n",
       "                        })                };                });            </script>        </div>"
      ]
     },
     "metadata": {},
     "output_type": "display_data"
    }
   ],
   "source": [
    ">>> from sklearn.feature_extraction.text import CountVectorizer\n",
    "import plotly.express as px\n",
    "\n",
    "def get_top_n_words(corpus, n=None):\n",
    "    vec = CountVectorizer().fit(corpus)\n",
    "    bag_of_words = vec.transform(corpus)\n",
    "    sum_words = bag_of_words.sum(axis=0) \n",
    "    words_freq = [(word, sum_words[0, idx]) for word, idx in vec.vocabulary_.items()]\n",
    "    words_freq =sorted(words_freq, key = lambda x: x[1], reverse=True)\n",
    "    return words_freq[:n]\n",
    "common_words = get_top_n_words(mydata[\"entities_str\"], 25)\n",
    "df1 = pd.DataFrame(common_words, columns = ['kelime' , 'geçiş frekansı'])\n",
    "fig = px.bar(df1, x='kelime', y='geçiş frekansı',\n",
    "             hover_data=['kelime', 'geçiş frekansı'], color='geçiş frekansı',\n",
    "             title='Stopwordsleri kaldırmadan en çok geçen 25 kelime',\n",
    "             height=400)\n",
    "fig.show()"
   ]
  },
  {
   "cell_type": "code",
   "execution_count": 26,
   "id": "5d2e9e4e",
   "metadata": {},
   "outputs": [
    {
     "name": "stderr",
     "output_type": "stream",
     "text": [
      "C:\\Users\\Ceylan\\anaconda3\\lib\\site-packages\\sklearn\\feature_extraction\\text.py:388: UserWarning:\n",
      "\n",
      "Your stop_words may be inconsistent with your preprocessing. Tokenizing the stop words generated tokens ['al', 'daren', 'itse', 'mayn', 'mon', 'myse', 'oughtn'] not in stop_words.\n",
      "\n"
     ]
    },
    {
     "data": {
      "application/vnd.plotly.v1+json": {
       "config": {
        "plotlyServerURL": "https://plot.ly"
       },
       "data": [
        {
         "alignmentgroup": "True",
         "hovertemplate": "kelime=%{x}<br>geçiş frekansı=%{marker.color}<extra></extra>",
         "legendgroup": "",
         "marker": {
          "color": [
           2906,
           2057,
           712,
           610,
           550,
           550,
           550,
           550,
           520,
           402,
           360,
           329,
           329,
           329,
           270,
           256,
           206,
           193,
           180,
           180,
           173,
           172,
           130,
           126,
           116
          ],
          "coloraxis": "coloraxis",
          "pattern": {
           "shape": ""
          }
         },
         "name": "",
         "offsetgroup": "",
         "orientation": "v",
         "showlegend": false,
         "textposition": "auto",
         "type": "bar",
         "x": [
          "indices",
          "text",
          "https",
          "id_str",
          "hashtags",
          "symbols",
          "user_mentions",
          "urls",
          "screen_name",
          "education",
          "resize",
          "url",
          "expanded_url",
          "display_url",
          "fit",
          "media",
          "twitter",
          "150",
          "pbs",
          "twimg",
          "photo",
          "jpg",
          "ly",
          "http",
          "bit"
         ],
         "xaxis": "x",
         "y": [
          2906,
          2057,
          712,
          610,
          550,
          550,
          550,
          550,
          520,
          402,
          360,
          329,
          329,
          329,
          270,
          256,
          206,
          193,
          180,
          180,
          173,
          172,
          130,
          126,
          116
         ],
         "yaxis": "y"
        }
       ],
       "layout": {
        "barmode": "relative",
        "coloraxis": {
         "colorbar": {
          "title": {
           "text": "geçiş frekansı"
          }
         },
         "colorscale": [
          [
           0,
           "#0d0887"
          ],
          [
           0.1111111111111111,
           "#46039f"
          ],
          [
           0.2222222222222222,
           "#7201a8"
          ],
          [
           0.3333333333333333,
           "#9c179e"
          ],
          [
           0.4444444444444444,
           "#bd3786"
          ],
          [
           0.5555555555555556,
           "#d8576b"
          ],
          [
           0.6666666666666666,
           "#ed7953"
          ],
          [
           0.7777777777777778,
           "#fb9f3a"
          ],
          [
           0.8888888888888888,
           "#fdca26"
          ],
          [
           1,
           "#f0f921"
          ]
         ]
        },
        "height": 400,
        "legend": {
         "tracegroupgap": 0
        },
        "template": {
         "data": {
          "bar": [
           {
            "error_x": {
             "color": "#2a3f5f"
            },
            "error_y": {
             "color": "#2a3f5f"
            },
            "marker": {
             "line": {
              "color": "#E5ECF6",
              "width": 0.5
             },
             "pattern": {
              "fillmode": "overlay",
              "size": 10,
              "solidity": 0.2
             }
            },
            "type": "bar"
           }
          ],
          "barpolar": [
           {
            "marker": {
             "line": {
              "color": "#E5ECF6",
              "width": 0.5
             },
             "pattern": {
              "fillmode": "overlay",
              "size": 10,
              "solidity": 0.2
             }
            },
            "type": "barpolar"
           }
          ],
          "carpet": [
           {
            "aaxis": {
             "endlinecolor": "#2a3f5f",
             "gridcolor": "white",
             "linecolor": "white",
             "minorgridcolor": "white",
             "startlinecolor": "#2a3f5f"
            },
            "baxis": {
             "endlinecolor": "#2a3f5f",
             "gridcolor": "white",
             "linecolor": "white",
             "minorgridcolor": "white",
             "startlinecolor": "#2a3f5f"
            },
            "type": "carpet"
           }
          ],
          "choropleth": [
           {
            "colorbar": {
             "outlinewidth": 0,
             "ticks": ""
            },
            "type": "choropleth"
           }
          ],
          "contour": [
           {
            "colorbar": {
             "outlinewidth": 0,
             "ticks": ""
            },
            "colorscale": [
             [
              0,
              "#0d0887"
             ],
             [
              0.1111111111111111,
              "#46039f"
             ],
             [
              0.2222222222222222,
              "#7201a8"
             ],
             [
              0.3333333333333333,
              "#9c179e"
             ],
             [
              0.4444444444444444,
              "#bd3786"
             ],
             [
              0.5555555555555556,
              "#d8576b"
             ],
             [
              0.6666666666666666,
              "#ed7953"
             ],
             [
              0.7777777777777778,
              "#fb9f3a"
             ],
             [
              0.8888888888888888,
              "#fdca26"
             ],
             [
              1,
              "#f0f921"
             ]
            ],
            "type": "contour"
           }
          ],
          "contourcarpet": [
           {
            "colorbar": {
             "outlinewidth": 0,
             "ticks": ""
            },
            "type": "contourcarpet"
           }
          ],
          "heatmap": [
           {
            "colorbar": {
             "outlinewidth": 0,
             "ticks": ""
            },
            "colorscale": [
             [
              0,
              "#0d0887"
             ],
             [
              0.1111111111111111,
              "#46039f"
             ],
             [
              0.2222222222222222,
              "#7201a8"
             ],
             [
              0.3333333333333333,
              "#9c179e"
             ],
             [
              0.4444444444444444,
              "#bd3786"
             ],
             [
              0.5555555555555556,
              "#d8576b"
             ],
             [
              0.6666666666666666,
              "#ed7953"
             ],
             [
              0.7777777777777778,
              "#fb9f3a"
             ],
             [
              0.8888888888888888,
              "#fdca26"
             ],
             [
              1,
              "#f0f921"
             ]
            ],
            "type": "heatmap"
           }
          ],
          "heatmapgl": [
           {
            "colorbar": {
             "outlinewidth": 0,
             "ticks": ""
            },
            "colorscale": [
             [
              0,
              "#0d0887"
             ],
             [
              0.1111111111111111,
              "#46039f"
             ],
             [
              0.2222222222222222,
              "#7201a8"
             ],
             [
              0.3333333333333333,
              "#9c179e"
             ],
             [
              0.4444444444444444,
              "#bd3786"
             ],
             [
              0.5555555555555556,
              "#d8576b"
             ],
             [
              0.6666666666666666,
              "#ed7953"
             ],
             [
              0.7777777777777778,
              "#fb9f3a"
             ],
             [
              0.8888888888888888,
              "#fdca26"
             ],
             [
              1,
              "#f0f921"
             ]
            ],
            "type": "heatmapgl"
           }
          ],
          "histogram": [
           {
            "marker": {
             "pattern": {
              "fillmode": "overlay",
              "size": 10,
              "solidity": 0.2
             }
            },
            "type": "histogram"
           }
          ],
          "histogram2d": [
           {
            "colorbar": {
             "outlinewidth": 0,
             "ticks": ""
            },
            "colorscale": [
             [
              0,
              "#0d0887"
             ],
             [
              0.1111111111111111,
              "#46039f"
             ],
             [
              0.2222222222222222,
              "#7201a8"
             ],
             [
              0.3333333333333333,
              "#9c179e"
             ],
             [
              0.4444444444444444,
              "#bd3786"
             ],
             [
              0.5555555555555556,
              "#d8576b"
             ],
             [
              0.6666666666666666,
              "#ed7953"
             ],
             [
              0.7777777777777778,
              "#fb9f3a"
             ],
             [
              0.8888888888888888,
              "#fdca26"
             ],
             [
              1,
              "#f0f921"
             ]
            ],
            "type": "histogram2d"
           }
          ],
          "histogram2dcontour": [
           {
            "colorbar": {
             "outlinewidth": 0,
             "ticks": ""
            },
            "colorscale": [
             [
              0,
              "#0d0887"
             ],
             [
              0.1111111111111111,
              "#46039f"
             ],
             [
              0.2222222222222222,
              "#7201a8"
             ],
             [
              0.3333333333333333,
              "#9c179e"
             ],
             [
              0.4444444444444444,
              "#bd3786"
             ],
             [
              0.5555555555555556,
              "#d8576b"
             ],
             [
              0.6666666666666666,
              "#ed7953"
             ],
             [
              0.7777777777777778,
              "#fb9f3a"
             ],
             [
              0.8888888888888888,
              "#fdca26"
             ],
             [
              1,
              "#f0f921"
             ]
            ],
            "type": "histogram2dcontour"
           }
          ],
          "mesh3d": [
           {
            "colorbar": {
             "outlinewidth": 0,
             "ticks": ""
            },
            "type": "mesh3d"
           }
          ],
          "parcoords": [
           {
            "line": {
             "colorbar": {
              "outlinewidth": 0,
              "ticks": ""
             }
            },
            "type": "parcoords"
           }
          ],
          "pie": [
           {
            "automargin": true,
            "type": "pie"
           }
          ],
          "scatter": [
           {
            "marker": {
             "colorbar": {
              "outlinewidth": 0,
              "ticks": ""
             }
            },
            "type": "scatter"
           }
          ],
          "scatter3d": [
           {
            "line": {
             "colorbar": {
              "outlinewidth": 0,
              "ticks": ""
             }
            },
            "marker": {
             "colorbar": {
              "outlinewidth": 0,
              "ticks": ""
             }
            },
            "type": "scatter3d"
           }
          ],
          "scattercarpet": [
           {
            "marker": {
             "colorbar": {
              "outlinewidth": 0,
              "ticks": ""
             }
            },
            "type": "scattercarpet"
           }
          ],
          "scattergeo": [
           {
            "marker": {
             "colorbar": {
              "outlinewidth": 0,
              "ticks": ""
             }
            },
            "type": "scattergeo"
           }
          ],
          "scattergl": [
           {
            "marker": {
             "colorbar": {
              "outlinewidth": 0,
              "ticks": ""
             }
            },
            "type": "scattergl"
           }
          ],
          "scattermapbox": [
           {
            "marker": {
             "colorbar": {
              "outlinewidth": 0,
              "ticks": ""
             }
            },
            "type": "scattermapbox"
           }
          ],
          "scatterpolar": [
           {
            "marker": {
             "colorbar": {
              "outlinewidth": 0,
              "ticks": ""
             }
            },
            "type": "scatterpolar"
           }
          ],
          "scatterpolargl": [
           {
            "marker": {
             "colorbar": {
              "outlinewidth": 0,
              "ticks": ""
             }
            },
            "type": "scatterpolargl"
           }
          ],
          "scatterternary": [
           {
            "marker": {
             "colorbar": {
              "outlinewidth": 0,
              "ticks": ""
             }
            },
            "type": "scatterternary"
           }
          ],
          "surface": [
           {
            "colorbar": {
             "outlinewidth": 0,
             "ticks": ""
            },
            "colorscale": [
             [
              0,
              "#0d0887"
             ],
             [
              0.1111111111111111,
              "#46039f"
             ],
             [
              0.2222222222222222,
              "#7201a8"
             ],
             [
              0.3333333333333333,
              "#9c179e"
             ],
             [
              0.4444444444444444,
              "#bd3786"
             ],
             [
              0.5555555555555556,
              "#d8576b"
             ],
             [
              0.6666666666666666,
              "#ed7953"
             ],
             [
              0.7777777777777778,
              "#fb9f3a"
             ],
             [
              0.8888888888888888,
              "#fdca26"
             ],
             [
              1,
              "#f0f921"
             ]
            ],
            "type": "surface"
           }
          ],
          "table": [
           {
            "cells": {
             "fill": {
              "color": "#EBF0F8"
             },
             "line": {
              "color": "white"
             }
            },
            "header": {
             "fill": {
              "color": "#C8D4E3"
             },
             "line": {
              "color": "white"
             }
            },
            "type": "table"
           }
          ]
         },
         "layout": {
          "annotationdefaults": {
           "arrowcolor": "#2a3f5f",
           "arrowhead": 0,
           "arrowwidth": 1
          },
          "autotypenumbers": "strict",
          "coloraxis": {
           "colorbar": {
            "outlinewidth": 0,
            "ticks": ""
           }
          },
          "colorscale": {
           "diverging": [
            [
             0,
             "#8e0152"
            ],
            [
             0.1,
             "#c51b7d"
            ],
            [
             0.2,
             "#de77ae"
            ],
            [
             0.3,
             "#f1b6da"
            ],
            [
             0.4,
             "#fde0ef"
            ],
            [
             0.5,
             "#f7f7f7"
            ],
            [
             0.6,
             "#e6f5d0"
            ],
            [
             0.7,
             "#b8e186"
            ],
            [
             0.8,
             "#7fbc41"
            ],
            [
             0.9,
             "#4d9221"
            ],
            [
             1,
             "#276419"
            ]
           ],
           "sequential": [
            [
             0,
             "#0d0887"
            ],
            [
             0.1111111111111111,
             "#46039f"
            ],
            [
             0.2222222222222222,
             "#7201a8"
            ],
            [
             0.3333333333333333,
             "#9c179e"
            ],
            [
             0.4444444444444444,
             "#bd3786"
            ],
            [
             0.5555555555555556,
             "#d8576b"
            ],
            [
             0.6666666666666666,
             "#ed7953"
            ],
            [
             0.7777777777777778,
             "#fb9f3a"
            ],
            [
             0.8888888888888888,
             "#fdca26"
            ],
            [
             1,
             "#f0f921"
            ]
           ],
           "sequentialminus": [
            [
             0,
             "#0d0887"
            ],
            [
             0.1111111111111111,
             "#46039f"
            ],
            [
             0.2222222222222222,
             "#7201a8"
            ],
            [
             0.3333333333333333,
             "#9c179e"
            ],
            [
             0.4444444444444444,
             "#bd3786"
            ],
            [
             0.5555555555555556,
             "#d8576b"
            ],
            [
             0.6666666666666666,
             "#ed7953"
            ],
            [
             0.7777777777777778,
             "#fb9f3a"
            ],
            [
             0.8888888888888888,
             "#fdca26"
            ],
            [
             1,
             "#f0f921"
            ]
           ]
          },
          "colorway": [
           "#636efa",
           "#EF553B",
           "#00cc96",
           "#ab63fa",
           "#FFA15A",
           "#19d3f3",
           "#FF6692",
           "#B6E880",
           "#FF97FF",
           "#FECB52"
          ],
          "font": {
           "color": "#2a3f5f"
          },
          "geo": {
           "bgcolor": "white",
           "lakecolor": "white",
           "landcolor": "#E5ECF6",
           "showlakes": true,
           "showland": true,
           "subunitcolor": "white"
          },
          "hoverlabel": {
           "align": "left"
          },
          "hovermode": "closest",
          "mapbox": {
           "style": "light"
          },
          "paper_bgcolor": "white",
          "plot_bgcolor": "#E5ECF6",
          "polar": {
           "angularaxis": {
            "gridcolor": "white",
            "linecolor": "white",
            "ticks": ""
           },
           "bgcolor": "#E5ECF6",
           "radialaxis": {
            "gridcolor": "white",
            "linecolor": "white",
            "ticks": ""
           }
          },
          "scene": {
           "xaxis": {
            "backgroundcolor": "#E5ECF6",
            "gridcolor": "white",
            "gridwidth": 2,
            "linecolor": "white",
            "showbackground": true,
            "ticks": "",
            "zerolinecolor": "white"
           },
           "yaxis": {
            "backgroundcolor": "#E5ECF6",
            "gridcolor": "white",
            "gridwidth": 2,
            "linecolor": "white",
            "showbackground": true,
            "ticks": "",
            "zerolinecolor": "white"
           },
           "zaxis": {
            "backgroundcolor": "#E5ECF6",
            "gridcolor": "white",
            "gridwidth": 2,
            "linecolor": "white",
            "showbackground": true,
            "ticks": "",
            "zerolinecolor": "white"
           }
          },
          "shapedefaults": {
           "line": {
            "color": "#2a3f5f"
           }
          },
          "ternary": {
           "aaxis": {
            "gridcolor": "white",
            "linecolor": "white",
            "ticks": ""
           },
           "baxis": {
            "gridcolor": "white",
            "linecolor": "white",
            "ticks": ""
           },
           "bgcolor": "#E5ECF6",
           "caxis": {
            "gridcolor": "white",
            "linecolor": "white",
            "ticks": ""
           }
          },
          "title": {
           "x": 0.05
          },
          "xaxis": {
           "automargin": true,
           "gridcolor": "white",
           "linecolor": "white",
           "ticks": "",
           "title": {
            "standoff": 15
           },
           "zerolinecolor": "white",
           "zerolinewidth": 2
          },
          "yaxis": {
           "automargin": true,
           "gridcolor": "white",
           "linecolor": "white",
           "ticks": "",
           "title": {
            "standoff": 15
           },
           "zerolinecolor": "white",
           "zerolinewidth": 2
          }
         }
        },
        "title": {
         "text": "Stopwordsleri kaldırdıktan sonra en çok geçen 25 kelime"
        },
        "xaxis": {
         "anchor": "y",
         "domain": [
          0,
          1
         ],
         "title": {
          "text": "kelime"
         }
        },
        "yaxis": {
         "anchor": "x",
         "domain": [
          0,
          1
         ],
         "title": {
          "text": "geçiş frekansı"
         }
        }
       }
      },
      "text/html": [
       "<div>                            <div id=\"6a65d8c1-a10c-4cf6-82fc-916640c1f3d6\" class=\"plotly-graph-div\" style=\"height:400px; width:100%;\"></div>            <script type=\"text/javascript\">                require([\"plotly\"], function(Plotly) {                    window.PLOTLYENV=window.PLOTLYENV || {};                                    if (document.getElementById(\"6a65d8c1-a10c-4cf6-82fc-916640c1f3d6\")) {                    Plotly.newPlot(                        \"6a65d8c1-a10c-4cf6-82fc-916640c1f3d6\",                        [{\"alignmentgroup\":\"True\",\"hovertemplate\":\"kelime=%{x}<br>ge\\u00e7i\\u015f frekans\\u0131=%{marker.color}<extra></extra>\",\"legendgroup\":\"\",\"marker\":{\"color\":[2906,2057,712,610,550,550,550,550,520,402,360,329,329,329,270,256,206,193,180,180,173,172,130,126,116],\"coloraxis\":\"coloraxis\",\"pattern\":{\"shape\":\"\"}},\"name\":\"\",\"offsetgroup\":\"\",\"orientation\":\"v\",\"showlegend\":false,\"textposition\":\"auto\",\"x\":[\"indices\",\"text\",\"https\",\"id_str\",\"hashtags\",\"symbols\",\"user_mentions\",\"urls\",\"screen_name\",\"education\",\"resize\",\"url\",\"expanded_url\",\"display_url\",\"fit\",\"media\",\"twitter\",\"150\",\"pbs\",\"twimg\",\"photo\",\"jpg\",\"ly\",\"http\",\"bit\"],\"xaxis\":\"x\",\"y\":[2906,2057,712,610,550,550,550,550,520,402,360,329,329,329,270,256,206,193,180,180,173,172,130,126,116],\"yaxis\":\"y\",\"type\":\"bar\"}],                        {\"template\":{\"data\":{\"bar\":[{\"error_x\":{\"color\":\"#2a3f5f\"},\"error_y\":{\"color\":\"#2a3f5f\"},\"marker\":{\"line\":{\"color\":\"#E5ECF6\",\"width\":0.5},\"pattern\":{\"fillmode\":\"overlay\",\"size\":10,\"solidity\":0.2}},\"type\":\"bar\"}],\"barpolar\":[{\"marker\":{\"line\":{\"color\":\"#E5ECF6\",\"width\":0.5},\"pattern\":{\"fillmode\":\"overlay\",\"size\":10,\"solidity\":0.2}},\"type\":\"barpolar\"}],\"carpet\":[{\"aaxis\":{\"endlinecolor\":\"#2a3f5f\",\"gridcolor\":\"white\",\"linecolor\":\"white\",\"minorgridcolor\":\"white\",\"startlinecolor\":\"#2a3f5f\"},\"baxis\":{\"endlinecolor\":\"#2a3f5f\",\"gridcolor\":\"white\",\"linecolor\":\"white\",\"minorgridcolor\":\"white\",\"startlinecolor\":\"#2a3f5f\"},\"type\":\"carpet\"}],\"choropleth\":[{\"colorbar\":{\"outlinewidth\":0,\"ticks\":\"\"},\"type\":\"choropleth\"}],\"contour\":[{\"colorbar\":{\"outlinewidth\":0,\"ticks\":\"\"},\"colorscale\":[[0.0,\"#0d0887\"],[0.1111111111111111,\"#46039f\"],[0.2222222222222222,\"#7201a8\"],[0.3333333333333333,\"#9c179e\"],[0.4444444444444444,\"#bd3786\"],[0.5555555555555556,\"#d8576b\"],[0.6666666666666666,\"#ed7953\"],[0.7777777777777778,\"#fb9f3a\"],[0.8888888888888888,\"#fdca26\"],[1.0,\"#f0f921\"]],\"type\":\"contour\"}],\"contourcarpet\":[{\"colorbar\":{\"outlinewidth\":0,\"ticks\":\"\"},\"type\":\"contourcarpet\"}],\"heatmap\":[{\"colorbar\":{\"outlinewidth\":0,\"ticks\":\"\"},\"colorscale\":[[0.0,\"#0d0887\"],[0.1111111111111111,\"#46039f\"],[0.2222222222222222,\"#7201a8\"],[0.3333333333333333,\"#9c179e\"],[0.4444444444444444,\"#bd3786\"],[0.5555555555555556,\"#d8576b\"],[0.6666666666666666,\"#ed7953\"],[0.7777777777777778,\"#fb9f3a\"],[0.8888888888888888,\"#fdca26\"],[1.0,\"#f0f921\"]],\"type\":\"heatmap\"}],\"heatmapgl\":[{\"colorbar\":{\"outlinewidth\":0,\"ticks\":\"\"},\"colorscale\":[[0.0,\"#0d0887\"],[0.1111111111111111,\"#46039f\"],[0.2222222222222222,\"#7201a8\"],[0.3333333333333333,\"#9c179e\"],[0.4444444444444444,\"#bd3786\"],[0.5555555555555556,\"#d8576b\"],[0.6666666666666666,\"#ed7953\"],[0.7777777777777778,\"#fb9f3a\"],[0.8888888888888888,\"#fdca26\"],[1.0,\"#f0f921\"]],\"type\":\"heatmapgl\"}],\"histogram\":[{\"marker\":{\"pattern\":{\"fillmode\":\"overlay\",\"size\":10,\"solidity\":0.2}},\"type\":\"histogram\"}],\"histogram2d\":[{\"colorbar\":{\"outlinewidth\":0,\"ticks\":\"\"},\"colorscale\":[[0.0,\"#0d0887\"],[0.1111111111111111,\"#46039f\"],[0.2222222222222222,\"#7201a8\"],[0.3333333333333333,\"#9c179e\"],[0.4444444444444444,\"#bd3786\"],[0.5555555555555556,\"#d8576b\"],[0.6666666666666666,\"#ed7953\"],[0.7777777777777778,\"#fb9f3a\"],[0.8888888888888888,\"#fdca26\"],[1.0,\"#f0f921\"]],\"type\":\"histogram2d\"}],\"histogram2dcontour\":[{\"colorbar\":{\"outlinewidth\":0,\"ticks\":\"\"},\"colorscale\":[[0.0,\"#0d0887\"],[0.1111111111111111,\"#46039f\"],[0.2222222222222222,\"#7201a8\"],[0.3333333333333333,\"#9c179e\"],[0.4444444444444444,\"#bd3786\"],[0.5555555555555556,\"#d8576b\"],[0.6666666666666666,\"#ed7953\"],[0.7777777777777778,\"#fb9f3a\"],[0.8888888888888888,\"#fdca26\"],[1.0,\"#f0f921\"]],\"type\":\"histogram2dcontour\"}],\"mesh3d\":[{\"colorbar\":{\"outlinewidth\":0,\"ticks\":\"\"},\"type\":\"mesh3d\"}],\"parcoords\":[{\"line\":{\"colorbar\":{\"outlinewidth\":0,\"ticks\":\"\"}},\"type\":\"parcoords\"}],\"pie\":[{\"automargin\":true,\"type\":\"pie\"}],\"scatter\":[{\"marker\":{\"colorbar\":{\"outlinewidth\":0,\"ticks\":\"\"}},\"type\":\"scatter\"}],\"scatter3d\":[{\"line\":{\"colorbar\":{\"outlinewidth\":0,\"ticks\":\"\"}},\"marker\":{\"colorbar\":{\"outlinewidth\":0,\"ticks\":\"\"}},\"type\":\"scatter3d\"}],\"scattercarpet\":[{\"marker\":{\"colorbar\":{\"outlinewidth\":0,\"ticks\":\"\"}},\"type\":\"scattercarpet\"}],\"scattergeo\":[{\"marker\":{\"colorbar\":{\"outlinewidth\":0,\"ticks\":\"\"}},\"type\":\"scattergeo\"}],\"scattergl\":[{\"marker\":{\"colorbar\":{\"outlinewidth\":0,\"ticks\":\"\"}},\"type\":\"scattergl\"}],\"scattermapbox\":[{\"marker\":{\"colorbar\":{\"outlinewidth\":0,\"ticks\":\"\"}},\"type\":\"scattermapbox\"}],\"scatterpolar\":[{\"marker\":{\"colorbar\":{\"outlinewidth\":0,\"ticks\":\"\"}},\"type\":\"scatterpolar\"}],\"scatterpolargl\":[{\"marker\":{\"colorbar\":{\"outlinewidth\":0,\"ticks\":\"\"}},\"type\":\"scatterpolargl\"}],\"scatterternary\":[{\"marker\":{\"colorbar\":{\"outlinewidth\":0,\"ticks\":\"\"}},\"type\":\"scatterternary\"}],\"surface\":[{\"colorbar\":{\"outlinewidth\":0,\"ticks\":\"\"},\"colorscale\":[[0.0,\"#0d0887\"],[0.1111111111111111,\"#46039f\"],[0.2222222222222222,\"#7201a8\"],[0.3333333333333333,\"#9c179e\"],[0.4444444444444444,\"#bd3786\"],[0.5555555555555556,\"#d8576b\"],[0.6666666666666666,\"#ed7953\"],[0.7777777777777778,\"#fb9f3a\"],[0.8888888888888888,\"#fdca26\"],[1.0,\"#f0f921\"]],\"type\":\"surface\"}],\"table\":[{\"cells\":{\"fill\":{\"color\":\"#EBF0F8\"},\"line\":{\"color\":\"white\"}},\"header\":{\"fill\":{\"color\":\"#C8D4E3\"},\"line\":{\"color\":\"white\"}},\"type\":\"table\"}]},\"layout\":{\"annotationdefaults\":{\"arrowcolor\":\"#2a3f5f\",\"arrowhead\":0,\"arrowwidth\":1},\"autotypenumbers\":\"strict\",\"coloraxis\":{\"colorbar\":{\"outlinewidth\":0,\"ticks\":\"\"}},\"colorscale\":{\"diverging\":[[0,\"#8e0152\"],[0.1,\"#c51b7d\"],[0.2,\"#de77ae\"],[0.3,\"#f1b6da\"],[0.4,\"#fde0ef\"],[0.5,\"#f7f7f7\"],[0.6,\"#e6f5d0\"],[0.7,\"#b8e186\"],[0.8,\"#7fbc41\"],[0.9,\"#4d9221\"],[1,\"#276419\"]],\"sequential\":[[0.0,\"#0d0887\"],[0.1111111111111111,\"#46039f\"],[0.2222222222222222,\"#7201a8\"],[0.3333333333333333,\"#9c179e\"],[0.4444444444444444,\"#bd3786\"],[0.5555555555555556,\"#d8576b\"],[0.6666666666666666,\"#ed7953\"],[0.7777777777777778,\"#fb9f3a\"],[0.8888888888888888,\"#fdca26\"],[1.0,\"#f0f921\"]],\"sequentialminus\":[[0.0,\"#0d0887\"],[0.1111111111111111,\"#46039f\"],[0.2222222222222222,\"#7201a8\"],[0.3333333333333333,\"#9c179e\"],[0.4444444444444444,\"#bd3786\"],[0.5555555555555556,\"#d8576b\"],[0.6666666666666666,\"#ed7953\"],[0.7777777777777778,\"#fb9f3a\"],[0.8888888888888888,\"#fdca26\"],[1.0,\"#f0f921\"]]},\"colorway\":[\"#636efa\",\"#EF553B\",\"#00cc96\",\"#ab63fa\",\"#FFA15A\",\"#19d3f3\",\"#FF6692\",\"#B6E880\",\"#FF97FF\",\"#FECB52\"],\"font\":{\"color\":\"#2a3f5f\"},\"geo\":{\"bgcolor\":\"white\",\"lakecolor\":\"white\",\"landcolor\":\"#E5ECF6\",\"showlakes\":true,\"showland\":true,\"subunitcolor\":\"white\"},\"hoverlabel\":{\"align\":\"left\"},\"hovermode\":\"closest\",\"mapbox\":{\"style\":\"light\"},\"paper_bgcolor\":\"white\",\"plot_bgcolor\":\"#E5ECF6\",\"polar\":{\"angularaxis\":{\"gridcolor\":\"white\",\"linecolor\":\"white\",\"ticks\":\"\"},\"bgcolor\":\"#E5ECF6\",\"radialaxis\":{\"gridcolor\":\"white\",\"linecolor\":\"white\",\"ticks\":\"\"}},\"scene\":{\"xaxis\":{\"backgroundcolor\":\"#E5ECF6\",\"gridcolor\":\"white\",\"gridwidth\":2,\"linecolor\":\"white\",\"showbackground\":true,\"ticks\":\"\",\"zerolinecolor\":\"white\"},\"yaxis\":{\"backgroundcolor\":\"#E5ECF6\",\"gridcolor\":\"white\",\"gridwidth\":2,\"linecolor\":\"white\",\"showbackground\":true,\"ticks\":\"\",\"zerolinecolor\":\"white\"},\"zaxis\":{\"backgroundcolor\":\"#E5ECF6\",\"gridcolor\":\"white\",\"gridwidth\":2,\"linecolor\":\"white\",\"showbackground\":true,\"ticks\":\"\",\"zerolinecolor\":\"white\"}},\"shapedefaults\":{\"line\":{\"color\":\"#2a3f5f\"}},\"ternary\":{\"aaxis\":{\"gridcolor\":\"white\",\"linecolor\":\"white\",\"ticks\":\"\"},\"baxis\":{\"gridcolor\":\"white\",\"linecolor\":\"white\",\"ticks\":\"\"},\"bgcolor\":\"#E5ECF6\",\"caxis\":{\"gridcolor\":\"white\",\"linecolor\":\"white\",\"ticks\":\"\"}},\"title\":{\"x\":0.05},\"xaxis\":{\"automargin\":true,\"gridcolor\":\"white\",\"linecolor\":\"white\",\"ticks\":\"\",\"title\":{\"standoff\":15},\"zerolinecolor\":\"white\",\"zerolinewidth\":2},\"yaxis\":{\"automargin\":true,\"gridcolor\":\"white\",\"linecolor\":\"white\",\"ticks\":\"\",\"title\":{\"standoff\":15},\"zerolinecolor\":\"white\",\"zerolinewidth\":2}}},\"xaxis\":{\"anchor\":\"y\",\"domain\":[0.0,1.0],\"title\":{\"text\":\"kelime\"}},\"yaxis\":{\"anchor\":\"x\",\"domain\":[0.0,1.0],\"title\":{\"text\":\"ge\\u00e7i\\u015f frekans\\u0131\"}},\"coloraxis\":{\"colorbar\":{\"title\":{\"text\":\"ge\\u00e7i\\u015f frekans\\u0131\"}},\"colorscale\":[[0.0,\"#0d0887\"],[0.1111111111111111,\"#46039f\"],[0.2222222222222222,\"#7201a8\"],[0.3333333333333333,\"#9c179e\"],[0.4444444444444444,\"#bd3786\"],[0.5555555555555556,\"#d8576b\"],[0.6666666666666666,\"#ed7953\"],[0.7777777777777778,\"#fb9f3a\"],[0.8888888888888888,\"#fdca26\"],[1.0,\"#f0f921\"]]},\"legend\":{\"tracegroupgap\":0},\"title\":{\"text\":\"Stopwordsleri kald\\u0131rd\\u0131ktan sonra en \\u00e7ok ge\\u00e7en 25 kelime\"},\"barmode\":\"relative\",\"height\":400},                        {\"responsive\": true}                    ).then(function(){\n",
       "                            \n",
       "var gd = document.getElementById('6a65d8c1-a10c-4cf6-82fc-916640c1f3d6');\n",
       "var x = new MutationObserver(function (mutations, observer) {{\n",
       "        var display = window.getComputedStyle(gd).display;\n",
       "        if (!display || display === 'none') {{\n",
       "            console.log([gd, 'removed!']);\n",
       "            Plotly.purge(gd);\n",
       "            observer.disconnect();\n",
       "        }}\n",
       "}});\n",
       "\n",
       "// Listen for the removal of the full notebook cells\n",
       "var notebookContainer = gd.closest('#notebook-container');\n",
       "if (notebookContainer) {{\n",
       "    x.observe(notebookContainer, {childList: true});\n",
       "}}\n",
       "\n",
       "// Listen for the clearing of the current output cell\n",
       "var outputEl = gd.closest('.output');\n",
       "if (outputEl) {{\n",
       "    x.observe(outputEl, {childList: true});\n",
       "}}\n",
       "\n",
       "                        })                };                });            </script>        </div>"
      ]
     },
     "metadata": {},
     "output_type": "display_data"
    }
   ],
   "source": [
    "import nltk\n",
    "from nltk.corpus import stopwords\n",
    "\n",
    "stop = stopwords.words('English')\n",
    "with open('stop_words_english.txt', encoding='utf-8') as file:  \n",
    "    stw = file.read() \n",
    "stw = stw.split()\n",
    "stw = [s.lower() for s in stw] \n",
    "stop += stw\n",
    "def get_top_n_words(corpus, n=None):\n",
    "    vec = CountVectorizer(stop_words = stop).fit(corpus)\n",
    "    bag_of_words = vec.transform(corpus)\n",
    "    sum_words = bag_of_words.sum(axis=0) \n",
    "    words_freq = [(word, sum_words[0, idx]) for word, idx in vec.vocabulary_.items()]\n",
    "    words_freq =sorted(words_freq, key = lambda x: x[1], reverse=True)\n",
    "    return words_freq[:n]\n",
    "common_words = get_top_n_words(mydata[\"entities_str\"], 25)\n",
    "df2 = pd.DataFrame(common_words, columns = ['kelime' , 'geçiş frekansı'])\n",
    "fig = px.bar(df2, x='kelime', y='geçiş frekansı',\n",
    "             hover_data=['kelime', 'geçiş frekansı'], color='geçiş frekansı',\n",
    "             title='Stopwordsleri kaldırdıktan sonra en çok geçen 25 kelime',\n",
    "             height=400)\n",
    "fig.show()"
   ]
  },
  {
   "cell_type": "code",
   "execution_count": 27,
   "id": "dd35e801",
   "metadata": {},
   "outputs": [
    {
     "data": {
      "application/vnd.plotly.v1+json": {
       "config": {
        "plotlyServerURL": "https://plot.ly"
       },
       "data": [
        {
         "alignmentgroup": "True",
         "hovertemplate": "kelime=%{x}<br>geçiş frekansı=%{marker.color}<extra></extra>",
         "legendgroup": "",
         "marker": {
          "color": [
           612,
           325,
           78,
           77,
           73,
           52,
           50,
           45,
           43,
           40,
           40,
           39,
           39,
           38,
           35,
           35,
           32,
           29,
           28,
           26,
           25,
           25,
           24,
           24,
           24
          ],
          "coloraxis": "coloraxis",
          "pattern": {
           "shape": ""
          }
         },
         "name": "",
         "offsetgroup": "",
         "orientation": "v",
         "showlegend": false,
         "textposition": "auto",
         "type": "bar",
         "x": [
          "education",
          "rt",
          "school",
          "amp",
          "learning",
          "nous",
          "teacher",
          "learn",
          "teaching",
          "teachers",
          "dans",
          "students",
          "pour",
          "job",
          "village",
          "école",
          "work",
          "link",
          "edtech",
          "edutwitter",
          "news",
          "bio",
          "future",
          "click",
          "children"
         ],
         "xaxis": "x",
         "y": [
          612,
          325,
          78,
          77,
          73,
          52,
          50,
          45,
          43,
          40,
          40,
          39,
          39,
          38,
          35,
          35,
          32,
          29,
          28,
          26,
          25,
          25,
          24,
          24,
          24
         ],
         "yaxis": "y"
        }
       ],
       "layout": {
        "barmode": "relative",
        "coloraxis": {
         "colorbar": {
          "title": {
           "text": "geçiş frekansı"
          }
         },
         "colorscale": [
          [
           0,
           "#0d0887"
          ],
          [
           0.1111111111111111,
           "#46039f"
          ],
          [
           0.2222222222222222,
           "#7201a8"
          ],
          [
           0.3333333333333333,
           "#9c179e"
          ],
          [
           0.4444444444444444,
           "#bd3786"
          ],
          [
           0.5555555555555556,
           "#d8576b"
          ],
          [
           0.6666666666666666,
           "#ed7953"
          ],
          [
           0.7777777777777778,
           "#fb9f3a"
          ],
          [
           0.8888888888888888,
           "#fdca26"
          ],
          [
           1,
           "#f0f921"
          ]
         ]
        },
        "height": 400,
        "legend": {
         "tracegroupgap": 0
        },
        "template": {
         "data": {
          "bar": [
           {
            "error_x": {
             "color": "#2a3f5f"
            },
            "error_y": {
             "color": "#2a3f5f"
            },
            "marker": {
             "line": {
              "color": "#E5ECF6",
              "width": 0.5
             },
             "pattern": {
              "fillmode": "overlay",
              "size": 10,
              "solidity": 0.2
             }
            },
            "type": "bar"
           }
          ],
          "barpolar": [
           {
            "marker": {
             "line": {
              "color": "#E5ECF6",
              "width": 0.5
             },
             "pattern": {
              "fillmode": "overlay",
              "size": 10,
              "solidity": 0.2
             }
            },
            "type": "barpolar"
           }
          ],
          "carpet": [
           {
            "aaxis": {
             "endlinecolor": "#2a3f5f",
             "gridcolor": "white",
             "linecolor": "white",
             "minorgridcolor": "white",
             "startlinecolor": "#2a3f5f"
            },
            "baxis": {
             "endlinecolor": "#2a3f5f",
             "gridcolor": "white",
             "linecolor": "white",
             "minorgridcolor": "white",
             "startlinecolor": "#2a3f5f"
            },
            "type": "carpet"
           }
          ],
          "choropleth": [
           {
            "colorbar": {
             "outlinewidth": 0,
             "ticks": ""
            },
            "type": "choropleth"
           }
          ],
          "contour": [
           {
            "colorbar": {
             "outlinewidth": 0,
             "ticks": ""
            },
            "colorscale": [
             [
              0,
              "#0d0887"
             ],
             [
              0.1111111111111111,
              "#46039f"
             ],
             [
              0.2222222222222222,
              "#7201a8"
             ],
             [
              0.3333333333333333,
              "#9c179e"
             ],
             [
              0.4444444444444444,
              "#bd3786"
             ],
             [
              0.5555555555555556,
              "#d8576b"
             ],
             [
              0.6666666666666666,
              "#ed7953"
             ],
             [
              0.7777777777777778,
              "#fb9f3a"
             ],
             [
              0.8888888888888888,
              "#fdca26"
             ],
             [
              1,
              "#f0f921"
             ]
            ],
            "type": "contour"
           }
          ],
          "contourcarpet": [
           {
            "colorbar": {
             "outlinewidth": 0,
             "ticks": ""
            },
            "type": "contourcarpet"
           }
          ],
          "heatmap": [
           {
            "colorbar": {
             "outlinewidth": 0,
             "ticks": ""
            },
            "colorscale": [
             [
              0,
              "#0d0887"
             ],
             [
              0.1111111111111111,
              "#46039f"
             ],
             [
              0.2222222222222222,
              "#7201a8"
             ],
             [
              0.3333333333333333,
              "#9c179e"
             ],
             [
              0.4444444444444444,
              "#bd3786"
             ],
             [
              0.5555555555555556,
              "#d8576b"
             ],
             [
              0.6666666666666666,
              "#ed7953"
             ],
             [
              0.7777777777777778,
              "#fb9f3a"
             ],
             [
              0.8888888888888888,
              "#fdca26"
             ],
             [
              1,
              "#f0f921"
             ]
            ],
            "type": "heatmap"
           }
          ],
          "heatmapgl": [
           {
            "colorbar": {
             "outlinewidth": 0,
             "ticks": ""
            },
            "colorscale": [
             [
              0,
              "#0d0887"
             ],
             [
              0.1111111111111111,
              "#46039f"
             ],
             [
              0.2222222222222222,
              "#7201a8"
             ],
             [
              0.3333333333333333,
              "#9c179e"
             ],
             [
              0.4444444444444444,
              "#bd3786"
             ],
             [
              0.5555555555555556,
              "#d8576b"
             ],
             [
              0.6666666666666666,
              "#ed7953"
             ],
             [
              0.7777777777777778,
              "#fb9f3a"
             ],
             [
              0.8888888888888888,
              "#fdca26"
             ],
             [
              1,
              "#f0f921"
             ]
            ],
            "type": "heatmapgl"
           }
          ],
          "histogram": [
           {
            "marker": {
             "pattern": {
              "fillmode": "overlay",
              "size": 10,
              "solidity": 0.2
             }
            },
            "type": "histogram"
           }
          ],
          "histogram2d": [
           {
            "colorbar": {
             "outlinewidth": 0,
             "ticks": ""
            },
            "colorscale": [
             [
              0,
              "#0d0887"
             ],
             [
              0.1111111111111111,
              "#46039f"
             ],
             [
              0.2222222222222222,
              "#7201a8"
             ],
             [
              0.3333333333333333,
              "#9c179e"
             ],
             [
              0.4444444444444444,
              "#bd3786"
             ],
             [
              0.5555555555555556,
              "#d8576b"
             ],
             [
              0.6666666666666666,
              "#ed7953"
             ],
             [
              0.7777777777777778,
              "#fb9f3a"
             ],
             [
              0.8888888888888888,
              "#fdca26"
             ],
             [
              1,
              "#f0f921"
             ]
            ],
            "type": "histogram2d"
           }
          ],
          "histogram2dcontour": [
           {
            "colorbar": {
             "outlinewidth": 0,
             "ticks": ""
            },
            "colorscale": [
             [
              0,
              "#0d0887"
             ],
             [
              0.1111111111111111,
              "#46039f"
             ],
             [
              0.2222222222222222,
              "#7201a8"
             ],
             [
              0.3333333333333333,
              "#9c179e"
             ],
             [
              0.4444444444444444,
              "#bd3786"
             ],
             [
              0.5555555555555556,
              "#d8576b"
             ],
             [
              0.6666666666666666,
              "#ed7953"
             ],
             [
              0.7777777777777778,
              "#fb9f3a"
             ],
             [
              0.8888888888888888,
              "#fdca26"
             ],
             [
              1,
              "#f0f921"
             ]
            ],
            "type": "histogram2dcontour"
           }
          ],
          "mesh3d": [
           {
            "colorbar": {
             "outlinewidth": 0,
             "ticks": ""
            },
            "type": "mesh3d"
           }
          ],
          "parcoords": [
           {
            "line": {
             "colorbar": {
              "outlinewidth": 0,
              "ticks": ""
             }
            },
            "type": "parcoords"
           }
          ],
          "pie": [
           {
            "automargin": true,
            "type": "pie"
           }
          ],
          "scatter": [
           {
            "marker": {
             "colorbar": {
              "outlinewidth": 0,
              "ticks": ""
             }
            },
            "type": "scatter"
           }
          ],
          "scatter3d": [
           {
            "line": {
             "colorbar": {
              "outlinewidth": 0,
              "ticks": ""
             }
            },
            "marker": {
             "colorbar": {
              "outlinewidth": 0,
              "ticks": ""
             }
            },
            "type": "scatter3d"
           }
          ],
          "scattercarpet": [
           {
            "marker": {
             "colorbar": {
              "outlinewidth": 0,
              "ticks": ""
             }
            },
            "type": "scattercarpet"
           }
          ],
          "scattergeo": [
           {
            "marker": {
             "colorbar": {
              "outlinewidth": 0,
              "ticks": ""
             }
            },
            "type": "scattergeo"
           }
          ],
          "scattergl": [
           {
            "marker": {
             "colorbar": {
              "outlinewidth": 0,
              "ticks": ""
             }
            },
            "type": "scattergl"
           }
          ],
          "scattermapbox": [
           {
            "marker": {
             "colorbar": {
              "outlinewidth": 0,
              "ticks": ""
             }
            },
            "type": "scattermapbox"
           }
          ],
          "scatterpolar": [
           {
            "marker": {
             "colorbar": {
              "outlinewidth": 0,
              "ticks": ""
             }
            },
            "type": "scatterpolar"
           }
          ],
          "scatterpolargl": [
           {
            "marker": {
             "colorbar": {
              "outlinewidth": 0,
              "ticks": ""
             }
            },
            "type": "scatterpolargl"
           }
          ],
          "scatterternary": [
           {
            "marker": {
             "colorbar": {
              "outlinewidth": 0,
              "ticks": ""
             }
            },
            "type": "scatterternary"
           }
          ],
          "surface": [
           {
            "colorbar": {
             "outlinewidth": 0,
             "ticks": ""
            },
            "colorscale": [
             [
              0,
              "#0d0887"
             ],
             [
              0.1111111111111111,
              "#46039f"
             ],
             [
              0.2222222222222222,
              "#7201a8"
             ],
             [
              0.3333333333333333,
              "#9c179e"
             ],
             [
              0.4444444444444444,
              "#bd3786"
             ],
             [
              0.5555555555555556,
              "#d8576b"
             ],
             [
              0.6666666666666666,
              "#ed7953"
             ],
             [
              0.7777777777777778,
              "#fb9f3a"
             ],
             [
              0.8888888888888888,
              "#fdca26"
             ],
             [
              1,
              "#f0f921"
             ]
            ],
            "type": "surface"
           }
          ],
          "table": [
           {
            "cells": {
             "fill": {
              "color": "#EBF0F8"
             },
             "line": {
              "color": "white"
             }
            },
            "header": {
             "fill": {
              "color": "#C8D4E3"
             },
             "line": {
              "color": "white"
             }
            },
            "type": "table"
           }
          ]
         },
         "layout": {
          "annotationdefaults": {
           "arrowcolor": "#2a3f5f",
           "arrowhead": 0,
           "arrowwidth": 1
          },
          "autotypenumbers": "strict",
          "coloraxis": {
           "colorbar": {
            "outlinewidth": 0,
            "ticks": ""
           }
          },
          "colorscale": {
           "diverging": [
            [
             0,
             "#8e0152"
            ],
            [
             0.1,
             "#c51b7d"
            ],
            [
             0.2,
             "#de77ae"
            ],
            [
             0.3,
             "#f1b6da"
            ],
            [
             0.4,
             "#fde0ef"
            ],
            [
             0.5,
             "#f7f7f7"
            ],
            [
             0.6,
             "#e6f5d0"
            ],
            [
             0.7,
             "#b8e186"
            ],
            [
             0.8,
             "#7fbc41"
            ],
            [
             0.9,
             "#4d9221"
            ],
            [
             1,
             "#276419"
            ]
           ],
           "sequential": [
            [
             0,
             "#0d0887"
            ],
            [
             0.1111111111111111,
             "#46039f"
            ],
            [
             0.2222222222222222,
             "#7201a8"
            ],
            [
             0.3333333333333333,
             "#9c179e"
            ],
            [
             0.4444444444444444,
             "#bd3786"
            ],
            [
             0.5555555555555556,
             "#d8576b"
            ],
            [
             0.6666666666666666,
             "#ed7953"
            ],
            [
             0.7777777777777778,
             "#fb9f3a"
            ],
            [
             0.8888888888888888,
             "#fdca26"
            ],
            [
             1,
             "#f0f921"
            ]
           ],
           "sequentialminus": [
            [
             0,
             "#0d0887"
            ],
            [
             0.1111111111111111,
             "#46039f"
            ],
            [
             0.2222222222222222,
             "#7201a8"
            ],
            [
             0.3333333333333333,
             "#9c179e"
            ],
            [
             0.4444444444444444,
             "#bd3786"
            ],
            [
             0.5555555555555556,
             "#d8576b"
            ],
            [
             0.6666666666666666,
             "#ed7953"
            ],
            [
             0.7777777777777778,
             "#fb9f3a"
            ],
            [
             0.8888888888888888,
             "#fdca26"
            ],
            [
             1,
             "#f0f921"
            ]
           ]
          },
          "colorway": [
           "#636efa",
           "#EF553B",
           "#00cc96",
           "#ab63fa",
           "#FFA15A",
           "#19d3f3",
           "#FF6692",
           "#B6E880",
           "#FF97FF",
           "#FECB52"
          ],
          "font": {
           "color": "#2a3f5f"
          },
          "geo": {
           "bgcolor": "white",
           "lakecolor": "white",
           "landcolor": "#E5ECF6",
           "showlakes": true,
           "showland": true,
           "subunitcolor": "white"
          },
          "hoverlabel": {
           "align": "left"
          },
          "hovermode": "closest",
          "mapbox": {
           "style": "light"
          },
          "paper_bgcolor": "white",
          "plot_bgcolor": "#E5ECF6",
          "polar": {
           "angularaxis": {
            "gridcolor": "white",
            "linecolor": "white",
            "ticks": ""
           },
           "bgcolor": "#E5ECF6",
           "radialaxis": {
            "gridcolor": "white",
            "linecolor": "white",
            "ticks": ""
           }
          },
          "scene": {
           "xaxis": {
            "backgroundcolor": "#E5ECF6",
            "gridcolor": "white",
            "gridwidth": 2,
            "linecolor": "white",
            "showbackground": true,
            "ticks": "",
            "zerolinecolor": "white"
           },
           "yaxis": {
            "backgroundcolor": "#E5ECF6",
            "gridcolor": "white",
            "gridwidth": 2,
            "linecolor": "white",
            "showbackground": true,
            "ticks": "",
            "zerolinecolor": "white"
           },
           "zaxis": {
            "backgroundcolor": "#E5ECF6",
            "gridcolor": "white",
            "gridwidth": 2,
            "linecolor": "white",
            "showbackground": true,
            "ticks": "",
            "zerolinecolor": "white"
           }
          },
          "shapedefaults": {
           "line": {
            "color": "#2a3f5f"
           }
          },
          "ternary": {
           "aaxis": {
            "gridcolor": "white",
            "linecolor": "white",
            "ticks": ""
           },
           "baxis": {
            "gridcolor": "white",
            "linecolor": "white",
            "ticks": ""
           },
           "bgcolor": "#E5ECF6",
           "caxis": {
            "gridcolor": "white",
            "linecolor": "white",
            "ticks": ""
           }
          },
          "title": {
           "x": 0.05
          },
          "xaxis": {
           "automargin": true,
           "gridcolor": "white",
           "linecolor": "white",
           "ticks": "",
           "title": {
            "standoff": 15
           },
           "zerolinecolor": "white",
           "zerolinewidth": 2
          },
          "yaxis": {
           "automargin": true,
           "gridcolor": "white",
           "linecolor": "white",
           "ticks": "",
           "title": {
            "standoff": 15
           },
           "zerolinecolor": "white",
           "zerolinewidth": 2
          }
         }
        },
        "title": {
         "text": "Stopwordsleri kaldırdıktan sonra en çok geçen 25 kelime"
        },
        "xaxis": {
         "anchor": "y",
         "domain": [
          0,
          1
         ],
         "title": {
          "text": "kelime"
         }
        },
        "yaxis": {
         "anchor": "x",
         "domain": [
          0,
          1
         ],
         "title": {
          "text": "geçiş frekansı"
         }
        }
       }
      },
      "text/html": [
       "<div>                            <div id=\"64ff1167-facb-4633-ae8b-45323ca15962\" class=\"plotly-graph-div\" style=\"height:400px; width:100%;\"></div>            <script type=\"text/javascript\">                require([\"plotly\"], function(Plotly) {                    window.PLOTLYENV=window.PLOTLYENV || {};                                    if (document.getElementById(\"64ff1167-facb-4633-ae8b-45323ca15962\")) {                    Plotly.newPlot(                        \"64ff1167-facb-4633-ae8b-45323ca15962\",                        [{\"alignmentgroup\":\"True\",\"hovertemplate\":\"kelime=%{x}<br>ge\\u00e7i\\u015f frekans\\u0131=%{marker.color}<extra></extra>\",\"legendgroup\":\"\",\"marker\":{\"color\":[612,325,78,77,73,52,50,45,43,40,40,39,39,38,35,35,32,29,28,26,25,25,24,24,24],\"coloraxis\":\"coloraxis\",\"pattern\":{\"shape\":\"\"}},\"name\":\"\",\"offsetgroup\":\"\",\"orientation\":\"v\",\"showlegend\":false,\"textposition\":\"auto\",\"x\":[\"education\",\"rt\",\"school\",\"amp\",\"learning\",\"nous\",\"teacher\",\"learn\",\"teaching\",\"teachers\",\"dans\",\"students\",\"pour\",\"job\",\"village\",\"\\u00e9cole\",\"work\",\"link\",\"edtech\",\"edutwitter\",\"news\",\"bio\",\"future\",\"click\",\"children\"],\"xaxis\":\"x\",\"y\":[612,325,78,77,73,52,50,45,43,40,40,39,39,38,35,35,32,29,28,26,25,25,24,24,24],\"yaxis\":\"y\",\"type\":\"bar\"}],                        {\"template\":{\"data\":{\"bar\":[{\"error_x\":{\"color\":\"#2a3f5f\"},\"error_y\":{\"color\":\"#2a3f5f\"},\"marker\":{\"line\":{\"color\":\"#E5ECF6\",\"width\":0.5},\"pattern\":{\"fillmode\":\"overlay\",\"size\":10,\"solidity\":0.2}},\"type\":\"bar\"}],\"barpolar\":[{\"marker\":{\"line\":{\"color\":\"#E5ECF6\",\"width\":0.5},\"pattern\":{\"fillmode\":\"overlay\",\"size\":10,\"solidity\":0.2}},\"type\":\"barpolar\"}],\"carpet\":[{\"aaxis\":{\"endlinecolor\":\"#2a3f5f\",\"gridcolor\":\"white\",\"linecolor\":\"white\",\"minorgridcolor\":\"white\",\"startlinecolor\":\"#2a3f5f\"},\"baxis\":{\"endlinecolor\":\"#2a3f5f\",\"gridcolor\":\"white\",\"linecolor\":\"white\",\"minorgridcolor\":\"white\",\"startlinecolor\":\"#2a3f5f\"},\"type\":\"carpet\"}],\"choropleth\":[{\"colorbar\":{\"outlinewidth\":0,\"ticks\":\"\"},\"type\":\"choropleth\"}],\"contour\":[{\"colorbar\":{\"outlinewidth\":0,\"ticks\":\"\"},\"colorscale\":[[0.0,\"#0d0887\"],[0.1111111111111111,\"#46039f\"],[0.2222222222222222,\"#7201a8\"],[0.3333333333333333,\"#9c179e\"],[0.4444444444444444,\"#bd3786\"],[0.5555555555555556,\"#d8576b\"],[0.6666666666666666,\"#ed7953\"],[0.7777777777777778,\"#fb9f3a\"],[0.8888888888888888,\"#fdca26\"],[1.0,\"#f0f921\"]],\"type\":\"contour\"}],\"contourcarpet\":[{\"colorbar\":{\"outlinewidth\":0,\"ticks\":\"\"},\"type\":\"contourcarpet\"}],\"heatmap\":[{\"colorbar\":{\"outlinewidth\":0,\"ticks\":\"\"},\"colorscale\":[[0.0,\"#0d0887\"],[0.1111111111111111,\"#46039f\"],[0.2222222222222222,\"#7201a8\"],[0.3333333333333333,\"#9c179e\"],[0.4444444444444444,\"#bd3786\"],[0.5555555555555556,\"#d8576b\"],[0.6666666666666666,\"#ed7953\"],[0.7777777777777778,\"#fb9f3a\"],[0.8888888888888888,\"#fdca26\"],[1.0,\"#f0f921\"]],\"type\":\"heatmap\"}],\"heatmapgl\":[{\"colorbar\":{\"outlinewidth\":0,\"ticks\":\"\"},\"colorscale\":[[0.0,\"#0d0887\"],[0.1111111111111111,\"#46039f\"],[0.2222222222222222,\"#7201a8\"],[0.3333333333333333,\"#9c179e\"],[0.4444444444444444,\"#bd3786\"],[0.5555555555555556,\"#d8576b\"],[0.6666666666666666,\"#ed7953\"],[0.7777777777777778,\"#fb9f3a\"],[0.8888888888888888,\"#fdca26\"],[1.0,\"#f0f921\"]],\"type\":\"heatmapgl\"}],\"histogram\":[{\"marker\":{\"pattern\":{\"fillmode\":\"overlay\",\"size\":10,\"solidity\":0.2}},\"type\":\"histogram\"}],\"histogram2d\":[{\"colorbar\":{\"outlinewidth\":0,\"ticks\":\"\"},\"colorscale\":[[0.0,\"#0d0887\"],[0.1111111111111111,\"#46039f\"],[0.2222222222222222,\"#7201a8\"],[0.3333333333333333,\"#9c179e\"],[0.4444444444444444,\"#bd3786\"],[0.5555555555555556,\"#d8576b\"],[0.6666666666666666,\"#ed7953\"],[0.7777777777777778,\"#fb9f3a\"],[0.8888888888888888,\"#fdca26\"],[1.0,\"#f0f921\"]],\"type\":\"histogram2d\"}],\"histogram2dcontour\":[{\"colorbar\":{\"outlinewidth\":0,\"ticks\":\"\"},\"colorscale\":[[0.0,\"#0d0887\"],[0.1111111111111111,\"#46039f\"],[0.2222222222222222,\"#7201a8\"],[0.3333333333333333,\"#9c179e\"],[0.4444444444444444,\"#bd3786\"],[0.5555555555555556,\"#d8576b\"],[0.6666666666666666,\"#ed7953\"],[0.7777777777777778,\"#fb9f3a\"],[0.8888888888888888,\"#fdca26\"],[1.0,\"#f0f921\"]],\"type\":\"histogram2dcontour\"}],\"mesh3d\":[{\"colorbar\":{\"outlinewidth\":0,\"ticks\":\"\"},\"type\":\"mesh3d\"}],\"parcoords\":[{\"line\":{\"colorbar\":{\"outlinewidth\":0,\"ticks\":\"\"}},\"type\":\"parcoords\"}],\"pie\":[{\"automargin\":true,\"type\":\"pie\"}],\"scatter\":[{\"marker\":{\"colorbar\":{\"outlinewidth\":0,\"ticks\":\"\"}},\"type\":\"scatter\"}],\"scatter3d\":[{\"line\":{\"colorbar\":{\"outlinewidth\":0,\"ticks\":\"\"}},\"marker\":{\"colorbar\":{\"outlinewidth\":0,\"ticks\":\"\"}},\"type\":\"scatter3d\"}],\"scattercarpet\":[{\"marker\":{\"colorbar\":{\"outlinewidth\":0,\"ticks\":\"\"}},\"type\":\"scattercarpet\"}],\"scattergeo\":[{\"marker\":{\"colorbar\":{\"outlinewidth\":0,\"ticks\":\"\"}},\"type\":\"scattergeo\"}],\"scattergl\":[{\"marker\":{\"colorbar\":{\"outlinewidth\":0,\"ticks\":\"\"}},\"type\":\"scattergl\"}],\"scattermapbox\":[{\"marker\":{\"colorbar\":{\"outlinewidth\":0,\"ticks\":\"\"}},\"type\":\"scattermapbox\"}],\"scatterpolar\":[{\"marker\":{\"colorbar\":{\"outlinewidth\":0,\"ticks\":\"\"}},\"type\":\"scatterpolar\"}],\"scatterpolargl\":[{\"marker\":{\"colorbar\":{\"outlinewidth\":0,\"ticks\":\"\"}},\"type\":\"scatterpolargl\"}],\"scatterternary\":[{\"marker\":{\"colorbar\":{\"outlinewidth\":0,\"ticks\":\"\"}},\"type\":\"scatterternary\"}],\"surface\":[{\"colorbar\":{\"outlinewidth\":0,\"ticks\":\"\"},\"colorscale\":[[0.0,\"#0d0887\"],[0.1111111111111111,\"#46039f\"],[0.2222222222222222,\"#7201a8\"],[0.3333333333333333,\"#9c179e\"],[0.4444444444444444,\"#bd3786\"],[0.5555555555555556,\"#d8576b\"],[0.6666666666666666,\"#ed7953\"],[0.7777777777777778,\"#fb9f3a\"],[0.8888888888888888,\"#fdca26\"],[1.0,\"#f0f921\"]],\"type\":\"surface\"}],\"table\":[{\"cells\":{\"fill\":{\"color\":\"#EBF0F8\"},\"line\":{\"color\":\"white\"}},\"header\":{\"fill\":{\"color\":\"#C8D4E3\"},\"line\":{\"color\":\"white\"}},\"type\":\"table\"}]},\"layout\":{\"annotationdefaults\":{\"arrowcolor\":\"#2a3f5f\",\"arrowhead\":0,\"arrowwidth\":1},\"autotypenumbers\":\"strict\",\"coloraxis\":{\"colorbar\":{\"outlinewidth\":0,\"ticks\":\"\"}},\"colorscale\":{\"diverging\":[[0,\"#8e0152\"],[0.1,\"#c51b7d\"],[0.2,\"#de77ae\"],[0.3,\"#f1b6da\"],[0.4,\"#fde0ef\"],[0.5,\"#f7f7f7\"],[0.6,\"#e6f5d0\"],[0.7,\"#b8e186\"],[0.8,\"#7fbc41\"],[0.9,\"#4d9221\"],[1,\"#276419\"]],\"sequential\":[[0.0,\"#0d0887\"],[0.1111111111111111,\"#46039f\"],[0.2222222222222222,\"#7201a8\"],[0.3333333333333333,\"#9c179e\"],[0.4444444444444444,\"#bd3786\"],[0.5555555555555556,\"#d8576b\"],[0.6666666666666666,\"#ed7953\"],[0.7777777777777778,\"#fb9f3a\"],[0.8888888888888888,\"#fdca26\"],[1.0,\"#f0f921\"]],\"sequentialminus\":[[0.0,\"#0d0887\"],[0.1111111111111111,\"#46039f\"],[0.2222222222222222,\"#7201a8\"],[0.3333333333333333,\"#9c179e\"],[0.4444444444444444,\"#bd3786\"],[0.5555555555555556,\"#d8576b\"],[0.6666666666666666,\"#ed7953\"],[0.7777777777777778,\"#fb9f3a\"],[0.8888888888888888,\"#fdca26\"],[1.0,\"#f0f921\"]]},\"colorway\":[\"#636efa\",\"#EF553B\",\"#00cc96\",\"#ab63fa\",\"#FFA15A\",\"#19d3f3\",\"#FF6692\",\"#B6E880\",\"#FF97FF\",\"#FECB52\"],\"font\":{\"color\":\"#2a3f5f\"},\"geo\":{\"bgcolor\":\"white\",\"lakecolor\":\"white\",\"landcolor\":\"#E5ECF6\",\"showlakes\":true,\"showland\":true,\"subunitcolor\":\"white\"},\"hoverlabel\":{\"align\":\"left\"},\"hovermode\":\"closest\",\"mapbox\":{\"style\":\"light\"},\"paper_bgcolor\":\"white\",\"plot_bgcolor\":\"#E5ECF6\",\"polar\":{\"angularaxis\":{\"gridcolor\":\"white\",\"linecolor\":\"white\",\"ticks\":\"\"},\"bgcolor\":\"#E5ECF6\",\"radialaxis\":{\"gridcolor\":\"white\",\"linecolor\":\"white\",\"ticks\":\"\"}},\"scene\":{\"xaxis\":{\"backgroundcolor\":\"#E5ECF6\",\"gridcolor\":\"white\",\"gridwidth\":2,\"linecolor\":\"white\",\"showbackground\":true,\"ticks\":\"\",\"zerolinecolor\":\"white\"},\"yaxis\":{\"backgroundcolor\":\"#E5ECF6\",\"gridcolor\":\"white\",\"gridwidth\":2,\"linecolor\":\"white\",\"showbackground\":true,\"ticks\":\"\",\"zerolinecolor\":\"white\"},\"zaxis\":{\"backgroundcolor\":\"#E5ECF6\",\"gridcolor\":\"white\",\"gridwidth\":2,\"linecolor\":\"white\",\"showbackground\":true,\"ticks\":\"\",\"zerolinecolor\":\"white\"}},\"shapedefaults\":{\"line\":{\"color\":\"#2a3f5f\"}},\"ternary\":{\"aaxis\":{\"gridcolor\":\"white\",\"linecolor\":\"white\",\"ticks\":\"\"},\"baxis\":{\"gridcolor\":\"white\",\"linecolor\":\"white\",\"ticks\":\"\"},\"bgcolor\":\"#E5ECF6\",\"caxis\":{\"gridcolor\":\"white\",\"linecolor\":\"white\",\"ticks\":\"\"}},\"title\":{\"x\":0.05},\"xaxis\":{\"automargin\":true,\"gridcolor\":\"white\",\"linecolor\":\"white\",\"ticks\":\"\",\"title\":{\"standoff\":15},\"zerolinecolor\":\"white\",\"zerolinewidth\":2},\"yaxis\":{\"automargin\":true,\"gridcolor\":\"white\",\"linecolor\":\"white\",\"ticks\":\"\",\"title\":{\"standoff\":15},\"zerolinecolor\":\"white\",\"zerolinewidth\":2}}},\"xaxis\":{\"anchor\":\"y\",\"domain\":[0.0,1.0],\"title\":{\"text\":\"kelime\"}},\"yaxis\":{\"anchor\":\"x\",\"domain\":[0.0,1.0],\"title\":{\"text\":\"ge\\u00e7i\\u015f frekans\\u0131\"}},\"coloraxis\":{\"colorbar\":{\"title\":{\"text\":\"ge\\u00e7i\\u015f frekans\\u0131\"}},\"colorscale\":[[0.0,\"#0d0887\"],[0.1111111111111111,\"#46039f\"],[0.2222222222222222,\"#7201a8\"],[0.3333333333333333,\"#9c179e\"],[0.4444444444444444,\"#bd3786\"],[0.5555555555555556,\"#d8576b\"],[0.6666666666666666,\"#ed7953\"],[0.7777777777777778,\"#fb9f3a\"],[0.8888888888888888,\"#fdca26\"],[1.0,\"#f0f921\"]]},\"legend\":{\"tracegroupgap\":0},\"title\":{\"text\":\"Stopwordsleri kald\\u0131rd\\u0131ktan sonra en \\u00e7ok ge\\u00e7en 25 kelime\"},\"barmode\":\"relative\",\"height\":400},                        {\"responsive\": true}                    ).then(function(){\n",
       "                            \n",
       "var gd = document.getElementById('64ff1167-facb-4633-ae8b-45323ca15962');\n",
       "var x = new MutationObserver(function (mutations, observer) {{\n",
       "        var display = window.getComputedStyle(gd).display;\n",
       "        if (!display || display === 'none') {{\n",
       "            console.log([gd, 'removed!']);\n",
       "            Plotly.purge(gd);\n",
       "            observer.disconnect();\n",
       "        }}\n",
       "}});\n",
       "\n",
       "// Listen for the removal of the full notebook cells\n",
       "var notebookContainer = gd.closest('#notebook-container');\n",
       "if (notebookContainer) {{\n",
       "    x.observe(notebookContainer, {childList: true});\n",
       "}}\n",
       "\n",
       "// Listen for the clearing of the current output cell\n",
       "var outputEl = gd.closest('.output');\n",
       "if (outputEl) {{\n",
       "    x.observe(outputEl, {childList: true});\n",
       "}}\n",
       "\n",
       "                        })                };                });            </script>        </div>"
      ]
     },
     "metadata": {},
     "output_type": "display_data"
    }
   ],
   "source": [
    "import nltk\n",
    "from nltk.corpus import stopwords\n",
    "\n",
    "stop = stopwords.words('English')\n",
    "with open('stop_words_english.txt', encoding='utf-8') as file:  \n",
    "    stw = file.read() \n",
    "stw = stw.split()\n",
    "stw = [s.lower() for s in stw] \n",
    "stop += stw\n",
    "def get_top_n_words(corpus, n=None):\n",
    "    vec = CountVectorizer(stop_words = stop).fit(corpus)\n",
    "    bag_of_words = vec.transform(corpus)\n",
    "    sum_words = bag_of_words.sum(axis=0) \n",
    "    words_freq = [(word, sum_words[0, idx]) for word, idx in vec.vocabulary_.items()]\n",
    "    words_freq =sorted(words_freq, key = lambda x: x[1], reverse=True)\n",
    "    return words_freq[:n]\n",
    "common_words = get_top_n_words(mydata[\"text\"], 25)\n",
    "df2 = pd.DataFrame(common_words, columns = ['kelime' , 'geçiş frekansı'])\n",
    "fig = px.bar(df2, x='kelime', y='geçiş frekansı',\n",
    "             hover_data=['kelime', 'geçiş frekansı'], color='geçiş frekansı',\n",
    "             title='Stopwordsleri kaldırdıktan sonra en çok geçen 25 kelime',\n",
    "             height=400)\n",
    "fig.show()"
   ]
  },
  {
   "cell_type": "code",
   "execution_count": 29,
   "id": "ff10da2e",
   "metadata": {},
   "outputs": [
    {
     "data": {
      "application/vnd.plotly.v1+json": {
       "config": {
        "plotlyServerURL": "https://plot.ly"
       },
       "data": [
        {
         "alignmentgroup": "True",
         "hovertemplate": "kelime=%{x}<br>geçiş frekansı=%{marker.color}<extra></extra>",
         "legendgroup": "",
         "marker": {
          "color": [
           25,
           20,
           18,
           17,
           17,
           17,
           17,
           17,
           17,
           17,
           17,
           17,
           17,
           17,
           17,
           17,
           17,
           17,
           17,
           17,
           17,
           17,
           17,
           17,
           17
          ],
          "coloraxis": "coloraxis",
          "pattern": {
           "shape": ""
          }
         },
         "name": "",
         "offsetgroup": "",
         "orientation": "v",
         "showlegend": false,
         "textposition": "auto",
         "type": "bar",
         "x": [
          "link bio",
          "rt tcea",
          "edutwitter education",
          "tcea practice",
          "practice active",
          "active listening",
          "listening h1c4jm6hsd",
          "h1c4jm6hsd diben",
          "diben skillbuilding",
          "skillbuilding edutwitter",
          "education kjbkrgkdjt",
          "rt virginiebeck3",
          "virginiebeck3 porte",
          "porte cassée",
          "cassée dans",
          "dans village",
          "village alsacien",
          "alsacien si",
          "si école",
          "école ne",
          "ne sert",
          "sert rien",
          "rien pour",
          "pour certains",
          "certains nous"
         ],
         "xaxis": "x",
         "y": [
          25,
          20,
          18,
          17,
          17,
          17,
          17,
          17,
          17,
          17,
          17,
          17,
          17,
          17,
          17,
          17,
          17,
          17,
          17,
          17,
          17,
          17,
          17,
          17,
          17
         ],
         "yaxis": "y"
        }
       ],
       "layout": {
        "barmode": "relative",
        "coloraxis": {
         "colorbar": {
          "title": {
           "text": "geçiş frekansı"
          }
         },
         "colorscale": [
          [
           0,
           "#0d0887"
          ],
          [
           0.1111111111111111,
           "#46039f"
          ],
          [
           0.2222222222222222,
           "#7201a8"
          ],
          [
           0.3333333333333333,
           "#9c179e"
          ],
          [
           0.4444444444444444,
           "#bd3786"
          ],
          [
           0.5555555555555556,
           "#d8576b"
          ],
          [
           0.6666666666666666,
           "#ed7953"
          ],
          [
           0.7777777777777778,
           "#fb9f3a"
          ],
          [
           0.8888888888888888,
           "#fdca26"
          ],
          [
           1,
           "#f0f921"
          ]
         ]
        },
        "height": 400,
        "legend": {
         "tracegroupgap": 0
        },
        "template": {
         "data": {
          "bar": [
           {
            "error_x": {
             "color": "#2a3f5f"
            },
            "error_y": {
             "color": "#2a3f5f"
            },
            "marker": {
             "line": {
              "color": "#E5ECF6",
              "width": 0.5
             },
             "pattern": {
              "fillmode": "overlay",
              "size": 10,
              "solidity": 0.2
             }
            },
            "type": "bar"
           }
          ],
          "barpolar": [
           {
            "marker": {
             "line": {
              "color": "#E5ECF6",
              "width": 0.5
             },
             "pattern": {
              "fillmode": "overlay",
              "size": 10,
              "solidity": 0.2
             }
            },
            "type": "barpolar"
           }
          ],
          "carpet": [
           {
            "aaxis": {
             "endlinecolor": "#2a3f5f",
             "gridcolor": "white",
             "linecolor": "white",
             "minorgridcolor": "white",
             "startlinecolor": "#2a3f5f"
            },
            "baxis": {
             "endlinecolor": "#2a3f5f",
             "gridcolor": "white",
             "linecolor": "white",
             "minorgridcolor": "white",
             "startlinecolor": "#2a3f5f"
            },
            "type": "carpet"
           }
          ],
          "choropleth": [
           {
            "colorbar": {
             "outlinewidth": 0,
             "ticks": ""
            },
            "type": "choropleth"
           }
          ],
          "contour": [
           {
            "colorbar": {
             "outlinewidth": 0,
             "ticks": ""
            },
            "colorscale": [
             [
              0,
              "#0d0887"
             ],
             [
              0.1111111111111111,
              "#46039f"
             ],
             [
              0.2222222222222222,
              "#7201a8"
             ],
             [
              0.3333333333333333,
              "#9c179e"
             ],
             [
              0.4444444444444444,
              "#bd3786"
             ],
             [
              0.5555555555555556,
              "#d8576b"
             ],
             [
              0.6666666666666666,
              "#ed7953"
             ],
             [
              0.7777777777777778,
              "#fb9f3a"
             ],
             [
              0.8888888888888888,
              "#fdca26"
             ],
             [
              1,
              "#f0f921"
             ]
            ],
            "type": "contour"
           }
          ],
          "contourcarpet": [
           {
            "colorbar": {
             "outlinewidth": 0,
             "ticks": ""
            },
            "type": "contourcarpet"
           }
          ],
          "heatmap": [
           {
            "colorbar": {
             "outlinewidth": 0,
             "ticks": ""
            },
            "colorscale": [
             [
              0,
              "#0d0887"
             ],
             [
              0.1111111111111111,
              "#46039f"
             ],
             [
              0.2222222222222222,
              "#7201a8"
             ],
             [
              0.3333333333333333,
              "#9c179e"
             ],
             [
              0.4444444444444444,
              "#bd3786"
             ],
             [
              0.5555555555555556,
              "#d8576b"
             ],
             [
              0.6666666666666666,
              "#ed7953"
             ],
             [
              0.7777777777777778,
              "#fb9f3a"
             ],
             [
              0.8888888888888888,
              "#fdca26"
             ],
             [
              1,
              "#f0f921"
             ]
            ],
            "type": "heatmap"
           }
          ],
          "heatmapgl": [
           {
            "colorbar": {
             "outlinewidth": 0,
             "ticks": ""
            },
            "colorscale": [
             [
              0,
              "#0d0887"
             ],
             [
              0.1111111111111111,
              "#46039f"
             ],
             [
              0.2222222222222222,
              "#7201a8"
             ],
             [
              0.3333333333333333,
              "#9c179e"
             ],
             [
              0.4444444444444444,
              "#bd3786"
             ],
             [
              0.5555555555555556,
              "#d8576b"
             ],
             [
              0.6666666666666666,
              "#ed7953"
             ],
             [
              0.7777777777777778,
              "#fb9f3a"
             ],
             [
              0.8888888888888888,
              "#fdca26"
             ],
             [
              1,
              "#f0f921"
             ]
            ],
            "type": "heatmapgl"
           }
          ],
          "histogram": [
           {
            "marker": {
             "pattern": {
              "fillmode": "overlay",
              "size": 10,
              "solidity": 0.2
             }
            },
            "type": "histogram"
           }
          ],
          "histogram2d": [
           {
            "colorbar": {
             "outlinewidth": 0,
             "ticks": ""
            },
            "colorscale": [
             [
              0,
              "#0d0887"
             ],
             [
              0.1111111111111111,
              "#46039f"
             ],
             [
              0.2222222222222222,
              "#7201a8"
             ],
             [
              0.3333333333333333,
              "#9c179e"
             ],
             [
              0.4444444444444444,
              "#bd3786"
             ],
             [
              0.5555555555555556,
              "#d8576b"
             ],
             [
              0.6666666666666666,
              "#ed7953"
             ],
             [
              0.7777777777777778,
              "#fb9f3a"
             ],
             [
              0.8888888888888888,
              "#fdca26"
             ],
             [
              1,
              "#f0f921"
             ]
            ],
            "type": "histogram2d"
           }
          ],
          "histogram2dcontour": [
           {
            "colorbar": {
             "outlinewidth": 0,
             "ticks": ""
            },
            "colorscale": [
             [
              0,
              "#0d0887"
             ],
             [
              0.1111111111111111,
              "#46039f"
             ],
             [
              0.2222222222222222,
              "#7201a8"
             ],
             [
              0.3333333333333333,
              "#9c179e"
             ],
             [
              0.4444444444444444,
              "#bd3786"
             ],
             [
              0.5555555555555556,
              "#d8576b"
             ],
             [
              0.6666666666666666,
              "#ed7953"
             ],
             [
              0.7777777777777778,
              "#fb9f3a"
             ],
             [
              0.8888888888888888,
              "#fdca26"
             ],
             [
              1,
              "#f0f921"
             ]
            ],
            "type": "histogram2dcontour"
           }
          ],
          "mesh3d": [
           {
            "colorbar": {
             "outlinewidth": 0,
             "ticks": ""
            },
            "type": "mesh3d"
           }
          ],
          "parcoords": [
           {
            "line": {
             "colorbar": {
              "outlinewidth": 0,
              "ticks": ""
             }
            },
            "type": "parcoords"
           }
          ],
          "pie": [
           {
            "automargin": true,
            "type": "pie"
           }
          ],
          "scatter": [
           {
            "marker": {
             "colorbar": {
              "outlinewidth": 0,
              "ticks": ""
             }
            },
            "type": "scatter"
           }
          ],
          "scatter3d": [
           {
            "line": {
             "colorbar": {
              "outlinewidth": 0,
              "ticks": ""
             }
            },
            "marker": {
             "colorbar": {
              "outlinewidth": 0,
              "ticks": ""
             }
            },
            "type": "scatter3d"
           }
          ],
          "scattercarpet": [
           {
            "marker": {
             "colorbar": {
              "outlinewidth": 0,
              "ticks": ""
             }
            },
            "type": "scattercarpet"
           }
          ],
          "scattergeo": [
           {
            "marker": {
             "colorbar": {
              "outlinewidth": 0,
              "ticks": ""
             }
            },
            "type": "scattergeo"
           }
          ],
          "scattergl": [
           {
            "marker": {
             "colorbar": {
              "outlinewidth": 0,
              "ticks": ""
             }
            },
            "type": "scattergl"
           }
          ],
          "scattermapbox": [
           {
            "marker": {
             "colorbar": {
              "outlinewidth": 0,
              "ticks": ""
             }
            },
            "type": "scattermapbox"
           }
          ],
          "scatterpolar": [
           {
            "marker": {
             "colorbar": {
              "outlinewidth": 0,
              "ticks": ""
             }
            },
            "type": "scatterpolar"
           }
          ],
          "scatterpolargl": [
           {
            "marker": {
             "colorbar": {
              "outlinewidth": 0,
              "ticks": ""
             }
            },
            "type": "scatterpolargl"
           }
          ],
          "scatterternary": [
           {
            "marker": {
             "colorbar": {
              "outlinewidth": 0,
              "ticks": ""
             }
            },
            "type": "scatterternary"
           }
          ],
          "surface": [
           {
            "colorbar": {
             "outlinewidth": 0,
             "ticks": ""
            },
            "colorscale": [
             [
              0,
              "#0d0887"
             ],
             [
              0.1111111111111111,
              "#46039f"
             ],
             [
              0.2222222222222222,
              "#7201a8"
             ],
             [
              0.3333333333333333,
              "#9c179e"
             ],
             [
              0.4444444444444444,
              "#bd3786"
             ],
             [
              0.5555555555555556,
              "#d8576b"
             ],
             [
              0.6666666666666666,
              "#ed7953"
             ],
             [
              0.7777777777777778,
              "#fb9f3a"
             ],
             [
              0.8888888888888888,
              "#fdca26"
             ],
             [
              1,
              "#f0f921"
             ]
            ],
            "type": "surface"
           }
          ],
          "table": [
           {
            "cells": {
             "fill": {
              "color": "#EBF0F8"
             },
             "line": {
              "color": "white"
             }
            },
            "header": {
             "fill": {
              "color": "#C8D4E3"
             },
             "line": {
              "color": "white"
             }
            },
            "type": "table"
           }
          ]
         },
         "layout": {
          "annotationdefaults": {
           "arrowcolor": "#2a3f5f",
           "arrowhead": 0,
           "arrowwidth": 1
          },
          "autotypenumbers": "strict",
          "coloraxis": {
           "colorbar": {
            "outlinewidth": 0,
            "ticks": ""
           }
          },
          "colorscale": {
           "diverging": [
            [
             0,
             "#8e0152"
            ],
            [
             0.1,
             "#c51b7d"
            ],
            [
             0.2,
             "#de77ae"
            ],
            [
             0.3,
             "#f1b6da"
            ],
            [
             0.4,
             "#fde0ef"
            ],
            [
             0.5,
             "#f7f7f7"
            ],
            [
             0.6,
             "#e6f5d0"
            ],
            [
             0.7,
             "#b8e186"
            ],
            [
             0.8,
             "#7fbc41"
            ],
            [
             0.9,
             "#4d9221"
            ],
            [
             1,
             "#276419"
            ]
           ],
           "sequential": [
            [
             0,
             "#0d0887"
            ],
            [
             0.1111111111111111,
             "#46039f"
            ],
            [
             0.2222222222222222,
             "#7201a8"
            ],
            [
             0.3333333333333333,
             "#9c179e"
            ],
            [
             0.4444444444444444,
             "#bd3786"
            ],
            [
             0.5555555555555556,
             "#d8576b"
            ],
            [
             0.6666666666666666,
             "#ed7953"
            ],
            [
             0.7777777777777778,
             "#fb9f3a"
            ],
            [
             0.8888888888888888,
             "#fdca26"
            ],
            [
             1,
             "#f0f921"
            ]
           ],
           "sequentialminus": [
            [
             0,
             "#0d0887"
            ],
            [
             0.1111111111111111,
             "#46039f"
            ],
            [
             0.2222222222222222,
             "#7201a8"
            ],
            [
             0.3333333333333333,
             "#9c179e"
            ],
            [
             0.4444444444444444,
             "#bd3786"
            ],
            [
             0.5555555555555556,
             "#d8576b"
            ],
            [
             0.6666666666666666,
             "#ed7953"
            ],
            [
             0.7777777777777778,
             "#fb9f3a"
            ],
            [
             0.8888888888888888,
             "#fdca26"
            ],
            [
             1,
             "#f0f921"
            ]
           ]
          },
          "colorway": [
           "#636efa",
           "#EF553B",
           "#00cc96",
           "#ab63fa",
           "#FFA15A",
           "#19d3f3",
           "#FF6692",
           "#B6E880",
           "#FF97FF",
           "#FECB52"
          ],
          "font": {
           "color": "#2a3f5f"
          },
          "geo": {
           "bgcolor": "white",
           "lakecolor": "white",
           "landcolor": "#E5ECF6",
           "showlakes": true,
           "showland": true,
           "subunitcolor": "white"
          },
          "hoverlabel": {
           "align": "left"
          },
          "hovermode": "closest",
          "mapbox": {
           "style": "light"
          },
          "paper_bgcolor": "white",
          "plot_bgcolor": "#E5ECF6",
          "polar": {
           "angularaxis": {
            "gridcolor": "white",
            "linecolor": "white",
            "ticks": ""
           },
           "bgcolor": "#E5ECF6",
           "radialaxis": {
            "gridcolor": "white",
            "linecolor": "white",
            "ticks": ""
           }
          },
          "scene": {
           "xaxis": {
            "backgroundcolor": "#E5ECF6",
            "gridcolor": "white",
            "gridwidth": 2,
            "linecolor": "white",
            "showbackground": true,
            "ticks": "",
            "zerolinecolor": "white"
           },
           "yaxis": {
            "backgroundcolor": "#E5ECF6",
            "gridcolor": "white",
            "gridwidth": 2,
            "linecolor": "white",
            "showbackground": true,
            "ticks": "",
            "zerolinecolor": "white"
           },
           "zaxis": {
            "backgroundcolor": "#E5ECF6",
            "gridcolor": "white",
            "gridwidth": 2,
            "linecolor": "white",
            "showbackground": true,
            "ticks": "",
            "zerolinecolor": "white"
           }
          },
          "shapedefaults": {
           "line": {
            "color": "#2a3f5f"
           }
          },
          "ternary": {
           "aaxis": {
            "gridcolor": "white",
            "linecolor": "white",
            "ticks": ""
           },
           "baxis": {
            "gridcolor": "white",
            "linecolor": "white",
            "ticks": ""
           },
           "bgcolor": "#E5ECF6",
           "caxis": {
            "gridcolor": "white",
            "linecolor": "white",
            "ticks": ""
           }
          },
          "title": {
           "x": 0.05
          },
          "xaxis": {
           "automargin": true,
           "gridcolor": "white",
           "linecolor": "white",
           "ticks": "",
           "title": {
            "standoff": 15
           },
           "zerolinecolor": "white",
           "zerolinewidth": 2
          },
          "yaxis": {
           "automargin": true,
           "gridcolor": "white",
           "linecolor": "white",
           "ticks": "",
           "title": {
            "standoff": 15
           },
           "zerolinecolor": "white",
           "zerolinewidth": 2
          }
         }
        },
        "title": {
         "text": "Stopwordsleri kaldırdıktan sonra en çok yan yana gelen ikili kelimeler"
        },
        "xaxis": {
         "anchor": "y",
         "domain": [
          0,
          1
         ],
         "title": {
          "text": "kelime"
         }
        },
        "yaxis": {
         "anchor": "x",
         "domain": [
          0,
          1
         ],
         "title": {
          "text": "geçiş frekansı"
         }
        }
       }
      },
      "text/html": [
       "<div>                            <div id=\"439e4ed7-ac53-434b-921a-e3e54f2ae260\" class=\"plotly-graph-div\" style=\"height:400px; width:100%;\"></div>            <script type=\"text/javascript\">                require([\"plotly\"], function(Plotly) {                    window.PLOTLYENV=window.PLOTLYENV || {};                                    if (document.getElementById(\"439e4ed7-ac53-434b-921a-e3e54f2ae260\")) {                    Plotly.newPlot(                        \"439e4ed7-ac53-434b-921a-e3e54f2ae260\",                        [{\"alignmentgroup\":\"True\",\"hovertemplate\":\"kelime=%{x}<br>ge\\u00e7i\\u015f frekans\\u0131=%{marker.color}<extra></extra>\",\"legendgroup\":\"\",\"marker\":{\"color\":[25,20,18,17,17,17,17,17,17,17,17,17,17,17,17,17,17,17,17,17,17,17,17,17,17],\"coloraxis\":\"coloraxis\",\"pattern\":{\"shape\":\"\"}},\"name\":\"\",\"offsetgroup\":\"\",\"orientation\":\"v\",\"showlegend\":false,\"textposition\":\"auto\",\"x\":[\"link bio\",\"rt tcea\",\"edutwitter education\",\"tcea practice\",\"practice active\",\"active listening\",\"listening h1c4jm6hsd\",\"h1c4jm6hsd diben\",\"diben skillbuilding\",\"skillbuilding edutwitter\",\"education kjbkrgkdjt\",\"rt virginiebeck3\",\"virginiebeck3 porte\",\"porte cass\\u00e9e\",\"cass\\u00e9e dans\",\"dans village\",\"village alsacien\",\"alsacien si\",\"si \\u00e9cole\",\"\\u00e9cole ne\",\"ne sert\",\"sert rien\",\"rien pour\",\"pour certains\",\"certains nous\"],\"xaxis\":\"x\",\"y\":[25,20,18,17,17,17,17,17,17,17,17,17,17,17,17,17,17,17,17,17,17,17,17,17,17],\"yaxis\":\"y\",\"type\":\"bar\"}],                        {\"template\":{\"data\":{\"bar\":[{\"error_x\":{\"color\":\"#2a3f5f\"},\"error_y\":{\"color\":\"#2a3f5f\"},\"marker\":{\"line\":{\"color\":\"#E5ECF6\",\"width\":0.5},\"pattern\":{\"fillmode\":\"overlay\",\"size\":10,\"solidity\":0.2}},\"type\":\"bar\"}],\"barpolar\":[{\"marker\":{\"line\":{\"color\":\"#E5ECF6\",\"width\":0.5},\"pattern\":{\"fillmode\":\"overlay\",\"size\":10,\"solidity\":0.2}},\"type\":\"barpolar\"}],\"carpet\":[{\"aaxis\":{\"endlinecolor\":\"#2a3f5f\",\"gridcolor\":\"white\",\"linecolor\":\"white\",\"minorgridcolor\":\"white\",\"startlinecolor\":\"#2a3f5f\"},\"baxis\":{\"endlinecolor\":\"#2a3f5f\",\"gridcolor\":\"white\",\"linecolor\":\"white\",\"minorgridcolor\":\"white\",\"startlinecolor\":\"#2a3f5f\"},\"type\":\"carpet\"}],\"choropleth\":[{\"colorbar\":{\"outlinewidth\":0,\"ticks\":\"\"},\"type\":\"choropleth\"}],\"contour\":[{\"colorbar\":{\"outlinewidth\":0,\"ticks\":\"\"},\"colorscale\":[[0.0,\"#0d0887\"],[0.1111111111111111,\"#46039f\"],[0.2222222222222222,\"#7201a8\"],[0.3333333333333333,\"#9c179e\"],[0.4444444444444444,\"#bd3786\"],[0.5555555555555556,\"#d8576b\"],[0.6666666666666666,\"#ed7953\"],[0.7777777777777778,\"#fb9f3a\"],[0.8888888888888888,\"#fdca26\"],[1.0,\"#f0f921\"]],\"type\":\"contour\"}],\"contourcarpet\":[{\"colorbar\":{\"outlinewidth\":0,\"ticks\":\"\"},\"type\":\"contourcarpet\"}],\"heatmap\":[{\"colorbar\":{\"outlinewidth\":0,\"ticks\":\"\"},\"colorscale\":[[0.0,\"#0d0887\"],[0.1111111111111111,\"#46039f\"],[0.2222222222222222,\"#7201a8\"],[0.3333333333333333,\"#9c179e\"],[0.4444444444444444,\"#bd3786\"],[0.5555555555555556,\"#d8576b\"],[0.6666666666666666,\"#ed7953\"],[0.7777777777777778,\"#fb9f3a\"],[0.8888888888888888,\"#fdca26\"],[1.0,\"#f0f921\"]],\"type\":\"heatmap\"}],\"heatmapgl\":[{\"colorbar\":{\"outlinewidth\":0,\"ticks\":\"\"},\"colorscale\":[[0.0,\"#0d0887\"],[0.1111111111111111,\"#46039f\"],[0.2222222222222222,\"#7201a8\"],[0.3333333333333333,\"#9c179e\"],[0.4444444444444444,\"#bd3786\"],[0.5555555555555556,\"#d8576b\"],[0.6666666666666666,\"#ed7953\"],[0.7777777777777778,\"#fb9f3a\"],[0.8888888888888888,\"#fdca26\"],[1.0,\"#f0f921\"]],\"type\":\"heatmapgl\"}],\"histogram\":[{\"marker\":{\"pattern\":{\"fillmode\":\"overlay\",\"size\":10,\"solidity\":0.2}},\"type\":\"histogram\"}],\"histogram2d\":[{\"colorbar\":{\"outlinewidth\":0,\"ticks\":\"\"},\"colorscale\":[[0.0,\"#0d0887\"],[0.1111111111111111,\"#46039f\"],[0.2222222222222222,\"#7201a8\"],[0.3333333333333333,\"#9c179e\"],[0.4444444444444444,\"#bd3786\"],[0.5555555555555556,\"#d8576b\"],[0.6666666666666666,\"#ed7953\"],[0.7777777777777778,\"#fb9f3a\"],[0.8888888888888888,\"#fdca26\"],[1.0,\"#f0f921\"]],\"type\":\"histogram2d\"}],\"histogram2dcontour\":[{\"colorbar\":{\"outlinewidth\":0,\"ticks\":\"\"},\"colorscale\":[[0.0,\"#0d0887\"],[0.1111111111111111,\"#46039f\"],[0.2222222222222222,\"#7201a8\"],[0.3333333333333333,\"#9c179e\"],[0.4444444444444444,\"#bd3786\"],[0.5555555555555556,\"#d8576b\"],[0.6666666666666666,\"#ed7953\"],[0.7777777777777778,\"#fb9f3a\"],[0.8888888888888888,\"#fdca26\"],[1.0,\"#f0f921\"]],\"type\":\"histogram2dcontour\"}],\"mesh3d\":[{\"colorbar\":{\"outlinewidth\":0,\"ticks\":\"\"},\"type\":\"mesh3d\"}],\"parcoords\":[{\"line\":{\"colorbar\":{\"outlinewidth\":0,\"ticks\":\"\"}},\"type\":\"parcoords\"}],\"pie\":[{\"automargin\":true,\"type\":\"pie\"}],\"scatter\":[{\"marker\":{\"colorbar\":{\"outlinewidth\":0,\"ticks\":\"\"}},\"type\":\"scatter\"}],\"scatter3d\":[{\"line\":{\"colorbar\":{\"outlinewidth\":0,\"ticks\":\"\"}},\"marker\":{\"colorbar\":{\"outlinewidth\":0,\"ticks\":\"\"}},\"type\":\"scatter3d\"}],\"scattercarpet\":[{\"marker\":{\"colorbar\":{\"outlinewidth\":0,\"ticks\":\"\"}},\"type\":\"scattercarpet\"}],\"scattergeo\":[{\"marker\":{\"colorbar\":{\"outlinewidth\":0,\"ticks\":\"\"}},\"type\":\"scattergeo\"}],\"scattergl\":[{\"marker\":{\"colorbar\":{\"outlinewidth\":0,\"ticks\":\"\"}},\"type\":\"scattergl\"}],\"scattermapbox\":[{\"marker\":{\"colorbar\":{\"outlinewidth\":0,\"ticks\":\"\"}},\"type\":\"scattermapbox\"}],\"scatterpolar\":[{\"marker\":{\"colorbar\":{\"outlinewidth\":0,\"ticks\":\"\"}},\"type\":\"scatterpolar\"}],\"scatterpolargl\":[{\"marker\":{\"colorbar\":{\"outlinewidth\":0,\"ticks\":\"\"}},\"type\":\"scatterpolargl\"}],\"scatterternary\":[{\"marker\":{\"colorbar\":{\"outlinewidth\":0,\"ticks\":\"\"}},\"type\":\"scatterternary\"}],\"surface\":[{\"colorbar\":{\"outlinewidth\":0,\"ticks\":\"\"},\"colorscale\":[[0.0,\"#0d0887\"],[0.1111111111111111,\"#46039f\"],[0.2222222222222222,\"#7201a8\"],[0.3333333333333333,\"#9c179e\"],[0.4444444444444444,\"#bd3786\"],[0.5555555555555556,\"#d8576b\"],[0.6666666666666666,\"#ed7953\"],[0.7777777777777778,\"#fb9f3a\"],[0.8888888888888888,\"#fdca26\"],[1.0,\"#f0f921\"]],\"type\":\"surface\"}],\"table\":[{\"cells\":{\"fill\":{\"color\":\"#EBF0F8\"},\"line\":{\"color\":\"white\"}},\"header\":{\"fill\":{\"color\":\"#C8D4E3\"},\"line\":{\"color\":\"white\"}},\"type\":\"table\"}]},\"layout\":{\"annotationdefaults\":{\"arrowcolor\":\"#2a3f5f\",\"arrowhead\":0,\"arrowwidth\":1},\"autotypenumbers\":\"strict\",\"coloraxis\":{\"colorbar\":{\"outlinewidth\":0,\"ticks\":\"\"}},\"colorscale\":{\"diverging\":[[0,\"#8e0152\"],[0.1,\"#c51b7d\"],[0.2,\"#de77ae\"],[0.3,\"#f1b6da\"],[0.4,\"#fde0ef\"],[0.5,\"#f7f7f7\"],[0.6,\"#e6f5d0\"],[0.7,\"#b8e186\"],[0.8,\"#7fbc41\"],[0.9,\"#4d9221\"],[1,\"#276419\"]],\"sequential\":[[0.0,\"#0d0887\"],[0.1111111111111111,\"#46039f\"],[0.2222222222222222,\"#7201a8\"],[0.3333333333333333,\"#9c179e\"],[0.4444444444444444,\"#bd3786\"],[0.5555555555555556,\"#d8576b\"],[0.6666666666666666,\"#ed7953\"],[0.7777777777777778,\"#fb9f3a\"],[0.8888888888888888,\"#fdca26\"],[1.0,\"#f0f921\"]],\"sequentialminus\":[[0.0,\"#0d0887\"],[0.1111111111111111,\"#46039f\"],[0.2222222222222222,\"#7201a8\"],[0.3333333333333333,\"#9c179e\"],[0.4444444444444444,\"#bd3786\"],[0.5555555555555556,\"#d8576b\"],[0.6666666666666666,\"#ed7953\"],[0.7777777777777778,\"#fb9f3a\"],[0.8888888888888888,\"#fdca26\"],[1.0,\"#f0f921\"]]},\"colorway\":[\"#636efa\",\"#EF553B\",\"#00cc96\",\"#ab63fa\",\"#FFA15A\",\"#19d3f3\",\"#FF6692\",\"#B6E880\",\"#FF97FF\",\"#FECB52\"],\"font\":{\"color\":\"#2a3f5f\"},\"geo\":{\"bgcolor\":\"white\",\"lakecolor\":\"white\",\"landcolor\":\"#E5ECF6\",\"showlakes\":true,\"showland\":true,\"subunitcolor\":\"white\"},\"hoverlabel\":{\"align\":\"left\"},\"hovermode\":\"closest\",\"mapbox\":{\"style\":\"light\"},\"paper_bgcolor\":\"white\",\"plot_bgcolor\":\"#E5ECF6\",\"polar\":{\"angularaxis\":{\"gridcolor\":\"white\",\"linecolor\":\"white\",\"ticks\":\"\"},\"bgcolor\":\"#E5ECF6\",\"radialaxis\":{\"gridcolor\":\"white\",\"linecolor\":\"white\",\"ticks\":\"\"}},\"scene\":{\"xaxis\":{\"backgroundcolor\":\"#E5ECF6\",\"gridcolor\":\"white\",\"gridwidth\":2,\"linecolor\":\"white\",\"showbackground\":true,\"ticks\":\"\",\"zerolinecolor\":\"white\"},\"yaxis\":{\"backgroundcolor\":\"#E5ECF6\",\"gridcolor\":\"white\",\"gridwidth\":2,\"linecolor\":\"white\",\"showbackground\":true,\"ticks\":\"\",\"zerolinecolor\":\"white\"},\"zaxis\":{\"backgroundcolor\":\"#E5ECF6\",\"gridcolor\":\"white\",\"gridwidth\":2,\"linecolor\":\"white\",\"showbackground\":true,\"ticks\":\"\",\"zerolinecolor\":\"white\"}},\"shapedefaults\":{\"line\":{\"color\":\"#2a3f5f\"}},\"ternary\":{\"aaxis\":{\"gridcolor\":\"white\",\"linecolor\":\"white\",\"ticks\":\"\"},\"baxis\":{\"gridcolor\":\"white\",\"linecolor\":\"white\",\"ticks\":\"\"},\"bgcolor\":\"#E5ECF6\",\"caxis\":{\"gridcolor\":\"white\",\"linecolor\":\"white\",\"ticks\":\"\"}},\"title\":{\"x\":0.05},\"xaxis\":{\"automargin\":true,\"gridcolor\":\"white\",\"linecolor\":\"white\",\"ticks\":\"\",\"title\":{\"standoff\":15},\"zerolinecolor\":\"white\",\"zerolinewidth\":2},\"yaxis\":{\"automargin\":true,\"gridcolor\":\"white\",\"linecolor\":\"white\",\"ticks\":\"\",\"title\":{\"standoff\":15},\"zerolinecolor\":\"white\",\"zerolinewidth\":2}}},\"xaxis\":{\"anchor\":\"y\",\"domain\":[0.0,1.0],\"title\":{\"text\":\"kelime\"}},\"yaxis\":{\"anchor\":\"x\",\"domain\":[0.0,1.0],\"title\":{\"text\":\"ge\\u00e7i\\u015f frekans\\u0131\"}},\"coloraxis\":{\"colorbar\":{\"title\":{\"text\":\"ge\\u00e7i\\u015f frekans\\u0131\"}},\"colorscale\":[[0.0,\"#0d0887\"],[0.1111111111111111,\"#46039f\"],[0.2222222222222222,\"#7201a8\"],[0.3333333333333333,\"#9c179e\"],[0.4444444444444444,\"#bd3786\"],[0.5555555555555556,\"#d8576b\"],[0.6666666666666666,\"#ed7953\"],[0.7777777777777778,\"#fb9f3a\"],[0.8888888888888888,\"#fdca26\"],[1.0,\"#f0f921\"]]},\"legend\":{\"tracegroupgap\":0},\"title\":{\"text\":\"Stopwordsleri kald\\u0131rd\\u0131ktan sonra en \\u00e7ok yan yana gelen ikili kelimeler\"},\"barmode\":\"relative\",\"height\":400},                        {\"responsive\": true}                    ).then(function(){\n",
       "                            \n",
       "var gd = document.getElementById('439e4ed7-ac53-434b-921a-e3e54f2ae260');\n",
       "var x = new MutationObserver(function (mutations, observer) {{\n",
       "        var display = window.getComputedStyle(gd).display;\n",
       "        if (!display || display === 'none') {{\n",
       "            console.log([gd, 'removed!']);\n",
       "            Plotly.purge(gd);\n",
       "            observer.disconnect();\n",
       "        }}\n",
       "}});\n",
       "\n",
       "// Listen for the removal of the full notebook cells\n",
       "var notebookContainer = gd.closest('#notebook-container');\n",
       "if (notebookContainer) {{\n",
       "    x.observe(notebookContainer, {childList: true});\n",
       "}}\n",
       "\n",
       "// Listen for the clearing of the current output cell\n",
       "var outputEl = gd.closest('.output');\n",
       "if (outputEl) {{\n",
       "    x.observe(outputEl, {childList: true});\n",
       "}}\n",
       "\n",
       "                        })                };                });            </script>        </div>"
      ]
     },
     "metadata": {},
     "output_type": "display_data"
    }
   ],
   "source": [
    "def get_top_n_bigram(corpus, n=None):\n",
    "    vec = CountVectorizer(ngram_range=(2, 2), stop_words=stop).fit(corpus)\n",
    "    bag_of_words = vec.transform(corpus)\n",
    "    sum_words = bag_of_words.sum(axis=0) \n",
    "    words_freq = [(word, sum_words[0, idx]) for word, idx in vec.vocabulary_.items()]\n",
    "    words_freq =sorted(words_freq, key = lambda x: x[1], reverse=True)\n",
    "    return words_freq[:n]\n",
    "common_words = get_top_n_bigram(mydata[\"text\"], 25)\n",
    "df3 = pd.DataFrame(common_words, columns = ['kelime' , 'geçiş frekansı'])\n",
    "fig = px.bar(df3, x='kelime', y='geçiş frekansı',\n",
    "             hover_data=['kelime', 'geçiş frekansı'], color='geçiş frekansı',\n",
    "             title='Stopwordsleri kaldırdıktan sonra en çok yan yana gelen ikili kelimeler',\n",
    "             height=400)\n",
    "fig.show()"
   ]
  },
  {
   "cell_type": "code",
   "execution_count": 30,
   "id": "2503bd6e",
   "metadata": {},
   "outputs": [
    {
     "data": {
      "application/vnd.plotly.v1+json": {
       "config": {
        "plotlyServerURL": "https://plot.ly"
       },
       "data": [
        {
         "alignmentgroup": "True",
         "hovertemplate": "kelime=%{x}<br>geçiş frekansı=%{marker.color}<extra></extra>",
         "legendgroup": "",
         "marker": {
          "color": [
           549,
           444,
           366,
           365,
           364,
           329,
           293,
           270,
           235,
           184,
           180,
           166,
           116,
           106,
           103,
           90,
           90,
           90,
           90,
           90,
           90,
           90,
           90,
           90,
           90
          ],
          "coloraxis": "coloraxis",
          "pattern": {
           "shape": ""
          }
         },
         "name": "",
         "offsetgroup": "",
         "orientation": "v",
         "showlegend": false,
         "textposition": "auto",
         "type": "bar",
         "x": [
          "symbols user_mentions",
          "hashtags text",
          "user_mentions screen_name",
          "education indices",
          "text education",
          "url https",
          "expanded_url https",
          "resize fit",
          "urls url",
          "user_mentions urls",
          "pbs twimg",
          "twimg media",
          "bit ly",
          "hashtags symbols",
          "https twitter",
          "media_url http",
          "http pbs",
          "media_url_https https",
          "https pbs",
          "display_url pic",
          "pic twitter",
          "type photo",
          "photo sizes",
          "thumb 150",
          "150 150"
         ],
         "xaxis": "x",
         "y": [
          549,
          444,
          366,
          365,
          364,
          329,
          293,
          270,
          235,
          184,
          180,
          166,
          116,
          106,
          103,
          90,
          90,
          90,
          90,
          90,
          90,
          90,
          90,
          90,
          90
         ],
         "yaxis": "y"
        }
       ],
       "layout": {
        "barmode": "relative",
        "coloraxis": {
         "colorbar": {
          "title": {
           "text": "geçiş frekansı"
          }
         },
         "colorscale": [
          [
           0,
           "#0d0887"
          ],
          [
           0.1111111111111111,
           "#46039f"
          ],
          [
           0.2222222222222222,
           "#7201a8"
          ],
          [
           0.3333333333333333,
           "#9c179e"
          ],
          [
           0.4444444444444444,
           "#bd3786"
          ],
          [
           0.5555555555555556,
           "#d8576b"
          ],
          [
           0.6666666666666666,
           "#ed7953"
          ],
          [
           0.7777777777777778,
           "#fb9f3a"
          ],
          [
           0.8888888888888888,
           "#fdca26"
          ],
          [
           1,
           "#f0f921"
          ]
         ]
        },
        "height": 400,
        "legend": {
         "tracegroupgap": 0
        },
        "template": {
         "data": {
          "bar": [
           {
            "error_x": {
             "color": "#2a3f5f"
            },
            "error_y": {
             "color": "#2a3f5f"
            },
            "marker": {
             "line": {
              "color": "#E5ECF6",
              "width": 0.5
             },
             "pattern": {
              "fillmode": "overlay",
              "size": 10,
              "solidity": 0.2
             }
            },
            "type": "bar"
           }
          ],
          "barpolar": [
           {
            "marker": {
             "line": {
              "color": "#E5ECF6",
              "width": 0.5
             },
             "pattern": {
              "fillmode": "overlay",
              "size": 10,
              "solidity": 0.2
             }
            },
            "type": "barpolar"
           }
          ],
          "carpet": [
           {
            "aaxis": {
             "endlinecolor": "#2a3f5f",
             "gridcolor": "white",
             "linecolor": "white",
             "minorgridcolor": "white",
             "startlinecolor": "#2a3f5f"
            },
            "baxis": {
             "endlinecolor": "#2a3f5f",
             "gridcolor": "white",
             "linecolor": "white",
             "minorgridcolor": "white",
             "startlinecolor": "#2a3f5f"
            },
            "type": "carpet"
           }
          ],
          "choropleth": [
           {
            "colorbar": {
             "outlinewidth": 0,
             "ticks": ""
            },
            "type": "choropleth"
           }
          ],
          "contour": [
           {
            "colorbar": {
             "outlinewidth": 0,
             "ticks": ""
            },
            "colorscale": [
             [
              0,
              "#0d0887"
             ],
             [
              0.1111111111111111,
              "#46039f"
             ],
             [
              0.2222222222222222,
              "#7201a8"
             ],
             [
              0.3333333333333333,
              "#9c179e"
             ],
             [
              0.4444444444444444,
              "#bd3786"
             ],
             [
              0.5555555555555556,
              "#d8576b"
             ],
             [
              0.6666666666666666,
              "#ed7953"
             ],
             [
              0.7777777777777778,
              "#fb9f3a"
             ],
             [
              0.8888888888888888,
              "#fdca26"
             ],
             [
              1,
              "#f0f921"
             ]
            ],
            "type": "contour"
           }
          ],
          "contourcarpet": [
           {
            "colorbar": {
             "outlinewidth": 0,
             "ticks": ""
            },
            "type": "contourcarpet"
           }
          ],
          "heatmap": [
           {
            "colorbar": {
             "outlinewidth": 0,
             "ticks": ""
            },
            "colorscale": [
             [
              0,
              "#0d0887"
             ],
             [
              0.1111111111111111,
              "#46039f"
             ],
             [
              0.2222222222222222,
              "#7201a8"
             ],
             [
              0.3333333333333333,
              "#9c179e"
             ],
             [
              0.4444444444444444,
              "#bd3786"
             ],
             [
              0.5555555555555556,
              "#d8576b"
             ],
             [
              0.6666666666666666,
              "#ed7953"
             ],
             [
              0.7777777777777778,
              "#fb9f3a"
             ],
             [
              0.8888888888888888,
              "#fdca26"
             ],
             [
              1,
              "#f0f921"
             ]
            ],
            "type": "heatmap"
           }
          ],
          "heatmapgl": [
           {
            "colorbar": {
             "outlinewidth": 0,
             "ticks": ""
            },
            "colorscale": [
             [
              0,
              "#0d0887"
             ],
             [
              0.1111111111111111,
              "#46039f"
             ],
             [
              0.2222222222222222,
              "#7201a8"
             ],
             [
              0.3333333333333333,
              "#9c179e"
             ],
             [
              0.4444444444444444,
              "#bd3786"
             ],
             [
              0.5555555555555556,
              "#d8576b"
             ],
             [
              0.6666666666666666,
              "#ed7953"
             ],
             [
              0.7777777777777778,
              "#fb9f3a"
             ],
             [
              0.8888888888888888,
              "#fdca26"
             ],
             [
              1,
              "#f0f921"
             ]
            ],
            "type": "heatmapgl"
           }
          ],
          "histogram": [
           {
            "marker": {
             "pattern": {
              "fillmode": "overlay",
              "size": 10,
              "solidity": 0.2
             }
            },
            "type": "histogram"
           }
          ],
          "histogram2d": [
           {
            "colorbar": {
             "outlinewidth": 0,
             "ticks": ""
            },
            "colorscale": [
             [
              0,
              "#0d0887"
             ],
             [
              0.1111111111111111,
              "#46039f"
             ],
             [
              0.2222222222222222,
              "#7201a8"
             ],
             [
              0.3333333333333333,
              "#9c179e"
             ],
             [
              0.4444444444444444,
              "#bd3786"
             ],
             [
              0.5555555555555556,
              "#d8576b"
             ],
             [
              0.6666666666666666,
              "#ed7953"
             ],
             [
              0.7777777777777778,
              "#fb9f3a"
             ],
             [
              0.8888888888888888,
              "#fdca26"
             ],
             [
              1,
              "#f0f921"
             ]
            ],
            "type": "histogram2d"
           }
          ],
          "histogram2dcontour": [
           {
            "colorbar": {
             "outlinewidth": 0,
             "ticks": ""
            },
            "colorscale": [
             [
              0,
              "#0d0887"
             ],
             [
              0.1111111111111111,
              "#46039f"
             ],
             [
              0.2222222222222222,
              "#7201a8"
             ],
             [
              0.3333333333333333,
              "#9c179e"
             ],
             [
              0.4444444444444444,
              "#bd3786"
             ],
             [
              0.5555555555555556,
              "#d8576b"
             ],
             [
              0.6666666666666666,
              "#ed7953"
             ],
             [
              0.7777777777777778,
              "#fb9f3a"
             ],
             [
              0.8888888888888888,
              "#fdca26"
             ],
             [
              1,
              "#f0f921"
             ]
            ],
            "type": "histogram2dcontour"
           }
          ],
          "mesh3d": [
           {
            "colorbar": {
             "outlinewidth": 0,
             "ticks": ""
            },
            "type": "mesh3d"
           }
          ],
          "parcoords": [
           {
            "line": {
             "colorbar": {
              "outlinewidth": 0,
              "ticks": ""
             }
            },
            "type": "parcoords"
           }
          ],
          "pie": [
           {
            "automargin": true,
            "type": "pie"
           }
          ],
          "scatter": [
           {
            "marker": {
             "colorbar": {
              "outlinewidth": 0,
              "ticks": ""
             }
            },
            "type": "scatter"
           }
          ],
          "scatter3d": [
           {
            "line": {
             "colorbar": {
              "outlinewidth": 0,
              "ticks": ""
             }
            },
            "marker": {
             "colorbar": {
              "outlinewidth": 0,
              "ticks": ""
             }
            },
            "type": "scatter3d"
           }
          ],
          "scattercarpet": [
           {
            "marker": {
             "colorbar": {
              "outlinewidth": 0,
              "ticks": ""
             }
            },
            "type": "scattercarpet"
           }
          ],
          "scattergeo": [
           {
            "marker": {
             "colorbar": {
              "outlinewidth": 0,
              "ticks": ""
             }
            },
            "type": "scattergeo"
           }
          ],
          "scattergl": [
           {
            "marker": {
             "colorbar": {
              "outlinewidth": 0,
              "ticks": ""
             }
            },
            "type": "scattergl"
           }
          ],
          "scattermapbox": [
           {
            "marker": {
             "colorbar": {
              "outlinewidth": 0,
              "ticks": ""
             }
            },
            "type": "scattermapbox"
           }
          ],
          "scatterpolar": [
           {
            "marker": {
             "colorbar": {
              "outlinewidth": 0,
              "ticks": ""
             }
            },
            "type": "scatterpolar"
           }
          ],
          "scatterpolargl": [
           {
            "marker": {
             "colorbar": {
              "outlinewidth": 0,
              "ticks": ""
             }
            },
            "type": "scatterpolargl"
           }
          ],
          "scatterternary": [
           {
            "marker": {
             "colorbar": {
              "outlinewidth": 0,
              "ticks": ""
             }
            },
            "type": "scatterternary"
           }
          ],
          "surface": [
           {
            "colorbar": {
             "outlinewidth": 0,
             "ticks": ""
            },
            "colorscale": [
             [
              0,
              "#0d0887"
             ],
             [
              0.1111111111111111,
              "#46039f"
             ],
             [
              0.2222222222222222,
              "#7201a8"
             ],
             [
              0.3333333333333333,
              "#9c179e"
             ],
             [
              0.4444444444444444,
              "#bd3786"
             ],
             [
              0.5555555555555556,
              "#d8576b"
             ],
             [
              0.6666666666666666,
              "#ed7953"
             ],
             [
              0.7777777777777778,
              "#fb9f3a"
             ],
             [
              0.8888888888888888,
              "#fdca26"
             ],
             [
              1,
              "#f0f921"
             ]
            ],
            "type": "surface"
           }
          ],
          "table": [
           {
            "cells": {
             "fill": {
              "color": "#EBF0F8"
             },
             "line": {
              "color": "white"
             }
            },
            "header": {
             "fill": {
              "color": "#C8D4E3"
             },
             "line": {
              "color": "white"
             }
            },
            "type": "table"
           }
          ]
         },
         "layout": {
          "annotationdefaults": {
           "arrowcolor": "#2a3f5f",
           "arrowhead": 0,
           "arrowwidth": 1
          },
          "autotypenumbers": "strict",
          "coloraxis": {
           "colorbar": {
            "outlinewidth": 0,
            "ticks": ""
           }
          },
          "colorscale": {
           "diverging": [
            [
             0,
             "#8e0152"
            ],
            [
             0.1,
             "#c51b7d"
            ],
            [
             0.2,
             "#de77ae"
            ],
            [
             0.3,
             "#f1b6da"
            ],
            [
             0.4,
             "#fde0ef"
            ],
            [
             0.5,
             "#f7f7f7"
            ],
            [
             0.6,
             "#e6f5d0"
            ],
            [
             0.7,
             "#b8e186"
            ],
            [
             0.8,
             "#7fbc41"
            ],
            [
             0.9,
             "#4d9221"
            ],
            [
             1,
             "#276419"
            ]
           ],
           "sequential": [
            [
             0,
             "#0d0887"
            ],
            [
             0.1111111111111111,
             "#46039f"
            ],
            [
             0.2222222222222222,
             "#7201a8"
            ],
            [
             0.3333333333333333,
             "#9c179e"
            ],
            [
             0.4444444444444444,
             "#bd3786"
            ],
            [
             0.5555555555555556,
             "#d8576b"
            ],
            [
             0.6666666666666666,
             "#ed7953"
            ],
            [
             0.7777777777777778,
             "#fb9f3a"
            ],
            [
             0.8888888888888888,
             "#fdca26"
            ],
            [
             1,
             "#f0f921"
            ]
           ],
           "sequentialminus": [
            [
             0,
             "#0d0887"
            ],
            [
             0.1111111111111111,
             "#46039f"
            ],
            [
             0.2222222222222222,
             "#7201a8"
            ],
            [
             0.3333333333333333,
             "#9c179e"
            ],
            [
             0.4444444444444444,
             "#bd3786"
            ],
            [
             0.5555555555555556,
             "#d8576b"
            ],
            [
             0.6666666666666666,
             "#ed7953"
            ],
            [
             0.7777777777777778,
             "#fb9f3a"
            ],
            [
             0.8888888888888888,
             "#fdca26"
            ],
            [
             1,
             "#f0f921"
            ]
           ]
          },
          "colorway": [
           "#636efa",
           "#EF553B",
           "#00cc96",
           "#ab63fa",
           "#FFA15A",
           "#19d3f3",
           "#FF6692",
           "#B6E880",
           "#FF97FF",
           "#FECB52"
          ],
          "font": {
           "color": "#2a3f5f"
          },
          "geo": {
           "bgcolor": "white",
           "lakecolor": "white",
           "landcolor": "#E5ECF6",
           "showlakes": true,
           "showland": true,
           "subunitcolor": "white"
          },
          "hoverlabel": {
           "align": "left"
          },
          "hovermode": "closest",
          "mapbox": {
           "style": "light"
          },
          "paper_bgcolor": "white",
          "plot_bgcolor": "#E5ECF6",
          "polar": {
           "angularaxis": {
            "gridcolor": "white",
            "linecolor": "white",
            "ticks": ""
           },
           "bgcolor": "#E5ECF6",
           "radialaxis": {
            "gridcolor": "white",
            "linecolor": "white",
            "ticks": ""
           }
          },
          "scene": {
           "xaxis": {
            "backgroundcolor": "#E5ECF6",
            "gridcolor": "white",
            "gridwidth": 2,
            "linecolor": "white",
            "showbackground": true,
            "ticks": "",
            "zerolinecolor": "white"
           },
           "yaxis": {
            "backgroundcolor": "#E5ECF6",
            "gridcolor": "white",
            "gridwidth": 2,
            "linecolor": "white",
            "showbackground": true,
            "ticks": "",
            "zerolinecolor": "white"
           },
           "zaxis": {
            "backgroundcolor": "#E5ECF6",
            "gridcolor": "white",
            "gridwidth": 2,
            "linecolor": "white",
            "showbackground": true,
            "ticks": "",
            "zerolinecolor": "white"
           }
          },
          "shapedefaults": {
           "line": {
            "color": "#2a3f5f"
           }
          },
          "ternary": {
           "aaxis": {
            "gridcolor": "white",
            "linecolor": "white",
            "ticks": ""
           },
           "baxis": {
            "gridcolor": "white",
            "linecolor": "white",
            "ticks": ""
           },
           "bgcolor": "#E5ECF6",
           "caxis": {
            "gridcolor": "white",
            "linecolor": "white",
            "ticks": ""
           }
          },
          "title": {
           "x": 0.05
          },
          "xaxis": {
           "automargin": true,
           "gridcolor": "white",
           "linecolor": "white",
           "ticks": "",
           "title": {
            "standoff": 15
           },
           "zerolinecolor": "white",
           "zerolinewidth": 2
          },
          "yaxis": {
           "automargin": true,
           "gridcolor": "white",
           "linecolor": "white",
           "ticks": "",
           "title": {
            "standoff": 15
           },
           "zerolinecolor": "white",
           "zerolinewidth": 2
          }
         }
        },
        "title": {
         "text": "Stopwordsleri kaldırdıktan sonra en çok yan yana gelen ikili kelimeler"
        },
        "xaxis": {
         "anchor": "y",
         "domain": [
          0,
          1
         ],
         "title": {
          "text": "kelime"
         }
        },
        "yaxis": {
         "anchor": "x",
         "domain": [
          0,
          1
         ],
         "title": {
          "text": "geçiş frekansı"
         }
        }
       }
      },
      "text/html": [
       "<div>                            <div id=\"c9634204-7971-49e6-b322-49c4b98afa37\" class=\"plotly-graph-div\" style=\"height:400px; width:100%;\"></div>            <script type=\"text/javascript\">                require([\"plotly\"], function(Plotly) {                    window.PLOTLYENV=window.PLOTLYENV || {};                                    if (document.getElementById(\"c9634204-7971-49e6-b322-49c4b98afa37\")) {                    Plotly.newPlot(                        \"c9634204-7971-49e6-b322-49c4b98afa37\",                        [{\"alignmentgroup\":\"True\",\"hovertemplate\":\"kelime=%{x}<br>ge\\u00e7i\\u015f frekans\\u0131=%{marker.color}<extra></extra>\",\"legendgroup\":\"\",\"marker\":{\"color\":[549,444,366,365,364,329,293,270,235,184,180,166,116,106,103,90,90,90,90,90,90,90,90,90,90],\"coloraxis\":\"coloraxis\",\"pattern\":{\"shape\":\"\"}},\"name\":\"\",\"offsetgroup\":\"\",\"orientation\":\"v\",\"showlegend\":false,\"textposition\":\"auto\",\"x\":[\"symbols user_mentions\",\"hashtags text\",\"user_mentions screen_name\",\"education indices\",\"text education\",\"url https\",\"expanded_url https\",\"resize fit\",\"urls url\",\"user_mentions urls\",\"pbs twimg\",\"twimg media\",\"bit ly\",\"hashtags symbols\",\"https twitter\",\"media_url http\",\"http pbs\",\"media_url_https https\",\"https pbs\",\"display_url pic\",\"pic twitter\",\"type photo\",\"photo sizes\",\"thumb 150\",\"150 150\"],\"xaxis\":\"x\",\"y\":[549,444,366,365,364,329,293,270,235,184,180,166,116,106,103,90,90,90,90,90,90,90,90,90,90],\"yaxis\":\"y\",\"type\":\"bar\"}],                        {\"template\":{\"data\":{\"bar\":[{\"error_x\":{\"color\":\"#2a3f5f\"},\"error_y\":{\"color\":\"#2a3f5f\"},\"marker\":{\"line\":{\"color\":\"#E5ECF6\",\"width\":0.5},\"pattern\":{\"fillmode\":\"overlay\",\"size\":10,\"solidity\":0.2}},\"type\":\"bar\"}],\"barpolar\":[{\"marker\":{\"line\":{\"color\":\"#E5ECF6\",\"width\":0.5},\"pattern\":{\"fillmode\":\"overlay\",\"size\":10,\"solidity\":0.2}},\"type\":\"barpolar\"}],\"carpet\":[{\"aaxis\":{\"endlinecolor\":\"#2a3f5f\",\"gridcolor\":\"white\",\"linecolor\":\"white\",\"minorgridcolor\":\"white\",\"startlinecolor\":\"#2a3f5f\"},\"baxis\":{\"endlinecolor\":\"#2a3f5f\",\"gridcolor\":\"white\",\"linecolor\":\"white\",\"minorgridcolor\":\"white\",\"startlinecolor\":\"#2a3f5f\"},\"type\":\"carpet\"}],\"choropleth\":[{\"colorbar\":{\"outlinewidth\":0,\"ticks\":\"\"},\"type\":\"choropleth\"}],\"contour\":[{\"colorbar\":{\"outlinewidth\":0,\"ticks\":\"\"},\"colorscale\":[[0.0,\"#0d0887\"],[0.1111111111111111,\"#46039f\"],[0.2222222222222222,\"#7201a8\"],[0.3333333333333333,\"#9c179e\"],[0.4444444444444444,\"#bd3786\"],[0.5555555555555556,\"#d8576b\"],[0.6666666666666666,\"#ed7953\"],[0.7777777777777778,\"#fb9f3a\"],[0.8888888888888888,\"#fdca26\"],[1.0,\"#f0f921\"]],\"type\":\"contour\"}],\"contourcarpet\":[{\"colorbar\":{\"outlinewidth\":0,\"ticks\":\"\"},\"type\":\"contourcarpet\"}],\"heatmap\":[{\"colorbar\":{\"outlinewidth\":0,\"ticks\":\"\"},\"colorscale\":[[0.0,\"#0d0887\"],[0.1111111111111111,\"#46039f\"],[0.2222222222222222,\"#7201a8\"],[0.3333333333333333,\"#9c179e\"],[0.4444444444444444,\"#bd3786\"],[0.5555555555555556,\"#d8576b\"],[0.6666666666666666,\"#ed7953\"],[0.7777777777777778,\"#fb9f3a\"],[0.8888888888888888,\"#fdca26\"],[1.0,\"#f0f921\"]],\"type\":\"heatmap\"}],\"heatmapgl\":[{\"colorbar\":{\"outlinewidth\":0,\"ticks\":\"\"},\"colorscale\":[[0.0,\"#0d0887\"],[0.1111111111111111,\"#46039f\"],[0.2222222222222222,\"#7201a8\"],[0.3333333333333333,\"#9c179e\"],[0.4444444444444444,\"#bd3786\"],[0.5555555555555556,\"#d8576b\"],[0.6666666666666666,\"#ed7953\"],[0.7777777777777778,\"#fb9f3a\"],[0.8888888888888888,\"#fdca26\"],[1.0,\"#f0f921\"]],\"type\":\"heatmapgl\"}],\"histogram\":[{\"marker\":{\"pattern\":{\"fillmode\":\"overlay\",\"size\":10,\"solidity\":0.2}},\"type\":\"histogram\"}],\"histogram2d\":[{\"colorbar\":{\"outlinewidth\":0,\"ticks\":\"\"},\"colorscale\":[[0.0,\"#0d0887\"],[0.1111111111111111,\"#46039f\"],[0.2222222222222222,\"#7201a8\"],[0.3333333333333333,\"#9c179e\"],[0.4444444444444444,\"#bd3786\"],[0.5555555555555556,\"#d8576b\"],[0.6666666666666666,\"#ed7953\"],[0.7777777777777778,\"#fb9f3a\"],[0.8888888888888888,\"#fdca26\"],[1.0,\"#f0f921\"]],\"type\":\"histogram2d\"}],\"histogram2dcontour\":[{\"colorbar\":{\"outlinewidth\":0,\"ticks\":\"\"},\"colorscale\":[[0.0,\"#0d0887\"],[0.1111111111111111,\"#46039f\"],[0.2222222222222222,\"#7201a8\"],[0.3333333333333333,\"#9c179e\"],[0.4444444444444444,\"#bd3786\"],[0.5555555555555556,\"#d8576b\"],[0.6666666666666666,\"#ed7953\"],[0.7777777777777778,\"#fb9f3a\"],[0.8888888888888888,\"#fdca26\"],[1.0,\"#f0f921\"]],\"type\":\"histogram2dcontour\"}],\"mesh3d\":[{\"colorbar\":{\"outlinewidth\":0,\"ticks\":\"\"},\"type\":\"mesh3d\"}],\"parcoords\":[{\"line\":{\"colorbar\":{\"outlinewidth\":0,\"ticks\":\"\"}},\"type\":\"parcoords\"}],\"pie\":[{\"automargin\":true,\"type\":\"pie\"}],\"scatter\":[{\"marker\":{\"colorbar\":{\"outlinewidth\":0,\"ticks\":\"\"}},\"type\":\"scatter\"}],\"scatter3d\":[{\"line\":{\"colorbar\":{\"outlinewidth\":0,\"ticks\":\"\"}},\"marker\":{\"colorbar\":{\"outlinewidth\":0,\"ticks\":\"\"}},\"type\":\"scatter3d\"}],\"scattercarpet\":[{\"marker\":{\"colorbar\":{\"outlinewidth\":0,\"ticks\":\"\"}},\"type\":\"scattercarpet\"}],\"scattergeo\":[{\"marker\":{\"colorbar\":{\"outlinewidth\":0,\"ticks\":\"\"}},\"type\":\"scattergeo\"}],\"scattergl\":[{\"marker\":{\"colorbar\":{\"outlinewidth\":0,\"ticks\":\"\"}},\"type\":\"scattergl\"}],\"scattermapbox\":[{\"marker\":{\"colorbar\":{\"outlinewidth\":0,\"ticks\":\"\"}},\"type\":\"scattermapbox\"}],\"scatterpolar\":[{\"marker\":{\"colorbar\":{\"outlinewidth\":0,\"ticks\":\"\"}},\"type\":\"scatterpolar\"}],\"scatterpolargl\":[{\"marker\":{\"colorbar\":{\"outlinewidth\":0,\"ticks\":\"\"}},\"type\":\"scatterpolargl\"}],\"scatterternary\":[{\"marker\":{\"colorbar\":{\"outlinewidth\":0,\"ticks\":\"\"}},\"type\":\"scatterternary\"}],\"surface\":[{\"colorbar\":{\"outlinewidth\":0,\"ticks\":\"\"},\"colorscale\":[[0.0,\"#0d0887\"],[0.1111111111111111,\"#46039f\"],[0.2222222222222222,\"#7201a8\"],[0.3333333333333333,\"#9c179e\"],[0.4444444444444444,\"#bd3786\"],[0.5555555555555556,\"#d8576b\"],[0.6666666666666666,\"#ed7953\"],[0.7777777777777778,\"#fb9f3a\"],[0.8888888888888888,\"#fdca26\"],[1.0,\"#f0f921\"]],\"type\":\"surface\"}],\"table\":[{\"cells\":{\"fill\":{\"color\":\"#EBF0F8\"},\"line\":{\"color\":\"white\"}},\"header\":{\"fill\":{\"color\":\"#C8D4E3\"},\"line\":{\"color\":\"white\"}},\"type\":\"table\"}]},\"layout\":{\"annotationdefaults\":{\"arrowcolor\":\"#2a3f5f\",\"arrowhead\":0,\"arrowwidth\":1},\"autotypenumbers\":\"strict\",\"coloraxis\":{\"colorbar\":{\"outlinewidth\":0,\"ticks\":\"\"}},\"colorscale\":{\"diverging\":[[0,\"#8e0152\"],[0.1,\"#c51b7d\"],[0.2,\"#de77ae\"],[0.3,\"#f1b6da\"],[0.4,\"#fde0ef\"],[0.5,\"#f7f7f7\"],[0.6,\"#e6f5d0\"],[0.7,\"#b8e186\"],[0.8,\"#7fbc41\"],[0.9,\"#4d9221\"],[1,\"#276419\"]],\"sequential\":[[0.0,\"#0d0887\"],[0.1111111111111111,\"#46039f\"],[0.2222222222222222,\"#7201a8\"],[0.3333333333333333,\"#9c179e\"],[0.4444444444444444,\"#bd3786\"],[0.5555555555555556,\"#d8576b\"],[0.6666666666666666,\"#ed7953\"],[0.7777777777777778,\"#fb9f3a\"],[0.8888888888888888,\"#fdca26\"],[1.0,\"#f0f921\"]],\"sequentialminus\":[[0.0,\"#0d0887\"],[0.1111111111111111,\"#46039f\"],[0.2222222222222222,\"#7201a8\"],[0.3333333333333333,\"#9c179e\"],[0.4444444444444444,\"#bd3786\"],[0.5555555555555556,\"#d8576b\"],[0.6666666666666666,\"#ed7953\"],[0.7777777777777778,\"#fb9f3a\"],[0.8888888888888888,\"#fdca26\"],[1.0,\"#f0f921\"]]},\"colorway\":[\"#636efa\",\"#EF553B\",\"#00cc96\",\"#ab63fa\",\"#FFA15A\",\"#19d3f3\",\"#FF6692\",\"#B6E880\",\"#FF97FF\",\"#FECB52\"],\"font\":{\"color\":\"#2a3f5f\"},\"geo\":{\"bgcolor\":\"white\",\"lakecolor\":\"white\",\"landcolor\":\"#E5ECF6\",\"showlakes\":true,\"showland\":true,\"subunitcolor\":\"white\"},\"hoverlabel\":{\"align\":\"left\"},\"hovermode\":\"closest\",\"mapbox\":{\"style\":\"light\"},\"paper_bgcolor\":\"white\",\"plot_bgcolor\":\"#E5ECF6\",\"polar\":{\"angularaxis\":{\"gridcolor\":\"white\",\"linecolor\":\"white\",\"ticks\":\"\"},\"bgcolor\":\"#E5ECF6\",\"radialaxis\":{\"gridcolor\":\"white\",\"linecolor\":\"white\",\"ticks\":\"\"}},\"scene\":{\"xaxis\":{\"backgroundcolor\":\"#E5ECF6\",\"gridcolor\":\"white\",\"gridwidth\":2,\"linecolor\":\"white\",\"showbackground\":true,\"ticks\":\"\",\"zerolinecolor\":\"white\"},\"yaxis\":{\"backgroundcolor\":\"#E5ECF6\",\"gridcolor\":\"white\",\"gridwidth\":2,\"linecolor\":\"white\",\"showbackground\":true,\"ticks\":\"\",\"zerolinecolor\":\"white\"},\"zaxis\":{\"backgroundcolor\":\"#E5ECF6\",\"gridcolor\":\"white\",\"gridwidth\":2,\"linecolor\":\"white\",\"showbackground\":true,\"ticks\":\"\",\"zerolinecolor\":\"white\"}},\"shapedefaults\":{\"line\":{\"color\":\"#2a3f5f\"}},\"ternary\":{\"aaxis\":{\"gridcolor\":\"white\",\"linecolor\":\"white\",\"ticks\":\"\"},\"baxis\":{\"gridcolor\":\"white\",\"linecolor\":\"white\",\"ticks\":\"\"},\"bgcolor\":\"#E5ECF6\",\"caxis\":{\"gridcolor\":\"white\",\"linecolor\":\"white\",\"ticks\":\"\"}},\"title\":{\"x\":0.05},\"xaxis\":{\"automargin\":true,\"gridcolor\":\"white\",\"linecolor\":\"white\",\"ticks\":\"\",\"title\":{\"standoff\":15},\"zerolinecolor\":\"white\",\"zerolinewidth\":2},\"yaxis\":{\"automargin\":true,\"gridcolor\":\"white\",\"linecolor\":\"white\",\"ticks\":\"\",\"title\":{\"standoff\":15},\"zerolinecolor\":\"white\",\"zerolinewidth\":2}}},\"xaxis\":{\"anchor\":\"y\",\"domain\":[0.0,1.0],\"title\":{\"text\":\"kelime\"}},\"yaxis\":{\"anchor\":\"x\",\"domain\":[0.0,1.0],\"title\":{\"text\":\"ge\\u00e7i\\u015f frekans\\u0131\"}},\"coloraxis\":{\"colorbar\":{\"title\":{\"text\":\"ge\\u00e7i\\u015f frekans\\u0131\"}},\"colorscale\":[[0.0,\"#0d0887\"],[0.1111111111111111,\"#46039f\"],[0.2222222222222222,\"#7201a8\"],[0.3333333333333333,\"#9c179e\"],[0.4444444444444444,\"#bd3786\"],[0.5555555555555556,\"#d8576b\"],[0.6666666666666666,\"#ed7953\"],[0.7777777777777778,\"#fb9f3a\"],[0.8888888888888888,\"#fdca26\"],[1.0,\"#f0f921\"]]},\"legend\":{\"tracegroupgap\":0},\"title\":{\"text\":\"Stopwordsleri kald\\u0131rd\\u0131ktan sonra en \\u00e7ok yan yana gelen ikili kelimeler\"},\"barmode\":\"relative\",\"height\":400},                        {\"responsive\": true}                    ).then(function(){\n",
       "                            \n",
       "var gd = document.getElementById('c9634204-7971-49e6-b322-49c4b98afa37');\n",
       "var x = new MutationObserver(function (mutations, observer) {{\n",
       "        var display = window.getComputedStyle(gd).display;\n",
       "        if (!display || display === 'none') {{\n",
       "            console.log([gd, 'removed!']);\n",
       "            Plotly.purge(gd);\n",
       "            observer.disconnect();\n",
       "        }}\n",
       "}});\n",
       "\n",
       "// Listen for the removal of the full notebook cells\n",
       "var notebookContainer = gd.closest('#notebook-container');\n",
       "if (notebookContainer) {{\n",
       "    x.observe(notebookContainer, {childList: true});\n",
       "}}\n",
       "\n",
       "// Listen for the clearing of the current output cell\n",
       "var outputEl = gd.closest('.output');\n",
       "if (outputEl) {{\n",
       "    x.observe(outputEl, {childList: true});\n",
       "}}\n",
       "\n",
       "                        })                };                });            </script>        </div>"
      ]
     },
     "metadata": {},
     "output_type": "display_data"
    }
   ],
   "source": [
    "def get_top_n_bigram(corpus, n=None):\n",
    "    vec = CountVectorizer(ngram_range=(2, 2), stop_words=stop).fit(corpus)\n",
    "    bag_of_words = vec.transform(corpus)\n",
    "    sum_words = bag_of_words.sum(axis=0) \n",
    "    words_freq = [(word, sum_words[0, idx]) for word, idx in vec.vocabulary_.items()]\n",
    "    words_freq =sorted(words_freq, key = lambda x: x[1], reverse=True)\n",
    "    return words_freq[:n]\n",
    "common_words = get_top_n_bigram(mydata[\"entities_str\"], 25)\n",
    "df3 = pd.DataFrame(common_words, columns = ['kelime' , 'geçiş frekansı'])\n",
    "fig = px.bar(df3, x='kelime', y='geçiş frekansı',\n",
    "             hover_data=['kelime', 'geçiş frekansı'], color='geçiş frekansı',\n",
    "             title='Stopwordsleri kaldırdıktan sonra en çok yan yana gelen ikili kelimeler',\n",
    "             height=400)\n",
    "fig.show()"
   ]
  },
  {
   "cell_type": "code",
   "execution_count": 33,
   "id": "aac760aa",
   "metadata": {},
   "outputs": [
    {
     "ename": "SyntaxError",
     "evalue": "unexpected EOF while parsing (Temp/ipykernel_1988/929459988.py, line 3)",
     "output_type": "error",
     "traceback": [
      "\u001b[1;36m  File \u001b[1;32m\"C:\\Users\\Ceylan\\AppData\\Local\\Temp/ipykernel_1988/929459988.py\"\u001b[1;36m, line \u001b[1;32m3\u001b[0m\n\u001b[1;33m    #print(\"Data'nın Yeni Boyutu: \", len(text_data))\u001b[0m\n\u001b[1;37m                                                    ^\u001b[0m\n\u001b[1;31mSyntaxError\u001b[0m\u001b[1;31m:\u001b[0m unexpected EOF while parsing\n"
     ]
    }
   ],
   "source": [
    "print(\"Data'nın Bölünmeden Önceki Boyutu\", len(mydata[\"text\"])\n",
    "#text_data = pd.concat([data_tekno.sample(len(data_kultur_sanat), random_state=39), data_internet.sample(len(data_kultur_sanat), random_state=39), data_inovasyon.sample(len(data_kultur_sanat), random_state=39), data_genel_gundem.sample(len(data_kultur_sanat), random_state=39) ,data_kultur_sanat,data_hafta])\n",
    "#print(\"Data'nın Yeni Boyutu: \", len(text_data))"
   ]
  },
  {
   "cell_type": "code",
   "execution_count": 36,
   "id": "771f383d",
   "metadata": {},
   "outputs": [],
   "source": [
    "from nltk.tokenize import sent_tokenize, word_tokenize\n",
    "\n",
    "\n",
    "big = \" \"\n",
    "for text in mydata[\"text\"]:\n",
    "    big = big + text\n",
    "#Şimdide bu string'i parçalayalım edelim. \n",
    "big_data = [] \n",
    "for i in sent_tokenize(big): \n",
    "    temp = [] \n",
    "      \n",
    "    # tokenize the sentence into words \n",
    "    for j in word_tokenize(i): \n",
    "        temp.append(j.lower()) \n",
    "  \n",
    "    big_data.append(temp)"
   ]
  },
  {
   "cell_type": "code",
   "execution_count": 43,
   "id": "2725cfa7",
   "metadata": {},
   "outputs": [
    {
     "name": "stdout",
     "output_type": "stream",
     "text": [
      "Requirement already satisfied: gensim in c:\\users\\ceylan\\anaconda3\\lib\\site-packages (4.2.0)\n",
      "Requirement already satisfied: scipy>=0.18.1 in c:\\users\\ceylan\\anaconda3\\lib\\site-packages (from gensim) (1.7.1)\n",
      "Requirement already satisfied: numpy>=1.17.0 in c:\\users\\ceylan\\anaconda3\\lib\\site-packages (from gensim) (1.20.3)\n",
      "Requirement already satisfied: smart-open>=1.8.1 in c:\\users\\ceylan\\anaconda3\\lib\\site-packages (from gensim) (6.0.0)\n",
      "Requirement already satisfied: Cython==0.29.28 in c:\\users\\ceylan\\anaconda3\\lib\\site-packages (from gensim) (0.29.28)\n",
      "Note: you may need to restart the kernel to use updated packages.\n"
     ]
    }
   ],
   "source": [
    "pip install gensim"
   ]
  },
  {
   "cell_type": "code",
   "execution_count": 50,
   "id": "f3afa44c",
   "metadata": {},
   "outputs": [
    {
     "name": "stdout",
     "output_type": "stream",
     "text": [
      "[['rt', 'mycompcareer', 'how', 'does', 'online', 'learning', 'work', 's6uqtrhntt', 'onlinelearning', 'itschool', 'educationrt', 'ncpolicywatch', 'gov', '.'], ['roy', 'cooper', '’', 's', 'budget', 'would', 'fully', 'fund', 'year', 'three', 'of', 'the', 'leandro', 'remedial', 'plan', 'dbiqmoemvz', 'via', 'ncpolicywatch', 'nced', 'ncga', 'ncpol', 'leandro', 'educationrt', 'spaceref', 'washington', 'state', 'students', 'crowned', 'national', 'champions', 'in', 'world', 's', 'largest', 'rocket', 'contest', 'vojbhmm3gw', 'education', 'stemstonewall', 'experiment', '(', 'cassell', 'lesbian', 'and', 'gay', 'studies', ')', 'by', 'ian', 'young', 'excellent', 'ebay🇺🇸', 'textbooks', 'education', 'reference', 'fcqbj3oxtkrt', 'tcea', 'do', 'you', 'practice', 'active', 'listening', 'h1c4jm6hsd', 'diben', 'skillbuilding', 'edutwitter', 'education', 'kjbkrgkdjtrt', 'ampowerblog', 'not', 'everything', '’', 's', 'racist', '.'], ['different', 'day', ',', 'another', 'piece', 'of', 'leftist', 'hatred', '.'], ['homeschooling', 'education', 'pw5q8pg1osrt', 'aikiu_metaverse', 'this', 'is', 'not', 'the', 'internet', '.'], ['this', 'is', 'the', 'metaverse', '.'], ['education', 'metaverse', 'blockchain', 'pinetwork', 'buildpi2gether', 'what', 'role', 'does', 'metaverse', 'play', 'in', 'your', 'families', 'educational', 'future', '2chdfe2kcr', 'iowqh4zgsqhow', 'does', 'online', 'learning', 'work', 's6uqtrhntt', 'onlinelearning', 'itschool', 'educationrt', 'tcea', 'do', 'you', 'practice', 'active', 'listening', 'h1c4jm6hsd', 'diben', 'skillbuilding', 'edutwitter', 'education', 'kjbkrgkdjtrt', 'davidfrangiosa', 'making', 'learning', 'accessible', 'for', 'all', 'reimaginedschools', 'njed', 'edchat', 'ungrading', 'edreform', 'education', 'click', 'the', 'link', 'to', 'read', 'the', 'full', 'post', 'ephgbv4k4lle', 'risque', 'd', '’', 'une', 'mauvaise', 'décision', 'est', 'préférable', 'à', 'la', 'terreur', 'de', 'l', '’', 'indécision', '.'], ['–', 'maïmonide', 'citations', 'éducationrt', 'tcea', 'do', 'you', 'practice', 'active', 'listening', 'h1c4jm6hsd', 'diben', 'skillbuilding', 'edutwitter', 'education', 'kjbkrgkdjt', 'education', 'covid19', 'stayathome', 'schools', 'teacher', 'wages', 'by', 'via', 'halltoons', 'jb9flejruk', 'election2022', 'auspol2022', 'insidersrt', 'meowcoinbsc', 'so', 'transparent', 'we', 'will', 'help', 'you', 'dyor', '😼', 'these', 'types', 'of', 'things', 'will', 'get', 'you', 'in', 'the', 'habit', 'of', 'looking', 'a', 'little', 'deeper', 'before', 'investing', '😸✅', 'bscgems', 'bsc', 'terra', '1000xgem', 'meowcoin', 'education', 'defi', 'cryptocurrency', 'cryptocurrecy', 'bnb', 'binance', 'crypto', 'bscgem', 'rpx9jivzoq', 'lgbtiq', 'education', 'tax', 'by', 'goldingcartoons', 'rd1lrq51cw', 'election2022', 'auspol2022', 'insidersrt', 'techlearning', '50', 'sites', '&', 'amp', ';', 'apps', 'for', 'k-12', 'education', 'games', 'c6ghqubhmy', 'k12', 'education', 'teaching', 'gamification', 'learning', 'iwxez3nkeirt', 'techlearning', 'kahoot', '!'], ['uses', 'game-style', 'learning', 'to', 'engage', 'students', 'for', 'more', 'immersive', 'learning', 'odjis7po0c', 'teaching', 'teachertwiter', 'teachingtips', 'education', 'gamification', 'education', 'qugvyalk6hrt', 'whatisbestnow', 'what', 's', 'best', 'on', 'qjtklml7xl', 'a', 'picture', 'of', 'the', 'milky', 'way', 's', 'supermassive', 'black', 'hole', 'cbluzygntj', 'education', 'veritasium', 'science', 'physics', 'o4b22imecawho', 'does', 'stipendiumplus', 'seek', 'to', 'support', 'in', 'the', 'stipendiumplus', 'network', ',', 'there', 'are', 'a', 'variety', 'of', 'funding', 'bodies', '.'], ['the', 'avicenna…', 'rfm4ajiyf1', 'oytspxrixu', 'phd', ',', 'research', ',', 'germany', ',', 'education', ',', 'sciencefrench', 'catholic', 'school', 'board', 'in', 'ottawa', 'calls', 'dress', 'code', 'blitz', 'at', 'local', 'high', 'school', 'unacceptable', 'cmbdlzizr6', 'as', 'a', 'parent', ',', 'and', 'member', 'of', 'a', 'public', 'school', 'board', 'advisory', 'committee', ',', 'this', 'is', 'absolutely', 'horrifying', '.'], ['care', 'to', 'comment', ',', 'sflecce', 'cecce', 'education', 'onpoli', 'ottawart', 'rdene915', 'check', 'out', 'the', 'latest', 'from', 'da_magazine', 'k3eo1fwnup', 'education', 'edchat', 'edtech', 'edleaders', 'k12', 'suptchat', 'schools', 'thriveinedu', 'fetcrt', 'rdene915', 'need', 'some', 'new', 'ideas', 'order', 'my', 'book', 'unconventional', 'ways', 'to', 'thriveinedu', 'wtnxufd0pi', 'many', 'ideas', 'for', 'pbl', 'sel', 'globaled', 'edtech', 'hybridlearning', 'educhat', 'education', 'k12', 'suptchat', 'blendedlearningrt', 'teachfutures', 'great', 'news', '!'], ['our', 'futures', 'thinking', 'playbook', 'is', 'now', 'available', 'in', 'more', 'languages', 'on', 'amazon', '.'], ['to', 'get', 'a', 'copy', ',', 'use', 'the', 'link', 'below', '.'], ['🌐', 'b9dyvlannc', 'teachthefuture', 'education', 'teaching', 'future', 'futuresliteracy', 'futuresthinking', 'playbook', 'aortomogdmmaking', 'learning', 'accessible', 'for', 'all', 'reimaginedschools', 'njed', 'edchat', 'ungrading', 'edreform', 'education', 'click', 'the', 'link', 'to', 'read', 'the', 'full', 'post', 'ephgbv4k4lrt', 'teabisz', 'forget', 'it', 'not', 'that', 'we', 'supply', ';', 'neco', ',', 'waec', ',', 'nabteb', 'and', 'nbais', 'result', 'token', 'epin', '.'], ['swift', 'delivery', '.'], ['exam', 'utme', 'jamb', 'school', 'educationrt', 'techlearning', 'what', 'is', 'canva', 'and', 'how', 'does', 'it', 'work', 'tips', '&', 'amp', ';', 'tricks', 'ihuno13gg7', 'canva', 'teaching', 'teachingtools', 'edtech', 'education', 'rwsbrgmiu8rt', 'whatisbestnow', 'share', 'the', 'best', 'education', 'content', 'download', 'the', 'best', 'app', '29sgygqvgy', 'veritasium', 'science', 'physics', '3byrwfz0ae', 'lxppcaodpa😎', 'kelli', 'and', 'our', 'school', 'captains', 'give', 'us', 'a', 'week', '4', 'update', '.'], ['🙌', 'standrews', 'school', 'clayton', 'primary', 'parents', 'education', 'kingstoncouncil', 'community', 'ourcatholicschools', 'macs', '7bkyepiakchey', 'massteacher', 'maschoolsk12', 'mathnasium', '!'], ['hey', 'what', 'u.s.', 'state', 'teaches', 'math', 'class', 'all', 'year', 'long', '...', 'mathachusetts', '.'], ['5ifhzzlzbt', 'teaching', 'education', 'lastdayofschool', 'massachusetts', 'mathchatrt', 'lizscottqbo', 'groundbreaking', '!'], ['the', 'first-ever', 'accountingweb', 'was', 'small', 'yet', 'mighty', '!'], ['aweblivesummit', 'strong', 'friendships', 'increased', ',', 'stellar', 'classes', ',', 'and', 'dramatic', 'leaps', 'forward', 'in', 'thought', 'leadership', '!'], ['see', 'you', 'again', 'in', '2023', '!', '!', '!'], ['dawnbrolin', 'fishbowl', 'accounting', 'developers', 'education', 'trailblazer', 'vfdsr5j3tort', 'rdene915', 'need', 'some', 'new', 'ideas', 'order', 'my', 'book', 'unconventional', 'ways', 'to', 'thriveinedu', 'wtnxufd0pi', 'many', 'ideas', 'for', 'pbl', 'sel', 'globaled', 'edtech', 'hybridlearning', 'educhat', 'education', 'k12', 'suptchat', 'blendedlearningrt', 'spdailyquotes', 'srila', 'prabhupada', 'krishna', 'prabhupada', 'motivation', 'success', 'love', 'innovation', 'future', 'education', 'india', 'creativity', 'inspiration', 'life', 'quotes', 'devotion', 'vlw9wcexburt', 'coastline_oc', 'whether', 'you', 'are', 'in', 'search', 'of', 'the', 'perfect', 'job', ',', 'or', 'looking', 'to', 'advance', 'your', 'career', 'and', 'opportunities', ',', 'having', 'the', 'right', 'education', 'is', 'key', '.'], ['coastline', 'college', 'is', 'here', 'to', 'help', 'prepare', 'you', 'for', 'the', 'future', '.'], ['apply', 'to', 'our', 'career', 'education', 'programs', '!'], ['wjwkm9iqwt', 'coastlinecollege', 'xc6i0jqwebrt', 'whatisbestnow', 'share', 'the', 'best', 'education', 'content', 'download', 'the', 'best', 'app', '29sgygiwf8', 'veritasium', 'science', 'physics', 'qnegyvtbc8', 'vhztdnmx6jrt', 'girlsinpolitics', 'register', 'for', 'jr.', 'camp', 'congress', 'for', 'girls', 'charleston', '2023', 'on', 'mar', '18', 'for', 'girls', 'ages', '8-11', '.'], ['students', 'learn', 'about', 'politics', ',', 'run', 'for', 'office', ',', 'vote', '&', 'amp', ';', 'pass', 'a', 'bill', '.'], ['girlscouts', 'earn', 'a', 'badge', '.'], ['tickets', '➡️', 'llzfytzsrb', 'southcarolina', 'educationrt', 'drjdrooghaag', 'training', 'cyber', 'resilience', '–', 'drawing', 'the', 'line', 'against', 'cyberthreats', 'by', 'developing', 'cyber', 'resilience', 'by', 'drjdrooghaag', 'vklz4dtasv', 'cybersecurity', 'education', 'leadership', 'trainingneed', 'some', 'new', 'ideas', 'order', 'my', 'book', 'unconventional', 'ways', 'to', 'thriveinedu', 'wtnxufd0pi', 'many', 'ideas', 'for', 'pbl', 'sel', 'globaled', 'edtech', 'hybridlearning', 'educhat', 'education', 'k12', 'suptchat', 'blendedlearningsrila', 'prabhupada', 'krishna', 'prabhupada', 'motivation', 'success', 'love', 'innovation', 'future', 'education', 'india', 'creativity', 'inspiration', 'life', 'quotes', 'devotion', 'vlw9wcexbuwhether', 'you', 'are', 'in', 'search', 'of', 'the', 'perfect', 'job', ',', 'or', 'looking', 'to', 'advance', 'your', 'career', 'and', 'opportunities', ',', 'having', 'the', 'right', 'education', 'is', 'key', '.'], ['coastline', 'college', 'is', 'here', 'to', 'help', 'prepare', 'you', 'for', 'the', 'future', '.'], ['apply', 'to', 'our', 'career', 'education', 'programs', '!'], ['wjwkm9iqwt', 'coastlinecollege', 'xc6i0jqweb', 'news', 'sustainable', 'ethical', 'future', 'resources', 'jobs', 'education', 'change', 'systemrt', 'dotsconnector', 'may', 'allah', '(', 'god', ')', 'bless', 'us', 'to', 'utilize', 'what', 'we', 'have', 'of', 'education', 'to', 'help', 'the', 'apostle', 'in', 'the', 'mission', 'of', 'the', 'resurrection', '.'], ['otherwise', ',', 'what', 'we', 'learned', 'becomes', 'a', 'crown', 'of', 'thorns', 'on', 'our', 'heads', '.'], ['oneblackmansopinion', 'education', 'phd', 'jd', 'texassouthernuniversity', 'thurgoodmarshalllawschoolrt', 'ruraltoglobal', 'wearecommitted', 'to', 'reach', 'out', 'to', 'young', 'rural', 'women', 'and', 'girls', 'in', 'our', 'society', 'who', 'are', 'missing', 'out', 'on', 'school', 'due', 'to', 'limited', 'information', 'and', 'education', 'on', 'mhm', ',', 'limited', 'access', 'to', 'menstrual', 'hygiene', 'products', ',', 'sanitary', 'toilet', 'facilities', ',', 'and', 'period', 'poverty', '.'], ['mentalhealthawarenessmonth', 'xzfgbqsb8xrt', 'tmj_cob_edu', 'this', 'education', 'job', 'might', 'be', 'a', 'great', 'fit', 'for', 'you', '.'], ['click', 'the', 'link', 'in', 'our', 'bio', 'to', 'see', 'it', 'and', 'more', '.'], ['dental', 'assistant', 'lead', 'instructor', '(', 'cda', ',', 'rda', ')', '|', 'full-time', '|', 'afternoon-evening', 'at', 'pima', 'medical', 'institute', 'denver', ',', 'coregister', 'for', 'jr.', 'camp', 'congress', 'for', 'girls', 'charleston', '2023', 'on', 'mar', '18', 'for', 'girls', 'ages', '8-11', '.'], ['students', 'learn', 'about', 'politics', ',', 'run', 'for', 'office', ',', 'vote', '&', 'amp', ';', 'pass', 'a', 'bill', '.'], ['girlscouts', 'earn', 'a', 'badge', '.'], ['tickets', '➡️', 'llzfytzsrb', 'southcarolina', 'education', 'aliholden1967', 'join', '☂the', 'pragmatic', 'party🦬', 'a', 'global', 'voting', 'bloc', 'ubi=end', 'poverty', 'recycle', '100=jobs', '&', 'amp', ';', 'no', 'dumps', 'healthcare', '&', 'amp', ';', 'education', 'cost', 'based', 'on', 'income', 'industry', '&', 'amp', ';', 'internet', 'protocol', 'habitat', 'protection', '&', 'amp', ';', 'preservation', 'solar', 'to', 'hydrogen', 'end', 'fossil', 'fuels', 'judicial', '&', 'amp', ';', 'election', 'reform', '“', 'the', 'biggest', 'single', 'investment', 'we', 'can', 'make', 'is', 'in', 'young', 'people', '.'], ['one', 'of', 'the', 'biggest', 'reasons', 'why', 'i', 'got', 'into', 'this', 'race', 'is', 'my', 'concern', 'for', 'education', 'at', 'all', 'levels', '”', 'benacquayendp', 'ax4nkntej2rt', 'rdene915', 'grab', 'a', 'copy', 'of', 'my', 'new', 'book', 'your', 'world', 'language', 'classroom', 'at', 'xxvlum0vzd', 'or', 'from', 'routledgeeoe', 'education', 'edtech', 'suptchat', 'sel', 'pbl', 'languages', 'languagelearning', 'langchat', 'spanish', 'french', 'v55zfjadxc', 'deaf', 'education', 'z2cjrqjgjhhandbook', 'of', 'psychological', 'change', 'psychotherapy', 'processes', 'by', 'c.', 'r.', 'snyder', '&', 'amp', ';', 'rick', 'ebay🇺🇸', 'textbooks', 'education', 'reference', 'vqpwk223j7rt', 'cyberpeacecorps', 'given', 'the', 'rise', 'in', 'cybercrimes', 'against', 'schools', 'and', 'organisations', 'nationwide', ',', 'here', 'are', 'the', 'top', 'tips', 'to', 'improve', 'cybersecurity', 'for', 'your', 'school', '.'], ['cyberpeace', 'cybersecuritytips', 'elearning', 'education', 'cyberthreat', 'phishing', 'ransomware', 'ip', 'vpn', 'bqzjlsmtynrt', 'coinxndr', 'a', 'vote', 'for', 'conservatives', 'in', 'the', 'ontarioelection2022', 'guarantees', 'your', 'kids', 'will', 'be', 'home', 'for', 'a', 'period', 'of', 'the', 'school', 'year', '&', 'amp', ';', 'not', 'in', 'class', '.'], ['dougford', 'hates', 'education', '&', 'amp', ';', 'educators', '&', 'amp', ';', 'contracts', 'are', 'up', '.'], ['there', 'will', 'be', 'a', 'strike', '&', 'amp', ';', 'it', 'won', 't', 'be', 'over', 'salary', '!'], ['fordfailedschools', 'onpoli', 'ontedmath', 'tips', '8', 'smart', 'ways', 'to', 'help', 'your', 'child', 'learn', 'math', 'easier', 'raqjkkp0sp', 'education', 'mathsrt', 'girlsinpolitics', 'join', 'us', 'in', 'texas', 'for', 'camp', 'congress', 'for', 'girls', 'houston', '2023', 'on', 'march', '4', '.'], ['students', 'learn', 'about', 'politics', ',', 'run', 'for', 'office', ',', 'vote', '&', 'amp', ';', 'pass', 'a', 'bill', '.'], ['tickets', '➡️', 'ru8szdzxpu', 'education', 'politics', 'dallas', 'galveston', 'austin', 'sanantoniort', 'islamthenwo', 'allah', 'is', 'the', 'one', 'and', 'only', 'god', ',', 'the', 'creator', 'of', 'the', 'heavens', 'and', 'the', 'earth', 'and', 'every', 'form', 'of', 'life', ',', 'who', 'has', 'no', 'equal', 'or', 'partner', '.'], ['the', 'name', 'god', 'is', 'actually', 'not', 'as', 'old', 'as', 'we', 'think', '-', 'allah', 'predates', 'it', '.'], ['see', 'the', 'sub-tweets', 'below', 'to', 'learn', 'more', '!'], ['islam', 'education', 'allah', 'god', 'retweeet', '6rorudvuqxrt', 'rdene915', 'grab', 'a', 'copy', 'of', 'my', 'new', 'book', 'your', 'world', 'language', 'classroom', 'at', 'xxvlum0vzd', 'or', 'from', 'routledgeeoe', 'education', 'edtech', 'suptchat', 'sel', 'pbl', 'languages', 'languagelearning', 'langchat', 'spanish', 'french', 'v55zfjadxcrt', 'thebetterbot', 'give', 'your', 'pet', 'ten', 'minutes', 'of', 'focused', 'attention', '😉', 'type', 'relaxation', '🧘', 'participants', '1', 'accessibility', '0', '1', '(', 'zero', 'being', 'the', 'most', 'accessible', ')', 'price', '0', '1', '(', 'zero', 'being', 'free', ')', 'education', 'recreational', 'social', 'diy', 'charity', 'cooking', 'relaxation', 'music', 'busyworkrt', 'huawei_tech4all', 'in', 'our', 'increasingly', 'digital', 'world', ',', 'no', 'one', 'should', 'be', 'left', 'behind', '.'], ['and', 'that', 'starts', 'with', 'education', '.'], ['🎓', 'learn', 'how', 'huawei', '&', 'amp', ';', 'unesco', 'are', 'piloting', 'teoss', 'digital', 'education', 'projects', 'in', 'ethiopia', ',', 'ghana', '&', 'amp', ';', 'egypt', 'to', 'help', 'drive', 'education', 'equity', '&', 'amp', ';', 'quality', '👉', 'unescoicts', 'tech4all', 'tech4eduthe', 'stepping', 'stones', 'group', 'is', 'looking', 'for', 'teammates', 'like', 'you', '.'], ['see', 'our', 'latest', 'education', 'job', 'openings', ',', 'including', 'charter', 'school', 'openings', 'for', 'sped', 'teachers', ',', 'via', 'the', 'link', 'in', 'our', 'bio', '.'], ['chulavista', ',', 'cart', 'timeisfinishing', 'history', 'facts', 'truth', 'politicslive', 'politicsnation', 'politicalthinking', 'youtube', 'news', 'thread', 'conspiracy', 'freedom', 'liberty', 'misinformation', 'education', 'prophecy', 'bible', 'agenda21', 'socialmedia', 'socialcreditsystem', 'how', 'to', 'study', 'history', 'pi8skelvxl', 'via', 'youtube', 'imwcrxxikgrt', 'richardkimphd', 'genius', 'group', 's', 'edtech', 'arm', 'geniusu', 'closes', 'metaverse', 'round', 'at', 'us', '$', '250', 'million', 'valuation', '11', 'may', ',', '2022', '20', '05', '00', 'nigewillson', 'ingliguori', 'curieuxexplorer', 'fogoros', 'arxiv_daily', 'glengilmore', 'drjdrooghaag', 'group', 'genius', 'entrepreneur', 'education', 'geniusu', '6v1pqlzv4nhi', 'friends', '.'], ['after', 'years', 'of', 'teaching', 'learning', 'and', 'valuing', 'education', ',', 'i', 'want', 'to', 'help', 'you', '!'], ['i', 'care', 'and', 'i', 'want', 'to', 'help', '.'], ['jxoznj8bg2', 'teachers', 'learners', 'homeschool', 'students', 'resources', 'products', 'services', 'smallbusiness', 'duoinspirations', 'kadp7n4n7hrt', 'huawei_tech4all', 'due', 'to', 'the', 'pandemic', ',', '“', 'many', 'children', 'stayed', 'at', 'home', 'without', 'education', 'for', 'up', 'to', 'one', 'year', ',', '”', 'says', 'ethiopian', 'teacher-trainer', 'inku', '.'], ['how', 'can', 'technology', 'ensure', 'learning', 'is', 'never', 'disrupted', 'like', 'this', 'again', '🎓find', 'out', '👉', 'unesco', 'unescoicts', 'teoss', 'openschools', 'tech4edu', 'tech4allrt', 'cbit_roxana_mdh', 'la', 'importancia', 'de', 'liderazgo', 'por', 'irvinc', 'zblgtsckgn', 'hive', 'leader', 'leadership', 'educationwant', 'to', 'work', 'in', 'richardson', ',', 'tx', 'view', 'our', 'latest', 'opening', 'sa8uujiarz', 'education', 'mcfaul', 'rofl', 'prof', '!'], ['sundayfunday', 'nope', '!'], ['abrahamic', 'disaster', 'profiteering', 'colonial', 'identity', 'is', 'targeting', 'ancient', 'culture', 'via', 'networkofabrahamicterrororganization', 'nato', 'academicdecolonization', 'academictwitter', 'decolonization', 'decolonisation', 'decolonize', 'education', '8zcb6opgwqrt', 'educannotwait', 'education', '=', 'protection', ',', 'equality', ',', 'opportunity', '💙', 'we', 'must', 'continue', 'to', 'invest', 'in', '&', 'amp', ';', 'fight', 'for', 'the', 'right', 'of', 'every', 'girl', 'to', 'education', ',', 'incl', '.'], ['girls', 'living', 'in', 'crisis-affected', 'areas', 'of', 'the', '🌎', '!'], ['rt', 'if', 'you', 'agree', 'there', 'must', 'be', 'a', 'place', 'at', 'school', 'for', 'every', 'girl', '!'], ['👉', 'h2aagdes6v', 'juf2wir5djil', 'faut', 'oser', 'inventer', 'l', '’', 'avenir', 'être', 'jeune', 'c', '’', 'est', 'être', 'source', 'd', '’', 'espoir', 'pour', 'un', 'mondemeilleur💪🏽', 'l', '’', 'afrique', 'a', 'besoin', 'de', 'créateurs', 'on', 'a', 'assez', 'de', 'ressources', 'à', 'l', '’', 'état', 'brutes', 'sur', 'toutes', 'les', 'dimensions', 'du', 'termes', '.'], ['innovation', 'educationrt', 'virginiebeck3', 'porte', 'cassée', 'dans', 'un', 'village', 'alsacien', '...', 'si', 'l', 'école', 'ne', 'sert', 'à', 'rien', 'pour', 'certains', ',', 'nous', 'remettrons', 'une', 'école', 'dans', 'chaque', 'village', '!'], ['nous', 'redonnerons', 'l', 'autorité', 'abandonnée', ',', 'nous', 'rétablirons', 'des', 'valeurs', 'dignes', 'pour', 'nos', 'enfants', '.'], ['instructionscolaire', 'éducation', 'civisme', 'zemmour2022', 'vtblynu7nwmay', 'allah', '(', 'god', ')', 'bless', 'us', 'to', 'utilize', 'what', 'we', 'have', 'of', 'education', 'to', 'help', 'the', 'apostle', 'in', 'the', 'mission', 'of', 'the', 'resurrection', '.'], ['otherwise', ',', 'what', 'we', 'learned', 'becomes', 'a', 'crown', 'of', 'thorns', 'on', 'our', 'heads', '.'], ['oneblackmansopinion', 'education', 'phd', 'jd', 'texassouthernuniversity', 'thurgoodmarshalllawschoolrt', 'getthatrightgtr', 'gay', 'marriage', '27', 'countries', 'that', 'allow', 'same', 'sex', 'marriage', 'ni4o97nnbk', 'education', 'factsrt', 'valentinaesl', 'the', 'work', 'we', 'do', 'is', 'important', '❤️🌎🙌🏽', 'teaching', 'multilingual', 'learners', 'multilingualsupport', 'multilingualism', 'teacher', 'education', 'bilingual', 'emergentbilingual', 'kollbsjscqrt', 'nha_careers', 'founded', 'on', 'academic', 'excellence', ',', 'moral', 'focus', ',', 'parental', 'partnership', ',', 'and', 'student', 'responsibility', ',', 'national', 'heritage', 'academies', 'is', 'like', 'none', 'other', '–', 'one', 'that', 'can', 'lead', 'your', 'career', 'path', 'to', 'a', 'lifetime', 'of', 'success', '.'], ['click', 'to', 'apply', '3t5fkawash', 'syracuse', ',', 'ny', 'educationgreat', 'news', '!'], ['our', 'futures', 'thinking', 'playbook', 'is', 'now', 'available', 'in', 'more', 'languages', 'on', 'amazon', '.'], ['to', 'get', 'a', 'copy', ',', 'use', 'the', 'link', 'below', '.'], ['🌐', 'b9dyvlannc', 'teachthefuture', 'education', 'teaching', 'future', 'futuresliteracy', 'futuresthinking', 'playbook', 'aortomogdmrt', 'policywriters', 'are', 'you', 'a', 'uk', 'training', 'company', 'let', 'us', 'review', 'your', 'policy', 'documents', '.'], ['training', 'education', 'onlinelearning', 'ougugxjiiart', 'trulyfights', 'lil', 'bro', 'kinda', 'odd', 'his', 'freaky', 'ahh', 'started', 'choking', 'him', 'education', 'schoolfights', 'fights', 'fightvideos', 'hoodfights', 'trending', '4qv3ugfocrrt', 'girlsinpolitics', 'join', 'us', 'for', 'camp', 'united', 'nations', 'for', 'girls', 'dc', '2023', 'on', 'feb', '25', '.'], ['delegates', 'learn', 'about', 'learn', 'about', 'the', 'un', '’', 's', 'work', ',', 'int', 'l', 'policy', 'then', 'pass', 'a', 'un', 'resolution', '.'], ['girlscouts', 'earn', 'a', 'badge', '.'], ['tickets', '➡️', 'ufplurbsog', 'virginia', 'maryland', 'educationrt', 'rdene915', 'grab', 'a', 'copy', 'of', 'my', 'new', 'book', 'your', 'world', 'language', 'classroom', 'at', 'xxvlum0vzd', 'or', 'from', 'routledgeeoe', 'education', 'edtech', 'suptchat', 'sel', 'pbl', 'languages', 'languagelearning', 'langchat', 'spanish', 'french', 'v55zfjadxcrt', 'raisa_org', 'the', 'fifth', 'panel', 'of', 'cybercon', 'romania', 'is', 'cybersecurity', 'education', 'and', 'career', 'development', '.'], ['it', 'will', 'start', 'at', '14', '00', 'eest', ',', 'on', 'may', '20', ',', '2022', '.'], ['to', 'attend', 'cybercon', 'romania', 'online', 'conference', ',', 'you', 'can', 'register', 'at', 'mrpqzpvgep', '.'], ['cybercon', 'cybersecurity', 'education', 'bfhgvzwcgirt', 'tcea', 'do', 'you', 'practice', 'active', 'listening', 'h1c4jm6hsd', 'diben', 'skillbuilding', 'edutwitter', 'education', 'kjbkrgkdjtrt', 'coinxndr', 'a', 'vote', 'for', 'conservatives', 'in', 'the', 'ontarioelection2022', 'guarantees', 'your', 'kids', 'will', 'be', 'home', 'for', 'a', 'period', 'of', 'the', 'school', 'year', '&', 'amp', ';', 'not', 'in', 'class', '.'], ['dougford', 'hates', 'education', '&', 'amp', ';', 'educators', '&', 'amp', ';', 'contracts', 'are', 'up', '.'], ['there', 'will', 'be', 'a', 'strike', '&', 'amp', ';', 'it', 'won', 't', 'be', 'over', 'salary', '!'], ['fordfailedschools', 'onpoli', 'ontedare', 'you', 'a', 'uk', 'training', 'company', 'let', 'us', 'review', 'your', 'policy', 'documents', '.'], ['training', 'education', 'onlinelearning', 'ougugxjiialil', 'bro', 'kinda', 'odd', 'his', 'freaky', 'ahh', 'started', 'choking', 'him', 'education', 'schoolfights', 'fights', 'fightvideos', 'hoodfights', 'trending', '4qv3ugfocrrt', 'projectzerohgse', 'teachers', '!'], ['the', 'good', 'project', '(', 'gpharvard', ')', 'is', 'looking', 'for', 'teachers', 'to', 'join', 'a', 'study', 'and', 'to', 'become', 'a', 'part', 'of', 'a', 'community', 'of', 'practice', 'that', 'will', 'implement', 'lessons', 'that', 'help', 'students', 'to', 'explore', 'values', ',', 'responsibilities', ',', 'and', 'goals', '.'], ['learn', 'more', '4fucet2osg', 'hgse', 'educationjoin', 'us', 'for', 'camp', 'united', 'nations', 'for', 'girls', 'dc', '2023', 'on', 'feb', '25', '.'], ['delegates', 'learn', 'about', 'learn', 'about', 'the', 'un', '’', 's', 'work', ',', 'int', 'l', 'policy', 'then', 'pass', 'a', 'un', 'resolution', '.'], ['girlscouts', 'earn', 'a', 'badge', '.'], ['tickets', '➡️', 'ufplurbsog', 'virginia', 'maryland', 'educationrt', 'estoniaedu', 'how', 'to', 'understand', 'whether', 'the', 'ict', 'graduates', 'meet', 'the', 'expectations', 'of', 'employers', 'read', 'how', 'estonia', 'is', 'solving', 'it', '.'], ['the', 'unique', 'it', 'academy', 'programme', 'considers', 'needs', 'of', 'companies', 'and', 'state', ',', 'the', 'abilities', 'of', 'universities', 'and', 'vet', 'education', '.'], ['👇', 'sbofdpw5firt', 'frronconi', '3d', 'and', 'ar', 'the', 'future', 'of', 'medical', 'learning', 'medtech', 'edtech', 'education', 'meded', 'healthtech', 'augmentedreality', 'jeroenbartelse', 'curieuxexplorer', 'hana_elsayyed', 'enilev', 'globaliqx', 'shi4tech', 'pawlowskimario', 'margaretsiegien', 'anand_narang', 'khulood_almani', 'mvollmer1', 'labordeolivier', 'igwioieelzclick', 'the', 'link', 'in', 'our', 'bio', 'to', 'see', 'currently', 'open', 'education', 'jobs', 'like', 'special', 'education', 'teacher', '(', 'sped', ')', 'at', 'the', 'stepping', 'stones', 'group', 'in', 'soledad', ',', 'ca.rt', 'jgfortwayne', 'get', 'the', 'journal', 'gazette', 's', 'free', 'schools', '&', 'amp', ';', 'education', 'newsletter', 'for', 'coverage', 'including', 'board', 'meetings', ',', 'legislation', ',', 'editorials', 'and', 'spotlights', 'on', 'students', 'and', 'teachers', '.'], ['sign', 'up', '29xyohee4j', 'fortwayne', 'indiana', 'local', 'localnews', 'schools', 'education', 'lurif16plmrt', 'cambridgeeng', 'we', 'work', 'with', 'ministries', 'of', 'education', ',', 'education', 'institutions', 'and', 'employers', 'all', 'over', 'the', 'world', 'to', 'improve', 'their', 'english', 'language', 'education', 'systems', '.'], ['learn', 'how', 'we', 'can', 'help', 'you', 'yiz5qe7znh', 'cambridge', 'languagepolicy', 'education', 'vylkdomjbf', 'udemy', 'education', 'free', 'hosted', 'website', 'on', 'gitpages', 'and', 'simple', 'git', 'guide', 'free', 'courserated', '4.9', 'stars', 'free', 'coding', 'training', 'svekis', 'learning', 'learn', '0bcyg4b42lrt', 'rdene915', 'check', 'out', 'the', 'latest', 'from', 'da_magazine', 'k3eo1fwnup', 'education', 'edchat', 'edtech', 'edleaders', 'k12', 'suptchat', 'schools', 'thriveinedu', 'fetcrt', 'valentinaesl', 'the', 'work', 'we', 'do', 'is', 'important', '❤️🌎🙌🏽', 'teaching', 'multilingual', 'learners', 'multilingualsupport', 'multilingualism', 'teacher', 'education', 'bilingual', 'emergentbilingual', 'kollbsjscqrt', 'visastudying', 'is', 'taking', 'a', 'gap', 'year', 'a', 'good', 'idea', 'if', 'you', 'get', 'rejected', 'by', 'the', 'university', 'you', 'applied', 'to', 'taking', 'a', 'gap…', 'dtvbpy5ek2', 'study', ',', 'germany', ',', 'studies', ',', 'education', ',', 'scholarship', ',', 'internationalstudentsrt', 'drjdrooghaag', 'training', 'cyber', 'resilience', '–', 'drawing', 'the', 'line', 'against', 'cyberthreats', 'by', 'developing', 'cyber', 'resilience', 'by', 'drjdrooghaag', 'vklz4dtasv', 'cybersecurity', 'education', 'leadership', 'trainingrt', 'pamirtimes', 'teacher', ',', 'dressed', 'as', 'a', 'groom', ',', 'gets', 'a', 'heartfelt', 'farewell', 'in', 'yasin', 'valley', 'of', 'ghizer', 'district', '.'], ['raja', 'sher', 'babar', 'khan', 'taught', 'students', 'for', 'almost', '42', 'years', '.'], ['the', 'whole', 'village', 'came', 'out', 'to', 'bid', 'him', 'a', 'farewell', '.'], ['teacher', 'education', 'hei0p5i8hnrt', 'smileforallsoc1', 'evening', 'classes', 'at', 'faridabad', 'smileforall', 'india', 'sikhshatumharizimmedarihumari', 'books', 'educationforall', 'pen', 'colours', 'kids', 'education', '80vy8vlb3rwe', 're', 'hiring', '!'], ['click', 'to', 'apply', 'work', 'based', 'learning', '(', 'wbl', ')', 'specialist', '-', 'qlfvv0zg0k', 'education', 'cityofangelsrt', 'makera17', 'dedicated', 'to', 'my', 'son❤️', 'msc', '(', 'hrm', ')', '🎉🎉🎉', 'open', 'to', 'opportunities', '👍📌', 'education', 'like', 'follow', 'p7ji8ncv6qrt', 'bimun_unaserbia', '19th', 'bimun2022', 'conference', 'officially', 'opened', 'yesterday', ',', 'with', 'special', 'guests', 'from', 'unct_serbia', 'and', 'mfaserbia', '.'], ['we', 'had', 'a', 'plenary', 'discussion', 'with', 'the', 'topic', 'global', 'partnership', 'and', 'solidarity', 'in', 'building', 'a', 'peaceful', 'and', 'sustainable', 'future', '.'], ['modelun', 'education', 'globalgoals', 'youth2030', 'ged6gvuurvtraining', 'cyber', 'resilience', '–', 'drawing', 'the', 'line', 'against', 'cyberthreats', 'by', 'developing', 'cyber', 'resilience', 'by', 'drjdrooghaag', 'vklz4dtasv', 'cybersecurity', 'education', 'leadership', 'trainingrt', 'tcea', 'do', 'you', 'practice', 'active', 'listening', 'h1c4jm6hsd', 'diben', 'skillbuilding', 'edutwitter', 'education', 'kjbkrgkdjtrt', 'aikiu_metaverse', 'this', 'is', 'not', 'the', 'internet', '.'], ['this', 'is', 'the', 'metaverse', '.'], ['education', 'metaverse', 'blockchain', 'pinetwork', 'buildpi2gether', 'what', 'role', 'does', 'metaverse', 'play', 'in', 'your', 'families', 'educational', 'future', '2chdfe2kcr', 'iowqh4zgsqrt', 'virginiebeck3', 'porte', 'cassée', 'dans', 'un', 'village', 'alsacien', '...', 'si', 'l', 'école', 'ne', 'sert', 'à', 'rien', 'pour', 'certains', ',', 'nous', 'remettrons', 'une', 'école', 'dans', 'chaque', 'village', '!'], ['nous', 'redonnerons', 'l', 'autorité', 'abandonnée', ',', 'nous', 'rétablirons', 'des', 'valeurs', 'dignes', 'pour', 'nos', 'enfants', '.'], ['instructionscolaire', 'éducation', 'civisme', 'zemmour2022', 'vtblynu7nwrt', 'controlchaosedu', 'eoy', 'games', '!'], ['episode', '7', '!', '!'], ['check', 'it', 'out', 'and', 'add', 'some', 'games', 'to', 'the', 'final', 'days', 'of', 'school', '.'], ['mrs_truckman', 'mrshowell24', 'check', 'out', 'the', 'show', 'notes', 'on', 'the', 'site', '2rdo5yyp2o', 'edutwitter', 'educoach', 'education', 'edchat', 'edchatie', 'edtech', 'teachertwitter', 'sharingiscaring', '8lvopp53ly', 'freecourse', 'easy', 'cli', 'live', 'server', 'setup', 'for', 'node', 'localhost', 'rated', '4.6', 'stars', 'by', '92', 'students', 'cwtunarh9r', 'free', 'education', 'education', 'education', 'online', 'questions', 'history', 'facts', 'truth', 'politicslive', 'politicsnation', 'politicalthinking', 'youtube', 'news', 'thread', 'conspiracy', 'freedom', 'liberty', 'misinformation', 'education', 'prophecy', 'bible', 'agenda21', 'socialmedia', 'socialcreditsystem', 'how', 'to', 'study', 'history', 'pi8skelvxl', 'via', 'youtube', 'imwcrxxikgrt', 'tcea', 'do', 'you', 'practice', 'active', 'listening', 'h1c4jm6hsd', 'diben', 'skillbuilding', 'edutwitter', 'education', 'kjbkrgkdjtrt', 'tcea', 'do', 'you', 'practice', 'active', 'listening', 'h1c4jm6hsd', 'diben', 'skillbuilding', 'edutwitter', 'education', 'kjbkrgkdjtrt', 'topstep', 'more', 'free', 'classes', 'you', 'say', 'yes', ',', 'we', 'love', 'free', 'classes', 'at', 'topstep', '.'], ['5bdxti7c6f', 'futures', 'trading', 'markets', 'stocks', 'crypto', 'education', 'free', '$', 'es_f', '$', 'nq_f', '$', 'gc_f', '$', 'cl_f', 'whec46svkndfe', 'post', '👉', 'increased', 'mental', 'health', 'support', 'for', 'children', 'and', 'young', 'people', '70ioxk8eld', 'education', 'education', 'medicaleducation', 'rdakf7drka5️⃣', 'thread', 'end', '-', 'hi', 'guy', '’', 's', 'follow', 'cryptopatel', 'if', 'you', 'like', 'my', 'content', 'please', 'don', 't', 'forget', 'to', 'like', '❤️', 'retweet', '&', 'amp', ';', 'share', 'your', 'valuable', 'appreciation', 'in', 'comment', 'section', '.'], ['thank', 'you', '.'], ['cryptocurrency', 'bitcoin', 'trading', 'binance', 'meraverse', 'nft', 'web3', 'educationthis', 'is', 'not', 'the', 'internet', '.'], ['this', 'is', 'the', 'metaverse', '.'], ['education', 'metaverse', 'blockchain', 'pinetwork', 'buildpi2gether', 'what', 'role', 'does', 'metaverse', 'play', 'in', 'your', 'families', 'educational', 'future', '2chdfe2kcr', 'iowqh4zgsqrt', 'ismailmir15', 'kupwara', 'terriers', 'organises', 'sports', 'marshalart', 'program', 'for', 'kids', 'from', 'tregham', ',', 'kupwara', '.'], ['education', 'sports', 'internationalschool', 'indianarmyinkashmir', 'kupwaraterriers', 'indianarmy', 'clx', '14may22kt', 'rlwchfbs1grt', 'whatisbestnow', 'what', 's', 'best', 'on', 'qjtklml7xl', 'does', 'trickle-down', 'economics', 'actually', 'work', '-', 'jonathan', 'smith', 'kparf0t0na', 'education', 'trickledowneconomics', 'trickledown', 'economics', 'economicpolicy', 'reaganomics', 'reagan', 'ytatdwfkafrt', 'jinyen12', 'education', ',', 'now', 'decentralized', 'and', 'democratized', ',', 'on', 'edverse', ';', 'the', 'world', 's', 'most', 'insightful', ',', 'immersive', ',', 'and', 'interactive', 'metaverse', '.'], ['welcome', 'to', 'the', 'digital', 'cosmos', 'of', 'education', '!'], ['visit', '7zq9xhkbcv', 'to', 'know', 'more', '10xll1rgtx', 'edverse', 'edvrt', 'erlijng', 'good', 'news', 'more', 'and', 'more', 'governments', 'are', 'putting', 'regulations', 'in', 'place', ',', 'to', 'make', 'environmental', 'education', 'an', 'important', 'part', 'of', 'educational', 'programs', '.'], ['in', 'this', 'article', ',', 'i', 'explain', '3', 'initiatives', 'teachers', 'can', 'take', 'to', 'make', 'this', 'education', 'effective', '2zkdl7ovdo', 'sdg4wjec', 'a2', 'chemistry', 'study', 'and', 'revision', 'guide', 'by', 'ballard', ',', 'david', 'ebay🇺🇸', 'textbooks', 'education', 'reference', 'bogvcym2agchildren', 'getting', 'in', 'contact', 'with', 'nature', 'at', 'school', ',', 'shouldn´t', 'that', 'be', 'an', 'everday', 'school', 'routine', 'savesoilatcop15', 'savesoil', 'consciousplanet', 'education', 'kids', 'srishti_vizag', '_bildung_in_at', 'oeyoshibmykupwara', 'terriers', 'organises', 'sports', 'marshalart', 'program', 'for', 'kids', 'from', 'tregham', ',', 'kupwara', '.'], ['education', 'sports', 'internationalschool', 'indianarmyinkashmir', 'kupwaraterriers', 'indianarmy', 'clx', '14may22kt', 'rlwchfbs1grt', 'visastudying', 'is', 'taking', 'a', 'gap', 'year', 'a', 'good', 'idea', 'if', 'you', 'get', 'rejected', 'by', 'the', 'university', 'you', 'applied', 'to', 'taking', 'a', 'gap…', 'dtvbpy5ek2', 'study', ',', 'germany', ',', 'studies', ',', 'education', ',', 'scholarship', ',', 'internationalstudentsrt', 'rdene915', 'check', 'out', 'the', 'latest', 'from', 'da_magazine', 'k3eo1fwnup', 'education', 'edchat', 'edtech', 'edleaders', 'k12', 'suptchat', 'schools', 'thriveinedu', 'fetcrt', 'rdene915', 'grab', 'a', 'copy', 'of', 'my', 'new', 'book', 'your', 'world', 'language', 'classroom', 'at', 'xxvlum0vzd', 'or', 'from', 'routledgeeoe', 'education', 'edtech', 'suptchat', 'sel', 'pbl', 'languages', 'languagelearning', 'langchat', 'spanish', 'french', 'v55zfjadxcrt', 'nha_careers', 'founded', 'on', 'academic', 'excellence', ',', 'moral', 'focus', ',', 'parental', 'partnership', ',', 'and', 'student', 'responsibility', ',', 'national', 'heritage', 'academies', 'is', 'like', 'none', 'other', '–', 'one', 'that', 'can', 'lead', 'your', 'career', 'path', 'to', 'a', 'lifetime', 'of', 'success', '.'], ['click', 'to', 'apply', '3t5fkawash', 'syracuse', ',', 'ny', 'educationrt', 'zakkamulti1', 'i', 've', 'got', 'an', 'idea', '.'], ['いいこと思いついた。', 'bot', 'eigo', 'language', 'educationrt', 'richardkimphd', 'genius', 'group', 's', 'edtech', 'arm', 'geniusu', 'closes', 'metaverse', 'round', 'at', 'us', '$', '250', 'million', 'valuation', '11', 'may', ',', '2022', '20', '05', '00', 'nigewillson', 'ingliguori', 'curieuxexplorer', 'fogoros', 'arxiv_daily', 'glengilmore', 'drjdrooghaag', 'group', 'genius', 'entrepreneur', 'education', 'geniusu', '6v1pqlzv4nis', 'taking', 'a', 'gap', 'year', 'a', 'good', 'idea', 'if', 'you', 'get', 'rejected', 'by', 'the', 'university', 'you', 'applied', 'to', 'taking', 'a', 'gap…', 'dtvbpy5ek2', 'study', ',', 'germany', ',', 'studies', ',', 'education', ',', 'scholarship', ',', 'internationalstudentsrt', 'fabriziobustama', 'machine', 'learning', 'for', 'polar', 'regions', 'workshop', '.'], ['by', 'columbiaclimate', 'sdgs', 'climateaction', 'bigdata', '100daysofcode', 'sustainability', 'machinelearning', 'deeplearning', 'artificialintelligence', 'ai', 'nlp', 'rpa', 'blockchain', 'datascience', 'python', 'education', 'tech4good', 'tdlhlnleor', 'asugvig24drt', 'fabriziobustama', 'machine', 'learning', 'for', 'polar', 'regions', 'workshop', '.'], ['by', 'columbiaclimate', 'sdgs', 'climateaction', 'bigdata', '100daysofcode', 'sustainability', 'machinelearning', 'deeplearning', 'artificialintelligence', 'ai', 'nlp', 'rpa', 'blockchain', 'datascience', 'python', 'education', 'tech4good', 'tdlhlnleor', 'asugvig24drt', 'fabriziobustama', 'machine', 'learning', 'for', 'polar', 'regions', 'workshop', '.'], ['by', 'columbiaclimate', 'sdgs', 'climateaction', 'bigdata', '100daysofcode', 'sustainability', 'machinelearning', 'deeplearning', 'artificialintelligence', 'ai', 'nlp', 'rpa', 'blockchain', 'datascience', 'python', 'education', 'tech4good', 'tdlhlnleor', 'asugvig24dcheck', 'out', 'the', 'latest', 'from', 'da_magazine', 'k3eo1fwnup', 'education', 'edchat', 'edtech', 'edleaders', 'k12', 'suptchat', 'schools', 'thriveinedu', 'fetcrt', 'kentpage', 'ecw', 'thanks', 'each', 'of', 'our', '+60k', 'followers', '!'], ['by', 'retweeting', ',', 'you', 'raise', 'global', 'awareness', 'of', 'the', 'urgent', 'need', 'for', 'more', 'funding', 'so', 'every', 'girl', 'boy', 'in', 'emergencies', '&', 'amp', ';', 'protracted', 'crises', 'can', 'enjoy', 'their', 'right', 'to', 'education', '!'], ['un', 'bmz_bund', 'fcdogec', 'usaideducation', 'sida', 'yasminesherif1', 'sdg4', 'zd4jhxcslgrt', 'bittermedz', '[', 'tonite', ']', 'a', 'saturday', 'night', 'shoot', 'the', 'breeze', 'episode', '(', '48', ')', 'listen', 'here', 'p9hpxrl6oh', 'live', 'streaming', '5', '14', '2022', '8pm', 'est', 'set', 'your', 'reminders', 'now', '!'], ['blacktwitter', 'blm', 'saturday', 'racism', 'african', 'philosophy', 'afrocentric', 'education', 'shootingthebreeze', 'supportblackbusiness', 'nrwib90csograb', 'a', 'copy', 'of', 'my', 'new', 'book', 'your', 'world', 'language', 'classroom', 'at', 'xxvlum0vzd', 'or', 'from', 'routledgeeoe', 'education', 'edtech', 'suptchat', 'sel', 'pbl', 'languages', 'languagelearning', 'langchat', 'spanish', 'french', 'v55zfjadxcrt', 'mclennan1977', 'let', '’', 's', 'collaborate', 'on', 'instagram', '!'], ['follow', 'me', 'there', 'for', 'math', ',', 'art', 'and', 'play', 'ideas', 'outdoors', '!'], ['onted', 'education', 'teaching', 'learning', 'kindergarten', 'earlyed', 'saturday', 'maths', 'earlyed', 'k12', '2idhgjovlbfounded', 'on', 'academic', 'excellence', ',', 'moral', 'focus', ',', 'parental', 'partnership', ',', 'and', 'student', 'responsibility', ',', 'national', 'heritage', 'academies', 'is', 'like', 'none', 'other', '–', 'one', 'that', 'can', 'lead', 'your', 'career', 'path', 'to', 'a', 'lifetime', 'of', 'success', '.'], ['click', 'to', 'apply', '3t5fkawash', 'syracuse', ',', 'ny', 'educationi', 've', 'got', 'an', 'idea', '.'], ['いいこと思いついた。', 'bot', 'eigo', 'language', 'educationgenius', 'group', 's', 'edtech', 'arm', 'geniusu', 'closes', 'metaverse', 'round', 'at', 'us', '$', '250', 'million', 'valuation', '11', 'may', ',', '2022', '20', '05', '00', 'nigewillson', 'ingliguori', 'curieuxexplorer', 'fogoros', 'arxiv_daily', 'glengilmore', 'drjdrooghaag', 'group', 'genius', 'entrepreneur', 'education', 'geniusu', '6v1pqlzv4ngive', 'your', 'pet', 'ten', 'minutes', 'of', 'focused', 'attention', '😉', 'type', 'relaxation', '🧘', 'participants', '1', 'accessibility', '0', '1', '(', 'zero', 'being', 'the', 'most', 'accessible', ')', 'price', '0', '1', '(', 'zero', 'being', 'free', ')', 'education', 'recreational', 'social', 'diy', 'charity', 'cooking', 'relaxation', 'music', 'busyworkallah', 'is', 'the', 'one', 'and', 'only', 'god', ',', 'the', 'creator', 'of', 'the', 'heavens', 'and', 'the', 'earth', 'and', 'every', 'form', 'of', 'life', ',', 'who', 'has', 'no', 'equal', 'or', 'partner', '.'], ['the', 'name', 'god', 'is', 'actually', 'not', 'as', 'old', 'as', 'we', 'think', '-', 'allah', 'predates', 'it', '.'], ['see', 'the', 'sub-tweets', 'below', 'to', 'learn', 'more', '!'], ['islam', 'education', 'allah', 'god', 'retweeet', '6rorudvuqxjoin', 'us', 'in', 'texas', 'for', 'camp', 'congress', 'for', 'girls', 'houston', '2023', 'on', 'march', '4', '.'], ['students', 'learn', 'about', 'politics', ',', 'run', 'for', 'office', ',', 'vote', '&', 'amp', ';', 'pass', 'a', 'bill', '.'], ['tickets', '➡️', 'ru8szdzxpu', 'education', 'politics', 'dallas', 'galveston', 'austin', 'sanantoniort', 'susigon28333533', 'creativescty', '❗️1', '%', 'of', 'people', 'own', 'more', 'wealth', 'than', 'the', 'rest', '99', '%', '!'], ['limitation', 'of', 'wealth', '&', 'amp', ';', 'building', 'the', 'creativesociety', 'will', 'allow', 'to', 'allocate', 'super', 'profits', 'to', 'solving', 'problems', 'like', 'hunger', 'and', 'develop', 'education', ',', 'healthcare', '&', 'amp', ';', 'science', '.'], ['more', 'details', 'at', 'the', 'forum', '🔴', 'gqkjafwybprt', 'ousdnews', 'at', 'oakland', 'unified', 'school', 'district', ',', 'we', 'recognize', 'there', 'are', 'systemic', 'injustices', 'that', 'create', 'disadvantages', 'and', 'we', 'strive', 'to', 'work', 'against', 'them', '.'], ['join', 'us', 'on', 'our', 'mission', 'for', 'equity—apply', 'today', '.'], ['maek3rod3i', 'oakland', ',', 'ca', 'educationrt', 'edualternatives', 'we', '’', 're', 'extending', 'this', 'discount', 'for', 'two', 'more', 'days', '!'], ['oq0ygzcbey', 'education', 'conference', 'educationconference', 'onlineconference', 'homeschooling', 'unschooling', 'democraticachool', 'selfdirectededucation', 'selfdirectedlearning', 'learnercentered', 'learnerdircted', 'zmhkrfaehort', 'virginiebeck3', 'porte', 'cassée', 'dans', 'un', 'village', 'alsacien', '...', 'si', 'l', 'école', 'ne', 'sert', 'à', 'rien', 'pour', 'certains', ',', 'nous', 'remettrons', 'une', 'école', 'dans', 'chaque', 'village', '!'], ['nous', 'redonnerons', 'l', 'autorité', 'abandonnée', ',', 'nous', 'rétablirons', 'des', 'valeurs', 'dignes', 'pour', 'nos', 'enfants', '.'], ['instructionscolaire', 'éducation', 'civisme', 'zemmour2022', 'vtblynu7nwrt', 'makera17', 'dedicated', 'to', 'my', 'son❤️', 'msc', '(', 'hrm', ')', '🎉🎉🎉', 'open', 'to', 'opportunities', '👍📌', 'education', 'like', 'follow', 'p7ji8ncv6qthis', 'education', 'job', 'might', 'be', 'a', 'great', 'fit', 'for', 'you', '.'], ['click', 'the', 'link', 'in', 'our', 'bio', 'to', 'see', 'it', 'and', 'more', '.'], ['dental', 'assistant', 'lead', 'instructor', '(', 'cda', ',', 'rda', ')', '|', 'full-time', '|', 'afternoon-evening', 'at', 'pima', 'medical', 'institute', 'denver', ',', 'cort', 'davidedattoli', 'brainbraga', 'navalismhq', 'naval', 'exactly', '!', '!'], ['education', 'futureforget', 'it', 'not', 'that', 'we', 'supply', ';', 'neco', ',', 'waec', ',', 'nabteb', 'and', 'nbais', 'result', 'token', 'epin', '.'], ['swift', 'delivery', '.'], ['exam', 'utme', 'jamb', 'school', 'educationrt', 'tmj_sac_edu', 'join', 'the', 'the', 'stepping', 'stones', 'group', 'team', '!'], ['see', 'our', 'latest', 'job', 'opening', 'here', 'td9qvqk80m', 'education', 'fairfield', ',', 'cawashington', 'state', 'students', 'crowned', 'national', 'champions', 'in', 'world', 's', 'largest', 'rocket', 'contest', 'vojbhmm3gw', 'education', 'stemrt', 'burrellartsk12', 'time', 'to', 'enroll', 'for', 'kindergarten', '.'], ['we', 'have', 'only', 'a', 'few', 'spots', 'left', '.'], ['choose', 'a', 'school', 'that', 'allows', 'your', 'child', 'to', 'receive', 'a', 'rigorous', 'education', 'and', 'allows', 'their', 'creativity', 'to', 'flourish', '.'], ['apply', 'at', 'nabglzubka', 'artseducation', 'visualandperformingarts', 'auroracolorado', 'uom4jxi9cxrt', 'belmontday1927', 'fourth', 'graders', 'competed', 'this', 'week', 'in', 'the', 'second', 'annual', 'bds', 'greek', 'olympics', '...', 'and', 'it', 'was', 'glorious', '!'], ['physicaleducation', 'ancientgreece', 'education', 'olympics', '9macxaclcart', 'rem93200', 'arrêtez', 'de', 'sexualiser', 'le', 'corps', 'des', 'élèves', '!'], ['c', '’', 'est', 'le', 'retour', 'des', 'beaux', 'jours', ',', 'donc', 'les', 'réactionnaires', 'et', 'les', 'porcs', 'sont', 'de', 'sortie', 'vous', 'dégoûtez', 'et', 'vous', 'faites', 'partie', 'du', 'problème', '.'], ['teamprofs', 'education', 'educationnationalert', 'upsurgeon', 'simulated', 'brain', 'dissection', 'and', 'exposure', 'of', 'white', 'matter', 'fibers', '.'], ['big', 'news', 'soon', '!', '!', '!'], ['-', 'neuroanatomy', 'brainanatomy', 'medicine', 'medtech', 'technology', 'healthtech', 'medicalstudent', 'education', 'ndyu9xjtzuwhat', 'type', 'of', 'students', 'does', 'germany', 'look', 'for', 'to', 'accepted', 'in', 'their', 'engineering', 'universities', 'international', 'students', 'wanting', 'to', 'work', 'hard…', 'yemw5oz3jt', 'study', ',', 'germany', ',', 'education', ',', 'studyabroad', ',', 'scholarship', ',', 'internationalstudentsrt', 'valentinaesl', 'the', 'work', 'we', 'do', 'is', 'important', '❤️🌎🙌🏽', 'teaching', 'multilingual', 'learners', 'multilingualsupport', 'multilingualism', 'teacher', 'education', 'bilingual', 'emergentbilingual', 'kollbsjscq🔆', 'let', 'your', 'light', 'shine', '🔆', 'keep', 'being', 'you❕️', 'neurodiversity', 'communication', 'school', 'education', 'fourthgrade', 'neurodivergent', 'selfawareness', 'kindness', 'excitement', 'fun', 'assignment', 'adhd', 'sensory', 'justlikemom', 'parenting', 'ghff4v0saprt', 'tcea', 'do', 'you', 'practice', 'active', 'listening', 'h1c4jm6hsd', 'diben', 'skillbuilding', 'edutwitter', 'education', 'kjbkrgkdjtrt', 'lead_coalition', 'large', 'share', 'of', 'alzheimers', ',', 'dementia', 'cases', 'tied', 'to', '8', 'modifiable', 'risk', 'factors', 'gub5p8uly9', 'hearing', 'loss', '2.3', '%', 'current', 'smoking', '6.0', '%', 'diabetes', '7.3', '%', 'depression', '8.5', '%', 'midlife', 'hypertension', '8.8', '%', 'low', 'education', '11.7', '%', 'physical', 'inactivity', '11.8', '%', 'midlife', 'obesity', '17.7', '%', 'y4yeq8ixfn', 'florida', 'teacher', 'fired', 'for', 'teaching', 'pansexuality', ',', 'has', 'students', 'draw', 'their', 'sexual', 'orientation', '-', 'lgbtq', 'genderidentity', 'genderfluid', 'transgender', 'nonbinary', 'school', 'publicschool', 'education', 'izf8k7pgox', 'qum73axx6egreat', 'spring', 'reads', '...'], ['adventure', 'for', 'all', 'ages', '!'], ['xjx7ubjtbk', '5✰', 'kidlit', 'historicalfiction', 'adventure', 'family', 'rrbc', 'asmsg', 'homeschool', 'education', 'monarchbutterfly', 'drama', 'puzzles', 'poetry', '4jpbxzuh7mrt', 'huawei_tech4all', 'in', 'our', 'increasingly', 'digital', 'world', ',', 'no', 'one', 'should', 'be', 'left', 'behind', '.'], ['and', 'that', 'starts', 'with', 'education', '.'], ['🎓', 'learn', 'how', 'huawei', '&', 'amp', ';', 'unesco', 'are', 'piloting', 'teoss', 'digital', 'education', 'projects', 'in', 'ethiopia', ',', 'ghana', '&', 'amp', ';', 'egypt', 'to', 'help', 'drive', 'education', 'equity', '&', 'amp', ';', 'quality', '👉', 'unescoicts', 'tech4all', 'tech4eduhi', 'friends', '.'], ['do', 'you', 'like', 'to', 'stroll', 'pinterest', 'for', 'inspiration', 'do', 'you', 'value', 'faith', 'education', 'creativity', 'zyaidtsfoq', 'products', 'faithblog', 'duoinspirationsrt', 'frronconi', '3d', 'and', 'ar', 'the', 'future', 'of', 'medical', 'learning', 'medtech', 'edtech', 'education', 'meded', 'healthtech', 'augmentedreality', 'jeroenbartelse', 'curieuxexplorer', 'hana_elsayyed', 'enilev', 'globaliqx', 'shi4tech', 'pawlowskimario', 'margaretsiegien', 'anand_narang', 'khulood_almani', 'mvollmer1', 'labordeolivier', 'igwioieelzrt', 'virginiebeck3', 'porte', 'cassée', 'dans', 'un', 'village', 'alsacien', '...', 'si', 'l', 'école', 'ne', 'sert', 'à', 'rien', 'pour', 'certains', ',', 'nous', 'remettrons', 'une', 'école', 'dans', 'chaque', 'village', '!'], ['nous', 'redonnerons', 'l', 'autorité', 'abandonnée', ',', 'nous', 'rétablirons', 'des', 'valeurs', 'dignes', 'pour', 'nos', 'enfants', '.'], ['instructionscolaire', 'éducation', 'civisme', 'zemmour2022', 'vtblynu7nwrt', 'erlijng', 'good', 'news', 'more', 'and', 'more', 'governments', 'are', 'putting', 'regulations', 'in', 'place', ',', 'to', 'make', 'environmental', 'education', 'an', 'important', 'part', 'of', 'educational', 'programs', '.'], ['in', 'this', 'article', ',', 'i', 'explain', '3', 'initiatives', 'teachers', 'can', 'take', 'to', 'make', 'this', 'education', 'effective', '2zkdl7ovdo', 'sdg4we', 'understood', 'that', 'progress', 'is', 'a', 'process', ',', 'so', 'we', 'took', 'the', 'stairs', '...', '🤫💯', 'inspiration', 'motivation', 'education', 'nextlevelspeakersacademy', 'purposeoverpointlessexcuses', 'gn7hkzvcvxdo', 'it', 'now', '.'], ['.'], ['.'], ['.'], ['asismassage', 'asismassageeducation', 'massagetherapy', 'massageschools', 'massageschool', 'arizonaschoolofintegrativestudies', 'mesa', 'tucson', 'prescott', 'flagstaff', 'massage', 'bodywork', 'integrativemassage', 'massageeducation', 'wellness', 'education', 'college', 'bctmb', 'amta', 'abmp', 'ca6nw6ilj2rt', 'ed_blueprint', 'help', 'your', 'students', 'develop', 'a', 'love', 'for', 'learning', '!'], ['learning', 'studentengagement', 'studentsuccess', 'lifelonglearning', 'adhdawareness', 'adhd', 'education', 'studentempowerment', 'motivation', 'loveforlearning', 'learningstyles', 'qlz6fx7it0rt', 'mrd_class', 'the', 'trickle-down', 'effect', 'of', 'increased', 'college', 'tuition', 'teachers', 'are', 'scrutinized', 'for', 'their', 'grading', 'policies', 'more', 'than', 'ever', 'before', 'mediumwriters', 'medium', 'education', 'teachers', 'tcawql5fkdrt', 'animailboxes', 'what', '’', 's', 'even', 'more', 'interesting', 'is', 'that', 'this', 'single', 'ear', 'is', 'located', 'on', 'the', 'underside', 'of', 'its', 'belly', ',', 'just', 'forward', 'of', 'its', 'hind', 'legs', '.'], ['the', 'location', 'of', 'its', 'ear', 'means', 'that', 'the', 'praying', 'mantis', 'can', 't', 'distinguish', 'which', 'direction', 'a', 'sound', 'is', 'coming', 'from', '.'], ['animail', 'wildlife', 'education', 'mantid', 'u9b8wv7rhdrt', 'aliosmanoncel', 'erhanerkut', 'hocamızın', 'katılımı', 'ile', 'yapılan', ',', 'üniversitenin', 'geleceği', 'etkinliğinde', 'çok', 'boyutlu', 'olarak', 'ele', 'alınan', 'sorunlara', 'çözümler', 'önerildi', '.'], ['education', 'highereducation', 'eq3626ec4krt', 'oifrancophonie', 'l', '’', 'événement', 'a', 'permis', 'des', 'échanges', 'inspirants', 'entre', 'lmushikiwabo', ',', 'les', 'jeunes', 'présents', 'dans', 'la', 'salle', 'et', 'en', 'virtuel', 'et', 'les', 'organismes', 'partenaires', 'du', 'nouveau-brunswick', ',', 'notamment', 'sur', 'l', '’', 'importance', 'de', 'l', '’', 'éducation', ',', 'de', 'l', '’', 'égalité', 'femme-homme', 'et', 'de', 'l', '’', 'environnement', '.'], ['c1gbvrbzdert', 'tcea', 'do', 'you', 'practice', 'active', 'listening', 'h1c4jm6hsd', 'diben', 'skillbuilding', 'edutwitter', 'education', 'kjbkrgkdjtrt', 'virginiebeck3', 'porte', 'cassée', 'dans', 'un', 'village', 'alsacien', '...', 'si', 'l', 'école', 'ne', 'sert', 'à', 'rien', 'pour', 'certains', ',', 'nous', 'remettrons', 'une', 'école', 'dans', 'chaque', 'village', '!'], ['nous', 'redonnerons', 'l', 'autorité', 'abandonnée', ',', 'nous', 'rétablirons', 'des', 'valeurs', 'dignes', 'pour', 'nos', 'enfants', '.'], ['instructionscolaire', 'éducation', 'civisme', 'zemmour2022', 'vtblynu7nw', 'jidesanwoolu', 'the', 'newly', 'built', 'elemoro', 'community', 'junior', 'secondary', 'school', ',', 'built', 'on', '1.54', 'hectares', 'of', 'land', ',', 'has', 'a', 'six-lane', 'athletic', 'track', 'lagosstategovt', 'lasgeducation', 'lagosscrps', 'nigeria', 'lagos', 'lagosnigeria', 'school', 'nigeriaschools', 'good', 'education', 'student', 'lagosstategovernment', 'yelhrxvf5dpivot', 'to', 'the', 'future', 'discovering', 'value', 'and', 'creating', 'growth', 'in', 'a', 'disrupted', 'wo…', 'ebay🇺🇸', 'textbooks', 'education', 'reference', 'o09jcujcdgrt', 'firstinhealth', 'health', 'healthcare', 'healthtips', 'holistichealth', 'happiness', 'education', '1firstinhealth', 'join', 'our', 'healthmeans', 'global', 'health', 'summit', '.'], ['it', 's', 'free', 'june', '13th', 'june', '20th', '2022', 'gain', 'strategies', 'to', 'support', 'a', 'healthier', 'lymphaticsystem', '.'], ['lymphaticrescuesummit', 's9lolrvzx4', 'a5sfaazeyscoming', 'soon', '!', '!', '!', '!'], ['in', 'tha', 'trenches', '(', 'uncut', 'and', 'raw', ')', 'no', 'topic', 'is', 'off-limits', '.'], ['veterans', 'veteran', 'tsfconsultantmgmnt', 'realestate', 'government', 'religion', 'education', 'family', 'love', 'rawanduncut', 'vaclaims', 'vaclaimsinsiderrt', 'peterwmurphy1', 'running', 'scared', 'both', 'the', 'morrison', 'govt', 's', 'education', 'minister', 'alan', 'tudge', 'and', 'acting', 'education', 'minister', 'stuart', 'robert', 'refuse', 'to', 'debate', 'labor', 's', 'shadow', 'education', 'minister', 'tanya_plibersek', '.'], ['this', 'is', 'just', 'insulting', 'to', 'australian', 'voters', '.'], ['🤬', 'ausvotes', 'education', 'afternoonbriefing', 'pnetdrii4ert', 'tmj_sfo_edu', 'join', 'the', 'the', 'stepping', 'stones', 'group', 'team', '!'], ['see', 'our', 'latest', 'education', 'job', 'openings', ',', 'including', 'special', 'education', 'teacher', '(', 'sped', ')', ',', 'via', 'the', 'link', 'in', 'our', 'bio', '.'], ['walnutcreek', ',', 'cart', 'physicsforums', 'thoughts', 'on', 'the', 'complexity', 'of', 'modern', 'science', 'science', 'today', 'is', 'incredibly', 'complex', '.'], ['anyone', 'who', 'ever', 'did', '4uwhatasiy', 'educationrt', 'rdene915', 'i', 'am', 'seeking', 'guest', 'blogs', 'for', 'my', 'site', '!'], ['submit', 'yours', 'today', 'iwkabgbi6x', 'topics', 'education', 'sel', 'edtech', 'k12', 'ai', 'teaching', 'educhat', 'stem', 'nft', 'metaverse', '9pscc4f6aujoin', 'the', 'the', 'stepping', 'stones', 'group', 'team', '!'], ['see', 'our', 'latest', 'education', 'job', 'openings', ',', 'including', 'special', 'education', 'teacher', '(', 'sped', ')', ',', 'via', 'the', 'link', 'in', 'our', 'bio', '.'], ['walnutcreek', ',', 'ca', 'jasononthedrums', 'adrianalagrange', 'ryanjespersen', 'sosalberta', 'abprimetime', 'thestarcalgary', 'citynewscalgary', 'natobserver', 'pressprogress', 'thetyee', 'rabbleca', 'cbcnews', 'cbccalgary', 'kim_siever', 'djclimenhaga', 'antidemocratic', 'liberal_party', 'ndp', 'ableg', 'education', 'abndpcaucusrt', 'rosaisiah', '10', 'perspectives', 'on', 'equity', 'in', 'education', '.'], ['my', 'chapter', 'funds', 'of', 'knowledge', 'embracing', 'the', 'cultural', 'capital', 'of', 'students', 'of', 'color', '.'], ['weleaded', 'calsa', 'acsa', 'bwel', 'edleaders', 'equity', 'weleadtx', 'multilingual', 'atplc', 'education', 'careteachchange', 'cultureed', 'suptchat', 'o_l_mayers', 'routledgeeoe', 'sh54dh3dn8thoughts', 'on', 'the', 'complexity', 'of', 'modern', 'science', 'science', 'today', 'is', 'incredibly', 'complex', '.'], ['anyone', 'who', 'ever', 'did', '4uwhatasiy', 'educationrt', 'tmj_lax_edu', 'college', 'of', 'the', 'canyons', 'is', 'looking', 'for', 'teammates', 'like', 'you', '.'], ['see', 'our', 'latest', 'education', 'job', 'openings', ',', 'including', 'computer', 'networking', 'adjunct', 'instructor', 'applicant', 'pool', ',', 'via', 'the', 'link', 'in', 'our', 'bio', '.'], ['santaclarita', ',', 'cart', 'inclasswithcarr', 'all-new', 'in', 'class', 'with', 'carr', 'with', 'karenhunter', 'and', 'dr.', 'greg', 'carr', '(', 'africanacarr', ')', '...', '(', 'ep', '.'], ['114', ')', 'education', 'and', 'the', 'meaning', 'of', 'family', '.'], ['watch', 'here', '👉🏾', 'qw9vtgjlya', 'inclasswithcarr', 'tupac', 'barracoon', 'education', 'family', 'qzdwpm4mfni', 'am', 'seeking', 'guest', 'blogs', 'for', 'my', 'site', '!'], ['submit', 'yours', 'today', 'iwkabgbi6x', 'topics', 'education', 'sel', 'edtech', 'k12', 'ai', 'teaching', 'educhat', 'stem', 'nft', 'metaverse', '9pscc4f6aurt', 'mujtaba_haris', 'women', 'in', 'afghanistan', 'once', 'again', 'lost', 'their', 'freedom', 'to', 'work', 'and', 'their', 'fundamental', 'right', 'to', 'education', ',', 'signalling', 'that', 'the', 'days', 'of', 'repression', 'are', 'back', 'since', 'the', 'taliban', 'seized', 'power', 'last', 'august', 'for', '\\u2066', 'the_newarab\\u2069', 'vaudzypc0zwant', 'to', 'work', 'at', 'mtc', 'we', 're', 'hiring', 'in', 'los', 'angeles', ',', 'ca', '!'], ['click', 'for', 'details', 'wvcxrnmqt5', 'education', 'cityofangelsrt', 'integrusarch', 'we', 'were', 'honored', 'to', 'accept', 'the', 'project', 'of', 'distinction', 'award', 'from', 'a4le2', 'at', 'the', '2022', 'pacific', 'northwest', 'region', 'pinnacle', 'awards', 'for', 'our', 'work', 'on', 'clyde', 'hill', 'elementary', 'school', 'thebsd405', 'a4le', 'elementary', 'design', 'education', 'f2fsitxdeg', 'wcwkc8xk2crt', 'rbetterhalf', 'what', 'are', 'you', 'against', 'honestly', 'there', 'is', 'nothing', 'to', 'fight', 'over', 'at', 'raidertoken', '👉100', '%', 'safe', '!'], ['bsc', 'bnb', 'defi', 'crypto', 'safety', 'passiveincome', 'safemoonarmy', 'krypto', 'kripto', 'cripto', 'kryptomeny', 'krüpto', 'safetyfirst', 'safety', 'staysafe', 'security', 'diy', 'education', 'knowledge', 'learning', 'lp7512cvzxdon', 't', 'be', 'shy', '.'], ['score', 'a', 'job', 'like', 'paramedic', 'emergency', 'medical', 'service', 'instructor', '-', 'substitute', 'at', 'pima', 'medical', 'institute', 'by', 'asking', 'for', 'referrals', '.'], ['it', 's', 'a', 'great', 'way', 'to', 'get', 'a', 'meeting', 'with', 'hr', '.'], ['check', 'out', 'the', 'link', 'in', 'our', 'bio', 'to', 'apply', '.'], ['education', 'mesa', ',', 'azrt', 'ourrachtoo', 'graduation', 'day', 'ma', 'theology', '(', 'pastoral', 'and', 'practical', ')', 'awarded', 'with', 'distinction', 'ntcgrad22', 'maturestudy', 'theology', 'maturewomen', 'education', 'lp9xxjzqxert', 'pblworks', 'podcast', 'pbl', 'experts', 'john', 'larmer', 'and', 'suzie', 'boss', 'discuss', 'how', 'pbl', 'is', 'different', 'from', 'other', 'methods', 'of', 'teaching', '.'], ['they', 'also', 'shed', 'some', 'light', 'on', 'common', 'pbl', 'challenges', 'and', 'how', 'to', 'overcome', 'them', '.'], ['rrecb6hbe9', 'pbl', 'education', 'k12rt', 'virginiebeck3', 'porte', 'cassée', 'dans', 'un', 'village', 'alsacien', '...', 'si', 'l', 'école', 'ne', 'sert', 'à', 'rien', 'pour', 'certains', ',', 'nous', 'remettrons', 'une', 'école', 'dans', 'chaque', 'village', '!'], ['nous', 'redonnerons', 'l', 'autorité', 'abandonnée', ',', 'nous', 'rétablirons', 'des', 'valeurs', 'dignes', 'pour', 'nos', 'enfants', '.'], ['instructionscolaire', 'éducation', 'civisme', 'zemmour2022', 'vtblynu7nwrt', 'virginiebeck3', 'porte', 'cassée', 'dans', 'un', 'village', 'alsacien', '...', 'si', 'l', 'école', 'ne', 'sert', 'à', 'rien', 'pour', 'certains', ',', 'nous', 'remettrons', 'une', 'école', 'dans', 'chaque', 'village', '!'], ['nous', 'redonnerons', 'l', 'autorité', 'abandonnée', ',', 'nous', 'rétablirons', 'des', 'valeurs', 'dignes', 'pour', 'nos', 'enfants', '.'], ['instructionscolaire', 'éducation', 'civisme', 'zemmour2022', 'vtblynu7nwif', 'you', 're', 'looking', 'for', 'work', 'in', 'phoenix', ',', 'az', ',', 'check', 'out', 'this', 'education', 'job', 'via', 'the', 'link', 'in', 'our', 'bio', 'medical', 'assistant', 'instructor', '-', 'part-time', 'morning', 'at', 'pima', 'medical', 'institutepodcast', 'pbl', 'experts', 'john', 'larmer', 'and', 'suzie', 'boss', 'discuss', 'how', 'pbl', 'is', 'different', 'from', 'other', 'methods', 'of', 'teaching', '.'], ['they', 'also', 'shed', 'some', 'light', 'on', 'common', 'pbl', 'challenges', 'and', 'how', 'to', 'overcome', 'them', '.'], ['rrecb6hbe9', 'pbl', 'education', 'k12we', 're', 'hiring', '!'], ['read', 'about', 'our', 'latest', 'job', 'opening', 'here', 'special', 'education', 'teacher', '(', 'sped', ')', '-', 'mrhlt1zqcp', 'education', 'springfield', ',', 'mart', 'fursatganjfddi', 'we', 'are', 'happy', 'to', 'announce', 'aakriti', '-', 'an', 'online', 'design', 'competition', '.'], ['for', 'more', 'details', ',', 'please', 'visit', 'v83dbdkeb1', 'fddi', 'education', 'students', 'university', 'college', 'faculty', 'learning', 'design', 'product', 'fashion', 'footwear', 'leather', 'admission', '0wtriqhpt2rt', 'tcea', 'do', 'you', 'practice', 'active', 'listening', 'h1c4jm6hsd', 'diben', 'skillbuilding', 'edutwitter', 'education', 'kjbkrgkdjtdon', 't', 'be', 'shy', '.'], ['score', 'a', 'job', 'like', 'tutor', '-', 'cabarrus', 'charter', 'academy', '-', 'lower', 'at', 'charter', 'schools', 'usa', 'by', 'asking', 'for', 'referrals', '.'], ['it', 's', 'a', 'great', 'way', 'to', 'get', 'a', 'meeting', 'with', 'hr', '.'], ['check', 'out', 'the', 'link', 'in', 'our', 'bio', 'to', 'apply', '.'], ['education', 'concord', ',', 'ncrt', 'tmj_tol_edu', 'don', 't', 'be', 'shy', '.'], ['score', 'a', 'job', 'like', 'special', 'education', 'teacher', '(', 'sped', ')', 'at', 'the', 'stepping', 'stones', 'group', 'by', 'asking', 'for', 'referrals', '.'], ['it', 's', 'a', 'great', 'way', 'to', 'get', 'a', 'meeting', 'with', 'hr', '.'], ['check', 'out', 'the', 'link', 'in', 'our', 'bio', 'to', 'apply', '.'], ['education', 'dearborn', ',', 'mione', 'of', 'the', 'most', 'gratifying', 'days', 'as', 'an', 'educator', 'is', 'seeing', 'your', '“', 'kids', '”', 'cross', 'the', 'stage', '.'], ['especially', 'those', 'who', 'have', 'had', 'some', 'bumps', 'along', 'the', 'way', '.'], ['makes', 'it', 'all', 'worth', 'it', '!'], ['education', 'teacherrt', 'coinxndr', 'a', 'vote', 'for', 'conservatives', 'in', 'the', 'ontarioelection2022', 'guarantees', 'your', 'kids', 'will', 'be', 'home', 'for', 'a', 'period', 'of', 'the', 'school', 'year', '&', 'amp', ';', 'not', 'in', 'class', '.'], ['dougford', 'hates', 'education', '&', 'amp', ';', 'educators', '&', 'amp', ';', 'contracts', 'are', 'up', '.'], ['there', 'will', 'be', 'a', 'strike', '&', 'amp', ';', 'it', 'won', 't', 'be', 'over', 'salary', '!'], ['fordfailedschools', 'onpoli', 'ontedrt', 'erlijng', 'good', 'news', 'more', 'and', 'more', 'governments', 'are', 'putting', 'regulations', 'in', 'place', ',', 'to', 'make', 'environmental', 'education', 'an', 'important', 'part', 'of', 'educational', 'programs', '.'], ['in', 'this', 'article', ',', 'i', 'explain', '3', 'initiatives', 'teachers', 'can', 'take', 'to', 'make', 'this', 'education', 'effective', '2zkdl7ovdo', 'sdg4👩🏽\\u200d⚕️and', 'a', 'special', 'shout', 'out', 'to', 'the', '65', 'candidates', 'who', 'were', 'conferred', 'for', 'the', 'doctor', 'of', 'pharmacy', 'from', 'the', 'college', 'of', 'pharmacy', 'and', 'health', 'sciences‼️', 'tsuproud', 'education', 'graduation', 'pharmacist', 'texassouthern', 'xt9zzmgwjzrt', 'erlijng', 'good', 'news', 'more', 'and', 'more', 'governments', 'are', 'putting', 'regulations', 'in', 'place', ',', 'to', 'make', 'environmental', 'education', 'an', 'important', 'part', 'of', 'educational', 'programs', '.'], ['in', 'this', 'article', ',', 'i', 'explain', '3', 'initiatives', 'teachers', 'can', 'take', 'to', 'make', 'this', 'education', 'effective', '2zkdl7ovdo', 'sdg4can', 'you', 'recommend', 'anyone', 'for', 'this', 'education', 'job', 'in', 'richmond', ',', 'va', 'click', 'the', 'link', 'in', 'our', 'bio', 'to', 'see', 'it', 'and', 'more', '.'], ['pharmacy', 'intern', 'prn', 'at', 'henrico', 'doctors', 'hospital', 'forest', 'pharmacyif', 'you', 're', 'looking', 'for', 'work', 'in', 'dns', ',', 'us', ',', 'check', 'out', 'this', 'education', 'job', 'via', 'the', 'link', 'in', 'our', 'bio', 'client', 'services', 'coordinator', 'at', 'the', 'stepping', 'stones', 'grouprt', 'virginiebeck3', 'porte', 'cassée', 'dans', 'un', 'village', 'alsacien', '...', 'si', 'l', 'école', 'ne', 'sert', 'à', 'rien', 'pour', 'certains', ',', 'nous', 'remettrons', 'une', 'école', 'dans', 'chaque', 'village', '!'], ['nous', 'redonnerons', 'l', 'autorité', 'abandonnée', ',', 'nous', 'rétablirons', 'des', 'valeurs', 'dignes', 'pour', 'nos', 'enfants', '.'], ['instructionscolaire', 'éducation', 'civisme', 'zemmour2022', 'vtblynu7nwjoin', 'the', 'charter', 'schools', 'usa', 'team', '!'], ['see', 'our', 'latest', 'job', 'opening', 'here', 'mwou7fqqgh', 'education', 'kissimmee', ',', 'flrt', 'rfinstitute', 'event', 'video', 'now', 'available', 'source', 'of', 'fracture', 'or', 'a', 'foundation', 'the', 'role', 'of', 'education', 'in', 'advancing', 'religiousfreedom', 'in', 'america', '|', 'featuring', 'maryricehasson', ',', 'acsipresident', ',', 'rickgarnett', 'ndlaw', 'ndlawrli', ',', 'religionlawprof', 'utexaslaw', ',', '&', 'amp', ';', 'ken', 'starr', '|', 'watch', '02unejj5gq', 'lf6mvrraxlrt', 'veronicamonet', 'mallorymcmorrow', 'blasts', 'the', 'haters', '!'], ['mallorymcmorrow', 'education', 'humanrightsforall', 'loveoverhate', 'ydtfpnrrs0a', 'vote', 'for', 'conservatives', 'in', 'the', 'ontarioelection2022', 'guarantees', 'your', 'kids', 'will', 'be', 'home', 'for', 'a', 'period', 'of', 'the', 'school', 'year', '&', 'amp', ';', 'not', 'in', 'class', '.'], ['dougford', 'hates', 'education', '&', 'amp', ';', 'educators', '&', 'amp', ';', 'contracts', 'are', 'up', '.'], ['there', 'will', 'be', 'a', 'strike', '&', 'amp', ';', 'it', 'won', 't', 'be', 'over', 'salary', '!'], ['fordfailedschools', 'onpoli', 'ontedrt', 'tmj_hsv_edu', 'we', 're', 'hiring', '!'], ['click', 'to', 'apply', 'special', 'education', 'teacher', '(', 'sped', ')', '-', 'mylxmt1tlq', 'education', 'athens', ',', 'alrt', 'rosco_noe', 'digitalwalletgang📲🧠', 'nftmusic', 'professorrosco', 'crypto', 'web3', 'metaverse', 'education', 'bofzkamun5', 'zrrypresfcthe', 'next', 'generation', '&', 'amp', ';', 'the', 'new', 'mayor', '...', 'or', 'stump', 'the', 'mayor', 'wherearewegoing', 'nightofideas', 'educatorstillgettingeducated', 'buildingcommunity', 'foundingrelationships', 'education', 'educator2all', 'atlanta', ',', 'georgia', '7ysg4cjsv6rt', 'guiabianchi', 'people', ',', 'understandably', ',', 'gutted', 'their', 'country', 'is', 'not', 'winning', 'are', 'shouting', 'that', 'the', 'uk', 'is', 'not', 'europe', '.'], ['maybe', ',', 'eu', 'topics', 'in', 'school', 'since', 'the', 'start', 'ec', 'education', 'would', 'come', 'in', 'handy', 'eurovision2022rt', 'yidwithlid', 'biden', '’', 's', 'crooked', 'fbi', 'labels', 'parents', 'who', 'speak', 'against', 'school', 'boards', '‘', 'terrorists', '’', 'm2p1iu7hlp', 'schoolboards', 'fbi', 'merrickgarland', 'parents', 'tyranny', 'education', 'freedom', 'firstamendmenttokyo', ',', 'hardcover', 'by', 'gericke', ',', 'wolf-dieter', '(', 'pht', ')', ';', 'portugali', ',', 'juval', '(', 'col', ')', ',', 'brand…', 'ebay🇺🇸', 'textbooks', 'education', 'reference', '0jorkgt1v3rt', 'fronteducation', 'new', 'research', 'live', 'online', 'education', 'efficiency', 'mediators', 'from', 'the', 'actor', 'network', 'theory', 'perspective', 'purpose', 'the', 'purpose', 'of', 'this', 'research', 'was', 'to', 'explore', 'the', 'conceptual', 'network', 'of', 'live', 'online', 'education', 'efficiency', 'from', 'the', 'actor', 'network', 'theory…', 'tsq4q7y8ey', 'educationrt', 'gcturfclub', 'full', 'house', 'for', 'the', 'first', 'open', 'day', 'introducing', 'the', 'equine', 'industry', 'quickstart', 'program', 'in', 'partnership', 'with', 'aitc_news', 'education', 'career', 'horseracing', 'racing_qld', 'aquisfarm', 'rrkjywydjyrt', 'tmj_bal_edu', 'want', 'to', 'work', 'at', 'nih', 'national', 'human', 'genome', 'research', 'institute', '&', 'amp', ';', 'fda', 'office', 'of', 'minority', 'health', 'and', 'health', 'equity', 'we', 're', 'hiring', 'in', 'bethesda', ',', 'md', '!'], ['click', 'the', 'link', 'in', 'our', 'bio', 'for', 'details', 'on', 'this', 'job', 'and', 'more', 'postdoctoral', 'fellowship', 'in', 'genomic', 'science', 'and', 'health', 'equity', 'education', 'mallorymcmorrow', 'blasts', 'the', 'haters', '!'], ['mallorymcmorrow', 'education', 'humanrightsforall', 'loveoverhate', 'ydtfpnrrs0we', 're', 'hiring', '!'], ['click', 'to', 'apply', 'special', 'education', 'teacher', '(', 'sped', ')', '-', 'mylxmt1tlq', 'education', 'athens', ',', 'alpeople', ',', 'understandably', ',', 'gutted', 'their', 'country', 'is', 'not', 'winning', 'are', 'shouting', 'that', 'the', 'uk', 'is', 'not', 'europe', '.'], ['maybe', ',', 'eu', 'topics', 'in', 'school', 'since', 'the', 'start', 'ec', 'education', 'would', 'come', 'in', 'handy', 'eurovision2022new', 'research', 'live', 'online', 'education', 'efficiency', 'mediators', 'from', 'the', 'actor', 'network', 'theory', 'perspective', 'purpose', 'the', 'purpose', 'of', 'this', 'research', 'was', 'to', 'explore', 'the', 'conceptual', 'network', 'of', 'live', 'online', 'education', 'efficiency', 'from', 'the', 'actor', 'network', 'theory…', 'tsq4q7y8ey', 'educationwant', 'to', 'work', 'at', 'nih', 'national', 'human', 'genome', 'research', 'institute', '&', 'amp', ';', 'fda', 'office', 'of', 'minority', 'health', 'and', 'health', 'equity', 'we', 're', 'hiring', 'in', 'bethesda', ',', 'md', '!'], ['click', 'the', 'link', 'in', 'our', 'bio', 'for', 'details', 'on', 'this', 'job', 'and', 'more', 'postdoctoral', 'fellowship', 'in', 'genomic', 'science', 'and', 'health', 'equity', 'educationclick', 'the', 'link', 'in', 'our', 'bio', 'to', 'see', 'currently', 'open', 'education', 'jobs', 'like', 'duval', 'charter', 'school', 'at', 'southside-10', 'month', 'admin', 'assistant', 'at', 'charter', 'schools', 'usa', 'in', 'jacksonville', ',', 'fl.rt', 'tcea', 'do', 'you', 'practice', 'active', 'listening', 'h1c4jm6hsd', 'diben', 'skillbuilding', 'edutwitter', 'education', 'kjbkrgkdjtrt', 'neolms', '4', 'exciting', 'edtech', 'tools', 'teachers', 'need', 'to', 'try', 'this', 'school', 'year', 's1okdcrvpa', 'education', 'learning', 'elearningrt', 'tcea', 'do', 'you', 'practice', 'active', 'listening', 'h1c4jm6hsd', 'diben', 'skillbuilding', 'edutwitter', 'education', 'kjbkrgkdjt', 'cnnee', 'soyfdelrincon', 'bbcmundo', 'cnn', 'cnni', 'universidad', 'university', 'students', 'education', 'ghgqdl4aorrt', 'huawei_tech4all', 'in', 'our', 'increasingly', 'digital', 'world', ',', 'no', 'one', 'should', 'be', 'left', 'behind', '.'], ['and', 'that', 'starts', 'with', 'education', '.'], ['🎓', 'learn', 'how', 'huawei', '&', 'amp', ';', 'unesco', 'are', 'piloting', 'teoss', 'digital', 'education', 'projects', 'in', 'ethiopia', ',', 'ghana', '&', 'amp', ';', 'egypt', 'to', 'help', 'drive', 'education', 'equity', '&', 'amp', ';', 'quality', '👉', 'unescoicts', 'tech4all', 'tech4edu', 'education', 'selfdirectedlearning', 'unschooling', 'fairhearing4homeed', 'cg25gykbodrt', 'tcea', 'do', 'you', 'practice', 'active', 'listening', 'h1c4jm6hsd', 'diben', 'skillbuilding', 'edutwitter', 'education', 'kjbkrgkdjtrt', 'cnsfneurolinks', 'speakers', '|', '2022', 'cnsfcongress', 'uvfz9ktj9k', 'don', '’', 't', 'miss', 'out', '-', 'look', 'through', 'our', 'list', 'of', 'speakers', 'to', 'find', 'a', 'session', 'that', 'interests', 'you', '!'], ['register', 'today', '!'], ['2022cnsfcongress', 'face-to-face', 'in', 'montreal', '.'], ['rnw0zuydvo', 'cns', 'soccdnnsx', 'cscn', 'cacn', 'csnr6', 'csc', 'education', 'vcpohxt3va📢', 'we', 'are', 'looking', 'for', 'leaders', 'to', 'join', 'the', '2022', 'new', 'school', 'launch', 'fellowship', '!'], ['are', 'you', 'deeply', 'committed', 'to', 'transforming', 'education', 'this', 'fellowship', 'will', 'help', 'you', 'design', ',', 'found', ',', 'and', 'lead', 'a', 'locally', 'responsive', '&', 'amp', ';', 'high-quality', 'public', 'charter', 'school', 'in', 'houston', '.'], ['rfii4krrn4active', 'voice', 'versus', 'passive', 'voice', '–', 'a', 'guide', 'for', 'bloggers', 'rphavww2h0', 'blogging', 'education', 'english4', 'exciting', 'edtech', 'tools', 'teachers', 'need', 'to', 'try', 'this', 'school', 'year', 's1okdcrvpa', 'education', 'learning', 'elearningrt', 'tcea', '📘', 'the', '8', 'executive', 'functions', 'explained', '📕', '7yuw45xr7o', '📸', 'via', 'livelymindsco', 'academictwitter', 'education', 'skillbuilding', 'sz7xdhdaonrt', 'tcea', 'do', 'you', 'practice', 'active', 'listening', 'h1c4jm6hsd', 'diben', 'skillbuilding', 'edutwitter', 'education', 'kjbkrgkdjt', 'drmarkallan', 'gised', 'gis4teachers', 'aaggeomentors', 'natgeoeducation', 'geography', 'educationrt', 'headed4college', 'adults', 'keep', 'telling', 'you', 'the', 'pandemic', 'will', 'never', 'end', '...', 'digital', 'technology', 'is', 'poisoning', 'your', 'soul', ',', 'democracy', 'is', 'collapsing', ',', 'and', 'the', 'planet', 'is', 'dying—but', 'they', '’', 're', 'counting', 'on', 'you', 'to', 'fix', 'everything', 'when', 'you', 'grow', 'up', 'xmnmzqmudd', 'children', 'education', 'parenting', 'highschoolrt', 'adrianodiprato', '+', 'teachers', 'play', 'a', 'key', 'role', 'in', 'helping', 'students', 'feel', 'they', 'belong', 'at', 'school', 'iq0o3sywog', 'education', 'vrhggyrxf1rt', 'spanishbprints', 'are', 'you', 'tracking', 'your', 'language', 'learning', 'progress', 'languagelearning', 'langtwt', 'studytwt', 'learning', 'spanish', 'learnspanish', 'success', 'education', 'bilingual', 'multilingual', 'progress', 'languageexmas', 'reflection', 'languagesrt', 'tmj_mia_edu', 'interested', 'in', 'a', 'job', 'in', 'boca', 'raton', ',', 'fl', 'this', 'could', 'be', 'a', 'great', 'fit', '.'], ['click', 'the', 'link', 'in', 'our', 'bio', 'to', 'apply', 'science', 'teacher', 'mentor', 'at', 'fusion', 'education', 'onetoonert', 'kittenbot1', 'touch', 'the', 'logo', 'on', 'microbit', 'to', 'light', 'up', 'the', 'electronic', 'candle', 'and', 'then', 'blow', 'it', 'out🕯️🌬️', 'guess', 'which', 'sensor', 'on', 'microbit', 'we', 'use', 'to', 'make', 'this', 'effect', 'everything', 'you', 'need', 'to', 'build', 'a', 'same', 'one', 'pfmhb1kfjd', 'stem', 'education', 'programming', 'coding', 'codingisfun', 'birthday', 'ygpqm0sdlyrt', 'jrschmit', 'seeing', 'the', 'earth', 'through', 'alien', 'eyes', 'an', 'extraterrestrial', 'view', 'of', 'our', 'planet', 'nhsgqqvz5s', 'space', 'cosmos', 'astrophysics', 'sciencefacts', 'education', 'physicsrt', 'virginiebeck3', 'porte', 'cassée', 'dans', 'un', 'village', 'alsacien', '...', 'si', 'l', 'école', 'ne', 'sert', 'à', 'rien', 'pour', 'certains', ',', 'nous', 'remettrons', 'une', 'école', 'dans', 'chaque', 'village', '!'], ['nous', 'redonnerons', 'l', 'autorité', 'abandonnée', ',', 'nous', 'rétablirons', 'des', 'valeurs', 'dignes', 'pour', 'nos', 'enfants', '.'], ['instructionscolaire', 'éducation', 'civisme', 'zemmour2022', 'vtblynu7nwrt', 'huawei_tech4all', 'in', 'our', 'increasingly', 'digital', 'world', ',', 'no', 'one', 'should', 'be', 'left', 'behind', '.'], ['and', 'that', 'starts', 'with', 'education', '.'], ['🎓', 'learn', 'how', 'huawei', '&', 'amp', ';', 'unesco', 'are', 'piloting', 'teoss', 'digital', 'education', 'projects', 'in', 'ethiopia', ',', 'ghana', '&', 'amp', ';', 'egypt', 'to', 'help', 'drive', 'education', 'equity', '&', 'amp', ';', 'quality', '👉', 'unescoicts', 'tech4all', 'tech4educan', 'you', 'recommend', 'anyone', 'for', 'this', 'education', 'job', 'in', 'leander', ',', 'tx', 'click', 'the', 'link', 'in', 'our', 'bio', 'to', 'see', 'it', 'and', 'more', '.'], ['2022', '23', 'elementary', 'special', 'education', 'teacher', ',', 'developmental', 'at', 'leander', 'isd', 'lisdteachwithmert', 'kentpage', 'ecw', 'thanks', 'each', 'of', 'our', '+60k', 'followers', '!'], ['by', 'retweeting', ',', 'you', 'raise', 'global', 'awareness', 'of', 'the', 'urgent', 'need', 'for', 'more', 'funding', 'so', 'every', 'girl', 'boy', 'in', 'emergencies', '&', 'amp', ';', 'protracted', 'crises', 'can', 'enjoy', 'their', 'right', 'to', 'education', '!'], ['un', 'bmz_bund', 'fcdogec', 'usaideducation', 'sida', 'yasminesherif1', 'sdg4', 'zd4jhxcslgrt', 'educannotwait', 'education', '=', 'protection', ',', 'equality', ',', 'opportunity', '💙', 'we', 'must', 'continue', 'to', 'invest', 'in', '&', 'amp', ';', 'fight', 'for', 'the', 'right', 'of', 'every', 'girl', 'to', 'education', ',', 'incl', '.'], ['girls', 'living', 'in', 'crisis-affected', 'areas', 'of', 'the', '🌎', '!'], ['rt', 'if', 'you', 'agree', 'there', 'must', 'be', 'a', 'place', 'at', 'school', 'for', 'every', 'girl', '!'], ['👉', 'h2aagdes6v', 'juf2wir5djcmh', '’', 's', 'pocus', 'committee', 'hosted', 'its', 'refresher', 'course', 'at', 'mchp', '.'], ['physicians', ',', 'residents', ',', 'medstudents', ',', 'dmsstudents', ',', 'and', 'the', 'like', 'got', 'together', 'to', 'learn', 'the', 'basics', 'and', 'benefits', 'of', 'pointofcareultrasound', '🔊', 'centralmainehealth', 'education', 'maine', 'ultrasound', 'ipe', 'seeingwithsound', 'magic', 'b6v08cr1bzrt', 'huawei_tech4all', 'in', 'our', 'increasingly', 'digital', 'world', ',', 'no', 'one', 'should', 'be', 'left', 'behind', '.'], ['and', 'that', 'starts', 'with', 'education', '.'], ['🎓', 'learn', 'how', 'huawei', '&', 'amp', ';', 'unesco', 'are', 'piloting', 'teoss', 'digital', 'education', 'projects', 'in', 'ethiopia', ',', 'ghana', '&', 'amp', ';', 'egypt', 'to', 'help', 'drive', 'education', 'equity', '&', 'amp', ';', 'quality', '👉', 'unescoicts', 'tech4all', 'tech4edurt', 'c4chaplaincy', '🌟new', 'workshop', '-', '24', '05', '🏳️\\u200d🌈dig', 'deeper', 'into', '...', 'gender', 'and', 'identity', '-', 'online', '!'], ['🔍explore', 'the', 'issues', 'lgbtq+', '(', 'and', 'questioning', ')', 'young', 'people', 'face', 'with', 'gender', ',', 'identity', 'and', 'relationships', '.'], ['➡️book', '0lrhxpeeka', 'chaplain', 'chaplaincy', 'education', 'educhat', 'd76gdzhhdkhi', 'friends', '.'], ['i', 'have', 'math', 'resources', 'for', 'the', 'mathteacher', 'mathstudent', 'homeschooler', 'prek', 'kindergarten', 'and', 'elementary', 'education', 'school', 'teacher', '.'], ['ijdoc7ufr5', 'printables', 'curriculum', 'edchat', 'vted', 'duoinspirations', 'smxnuuuu1yrt', 'c4chaplaincy', '🌟new', 'workshop', '-', '24', '05', '🏳️\\u200d🌈dig', 'deeper', 'into', '...', 'gender', 'and', 'identity', '-', 'online', '!'], ['🔍explore', 'the', 'issues', 'lgbtq+', '(', 'and', 'questioning', ')', 'young', 'people', 'face', 'with', 'gender', ',', 'identity', 'and', 'relationships', '.'], ['➡️book', '0lrhxpeeka', 'chaplain', 'chaplaincy', 'education', 'educhat', '39xmw0nncfcan', 'you', 'recommend', 'anyone', 'for', 'this', 'job', 'athletic', 'director', '-', 'langtree', 'academy', 'upper', 'school', '-', '2u79oiuqc7', 'education', 'mooresville', ',', 'ncrt', 'virginiebeck3', 'porte', 'cassée', 'dans', 'un', 'village', 'alsacien', '...', 'si', 'l', 'école', 'ne', 'sert', 'à', 'rien', 'pour', 'certains', ',', 'nous', 'remettrons', 'une', 'école', 'dans', 'chaque', 'village', '!'], ['nous', 'redonnerons', 'l', 'autorité', 'abandonnée', ',', 'nous', 'rétablirons', 'des', 'valeurs', 'dignes', 'pour', 'nos', 'enfants', '.'], ['instructionscolaire', 'éducation', 'civisme', 'zemmour2022', 'vtblynu7nwrt', 'harjitsajjan', 'anna', 'novosad', 'clearly', 'has', 'a', 'passion', 'for', 'education', '.'], ['as', '🇺🇦', '’', 's', 'former', 'education', 'minister', ',', 'she', 'explained', 'how', 'we', 'can', 'continue', 'to', 'ensure', 'this', 'life-sustaining', 'human', 'right', 'is', 'maintained', 'for', 'those', 'marginalised', 'in', 'this', 'war', '.'], ['z3cbufiduzi', 'have', 'officially', 'applied', 'to', 'the', 'um_dearborn', 'to', 'start', 'on', 'getting', 'my', 'masters', 'degree', '.'], ['kinda', 'nervous', 'on', 'hearing', 'back', '.'], ['education', 'softwareengineering', 'graduateschoolrt', 'leaderunwrapped', 'we', 'absolutely', 'loved', 'recording', 'the', 'latest', 'episode', 'with', 'teresashiels01', '✨', 'we', 'discuss', 'topics', 'including', 'tbi', ',', 'disability', ',', 'inclusion', ',', 'education', 'and', 'more', '!'], ['definitely', 'worth', 'the', 'listen', '🎧', 'tziqgwacey', 'podcasts', 'leadership', 'disability', 'academictwitter', 'educate', 'v6kcf6ly3bsnp', '=', 'nil', 'points', '!'], ['0', 'resignsturgeon', 'lies', 'salmondinquiry', 'carehomescandal', 'govanhill', 'drugdeaths', 'education', 'mentalhealth', 'slums', 'ferryfiasco', 'coverup', 'b7lcdtmcvqrt', 'menny_thoughts', 'coached', 'a', 'close', 'friend', 'for', 'their', 'teacher', 'model', 'video', '&', 'amp', ';', 'lesson', 'plan', 'pre-work', 'for', 'a', 'teaching', 'position', 'and', 'they', 'got', 'the', 'job', '!'], ['in', 'return', ',', 'they', 'paid', 'me', '$', '35', 'lol', 'love', 'helping', 'others', 'unlock', 'their', 'true', 'teaching', 'potential', '💯', 'pushingsuccess', 'edutwitter', 'education', 'teachertwitter', 'teacherrt', 'helmeto3', 'dear', 'all', ',', 'after', 'the', 'many', 'requests', 'that', 'have', 'arrived', ',', 'the', 'committee', 'has', 'decided', 'to', 'extend', 'the', 'deadline', 'to', 'submit', 'the', 'abstracts', 'to', 'may', '31', ',', '2022.', 'helmeto2022', 'innovation', 'conference', 'education', 'highschool', 'research', 'pryxexmn9drt', 'kittenbot1', 'touch', 'the', 'logo', 'on', 'microbit', 'to', 'light', 'up', 'the', 'electronic', 'candle', 'and', 'then', 'blow', 'it', 'out🕯️🌬️', 'guess', 'which', 'sensor', 'on', 'microbit', 'we', 'use', 'to', 'make', 'this', 'effect', 'everything', 'you', 'need', 'to', 'build', 'a', 'same', 'one', 'pfmhb1kfjd', 'stem', 'education', 'programming', 'coding', 'codingisfun', 'birthday', 'ygpqm0sdlyrt', 'headed4college', 'it', 'isn', '’', 't', 'clear', 'how', 'the', 'american', 'public', 'school', 'system', 'will', 'survive', 'the', 'covid', 'years', '.'], ['teachers', ',', 'whose', 'relative', 'pay', 'and', 'status', 'have', 'been', 'in', 'decline', 'for', 'decades', ',', 'are', 'fleeing', 'the', 'field', '.'], ['xmnmzqmudd', 'education', 'teachersrt', 'conorduffynews', 'rose', 'doesn', '’', 't', 'remember', 'struggling', 'when', 'she', 'raised', 'children', '.'], ['for', 'her', 'daughter-in-law', 'robyn', ',', 'it', '’', 's', 'another', 'matter', 'via', '\\u2066', 'abcnews\\u2069', 'and', 'tonight', 'we', 'have', 'a', 'special', 'tv', 'news', 'report', 'on', 'rising', 'education', 'costs', 'for', 'families', 'auspol', 'education', 'shswfff7rxi', '’', 'll', 'create', 'inspirational', 'videos', 'for', 'twitter', '.'], ['i', '’', 'm', 'curious', 'how', 'many', 'likes', 'reposts', 'they', '’', 'll', 'get🧐😻', 'love', 'education', 'science', 'art', 'artwork', 'viralvideo', 'viralpic', 'viral', 'learn', 'motivation', 'history', 'biology', 'genetics', 'physics', 'astrobiology', 'anthropology', 'philosophy', 'linguistics', 'whdnbg8qt4rt', 'unitedwaylamar', 'at', 'the', 'texas', 'scholars', 'event', 'this', 'week', ',', 'we', 'awarded', 'five', 'scholarships', '!'], ['education', 'lbu99ofmtoweed', 'management', 'handbook', '9e', 'by', 'robert', 'e.', 'l.', 'naylor', 'ebay🇺🇸', 'textbooks', 'education', 'reference', 'yakivcn6gkrt', 'jdhillona', 'sorry', 'state', 'of', 'government', 'schools', 'in', 'punjab', '.'], ['teachers', 'are', 'appealing', 'to', 'students', 'by', 'doing', 'announcements', 'from', 'guruduara', 'sahib', 'to', 'resume', 'in', 'schools', 'learning', '.'], ['education', 'is', 'not', 'a', 'joke', '.'], ['bhagwantmann', 'education', 'punjabrt', 'rdene915', 'grab', 'a', 'new', 'book', 'to', 'celebratesaturday', '!'], ['pick', 'up', 'your', 'copy', 'of', 'the', 'inspiring', 'book', 'things', 'i', 'wish', '[', '...', ']', 'knew', 'w', '50', 'educator', 'stories', 'at', '3ifdxqqkml', 'via', 'rdene915', '&', 'amp', ';', 'edumatchbooks', 'education', 'educhat', 'edleaders', 'leadlap', 'crazypln', 'teachpos', 'teacherlife', 'sel', 'teaching', 'k12', 'i3aj4pnlb5rt', 'tabascogirly23', 'so', 'proud', 'of', 'my', 'girl', '!'], ['the', 'future', 'is', 'female', '.'], ['you', 'better', 'believe', 'it', '.'], ['kentucky', 'pta', 'education', 'art', 'girl', 'kisu5ic9wyrt', 'rdene915', 'my', 'new', 'post', 'what', 'web3', 'means', 'for', 'the', 'future', 'of', 'education', 'vjvlmj2wan', 'via', 'getting_smart', 'web3', 'web3community', 'metaverse', 'edtech', 'education', 'edtechchat', 'istert', 'event604', 'learning', 'how', 'to', 'say', 'so', 'much', ',', 'without', 'saying', 'a', 'word', 'at', 'all', 'educationrt', 'getthatrightgtr', '10', 'things', 'to', 'do', 'when', 'your', 'professor', 'hates', 'you', 'ujpcb7dj4w', 'education', 'learning', 'bolick4arizona', '2', ')', 'to', 'say', 'the', 'governor', 'or', 'legislature', 'is', 'responsible', 'for', 'how', 'teachers', 'perform', 'is', 'like', 'blaming', 'the', 'governor', 'or', 'legislature', 'for', 'mcdonald', 's', 'messing', 'up', 'your', 'order', '.'], ['education', 'arizonart', 'virginiebeck3', 'porte', 'cassée', 'dans', 'un', 'village', 'alsacien', '...', 'si', 'l', 'école', 'ne', 'sert', 'à', 'rien', 'pour', 'certains', ',', 'nous', 'remettrons', 'une', 'école', 'dans', 'chaque', 'village', '!'], ['nous', 'redonnerons', 'l', 'autorité', 'abandonnée', ',', 'nous', 'rétablirons', 'des', 'valeurs', 'dignes', 'pour', 'nos', 'enfants', '.'], ['instructionscolaire', 'éducation', 'civisme', 'zemmour2022', 'vtblynu7nwgrab', 'a', 'new', 'book', 'to', 'celebratesaturday', '!'], ['pick', 'up', 'your', 'copy', 'of', 'the', 'inspiring', 'book', 'things', 'i', 'wish', '[', '...', ']', 'knew', 'w', '50', 'educator', 'stories', 'at', '3ifdxqqkml', 'via', 'rdene915', '&', 'amp', ';', 'edumatchbooks', 'education', 'educhat', 'edleaders', 'leadlap', 'crazypln', 'teachpos', 'teacherlife', 'sel', 'teaching', 'k12', 'i3aj4pnlb5rt', 'rdene915', 'my', 'new', 'post', 'what', 'web3', 'means', 'for', 'the', 'future', 'of', 'education', 'vjvlmj2wan', 'via', 'getting_smart', 'web3', 'web3community', 'metaverse', 'edtech', 'education', 'edtechchat', 'isteso', 'proud', 'of', 'my', 'girl', '!'], ['the', 'future', 'is', 'female', '.'], ['you', 'better', 'believe', 'it', '.'], ['kentucky', 'pta', 'education', 'art', 'girl', 'kisu5ic9wymy', 'new', 'post', 'what', 'web3', 'means', 'for', 'the', 'future', 'of', 'education', 'vjvlmj2wan', 'via', 'getting_smart', 'web3', 'web3community', 'metaverse', 'edtech', 'education', 'edtechchat', 'istelearning', 'how', 'to', 'say', 'so', 'much', ',', 'without', 'saying', 'a', 'word', 'at', 'all', 'educationrt', 'nickaesp', 'wifi', 'on', 'school', 'buses', 'actually', 'makes', 'sense', '!'], ['news', 'technology', 'education', 'digitaldivide', 'homeworkgap', 'wifi', 'fcc', 'yaxgkth4ulrt', 'jurijkovalenok1', 'an', 'electron', 'in', 'an', 'atom', '.'], ['share', 'this', 'note', 'with', 'your', 'students', 'kuqmsjojfd', 'sincerely', ',', 'yuri', 'kovalenok', 'physics', 'physicsfun', 'engineer', 'distancelearning', 'education', 'elonmusk', 'nasa', 'spacex', 'cern', 'wissenschaft', 'teacher', 'art', 'nftgiveaway', 'nftcollector', 'nftcommunity', 'us', 'ukrt', 'getthatrightgtr', 'baby', 'drivers', 'what', 'playing', 'with', 'remote', 'control', 'cars', 'teaches', 'kids', 'rsjisbskxz', 'education', 'learning', 'erhanerkut', 'hocamızın', 'katılımı', 'ile', 'yapılan', ',', 'üniversitenin', 'geleceği', 'etkinliğinde', 'çok', 'boyutlu', 'olarak', 'ele', 'alınan', 'sorunlara', 'çözümler', 'önerildi', '.'], ['education', 'highereducation', 'eq3626ec4kthank', 'you', 'alex_verbeek', '.'], ['have', 'you', 'seen', 'this', 'the', 'uk', 'publishes', '“', 'sustainability', 'and', 'climate', 'change', 'a', 'strategy', 'for', 'the', 'education', 'and', 'children', '’', 's', 'services', 'systems', '”', 'by', 'asitha', 'jayawardena', '12woyc23ez', 'climatechange', 'sustainability', 'education', 'explore', 'education', 'basics', 'of', 'web', 'development', '-', 'how', 'to', 'get', 'started', 'learning', 'and', 'understanding', 'the', 'basic', 'foundations', 'for', 'web', 'development', 'freecourse', 'rated', '4.5', 'stars', 'free', 'learning', 'website', 'svekis', 'howto', 'online', '7hksic8r9xrt', 'prongo', 'question', 'why', 'did', 'the', 'weatherman', 'bring', 'a', 'bar', 'of', 'soap', 'to', 'work', 'question', 'why', 'did', 'the', 'weatherman', 'bring', 'a', 'bar', 'of', 'soap', 'to', 'work', 'answer', 'he', 'was', 'predicting', 'uiirpwyksm', 'games', 'kidsgames', 'learning', 'educational', 'education', 'schoolsrt', 'momswhosave', 'dinomaynia', 'giveaway', '🥳', 'teachers', 'and', 'parents', ',', 'enter', 'to', 'win', 'seven', 'nat', 'geo', 'kids', 'books', '+', 'a', 'fossil', 'kit', '!'], ['👉🏼', '9its28mhid', 'giveaways', 'sweepstakes', 'education', 'mediamastersbks', 'ihegc3uqe8rt', 'harjitsajjan', 'anna', 'novosad', 'clearly', 'has', 'a', 'passion', 'for', 'education', '.'], ['as', '🇺🇦', '’', 's', 'former', 'education', 'minister', ',', 'she', 'explained', 'how', 'we', 'can', 'continue', 'to', 'ensure', 'this', 'life-sustaining', 'human', 'right', 'is', 'maintained', 'for', 'those', 'marginalised', 'in', 'this', 'war', '.'], ['z3cbufiduztonight', 'i', '’', 'm', 'voting', 'for', 'ukraine', 'in', 'eurovision', ',', 'a', 'rethink', 'on', 'the', 'british', 'education', 'system', '(', 'coupled', 'with', 'serious', 'investment', ')', ',', 'and', 'a', 'reminder', 'to', 'jeremyhunt', 'that', 'if', 'you', '’', 're', 'sec', 'of', 'state', 'for', 'health', 'its', 'your', 'responsibility', 'if', 'the', 'nhs', 'isn', '’', 't', 'working', 'as', 'you', 'think', 'it', 'should', '.'], ['🥳rt', 'meowcoinbsc', 'so', 'transparent', 'we', 'will', 'help', 'you', 'dyor', '😼', 'these', 'types', 'of', 'things', 'will', 'get', 'you', 'in', 'the', 'habit', 'of', 'looking', 'a', 'little', 'deeper', 'before', 'investing', '😸✅', 'bscgems', 'bsc', 'terra', '1000xgem', 'meowcoin', 'education', 'defi', 'cryptocurrency', 'cryptocurrecy', 'bnb', 'binance', 'crypto', 'bscgem', 'rpx9jivzoqi', '’', 'm', 'not', 'perfect', 'i', '’', 've', 'made', 'plenty', 'of', 'mistakes', 'in', 'my', 'life', 'that', 'i', 'wish', 'i', 'could', 'do', 'over', '.'], ['but', 'i', 'have', 'taken', 'lessons', 'from', 'those', 'mistakes', 'and', 'moved', 'forward', 'with', 'life', '.'], ['help', 'teacherlife', 'teachers', 'education', 'educator', 'schoolsport', 'ilearn', 'itech', 'teachergram', 'bhfyp', 'classroomrt', 'creativescty', '❗️1', '%', 'of', 'people', 'own', 'more', 'wealth', 'than', 'the', 'rest', '99', '%', '!'], ['limitation', 'of', 'wealth', '&', 'amp', ';', 'building', 'the', 'creativesociety', 'will', 'allow', 'to', 'allocate', 'super', 'profits', 'to', 'solving', 'problems', 'like', 'hunger', 'and', 'develop', 'education', ',', 'healthcare', '&', 'amp', ';', 'science', '.'], ['more', 'details', 'at', 'the', 'forum', '🔴', 'l8ggbdgbbm', 'ppgfbzpx55rt', 'huawei_tech4all', 'in', 'our', 'increasingly', 'digital', 'world', ',', 'no', 'one', 'should', 'be', 'left', 'behind', '.'], ['and', 'that', 'starts', 'with', 'education', '.'], ['🎓', 'learn', 'how', 'huawei', '&', 'amp', ';', 'unesco', 'are', 'piloting', 'teoss', 'digital', 'education', 'projects', 'in', 'ethiopia', ',', 'ghana', '&', 'amp', ';', 'egypt', 'to', 'help', 'drive', 'education', 'equity', '&', 'amp', ';', 'quality', '👉', 'unescoicts', 'tech4all', 'tech4edurt', 'meowcoinbsc', 'so', 'transparent', 'we', 'will', 'help', 'you', 'dyor', '😼', 'these', 'types', 'of', 'things', 'will', 'get', 'you', 'in', 'the', 'habit', 'of', 'looking', 'a', 'little', 'deeper', 'before', 'investing', '😸✅', 'bscgems', 'bsc', 'terra', '1000xgem', 'meowcoin', 'education', 'defi', 'cryptocurrency', 'cryptocurrecy', 'bnb', 'binance', 'crypto', 'bscgem', 'rpx9jivzoqrt', 'tcea', '📘', 'the', '8', 'executive', 'functions', 'explained', '📕', '7yuw45xr7o', '📸', 'via', 'livelymindsco', 'academictwitter', 'education', 'skillbuilding', 'sz7xdhdaonyou', 'want', 'to', 'improve', 'this', 'world', 'start', 'with', 'new', 'improved', 'education', '...', 'education', 'teach', 'about', 'humanitynational', 'heritage', 'academies', 'is', 'hiring', '!'], ['make', 'an', 'impact', '--', 'apply', 'today', 'literacy', 'coach', 'at', 'advantage', 'charter', 'academy', '2022-23', 'school', 'year', 'in', 'baker', ',', 'la', 'gzsr94spsh', 'education', 'teacherrt', 'stacked_automat', 'teaching', 'programming', 'languages', 'by', 'experimental', 'and', 'adversarial', 'thinking', '(', '2017', ')', 'justin', 'pombrio', 'and', 'shriram', 'krishnamurthi', 'and', 'kathi', 'fisler', 'doi', 'l2huogmo7z', 'adversarial', 'education', 'language', 'mystery_language', 'programm', 'my_bibtexrt', 'arrowheadbroken', 'it', 's', 'been', 'awhile', 'since', 'we', 'have', 'heard', 'from', 'chadwicksirnio', '&', 'amp', ';', 'msirnio1', 'live', ',', 'so', 'this', 'numismatic', 'silver', 'dollar', 'playlist', 'will', 'have', 'to', 'do', '.'], ['saturdaynightcoinshow', 'education', 'mkrf1xt3z4chime', 'in', '!'], ['whether', 'you', 're', 'a', 'job', 'seeker', ',', 'an', 'established', 'tradesperson', ',', 'or', 'an', 'employer', '-', 'we', 'want', 'to', 'hear', 'from', 'you', '!'], ['what', 'do', 'you', 'love', 'about', 'the', 'trades', 'why', 'did', 'you', 'choose', 'your', 'craft', 'what', 'are', 'you', 'looking', 'for', 'in', 'a', 'career', 'skilledtrades', 'tradeschool', 'vocationaltraining', 'educationrt', 'laurelworlds', 'the', 'legendary', 'women', 'of', 'world', 'history', 'series', 'empowers', 'you', 'to', 'educate', 'you', 'and', 'your', 'family', 'about', 'the', 'exciting', 'and', 'often', 'inspiring', 'stories', 'of', 'leading', 'women', 'from', 'around', 'the', 'world', 'and', 'across', 'time', '.'], ['browse', 'the', 'series', 'at', 's9dslxtszq', 'greatreads', 'education', 'bmqzligsuwrt', 'studentleded', 'follow', 'friday', '!'], ['check', 'us', 'out', 'at', 'ql63p47scd', '!'], ['studentleded', 'studentleded', 'nonprofit', 'youth', 'youthled', 'fellows', 'leadershipfellows', 'student', 'studentvoice', 'school', 'schoolculture', 'education', 'professionaldevelopment', 'edequity', 'learning', 'training', 'bipoc', 'lgbtqia+', '9u6xkhwhmrrt', 'tcea', 'do', 'you', 'practice', 'active', 'listening', 'h1c4jm6hsd', 'diben', 'skillbuilding', 'edutwitter', 'education', 'kjbkrgkdjtrt', 'tonyalit', 'what', 'an', 'amazing', 'group', 'of', 'virginia', 'educators', 'here', '!'], ['thanks', 'for', 'this', 'valuable', 'project', 'teachersinthemo', '!'], ['looking', 'forward', 'to', 'listening', 'to', 'them', '!'], ['education', 'uva', 'history', 'zzauheud2qrt', 'bilellatreche', 'education', 'animation', 'dole', 'pédagogie', 'par', 'les', 'animaux', 'dans', 'un', 'quartier', 'populaire', '.'], ['et', 'comment', 'donner', 'du', 'sens', 'à', 'des', 'jeunes', 'pour', 'mieux', 'apprendre', 'à', 'se', 'connaître', 'grâce', 'aux', 'animaux', 'de', 'la', 'ferme', ',', 'mais', 'aussi', 'mieux', 'apprendre', 'des', 'autres', ',', 'de', 'l', '’', 'autre', ',', 'et', 'de', 'ce', 'qui', 'n', '’', 'est', 'pas', 'près', 'de', 'soi', '...', 'kd00bxgrq5', 'bwinlskaiq', 'gofundme', 'nursing', 'educationrt', 'towards_ai', 'neural', 'networks', 'from', 'scratch', 'with', 'python', 'code', 'and', 'math', 'in', 'detail—', 'i', '→', 'wtay0b9avj', 'via', 'towards_ai', 'towardsai', 'machinelearning', 'ml', 'neuralnetworks', 'tutorial', 'educationrt', 'getthatrightgtr', '11', 'career', 'opportunities', 'for', 'llb', 'graduates', 'you', 'never', 'thought', 'of', 'wuahg7aufe', 'careers', 'educationso', 'transparent', 'we', 'will', 'help', 'you', 'dyor', '😼', 'these', 'types', 'of', 'things', 'will', 'get', 'you', 'in', 'the', 'habit', 'of', 'looking', 'a', 'little', 'deeper', 'before', 'investing', '😸✅', 'bscgems', 'bsc', 'terra', '1000xgem', 'meowcoin', 'education', 'defi', 'cryptocurrency', 'cryptocurrecy', 'bnb', 'binance', 'crypto', 'bscgem', 'rpx9jivzoq🌎', 'new', 'episode', '.'], ['🎙', 'in', 'the', 'latest', 'episode', 'of', 'the', 'edu', 'salon', ',', 'debsnet', 'talks', 'to', 'dennisshirley', 'of', 'bclynchschool', 'about', 'educational', 'change', ',', 'wellbeing', ',', 'student', 'engagement', ',', 'and', 'teaching', '.'], ['🎧', 'listen', 'now', '.'], ['hgirqt1mqi', 'theedusalon', 'podcast', 'education', 'edchat', 'wellbeingjamb', 'releases', '2022', 'utme', 'results', '__________', 'the', 'punch', 'reports', 'that', 'the', 'joint', 'admissions', 'and', 'ma', '......', 'read', 'full', 'detail', '👇☛', 'lveew5froj', 'please', 'share', '&', 'amp', ';', 'drop', 'your', 'comment', 'please', 'retweet', 'education', 'jamb', 'nigeria', 'student', 'i6cyqilyemrt', 'kapoliteglobal1', 'study', 'in', 'belgium', 'one', 'of', 'the', 'best', 'affordable', 'study', 'destinations', 'abroad', '.'], ['☆study', 'without', 'ielts', '☆study', '100', '%', 'in', 'english', '☆cheap', 'and', 'affordable', 'quality', 'schools', 'email', 'info', 'kapoliteglobaleducationalnetworks.com', 'tel', '+2348154090015', '+905488697122', 'studyabroad', 'education', 'abroad', 'pnspvuqqbfrt', 'northway_debbie', 'tafe', 'education', 'labor', 'auspol', 'auyg6m959ert', 'northway_debbie', 'tafe', 'education', 'labor', 'auspol', 'auyg6m959ert', 'spanishbprints', 'what', 'is', 'your', 'favorite', 'and', 'most', 'cherished', 'memory', 'that', 'you', 'have', 'had', 'during', 'your', 'language', 'learning', 'journey', 'languagelearning', 'langtwt', 'studytwt', 'learning', 'spanish', 'learnspanish', 'plateau', 'success', 'education', 'bilingual', 'multilingual', 'mexico', 'dominicanrepublicrt', 'chain_ent', 'bookmark', ',', 'save', ',', 'comeback', ',', 'shop', ',', '&', 'amp', ';', 'save', 'time', 'and', 'money', 'with', 'your', 'boy', 'great', 'deals', '&', 'amp', ';', 'services', 'hotdeals', 'fashion', 'travel', 'gaming', 'health', 'fitness', 'finance', 'education', 'shoponline', 'us', 'baja', 'quebec', 'maradi', 'traveladdict', 'portaugusta', 'china', 'dajal', 'wine', 'business', 'wepush', 'goodsquadrt', 'northway_debbie', 'tafe', 'education', 'labor', 'auspol', 'auyg6m959ewho', 'is', 'judge', 'stacy', 'zimmerman', '“', 'child', 'awarded', 'to', 'judge', '&', 'amp', ';', 'apos', ';', 's', 'donor', 'in', 'cps', 'case', 'mom', 'loses', 'grandchild', 'in', 'child', 'auction', 'czirsvce5q', 'child', 'auction', '!'], ['news', 'npr', 'cnn', '9ju0ae9ygp', 'latimes', 'family', 'court', 'cps', 'elite', 'fo', 'the', 'research', 'education', 'usatoday', 'nytimesrt', 'inclasswithcarr', 'all-new', 'in', 'class', 'with', 'carr', 'with', 'karenhunter', 'and', 'dr.', 'greg', 'carr', '(', 'africanacarr', ')', '...', '(', 'ep', '.'], ['114', ')', 'education', 'and', 'the', 'meaning', 'of', 'family', '.'], ['watch', 'here', '👉🏾', 'qw9vtgjlya', 'inclasswithcarr', 'tupac', 'barracoon', 'education', 'family', 'qzdwpm4mfnrt', 'educationblog', 'education', 'why', 'a', 'us', 'task', 'force', 'is', 'recommending', 'anxiety', 'screening', 'in', 'kids', 'eight', 'and', 'older', 'school', 'parents', 'health', 'mentalhealth', 'di34nejtojwe', 're', 'hiring', '!'], ['click', 'to', 'apply', 'career', 'transition', 'readiness', 'specialist', '-', 's4bvuehn3j', 'education', 'morganfield', ',', 'kyrt', 'danaparenting', 'via', 'nytopinion', 'interesting', 'article', 'on', 'how', 'college', 'kids', 'are', 'not', 'engaging', 'in', 'their', 'learning', 'anymore', '.'], ['covid', 'family', 'education', 'pdodznltdurounding', 'out', 'the', 'ags22', 'weekend', 'with', 'a', 'geriatric', 'education', 'workshop', 'on', 'social', 'determinants', 'of', 'health', 'and', 'older', 'adult', 'elder', 'mistreatment', 'with', 'one', 'of', 'my', 'faves', ',', 'cristymurdock', ')', 'utgeripal', '--', 'thanks', 'for', 'the', 'pic', 'megany221', '!', '!'], ['qqocxgilqgrt', 'slsa_nys', 'wonderful', 'day', 'of', 'ny', 'state-wide', 'learning', '-', 'over', '400', 'on', 'zoom', 'with', '17', 'satellite', 'slsa_nys', 'locations', '!'], ['thanks', 'again', 'to', 'all', 'for', 'your', 'participation', '.'], ['education', 'leadoutloud', 'schoollibrarians', 'nyla_ssl', 'gswwdacohuexplore', 'eight', 'ways', 'to', 'honor', 'and', 'celebrate', 'the', 'rich', 'history', 'of', 'asian', 'and', 'pacific', 'islander', 'heritage', 'in', 'the', 'united', 'states', '.'], ['edchat', 'education', 'geotxegmt1rt', 'principal_h', 'the', 'great', 'teacher', 'inspires', 'teacher', 'teachertwitter', 'education', 'sped', 'autism', 'autismacceptance', 'cte', 'specialeducation', 'satchat', 'leadlap', 'edu', 'su2xbwj53dcan', 'you', 'recommend', 'anyone', 'for', 'this', 'education', 'job', 'in', 'jonesboro', ',', 'ga', 'click', 'the', 'link', 'in', 'our', 'bio', 'to', 'see', 'it', 'and', 'more', '.'], ['clinical', 'educator', 'at', 'fresenius', 'medical', 'care466', '-', 'what', 'do', 'you', 'see', 'give', 'it', 'a', 'try', '👍', 'discover', 'more', 'gxsi7vu1hg', 'art', 'design', 'drawing', 'sketch', 'doodle', 'nftinvestor', 'education', 'digitalart', 'ink', 'digitalartist', 'nft', 'nftart', 'nftartist', 'nftcollectors', 'nftcommunity', 'nftdrop', 'nftcollectibles', 'nftnews', 'g4x187brmrrt', 'yidwithlid', 'biden', '’', 's', 'crooked', 'fbi', 'labels', 'parents', 'who', 'speak', 'against', 'school', 'boards', '‘', 'terrorists', '’', 'm2p1iu7hlp', 'schoolboards', 'fbi', 'merrickgarland', 'parents', 'tyranny', 'education', 'freedom', 'firstamendmentrt', 'erlijng', 'good', 'news', 'more', 'and', 'more', 'governments', 'are', 'putting', 'regulations', 'in', 'place', ',', 'to', 'make', 'environmental', 'education', 'an', 'important', 'part', 'of', 'educational', 'programs', '.'], ['in', 'this', 'article', ',', 'i', 'explain', '3', 'initiatives', 'teachers', 'can', 'take', 'to', 'make', 'this', 'education', 'effective', '2zkdl7ovdo', 'sdg4rt', 'spanishbprints', 'what', 'is', 'your', 'favorite', 'and', 'most', 'cherished', 'memory', 'that', 'you', 'have', 'had', 'during', 'your', 'language', 'learning', 'journey', 'languagelearning', 'langtwt', 'studytwt', 'learning', 'spanish', 'learnspanish', 'plateau', 'success', 'education', 'bilingual', 'multilingual', 'mexico', 'dominicanrepublicrt', 'mmemcconnell', 'bad', 'advice', 'often', 'starts', 'with', '“', 'why', 'don', '’', 't', 'you', 'they…', '”', 'my', 'inside', 'voice', '“', 'why', 'don', '’', 't', 'you', 'keep', 'your', 'uninformed', 'opinion', 'to', 'yourself', '”', 'my', 'outside', 'voice', '“', 'we', 'don', '’', 't', 'know', 'what', 'we', 'don', '’', 't', 'know', '.'], ['i', 'want', 'to', 'learn', 'more', 'about', 'this.', '”', 'leadership', 'education', 'leadingchange', 'isd0cwzpmmrt', 'drbrucecollins', 'the', 'us', 'ranks', 'lower', 'than', '38', 'countries', 'on', 'measurements', 'of', 'children', 's', 'survival', ',', 'health', ',', 'education', 'and', 'nutrition', '--', '-', 'inequality', ',', 'precarity', 'and', 'moral', 'degredation', 'are', 'now', 'written', 'into', 'the', 'dna', 'of', 'american', 'politics', '.'], ['youtholympics', 'robreiner', 'profwolff', 'rt', 'kevin_craine', '[', 'podcast', ']', 'here', 's', 'a', 'compelling', 'interview', 'with', 'william', 'bonvillian', ',', 'director', 'of', 'the', 'mit', 'office', 'of', 'digital', 'learning', '.'], ['we', 'discuss', 'how', 'to', 'rebuild', 'america', 's', 'working', 'class', 'by', 'transforming', 'workforce', 'education', '.'], ['pg6zpikq8d', 'listen', 'here.rt', 'tcea', 'do', 'you', 'practice', 'active', 'listening', 'h1c4jm6hsd', 'diben', 'skillbuilding', 'edutwitter', 'education', 'kjbkrgkdjtrt', 'spanishbprints', 'what', 'is', 'your', 'favorite', 'and', 'most', 'cherished', 'memory', 'that', 'you', 'have', 'had', 'during', 'your', 'language', 'learning', 'journey', 'languagelearning', 'langtwt', 'studytwt', 'learning', 'spanish', 'learnspanish', 'plateau', 'success', 'education', 'bilingual', 'multilingual', 'mexico', 'dominicanrepublicrt', 'aishamahmoodbu1', 'ceo', 'leadership', 'leadership', 'thoughtleadership', 'digitalstrategy', 'salesmanagement', 'linkedin', 'pulse', '2.0', '3.0', '4.0', 'dreamscometrue', 'dreams', 'management', 'expert', 'iot', 'seo', 'spiritualintelligence', 'spiritualintelligenceleadership', 'goals', 'businessleadership', 'innovation', 'education', '4kgn1azaumrt', 'northway_debbie', 'tafe', 'education', 'labor', 'auspol', 'auyg6m959ert', 'yidwithlid', 'biden', '’', 's', 'crooked', 'fbi', 'labels', 'parents', 'who', 'speak', 'against', 'school', 'boards', '‘', 'terrorists', '’', 'm2p1iu7hlp', 'schoolboards', 'fbi', 'merrickgarland', 'parents', 'tyranny', 'education', 'freedom', 'firstamendmentbad', 'advice', 'often', 'starts', 'with', '“', 'why', 'don', '’', 't', 'you', 'they…', '”', 'my', 'inside', 'voice', '“', 'why', 'don', '’', 't', 'you', 'keep', 'your', 'uninformed', 'opinion', 'to', 'yourself', '”', 'my', 'outside', 'voice', '“', 'we', 'don', '’', 't', 'know', 'what', 'we', 'don', '’', 't', 'know', '.'], ['i', 'want', 'to', 'learn', 'more', 'about', 'this.', '”', 'leadership', 'education', 'leadingchange', 'isd0cwzpmm', '....', 'and', 'they', 'will', 'project', 'a', 'dystopian', 'prediction', 'about', 'the', 'death', 'of', 'public', 'schools', '.'], ['hey', ',', 'at', 'least', 'they', 'didn', '’', 't', 'say', 'we', 'would', 'produce', 'unsocialized', 'children', '!'], ['homeschooling', 'education', 'getoutnow', 'publicschoolexitrt', 'tcea', 'do', 'you', 'practice', 'active', 'listening', 'h1c4jm6hsd', 'diben', 'skillbuilding', 'edutwitter', 'education', 'kjbkrgkdjt', '[', 'podcast', ']', 'here', 's', 'a', 'compelling', 'interview', 'with', 'william', 'bonvillian', ',', 'director', 'of', 'the', 'mit', 'office', 'of', 'digital', 'learning', '.'], ['we', 'discuss', 'how', 'to', 'rebuild', 'america', 's', 'working', 'class', 'by', 'transforming', 'workforce', 'education', '.'], ['pg6zpikq8d', 'listen', 'here.rt', 'northway_debbie', 'tafe', 'education', 'labor', 'auspol', 'auyg6m959ewhat', 'is', 'your', 'favorite', 'and', 'most', 'cherished', 'memory', 'that', 'you', 'have', 'had', 'during', 'your', 'language', 'learning', 'journey', 'languagelearning', 'langtwt', 'studytwt', 'learning', 'spanish', 'learnspanish', 'plateau', 'success', 'education', 'bilingual', 'multilingual', 'mexico', 'dominicanrepublicrt', 'northway_debbie', 'tafe', 'labor', 'education', 'auspol', '98uvhmd2ckjoin', 'us', 'for', 'the', 'girls', 'in', 'business', 'camp', 'okalahomacity', '2023', 'on', 'jul', '15', '.'], ['girls', 'learn', 'the', 'business', 'basics', ',', 'create', 'a', 'business', 'then', 'pitch', 'the', 'business', 'to', 'a', 'mock', 'panel', 'of', 'investors', 'tickets', '➡️', 'pzobnfjjqb', 'tulsa', 'educationwrite', 'a', 'short', 'story', '❤️', 'type', 'recreational', '🚤', 'participants', '1', 'accessibility', '0.1', '1', '(', 'zero', 'being', 'the', 'most', 'accessible', ')', 'price', '0', '1', '(', 'zero', 'being', 'free', ')', 'education', 'recreational', 'social', 'diy', 'charity', 'cooking', 'relaxation', 'music', 'busywork11', 'career', 'opportunities', 'for', 'llb', 'graduates', 'you', 'never', 'thought', 'of', 'wuahg7aufe', 'careers', 'educationrt', 'aishamahmoodbu1', 'ceo', 'leadership', 'leadership', 'thoughtleadership', 'digitalstrategy', 'salesmanagement', 'linkedin', 'pulse', '2.0', '3.0', '4.0', 'dreamscometrue', 'dreams', 'management', 'expert', 'iot', 'seo', 'spiritualintelligence', 'spiritualintelligenceleadership', 'goals', 'businessleadership', 'innovation', 'education', '4kgn1azaumrt', 'kupwaraterriers', 'kupwara', 'terriers', 'stands', 'with', 'youth', 'of', 'kupwara', 'and', 'kashmir', '.'], ['kupwaraterriers', 'sports', 'marshalart', 'education', 'indianarmyinkashmir', 'clx', '13may22kt', 'dwvlypgmvart', 'bittermedz', '[', 'tonite', ']', 'a', 'saturday', 'night', 'shoot', 'the', 'breeze', 'episode', '(', '48', ')', 'listen', 'here', 'p9hpxrl6oh', 'live', 'streaming', '5', '14', '2022', '8pm', 'est', 'set', 'your', 'reminders', 'now', '!'], ['blacktwitter', 'blm', 'saturday', 'racism', 'african', 'philosophy', 'afrocentric', 'education', 'shootingthebreeze', 'supportblackbusiness', 'nrwib90csoconnecting', 'frida', 'kahlo', 's', 'painting', 'roots', 'to', 'our', 'novel', 'missing', 'may', '.'], ['said', '1', 'student', 'through', 'her', 'pain', 'she', 'gives', 'life', '.'], ['did', 'i', 'say', 'things', 'like', 'that', 'when', 'i', 'was', '9', 'artsintegration', 'edchat', 'teaching', 'literacy', 'k12', 'learning', 'teachertwitter', 'education', 'elemchat', 'litchat', 'fridakahlo', 'vssx9zvqufrt', 'proedtn', 'what', 'do', 'you', 'think', 'education', 'tennessee', '2zrpp1zsgc', 'problems', 'in', 'contract', 'law', 'cases', 'and', 'materials', '(', 'law', 'school', 'casebook', 'series', ')', 'by', 'k', 'ebay🇺🇸', 'textbooks', 'education', 'reference', 'xnw8lg7cnbrt', 'mahinn30', 'you', 'can', 'learn', 'from', 'your', 'dissatisfied', 'buyers', '.'], ['all', 'their', 'allegations', 'are', 'the', 'main', 'source', 'of', 'education', '--', '--', 'bill', 'gates', 'education', 'quote', 'businessproposalrt', 'muzafar98978194', 'kupwara', 'terries', 'has', 'always', 'exemplified', 'religious', 'gaiety', 'and', 'brotherhood', 'and', 'such', 'events', 'are', 'testimony', 'of', 'it', 's', 'secularism', 'and', 'humanity', '..', 'kupwaraterriers', 'sports', 'education', 'indianarmyinkashmir', 'clx', '12may22kt', 'copjw9bcrf', 'exitandbuild', 'afamilyedu', 'liberty', 'permiculture', 'community', 'education', 'bastrop', ',', 'texas', '0t4fivok4lrt', 'cryptoinsanity', 'cultosapp', 'founder', 'andrew', 'yang', 'will', 'be', 'my', 'special', 'guest', 'for', 'our', 'upcoming', 'podcast', 'next', 'week', '!'], ['i', 'am', 'looking', 'forward', 'and', 'excited', 'for', 'this', 'collaboration', '!'], ['stay', 'tuned', 'peeps', '!'], ['🚀🌕💯', 'crypto', 'cryptocurrency', 'blockchain', 'defi', 'nft', 'trading', 'staking', 'education', 'fgjz5h8nrm', 'ceo', 'leadership', 'leadership', 'thoughtleadership', 'digitalstrategy', 'salesmanagement', 'linkedin', 'pulse', '2.0', '3.0', '4.0', 'dreamscometrue', 'dreams', 'management', 'expert', 'iot', 'seo', 'spiritualintelligence', 'spiritualintelligenceleadership', 'goals', 'businessleadership', 'innovation', 'education', '4kgn1azaumwhat', 'does', 'your', 'learning', 'environment', 'look', 'like', 'explore', 'the', 'ideas', 'in', 'this', 'post', 'via', 'terryheickedu', 'teachthought', 'fjinb3bu9m', 'education', 'edchat', 'educhat', 'learningrt', 'spanishbprints', 'are', 'you', 'tracking', 'your', 'language', 'learning', 'progress', 'languagelearning', 'langtwt', 'studytwt', 'learning', 'spanish', 'learnspanish', 'success', 'education', 'bilingual', 'multilingual', 'progress', 'languageexmas', 'reflection', 'languagesthank', 'you', 'for', 'your', 'generous', 'contribution', 'towards', 'csr', '-', 'stem', 'scholarship', '.'], ['your', 'financial', 'support', 'enables', 'students', 'to', 'pursue', 'their', 'stem', 'education', 'at', 'universities', 'across', 'the', 'usa', 'itserve2022', 'itservealliance', 'knowledge', 'bussinessowner', 'sponsor', 'vitalglobal', 'ceos', 'donation', '6ulu4tvaxfrt', 'momswhosave', 'dinomaynia', 'giveaway', '🥳', 'teachers', 'and', 'parents', ',', 'enter', 'to', 'win', 'seven', 'nat', 'geo', 'kids', 'books', '+', 'a', 'fossil', 'kit', '!'], ['👉🏼', '9its28mhid', 'giveaways', 'sweepstakes', 'education', 'mediamastersbks', 'ihegc3uqe8millions', 'of', 'children', '&', 'amp', ';', 'youth', 'around', 'the', 'world', 'need', 'your', 'help', '!'], ['i', 'urge', 'you', 'to', 'prioritize', '$', '1.125', 'billion', 'for', 'international', 'basic', 'education', ',', 'including', '$', '50', 'million', 'for', 'educannotwait', 'in', 'the', 'fy23', 'sfops', 'appropriations', 'bill', 'repbarbaralee', 'rephalrogers', 'lindseygrahamsc', 'chriscoonsare', 'you', 'tracking', 'your', 'language', 'learning', 'progress', 'languagelearning', 'langtwt', 'studytwt', 'learning', 'spanish', 'learnspanish', 'success', 'education', 'bilingual', 'multilingual', 'progress', 'languageexmas', 'reflection', 'languagesrt', 'morganjasiens', 'cfeelv', 'je', 'voulais', 'vous', 'parler', 'aujourd', '’', 'hui', 'd', '’', 'un', 'petit', 'sujet', '–', 'de', 'niche', 'comme', 'on', 'dit', '–', 'absolument', 'pas', 'vital', 'pour', 'l', '’', 'avenir', 'de', 'notre', 'république', 'l', '’', 'education', '.'], ['thread', '🧵👇', 'i3vrcqe9ad', 'cgofhtcsybthis', 'opportunity', 'might', 'be', 'a', 'great', 'fit', 'for', 'you', 'middle', 'school', 'ld', 'bd', 'resource', 'teacher', '-', 'f8dcflp16i', 'education', 'arlingtonheights', ',', 'ilrt', 'virginiebeck3', 'porte', 'cassée', 'dans', 'un', 'village', 'alsacien', '...', 'si', 'l', 'école', 'ne', 'sert', 'à', 'rien', 'pour', 'certains', ',', 'nous', 'remettrons', 'une', 'école', 'dans', 'chaque', 'village', '!'], ['nous', 'redonnerons', 'l', 'autorité', 'abandonnée', ',', 'nous', 'rétablirons', 'des', 'valeurs', 'dignes', 'pour', 'nos', 'enfants', '.'], ['instructionscolaire', 'éducation', 'civisme', 'zemmour2022', 'vtblynu7nwrt', 'erlijng', 'good', 'news', 'more', 'and', 'more', 'governments', 'are', 'putting', 'regulations', 'in', 'place', ',', 'to', 'make', 'environmental', 'education', 'an', 'important', 'part', 'of', 'educational', 'programs', '.'], ['in', 'this', 'article', ',', 'i', 'explain', '3', 'initiatives', 'teachers', 'can', 'take', 'to', 'make', 'this', 'education', 'effective', '2zkdl7ovdo', 'sdg4i', 'urge', 'all', 'bams', 'students', 'and', 'ayurved', 'enthusiasts', 'to', 'subscribe', 'the', 'channel', 'on', 'youtube', 'to', 'promote', 'ayurvedic', 'education', 'and', 'gaining', 'knowledge', 'igumoae3fbrt', 'definedlearning', 'free', 'webinar', 'hear', 'from', 'jaymctighe', 'and', 'education', 'leaders', 'across', 'the', 'country', 'on', 'how', 'to', 'grow', 'student', 'engagement', 'and', 'accelerate', 'learning', 'pbl', 'stem', 'edchat', 'fo6rv6znng', 'pblchat', 'pbl', 'education', 'careers', 'zztma94opjrt', 'zehrijournalist', 'education', 'is', 'the', 'best', 'weapon', 'to', 'change', 'the', 'obsolete', 'system', 'of', 'the', 'world', '.'], ['txrc1fuuefrt', 'plume_app', 'venez', 'nous', 'rencontrer', 'au', 'salon', 'startupforkids', 'les', '15', 'et', '16', 'avril', 'à', 'l', '’', 'école', '42born2code', '!'], ['👩\\u200d💻', 'pour', 'vous', 'inscrire', 'à', 'la', 'journée', 'grand', 'public', ',', 'c', 'est', 'par', 'ici', '7ttojj66qk', '.'], ['edtech', 'startup', 'éducation', 'innovationrt', 'sixnwstevies', 'loving', 'today', '’', 's', 'session', 'with', 'onceuponagene', 'about', 'how', 'to', 'set', 'up', 'a', 'podcast', '.'], ['finally', 'after', 'years', 'of', 'thinking', 'about', 'it', ',', 'getting', 'ready', 'to', 'launch', 'telo-me-more', 'podcast', 'for', 'teamtelomereinc', '💜💜💜', 'letsgo', 'podcast', 'telomere', 'education', '0u3hkagunv', '..', 'it', 'would', 'probably', 'have', 'been', 'only', 'a', 'very', 'short', 'period', 'of', 'time', 'before', 'it', 'would', 'be', ',', 'when', 'adolescence', 'and', 'fractious', 'infantilism', 'would', 'meet', 'on', 'some', 'battlefield', 'of', 'power', 'with', 'much', 'greater', 'escalatory', 'consequences', '.'], ['=', '&', 'gt', ';', 'the', 'humancondition', '-', '(', 'and', 'what', 'to', 'do', 'about', 'it', ')', '(', 'education', ')', 'rt', 'tmj_la_edu', 'see', 'our', 'latest', 'lake', 'charles', ',', 'la', 'education', 'job', 'opportunity', 'and', 'click', 'the', 'link', 'in', 'our', 'bio', 'to', 'apply', '2022-2023', 'middle', 'school', 'special', 'education', 'teacher-lake', 'charles', 'charter', 'academy', 'at', 'eduserve', 'middleschoolif', 'you', 're', 'looking', 'for', 'work', 'in', 'milwaukee', ',', 'wi', ',', 'check', 'out', 'this', 'education', 'job', 'via', 'the', 'link', 'in', 'our', 'bio', 'substitute', 'teacher', 'at', 'milwaukee', 'scholars', 'charter', 'school', 'at', 'national', 'heritage', 'academies', 'teachertop', '10', 'interesting', 'facts', 'about', 'writing', 'that', 'will', 'impress', 'you', 'tcvmoe0yaw', 'education', 'englishrt', 'maucascioli', 'un', 'riche', 'échange', 'avec', 'la', 'sénatrice', 'hconwaymouret', 'à', 'l', '’', 'afd_france', 'brazzaville', '!'], ['education', 'emploi', 'genre', 'des', 'enjeux', 'majeurs', 'et', 'partagés', 'de', 'la', 'collaboration', 'entre', 'la', 'france', 'ambafran_congo', 'et', 'le', 'congo', '9dowfyobu4', 'facupfinal', 'kpopflex', 'mamamooingermany', 'kpopflexfestival', 'kai', 'mamamoo', 'solar', '솔라', 'hwasa', 'wheein', 'mamamoo', 'gidle', 'tomboy', 'gidle_worldtour_justmeidle', '2ne1', '100m', 'altcoins', 'beijing', 'chinese', 'china', 'elevy', 'education', 'ghana', 'instagram', 'viral', 'trending', 'bravegirls', 'dkhzxiuhfx', 'teachers', 'looking', 'for', 'summer', 'reading', 'we', 'humbly', 'recommend', 'when_you_wonder', '.'], ['time', 'and', 'again', ',', 'educators', 'have', 'said', 'that', 'they', 've', 'found', 'ideas', 'both', 'healing', 'and', 'rejuvenating', 'in', 'the', 'familiar', 'yet', 'surprisingly', 'right-now', 'work', 'of', 'misterrogers', '|', 'edchat', 'teaching', 'education', 'suob6gjhdkrt', 'laurelworlds', 'the', 'legendary', 'women', 'of', 'world', 'history', 'series', 'empowers', 'you', 'to', 'educate', 'you', 'and', 'your', 'family', 'about', 'the', 'exciting', 'and', 'often', 'inspiring', 'stories', 'of', 'leading', 'women', 'from', 'around', 'the', 'world', 'and', 'across', 'time', '.'], ['browse', 'the', 'series', 'at', 's9dslxtszq', 'greatreads', 'education', 'bmqzligsuwrt', 'virginiebeck3', 'porte', 'cassée', 'dans', 'un', 'village', 'alsacien', '...', 'si', 'l', 'école', 'ne', 'sert', 'à', 'rien', 'pour', 'certains', ',', 'nous', 'remettrons', 'une', 'école', 'dans', 'chaque', 'village', '!'], ['nous', 'redonnerons', 'l', 'autorité', 'abandonnée', ',', 'nous', 'rétablirons', 'des', 'valeurs', 'dignes', 'pour', 'nos', 'enfants', '.'], ['instructionscolaire', 'éducation', 'civisme', 'zemmour2022', 'vtblynu7nwhi', 'friends', '.'], ['did', 'you', 'know', 'that', 'i', 'am', 'a', 'children', 's', 'book', 'author', 'my', 'books', 'all', 'touch', 'on', 'feelings', 'and', 'learning', '.'], ['c9dotbzwic', 'education', 'kidsbooks', 'prek', 'kindergarten', 'conceptbooks', 'storytime', 'amreading', 'reading', 'adventure', 'duoinspirations', 'pvdt3ofvexrt', 'huawei_tech4all', 'in', 'our', 'increasingly', 'digital', 'world', ',', 'no', 'one', 'should', 'be', 'left', 'behind', '.'], ['and', 'that', 'starts', 'with', 'education', '.'], ['🎓', 'learn', 'how', 'huawei', '&', 'amp', ';', 'unesco', 'are', 'piloting', 'teoss', 'digital', 'education', 'projects', 'in', 'ethiopia', ',', 'ghana', '&', 'amp', ';', 'egypt', 'to', 'help', 'drive', 'education', 'equity', '&', 'amp', ';', 'quality', '👉', 'unescoicts', 'tech4all', 'tech4edurt', 'brittanystones2', 'here', 's', 'today', 's', 'education', 'blog', 'post', '.'], ['i', 'hope', 'you', 'enjoy', 'it', '!'], ['writingcommunity', '7tueeujhztrt', 'brittanystones2', 'here', 's', 'today', 's', 'education', 'blog', 'post', '.'], ['i', 'hope', 'you', 'enjoy', 'it', '!'], ['writingcommunity', '7tueeujhztrt', 'skytechglobe1', 'it', 's', 'easier', 'than', 'you', 'think', '.'], ['follow', '4', 'simple', 'easy', 'steps', '.'], ['skytech', 'community', 'education', 'people', 'crypto', 'rading', 'crypto', 'staking', 'educationpackages', 'skp', 'tmfvidyxjywhy', 'is', 'the', '(', 'publicly', 'funded', ')', 'secretary', 'of', 'state', 'for', 'education', 'promoting', 'a', 'service', 'he', 'is', 'not', 'responsible', 'for', 'and', 'which', '93', '%', 'of', 'the', 'population', 'cant', 'access', 'some', 'private', 'schools', 'may', 'be', 'excellent', ',', 'but', 'for', 'most', 'people', 'in', 'the', 'uk', 'they', 'are', 'totally', 'irrelevant', '.'], ['5hvw7tnm0pnew', 'job', 'opening', 'at', 'kellyservices', 'in', 'ozark', '!'], ['special', 'education', 'substitute', 'teacher', 'ltvtpbotao', 'tdtarihdcgrt', 'capilla_carmen', 'si', 'tod', 's', 'tenemos', 'claro', 'que', 'somos', 'diferentes', 'y', 'que', 'eso', 'es', 'lo', 'enriquecedor', ',', '🤔', 'porq', 'creemos', 'que', 'aprendemos', 'igual', 'diversas', 'formas', 'de', 'ser', ',', 'diversas', 'formas', 'de', 'aprender', '.'], ['education', 'diversidad', 'aprender', 'inclusion', 'creatividad', 'felizsábado', 'emociones', 'iu1gnrfazurt', 'datumfoundation', 'datum', 'was', 'invited', 'to', 'talk', 'at', 'the', 'methodist', 'church', 'in', 'beeston', '(', 'uk', ')', 'about', 'our', 'projects', 'and', 'work', 'with', 'local', 'communities', ',', 'empowering', 'them', 'to', 'gain', 'life', 'skills', ',', 'education', ',', 'health', 'and', 'nutrition', '.'], ['thank', 'you', 'for', 'your', 'support', '!'], ['internationaldevelopment', 'rp1bz0igl9rt', 'towards_ai', 'neural', 'networks', 'from', 'scratch', 'with', 'python', 'code', 'and', 'math', 'in', 'detail—', 'i', '→', 'wtay0b9avj', 'via', 'towards_ai', 'towardsai', 'machinelearning', 'ml', 'neuralnetworks', 'tutorial', 'educationfree', 'webinar', 'hear', 'from', 'jaymctighe', 'and', 'education', 'leaders', 'across', 'the', 'country', 'on', 'how', 'to', 'grow', 'student', 'engagement', 'and', 'accelerate', 'learning', 'pbl', 'stem', 'edchat', 'fo6rv6znng', 'pblchat', 'pbl', 'education', 'careers', 'zztma94opjrt', 'maud2nimes', 'sauvegardé', '.'], ['je', 'le', 'ressortirai', 'à', 'chaque', 'ien', 'qui', 'me', 'chiera', 'dans', 'les', 'bottes', 'en', 'me', 'demandant', 'où', 'est', 'ma', 'programmation', 'et', 'comment', 'je', 'pense', 'emmener', 'mes', 'gosses', 'vers', 'l', 'acquisition', 'du', 'socle', 'commun', '.'], ['que', 'l', 'etat', 'fasse', 'son', 'job', 'en', 'matière', 'd', 'education', '.'], ['conseil_etat', 'ief', 'instructionenfamille', 'xknpk3j22frt', 'mclennan1977', 'let', '’', 's', 'collaborate', 'on', 'instagram', '!'], ['follow', 'me', 'there', 'for', 'math', ',', 'art', 'and', 'play', 'ideas', 'outdoors', '!'], ['onted', 'education', 'teaching', 'learning', 'kindergarten', 'earlyed', 'saturday', 'maths', 'earlyed', 'k12', '2idhgjovlbrt', 'towards_ai', 'neural', 'networks', 'from', 'scratch', 'with', 'python', 'code', 'and', 'math', 'in', 'detail—', 'i', '→', 'wtay0b9avj', 'via', 'towards_ai', 'towardsai', 'machinelearning', 'ml', 'neuralnetworks', 'tutorial', 'educationrt', 'brookespubco', 'how', 'educators', 'think', 'and', 'talk', 'about', 'their', 'students', 'impacts', 'the', 'type', 'and', 'quality', 'of', 'interventions', 'they', 'provide', '.'], ['quotes', 'education', '47xh8cbqvmrt', 'leveluprn', 'nclex-', 'style', 'question', 'answered', 'how', 'd', 'you', 'do', '\\u2060', '\\u2060', 'keep', 'following', 'for', 'more', '!'], ['\\u2060', 'gepofjcdlz', '\\u2060', 'nclex', 'hesi', 'kaplan', 'ati', 'nursingschool', 'nursingstudent\\u2060', 'nurse', 'rn', 'pn', 'education', 'lvn', 'lpn', 'nclexstudying', 'nclextips', 'nclexprep', 'nclexhelp', 'nclexreview', 'nclexexam', 'k3th9bhn0srt', 'upsurgeon', 'simulated', 'brain', 'dissection', 'and', 'exposure', 'of', 'white', 'matter', 'fibers', '.'], ['big', 'news', 'soon', '!', '!', '!'], ['-', 'neuroanatomy', 'brainanatomy', 'medicine', 'medtech', 'technology', 'healthtech', 'medicalstudent', 'education', 'ndyu9xjtzurt', 'angelaleonm', '🚪research', ',', 'rethink', ',', 'rebuilt', ',', '...', 'reopen', '!'], ['education', 'arquitectura', 'urbanismo', 'education', 'architecture', 'urbanism', 'en', 'pontificia', 'universidad', 'javeriana', '40mwanwufwrt', 'erlijng', 'good', 'news', 'more', 'and', 'more', 'governments', 'are', 'putting', 'regulations', 'in', 'place', ',', 'to', 'make', 'environmental', 'education', 'an', 'important', 'part', 'of', 'educational', 'programs', '.'], ['in', 'this', 'article', ',', 'i', 'explain', '3', 'initiatives', 'teachers', 'can', 'take', 'to', 'make', 'this', 'education', 'effective', '2zkdl7ovdo', 'sdg4neural', 'networks', 'from', 'scratch', 'with', 'python', 'code', 'and', 'math', 'in', 'detail—', 'i', '→', 'wtay0b9avj', 'via', 'towards_ai', 'towardsai', 'machinelearning', 'ml', 'neuralnetworks', 'tutorial', 'education', 'how', 'educators', 'think', 'and', 'talk', 'about', 'their', 'students', 'impacts', 'the', 'type', 'and', 'quality', 'of', 'interventions', 'they', 'provide', '.'], ['quotes', 'education', '47xh8cbqvmnclex-', 'style', 'question', 'answered', 'how', 'd', 'you', 'do', '\\u2060', '\\u2060', 'keep', 'following', 'for', 'more', '!'], ['\\u2060', 'gepofjcdlz', '\\u2060', 'nclex', 'hesi', 'kaplan', 'ati', 'nursingschool', 'nursingstudent\\u2060', 'nurse', 'rn', 'pn', 'education', 'lvn', 'lpn', 'nclexstudying', 'nclextips', 'nclexprep', 'nclexhelp', 'nclexreview', 'nclexexam', 'k3th9bhn0stempe', 'chamber', 'of', 'commerce', 'ribbon-cutting', 'for', 'the', 'i', 'believe', 'academy', 'wonderful', 'organization', '!'], ['education', 'weichertrealtors', 'tempe', 'chamber', 'givingback', 'tempe', ',', 'arizona', 'gq5pxu2uoxsubscribe', 'to', 'directions', 'magazine', 's', 'free', 'publications', '!'], ['get', 'tips', ',', 'articles', 'and', 'industry', 'news', ',', 'plus', 'information', 'on', 'our', 'educational', 'webinar', 'series', 'in', 'our', 'weekly', 'emails', '.'], ['wictg4gjyk', 'geospatial', 'gis', 'news', 'features', 'casestudies', 'webinars', 'education', 'hlvyyfqi0j🚨', 'sos', '🚨', 'this', 'month', 'only', '-', 'j3', 'will', 'be', 'having', 'a', 'spring', 'book', 'drive', 'to', 'help', 'us', 'level', 'up', 'our', 'cozy', 'reading', 'club', '’', 's', 'read-aloud', 'library', 'donate', 'today', '!'], ['link', 'in', 'bio', '.'], ['.'], ['.'], ['.'], ['.'], ['nonprofit', 'charity', 'community', 'donate', 'nonprofitorganization', 'volunteer', 'love', 'education', 'suppor', 'kutxlwfcqiinfano', '-', 'kindergarten', '&', 'amp', ';', 'preschool', 'wordpress', 'theme', 'q2uvnghcqs', 'arts', 'care', 'child', 'classes', 'courses', 'drawing', 'education', 'event', 'instructor', 'kindergarten', 'learning', 'nursery', 'preschool', 'responsive', 'rstheme', 'themeforest', 'training', 'wordpresswe', 'have', 'a', 'variety', 'of', 'interesting', 'and', 'educational', 'online', 'experiences', 'including', 'diy', 'activities', 'and', 'access', 'to', 'our', 'online', 'collection', '.'], ['here', 'are', 'the', 'latest', 'c2bz5gu6kh', 'museums', 'onlinecolletions', 'diy', 'education', 'ud8wdrlfprthe', 'covid19', 'has', 'posed', 'unprecedented', 'challenges', 'to', 'nursing', 'education', '.'], ['see', 'how', 'this', 'modular', 'skills', 'trainer', 'improved', 'simulation', 'training', 'for', 'student', 'nurses', '.'], ['3uv2z6eovy', 'meded', 'education', 's7vkfmajmzcurious', 'how', 'covid-19', 'might', 'impact', 'classrooms', 'as', 'they', 'return', 'read', 'our', 'latest', 'post', 'the', 'new', 'normal', 'for', 'classrooms', 'post-covid19', '.'], ['|', 'teachlogic', 'kgbbbtwwcu', 'education', 'covid19', 'tech', 'classroom', 'k12', '5goq5swjrtalmost', '40', '%', 'of', 'injuries', 'last', 'year', 'were', 'in', 'our', '🏘️', 'and', 'communities', 'this', 'makeitsafemay', 'our', 'community', 'education', 'team', 'is', 'focused', 'on', 'delivering', 'our', 'keeping', 'safe', 'module', 'in', 'schools', ',', 'so', 'tamariki', 'can', 'keep', 'themselves', 'and', 'others', 'safe', '💛', 'thank', 'you', 'to', 'accnz', 'youth', 'youthweek', 'stjohnnz', 'dx7yknaftbwhat', 'do', 'you', 'think', 'education', 'tennessee', 'ephjqlfu3ubiden', '’', 's', 'crooked', 'fbi', 'labels', 'parents', 'who', 'speak', 'against', 'school', 'boards', '‘', 'terrorists', '’', 'm2p1iu7hlp', 'schoolboards', 'fbi', 'merrickgarland', 'parents', 'tyranny', 'education', 'freedom', 'firstamendmentrt', 'texteduref', 're', 'presenting', 'class', 'essays', 'in', 'postmodern', 'marxism', 'ebay🇺🇸', 'textbooks', 'education', 'reference', '7k35ozmxvothe', 'trickle-down', 'effect', 'of', 'increased', 'college', 'tuition', 'teachers', 'are', 'scrutinized', 'for', 'their', 'grading', 'policies', 'more', 'than', 'ever', 'before', 'mediumwriters', 'medium', 'education', 'teachers', 'tcawql5fkdproud', 'to', 'work', 'in', 'a', 'state', 'school', 'and', 'proud', 'my', 'daughter', 'goes', 'to', 'such', 'an', 'excellent', 'secondary', 'state', 'school', 'education', 'edutwitter', 'kwtaovexxzstop', 'staring', 'at', 'the', 'clock', 'every', 'day', '.'], ['it', 's', 'time', 'for', 'a', 'new', 'career', '.'], ['follow', 'us', 'to', 'view', 'jobs', 'with', 'titles', 'like', 'paraprofessional', 'at', 'southside', 'academy', 'charter', 'school', 'in', 'syracuse', ',', 'ny', '.'], ['education', 'teacherrt', 'pathogenfocus', 'we', '’', 've', 'all', 'had', 'to', 'miss', 'school', 'time', 'from', 'being', 'sick', '.'], ['some', 'more', 'than', 'others', '.'], ['what', 'does', 'add', 'up', 'to', 'it', '’', 's', 'about', '$', '10', 'billion', 'per', 'year', 'in', 'the', 'u.s.', 'of', 'lost', 'productivity', '.'], ['what', 'could', 'we', 'do', 'to', 'prevent', 'this', 'education', 'cleanair', 'publicsafety', 'vhuk9enbalberea', 'school', 'board', 'opposes', '3', '‘', 'divisive', 'concepts', '’', 'state', 'bills', '|', 'education', '2wdr75v63irt', 'ileaderssummit', 'listen', '—', '8', '30', 'am', 'et', '|', '7', '30', 'am', 'ct', '|', 'may', '14', '7s6kfjnrqy', '|', 'americasroundtable🇺🇸lanser', '|', '.'], ['supertalk', 'amb', '.'], ['carlahsands', 'w', 'natashasrdoc', '&', 'amp', ';', 'joelanandusa', '—', 'us', 'inflation', '—restoring', 'america', 's', 'energy', 'independence', '—', 'education', '—', 'iran', 'nuclear', 'threat', '|', 'peacethroughstrength', 'wn0frvchkdthe', 'cultural', 'activities', 'and', 'folklore', 'of', 'jamaica', 'iymqjrzbhx', 'culture', 'education', 'history', 'heritage', 'booktwitter', 'books', 'bookboost', 'book', 'bookworm', 'ebook', 'ebooksrt', 'audreyosler', 'we', 'are', 'delighted', 'to', 'announce', 'that', 'beate_gold', '&', 'amp', ';', 'i', 'are', 'putting', 'together', '(', 'the', 'first', ')', 'hre', 'nordic', 'anthology', '‘', 'nordic', 'perspectives', 'on', 'humanrights', 'education', '’', 'for', 'routledgeed', 'o4xmsx0usqquestions', 'of', 'this', 'nature', 'help', 'pass', 'the', 'responsibility', 'of', 'the', 'seminar', 'over', 'to', 'the', 'students', '.'], ['when', 'students', 'get', 'better', 'at', 'asking', 'questions', ',', 'they', 'can', 'get', 'involved', 'in', 'asking', 'opening', 'questions', 'themselves', '.'], ['bookbubble', 'aragornfischer', 'lmpiljpjez', 'education', 'amreadingrt', 'rlccorpssm', 'next', 'week', 'with', 'some', 'help', 'from', '85rlc', ',', 'we', 'run', 'the', 'rlc', 'ssms', 'cadre', '.'], ['imo', '…modern', 'day', 'ssms', 'need', 'more', 'than', 'a', 'stick', 'and', 'an', 'attitude', '.'], ['whilst', 'i', 'have', 'the', 'army_leadership', '…', '..', 'i', 'am', 'interested', 'in', 'views', 'on', 'group', 'discussion', 'questions', '.'], ['hit', 'me', 'up', 'miltwitter', '👇', 'education2', '.'], ['the', 'coming', 'of', 'the', 'persians', '(', 'the', 'greeks', 'and', 'the', 'others', ')', 'gfuyzim2z2', 'classics', 'latin', 'greek', 'ancienthistory', 'educationthis', 'isn', 't', 'the', 'whole', 'video', 'of', 'this', 'incident', '...'], ['i', 'have', 'seen', 'ones', 'that', 'start', 'earlier', '...', 'but', 'can', 'anyone', 'tell', 'me', 'something', 'about', 'the', 'guy', 'in', 'the', 'horse', 'head', '.'], ['i', 'feel', 'it', 's', 'an', 'underreported', 'part', 'of', 'this', 'story', '.'], ['ottawa', 'education', 'police', 'xajjmbo6i2we', 're', 'hiring', '!'], ['read', 'about', 'our', 'latest', 'job', 'opening', 'here', 'grant', 'contract', 'accountant', '-', 'p0z7ndepca', 'brownuniversity', 'educationrt', 'upsurgeon', 'simulated', 'brain', 'dissection', 'and', 'exposure', 'of', 'white', 'matter', 'fibers', '.'], ['big', 'news', 'soon', '!', '!', '!'], ['-', 'neuroanatomy', 'brainanatomy', 'medicine', 'medtech', 'technology', 'healthtech', 'medicalstudent', 'education', 'ndyu9xjtzu', 'freecourse', 'infinite', 'scroll', 'project', 'ajax', 'mysql', 'api', 'php', 'jquery', 'rated', '4.5', 'stars', 'by', '319', 'students', 'n1g8zmuhav', 'free', 'elearning', 'online', 'questions', 'webdevelopment', 'educationwant', 'to', 'work', 'at', 'oakland', 'unified', 'school', 'district', 'we', 're', 'hiring', 'in', 'oakland', ',', 'ca', '!'], ['click', 'the', 'link', 'in', 'our', 'bio', 'for', 'details', 'on', 'this', 'job', 'and', 'more', 'teacher', ',', 'temporary', 'assignment', 'special', 'education', ',', 'moderate', 'extensive', 'sdc', '-', 'oakland', 'technical', 'high', 'school', '(', '2021-22', ')', 'educationrt', 'tmj_stl_edu', 'we', 'focus', 'on', 'keeping', 'benefits', 'fair', ',', 'smart', 'and', 'competitive', 'with', 'a', 'full', 'package', 'of', 'rewards', 'that', 'support', 'your', 'health', ',', 'life', ',', 'career', 'and', 'future', 'because', 'our', 'healthcare', 'starts', 'with', 'our', 'colleagues', '.'], ['come', 'be', 'a', 'part', 'of', 'our', 'family', 'in', 'stlouis', ',', 'mo', '.'], ['l8h4je0yal', 'educationrt', 'tcea', '📘', 'the', '8', 'executive', 'functions', 'explained', '📕', '7yuw45xr7o', '📸', 'via', 'livelymindsco', 'academictwitter', 'education', 'skillbuilding', 'sz7xdhdaon', 'pulte', 'dollargeneral', 'abcgolearn', 'teachertwitter', 'education', 'edutwitter', 'notts', 'vlog', 'news', 'nottingham', 'learn', 'acting', 'theatre', 'skills', 'nnt', 'rw46ivjfbu', 'education', 'promotion', 'rolesrt', 'jurijkovalenok1', 'an', 'electron', 'in', 'an', 'atom', '.'], ['share', 'this', 'note', 'with', 'your', 'students', 'kuqmsjojfd', 'sincerely', ',', 'yuri', 'kovalenok', 'physics', 'physicsfun', 'engineer', 'distancelearning', 'education', 'elonmusk', 'nasa', 'spacex', 'cern', 'wissenschaft', 'teacher', 'art', 'nftgiveaway', 'nftcollector', 'nftcommunity', 'us', 'ukwant', 'to', 'work', 'in', 'longbeach', ',', 'ca', 'view', 'our', 'latest', 'opening', 'gue7pedq9i', 'educationan', 'electron', 'in', 'an', 'atom', '.'], ['share', 'this', 'note', 'with', 'your', 'students', 'kuqmsjojfd', 'sincerely', ',', 'yuri', 'kovalenok', 'physics', 'physicsfun', 'engineer', 'distancelearning', 'education', 'elonmusk', 'nasa', 'spacex', 'cern', 'wissenschaft', 'teacher', 'art', 'nftgiveaway', 'nftcollector', 'nftcommunity', 'us', 'ukrt', 'rdene915', 'listen', 'to', 'the', 'reimagine', 'schools', 'podcast', 'via', 'drgreggoins', 'with', 'guest', 'rdene915', '.'], ['greg', 'and', 'rachelle', 'talk', 'about', 'the', 'look', 'of', 'school', ',', 'future', 'of', 'education', ',', 'and', 'emerging', 'tech', '!'], ['zndxmkqamy', 'education', 'edtech', 'edchat', 'sel', 'arvrinedurt', 'tmj_cte_edu', 'interested', 'in', 'a', 'job', 'in', 'providence', ',', 'ri', 'this', 'could', 'be', 'a', 'great', 'fit', 'qxnsc95kyy', 'educationrt', 'cyberpeacecorps', 'given', 'the', 'rise', 'in', 'cybercrimes', 'against', 'schools', 'and', 'organisations', 'nationwide', ',', 'here', 'are', 'the', 'top', 'tips', 'to', 'improve', 'cybersecurity', 'for', 'your', 'school', '.'], ['cyberpeace', 'cybersecuritytips', 'elearning', 'education', 'cyberthreat', 'phishing', 'ransomware', 'ip', 'vpn', 'bqzjlsmtynrt', 'conseilsfashion', 'high', 'school', 'seniors', 'i', 'have', 'exciting', 'news', 'for', 'you', 'usgascu2sx', 'is', 'the', 'solution', 'to', 'the', 'stress', 'that', 'comes', 'with', 'financial', 'aid', 'problems', 'scholarshipowl', 'tuitionfit_', 'know', 'you', 'worth', 'check', 'out', 'their', 'websites', 'and', 'start', 'signing', 'up', 'for', 'college', 'offers', '.'], ['theopportunity', 'education', 'a4jynvpd65rt', 'rdene915', '38', 'inspiring', 'educator', 'stories', 'true', 'story', 'lessons', 'that', 'one', 'kid', 'taught', 'us', 'on', 'sale', 'at', 'osmu07e5pl', 'or', 'dm', 'me', 'to', 'get', 'a', 'signed', 'copy', '!'], ['educhat', 'elemchat', 'suptchat', 'education', 'sel', 'selfcare', 'edumatchbooks', 'k12', 'reiclrfx1urt', 'annfannymolin', '🏆education', 'for', 'all', 'anywhere', '!'], ['so', 'proud', 'of', 'intlqid', 'winner', 'of', 'education', 'challenge', 'in', 'hackforearth1', 'education', 'sdg4', 'globalgoals', 'iva1919', 'kthinnovation', 'ms_wanyang', 'wz5wiubzklrt', 'nouvelleoptique', 'les', 'orphelins', 'que', 'vous', 'parrainez', 'ont', 'régulièrement', 'un', 'super', 'repas', '🥘', 'bien', 'équilibré', 'par', 'la', 'cause', 'de', 'vos', 'dons', '👍', 'c', '’', 'était', 'hier', 'soir', '.'], ['❤️', '247', 'orphelins', 'à', 'parrainer', '!'], ['uhista3r69', 'parrainages', 'orphelins', 'enfants', 'education', 'asie', 'afrique', '8x7zdgr04eelectronic', 'devices', 'electron', 'flow', 'version', 'by', 'thomas', 'l.', 'floyd', '–', 'hardcover', 'vg+', 'ebay🇺🇸', 'textbooks', 'education', 'reference', 'mt7xpcgplmrt', 'jaimesaavedra22', 'the', 'worldbank', 'provides', 'implementation', 'support', 'on', 'education', 'through', 'knowledge', 'and', 'lending', '.'], ['it', '’', 's', 'portfolio', 'has', 'been', 'growing', 'during', 'the', 'last', 'years', ',', 'particularly', 'in', 'poorer', 'countries', '(', 'ida', ')', '.'], ['now', 'it', 'totals', 'us', '$', '24', 'billion', '.'], ['🔽download', 'our', 'new', 'brochure', '21dtj90rre', 'kkcecllfvdrt', 'jeffery_quaye', 'fantastic', 'news👇', 'education', 'qgzhujios4interested', 'in', 'a', 'job', 'in', 'oneida', ',', 'wi', 'this', 'could', 'be', 'a', 'great', 'fit', 'dzqob8t4ox', 'educationrt', 'virginiebeck3', 'porte', 'cassée', 'dans', 'un', 'village', 'alsacien', '...', 'si', 'l', 'école', 'ne', 'sert', 'à', 'rien', 'pour', 'certains', ',', 'nous', 'remettrons', 'une', 'école', 'dans', 'chaque', 'village', '!'], ['nous', 'redonnerons', 'l', 'autorité', 'abandonnée', ',', 'nous', 'rétablirons', 'des', 'valeurs', 'dignes', 'pour', 'nos', 'enfants', '.'], ['instructionscolaire', 'éducation', 'civisme', 'zemmour2022', 'vtblynu7nwrt', 'huawei_tech4all', 'due', 'to', 'the', 'pandemic', ',', '“', 'many', 'children', 'stayed', 'at', 'home', 'without', 'education', 'for', 'up', 'to', 'one', 'year', ',', '”', 'says', 'ethiopian', 'teacher-trainer', 'inku', '.'], ['how', 'can', 'technology', 'ensure', 'learning', 'is', 'never', 'disrupted', 'like', 'this', 'again', '🎓find', 'out', '👉', 'unesco', 'unescoicts', 'teoss', 'openschools', 'tech4edu', 'tech4allrt', 'jamalmaxsam', 'it', 's', 'time', 'to', 'build', 'with', 'god', '.'], ['we', 've', 'wasted', 'a', 'lot', 'of', 'time', ',', 'energy', ',', 'and', 'resources', 'building', 'without', 'him', '.'], ['are', 'you', 'ready', 'if', 'your', 'answer', 'is', 'yes', 'then', 'enroll', 'in', 'the', 'leadership', 'accelerator', 'and', 'get', 'ignited', '.'], ['education', 'leadership', 'schoolleadership', 'edutwitter', 'qdoct9nkwfrt', 'bittermedz', '[', 'tonite', ']', 'a', 'saturday', 'night', 'shoot', 'the', 'breeze', 'episode', '(', '48', ')', 'listen', 'here', 'p9hpxrl6oh', 'live', 'streaming', '5', '14', '2022', '8pm', 'est', 'set', 'your', 'reminders', 'now', '!'], ['blacktwitter', 'blm', 'saturday', 'racism', 'african', 'philosophy', 'afrocentric', 'education', 'shootingthebreeze', 'supportblackbusiness', 'nrwib90csoyikes', '.'], ['the', 'number', 'keeps', 'going', 'up', '.'], ['retention', 'plans', 'need', 'to', 'be', 'created', 'or', 'districts', 'are', 'going', 'to', 'be', 'in', 'a', 'really', 'bad', 'place', 'very', 'soon', '.'], ['schools', 'education', 'edchat', 'teachers', 'ny1pwl8swurt', 'theresourcehub2', 'codeword', 'reading', 'challenges', '-', 'famous', 'people', 'ks3', '.'], ['have', 'fun', 'and', 'learn', '!'], ['👩\\u200d🎤🧑\\u200d🎤🧑\\u200d🎓👩\\u200d🎓✏️', 'daav0s90pm', 'codeword', 'education', 'onlinelearning', 'motivation', 'inspiration', 'gcse', 'englishrt', 'virginiebeck3', 'porte', 'cassée', 'dans', 'un', 'village', 'alsacien', '...', 'si', 'l', 'école', 'ne', 'sert', 'à', 'rien', 'pour', 'certains', ',', 'nous', 'remettrons', 'une', 'école', 'dans', 'chaque', 'village', '!'], ['nous', 'redonnerons', 'l', 'autorité', 'abandonnée', ',', 'nous', 'rétablirons', 'des', 'valeurs', 'dignes', 'pour', 'nos', 'enfants', '.'], ['instructionscolaire', 'éducation', 'civisme', 'zemmour2022', 'vtblynu7nwrt', 'islamthenwo', 'jumu', 'ah', 'mubarak', 'and', 'happy', 'friday', 'dear', 'reader', '!'], ['if', 'you', 're', 'wondering', 'what', 'jumu', 'ah', 'is', ',', 'check', 'out', 'the', 'sub-tweets', 'below', 'for', 'a', 'few', 'quick', 'facts', '.'], ['🙂', 'happyfriday', 'jummahmubarak', 'islam', 'muslim', 'prophetmuhammad', 'allah', 'alhamdulilah', 'god', 'faith', 'education', 'history', 'dogood', 'truth', 'kwwmolvq2irt', 'discoveryvip', 'learn', 'html', 'introduction', 'to', 'creating', 'your', 'first', 'website', 'explore', 'how', 'to', 'write', 'html', 'code', 'to', 'create', 'a', 'website', 'with', 'source', 'code', 'and', 'step', 'by', 'step', 'instructions', 'wtxafjojft', 'learn', 'coding', 'questions', 'education', 'academyrt', 'thedolsnetwork', 'ah', 'the', 'future', 'is', 'calling', '...', 'please', 'tell', 'them', 'we', 'will', 'be', 'right', 'there', '...', 'we', 'promise', 'not', 'to', 'get', 'caught', 'up', 'on', 'things', 'we', 'should', 'have', 'resolved', 'by', 'now', 'education', 'sel', 'sel4us', 'edchat', 'educators', 'teacherappreciation', 'qmcjy6kjhrthe', 'education', 'secretary', 'nadhimzahawi', 'says', 'that', 'britain', 'should', '“', 'be', 'proud', 'of', 'private', 'education', '”', '.'], ['i', 'am', 'proud', 'of', 'dldcollege', 'london', '.'], ['isc_schools', 'isaschools', 'societyofheads', 'iapsuk', 'ism_plus', 'isparent', 'ie_today', 'bsaboarding', 'hmc_org', 'gsauk', 'thetimes', 'nicolawoolcock', 'ebgc53mevnit', 's', 'time', 'to', 'build', 'with', 'god', '.'], ['we', 've', 'wasted', 'a', 'lot', 'of', 'time', ',', 'energy', ',', 'and', 'resources', 'building', 'without', 'him', '.'], ['are', 'you', 'ready', 'if', 'your', 'answer', 'is', 'yes', 'then', 'enroll', 'in', 'the', 'leadership', 'accelerator', 'and', 'get', 'ignited', '.'], ['education', 'leadership', 'schoolleadership', 'edutwitter', 'qdoct9nkwfrt', 'mdjamal315', 'rohingya', 'refugees', 'especially', 'children', 'who', 'are', 'losing', 'their', 'future', 'without', 'hope', 'of', 'lives', 'mdjamalphotography', 'educationcannotwait', 'education', 'rohingyalivesmatter', 'rohingyacamp', 'peace', 'educationishumanrights', 'rightsofchildren', 'rohingyacrisis', 'humanrights', 'justice', 'children', 'sdv7cpf0u9', 'launitedway', 'happy', 'to', 'celebrate', '100', 'years', 'of', 'service', 'with', 'you', 'today', '💯', '-', 'social', 'media', 'friends', ',', 'stay', 'tuned', 'for', 'some', 'exciting', 'news‼️', 'elise.buik', 'amazing', 'work', 'today', '✊🏿✊🏾', '.'], ['unitedway', 'launitedway', 'homless', 'education', '5jzgekoxfyrt', 'northway_debbie', 'tafe', 'labor', 'education', 'auspol', '98uvhmd2ck', 'mdjamal315', 'mdjamalphotography', 'educationcannotwait', 'education', 'rohingyalivesmatter', 'rohingyacamp', 'peace', 'educationishumanrights', 'rightsofchildren', 'rohingyacrisis', 'humanrights', 'justice', 'childrenrt', 'northway_debbie', 'tafe', 'education', 'labor', 'auspol', 'auyg6m959ecodeword', 'reading', 'challenges', '-', 'famous', 'people', 'ks3', '.'], ['have', 'fun', 'and', 'learn', '!'], ['👩\\u200d🎤🧑\\u200d🎤🧑\\u200d🎓👩\\u200d🎓✏️', 'daav0s90pm', 'codeword', 'education', 'onlinelearning', 'motivation', 'inspiration', 'gcse', 'englishconjunctions', 'connectives', ',', 'simple', ',', 'compound', 'and', 'complex', 'sentences', '101', 'for', 'ks2', 'sats', '.'], ['all', 'you', 'need', 'resource', '.'], ['🖇🔗👍👩\\u200d🎓🧑\\u200d🎓', '8oeo2ynqrf', 'education', 'grammar', 'sats', 'verbsmodal', 'verbs', 'made', 'easy', '!'], ['yes', 'you', 'can', '!'], ['‼️👍', 'zhyvkhum9l', 'mondaythoughts', 'education', 'edutwitter', 'teaching', 'grammar', 'sats', 'verbsapostrophes', 'made', 'easy', '!'], ['🧑\\u200d🎓👩\\u200d🎓✏️‼️', 'niu9jwav50', 'mondaythoughts', 'education', 'edutwitter', 'grammar', 'satsrt', 'sheeboshi', 'what', '’', 's', 'coming', 'up', 'next', 'for', '$', 'verse', 'join', 'our', 'tg', 'this', 'sunday', 'to', 'find', 'out', 'shibaverse', 'metaverse', 'ryoshi', 'nfts', 'realestate', 'interiordesign', 'shiballoons', 'p2e', 'unity3d', 'blender3d', 'b3d', 'unrealengine', 'art', '3d', '3dartwork', 'education', 'crypto', 'cryptocurrency', 'token', '1rg5f0zifjwhat', 'do', 'you', 'miss', '🤩🥰', '📲', '5gl7diskrc', 'education', 'covid-19', 'onlinelearning', 'learningfromhome', 'edutwitter', 'islamthenwo', 'jumu', 'ah', 'mubarak', 'et', 'bon', 'vendredi', 'cher', 'lecteur', '!'], ['si', 'vous', 'vous', 'demandez', 'ce', 'qu', 'est', 'jumu', 'ah', ',', 'consultez', 'les', 'sous-tweets', 'ci-dessous', 'pour', 'quelques', 'faits', 'rapides', '.'], ['🤲🙂', 'happyfriday', 'jummahmubarak', 'islam', 'muslim', 'prophetmuhammad', 'allah', 'alhamdulilah', 'god', 'faith', 'education', 'history', 'dogood', 'qkrj9sxc1yrt', 'mcammer1', 'vote', 'yes', 'for', 'the', 'budget', 'and', 'against', 'steve', 'mayo', 'for', 'school', 'board', '.'], ['newropatch', 'newrochelleed', 'newrochelleny', 'education', 'pvibcfbaaert', 'theresourcehub2', 'earth', 'day', 'complete', 'unit', 'ks1', 'eal', '🌎🌍🌏🌈🌱🌿🍃', 'h3bozbn58n', 'education', 'learning', 'school', 'motivation', 'covid', 'student', 'teacher', 'children', 'indiadf', 'knowledge', 'kids', 'sen', 'learn', 'success', 'teaching', 'inspiration', 'instagood', 'teachers', 'english', 'earthday', 'eal', 'eslrt', 'adventure1staid', 'only', 'thing', 'is', 'they', 'will', 'replace', 'you', 'with', 'a', 'complete', 'numpty', 'and', 'then', 'months', 'later', 'try', 'and', 'blame', 'everyone', 'else', 'when', 'it', 'all', 'goes', 'tits', 'up', 'despite', 'telling', 'them', 'months', 'before', 'you', 'resigned', 'it', 'was', 'going', 'wrong', 'education', 'bellyup', 'noideawhattheyaredoing', 'o223ockso9rt', 'coreflechir', 'comment', 'faire', 'connaître', 'ses', 'portes', 'ouvertes', 'spotify', 'spotifyfrance', 'podcast', 'education', 'com', 'jahtjeuvjjit', 'glares', 'at', 'us', 'every', 'passing', 'day', 'the', 'fact', 'that', 'we', 'need', 'to', 'invest', 'massively', 'in', 'education', 'education', '&', 'amp', ';', 'more', 'education', 'in', 'the', 'north', '.'], ['both', 'western', 'and', 'islamic', '.'], ['cuz', 'what', 'is', 'all', 'of', 'this', '🤦', 'education', 'arewa', 'nigeria', 'blasphemy', 'sokotort', 'geralddrogers', 'stay', 'tuned', '...', 'beyourownbank', 'byob', 'kingdomcurrency', 'byob2812', 'kingdomcurrencyexchange', 'cryptocurrency', 'forex', 'token', 'defi', 'trade', 'binance', 'education', 'digitalmoney', 'hbcu', 'veterans', 'church', 'finance', 'greenenergy', 'myfirstcryptowallet', 'newtypamoney', 'byobworldwide', 'byobchallenge', 'pexg4hnuc9want', 'to', 'work', 'at', 'charter', 'schools', 'usa', 'we', 're', 'hiring', 'in', 'orlando', ',', 'fl', '!'], ['click', 'the', 'link', 'in', 'our', 'bio', 'for', 'details', 'on', 'this', 'job', 'and', 'more', 'intervention', 'specialist', 'educationrt', 'emiliolees', 'this', 'type', 'of', 'shaming', ',', 'pathologising', 'language', 'is', 'still', 'being', 'used', 'to', 'describe', 'school', 'children', 'today', '.'], ['autism', 'mentalhealth', 'send', 'education', 'school', 'rkipeenvmdrt', 'virginieatlan', 'merci', 'monsieur', 'le', 'président', '!'], ['emmanuelmacron', 'lemondedespetitespersonnes', 'en', 'librairie', '📕', 'éducation', 'agir', 'par', 'l', '’', 'action', 'positive', 'au', 'cœur', 'des', 'territoires', '🇫🇷', 'ecriture', 'dessin', 'culture', 'theatre', 'photo', 'jeunesse', 'transmission', 'concours', 'aline_poulain', 'cazenavesamuel', 'wexv2ki7nfrt', 'nellytshelamut', 'un', 'père', 'dit', 'à', 'son', 'fils', 'attention', 'où', 'tu', 'mets', 'les', 'pieds', '.'], ['le', 'fils', 'lui', 'répond', 'non', '.'], ['toi', 'fais', 'attention', '.'], ['moi', 'je', 'suis', 'tes', 'pas', '.'], ['education', 'tyogqzxnhcrt', 'lsvekis', 'javascript', 'game', 'create', 'a', 'flying', 'bird', 'game', 'fun', 'learn', 'dom', 'fsges9emiu', 'use', 'javascript', 'connect', 'with', 'elements', 'and', 'create', 'a', 'game', 'while', 'practicing', 'learning', 'javascript', 'and', 'document', 'object', 'model', 'education', 'webdevelort', 'expatability', 'learning', 'is', 'a', 'treasure', 'that', 'will', 'follow', 'its', 'owner', 'everywhere', '.'], ['chinese', 'proverb', 'quote', 'education', 'uhgdniuy9e', 'wolfgurl49', 'stupendousgrav1', 'angiemaxwell1', 'likitmtrs', 'secondly', ',', 'teaching', 'abstinence', 'only', 'neglectfully', 'leaves', 'adolescent', 'kids', 'ignorant', 'about', 'their', 'bodies', ',', 'reproduction', 'and', 'preventing', 'unwanted', 'pregnancies', ',', 'not', 'to', 'mention', 'stds', '!'], ['it', 'sets', 'them', 'up', 'for', 'failure', '!', '!'], ['usa', 'vs.', 'education', '61xfjlnct4rose', 'doesn', '’', 't', 'remember', 'struggling', 'when', 'she', 'raised', 'children', '.'], ['for', 'her', 'daughter-in-law', 'robyn', ',', 'it', '’', 's', 'another', 'matter', 'via', '\\u2066', 'abcnews\\u2069', 'and', 'tonight', 'we', 'have', 'a', 'special', 'tv', 'news', 'report', 'on', 'rising', 'education', 'costs', 'for', 'families', 'auspol', 'education', 'shswfff7rxrt', 'maud2nimes', 'sauvegardé', '.'], ['je', 'le', 'ressortirai', 'à', 'chaque', 'ien', 'qui', 'me', 'chiera', 'dans', 'les', 'bottes', 'en', 'me', 'demandant', 'où', 'est', 'ma', 'programmation', 'et', 'comment', 'je', 'pense', 'emmener', 'mes', 'gosses', 'vers', 'l', 'acquisition', 'du', 'socle', 'commun', '.'], ['que', 'l', 'etat', 'fasse', 'son', 'job', 'en', 'matière', 'd', 'education', '.'], ['conseil_etat', 'ief', 'instructionenfamille', 'xknpk3j22f🙌🏻', 'look', '!', '☝🏻', 'what', 'do', 'you', 'see', '!'], ['tell', 'me', '!'], ['🏻♥️', 'music', 'musictime', 'begummusictime', 'learningcolors', 'learningnotes', 'education', 'educationalmaterial', 'concert', 'student', 'book', 'jasrxrdquithe', 'global', 'online', 'certification', 'course', 'on', 'supply', 'chain', 'and', 'demand', 'analytics', '2022', 'under', 'pmgatishakti', 'scheme', 'was', 'successfully', 'launched', 'by', 'the', 'national', 'institute', 'of', 'industrial', 'engineering', 'mumbai', 'on', 'may', '14th', ',', '2022.', 'technology', 'education', 'supplychain', '2ryii5ymrjrt', 'theresourcehub2', 'great', 'fire', 'of', 'london', '!'], ['🔥🏘great', 'resource', 'for', 'the', 'new', 'year', '.'], ['suitable', 'for', 'ks1', 'and', 'early', 'ks2', '!'], ['ei7hrp6zas', 'education', 'great', 'motivation', 'newyear', 'teacher', 'onlinelearningrt', 'theresourcehub2', 'earth', 'day', 'complete', 'unit', 'ks1', 'eal', '🌎🌍🌏🌈🌱🌿🍃', 'h3bozbn58n', 'education', 'learning', 'school', 'motivation', 'covid', 'student', 'teacher', 'children', 'indiadf', 'knowledge', 'kids', 'sen', 'learn', 'success', 'teaching', 'inspiration', 'instagood', 'teachers', 'english', 'earthday', 'eal', 'eslrt', 'theresourcehub2', 'elmer', 'the', 'elephant', 'maths', 'game', 'for', 'ks1', 'sen', 'eal', 'eyfs', '🐘🏳️\\u200d🌈🔢🆒➕➖🥳', 'mqdo0yt5ns', 'education', 'learning', 'school', 'motivation', 'covid', 'student', 'teacher', 'children', 'india', 'knowledge', 'kids', 'sen', 'learn', 'success', 'teaching', 'inspiration', 'instagood', 'teachers', 'english', 'maths', 'mathrt', 'virginiebeck3', 'porte', 'cassée', 'dans', 'un', 'village', 'alsacien', '...', 'si', 'l', 'école', 'ne', 'sert', 'à', 'rien', 'pour', 'certains', ',', 'nous', 'remettrons', 'une', 'école', 'dans', 'chaque', 'village', '!'], ['nous', 'redonnerons', 'l', 'autorité', 'abandonnée', ',', 'nous', 'rétablirons', 'des', 'valeurs', 'dignes', 'pour', 'nos', 'enfants', '.'], ['instructionscolaire', 'éducation', 'civisme', 'zemmour2022', 'vtblynu7nwrt', 'theresourcehub2', 'rainforest', 'maths', 'game', 'for', 'ks1', 'sen', 'eal', 'eyfs🌴🌳🌲🦎🐍🐛🐞🔢🆒➕➖🥳', 'sxm264xdmb', 'education', 'learning', 'school', 'motivation', 'covid', 'student', 'teacher', 'children', 'india', 'knowledge', 'kids', 'sen', 'learn', 'success', 'teaching', 'inspiration', 'instagood', 'teachers', 'english', 'mathsrt', 'ardernbecs', 'can', 'anyone', 'recommend', 'any', 'books', 'research', 'around', 'location', 'deprevation', 'particularly', 'looking', 'at', 'rural', 'and', 'coastal', 'areas', '.'], ['thanks', 'education', 'lastessay', 'pgce', 'deprevationsuffixes', 'for', 'sats', '💝💯✅', 'k5qzbsa7pz', 'mondaythoughts', 'education', 'spelling', 'sats', 'grammar', 'teaching', 'educationall', 'you', 'need', 'to', 'teach', 'adjectives', '🌊🐠🌍👍', 'mondaythoughts', 'education', 'spelling', 'sats', 'grammar', 'teaching', 'education', 'uhf4kdypuainterested', 'in', 'a', 'job', 'in', 'providence', ',', 'ri', 'this', 'could', 'be', 'a', 'great', 'fit', '.'], ['click', 'the', 'link', 'in', 'our', 'bio', 'to', 'apply', 'lead', 'administrative', 'coordinator', 'at', 'brown', 'university', 'educationrelative', 'clauses', 'for', 'sats', '1jkrcr5ag4', 'mondaythoughts', 'education', 'spelling', 'sats', 'grammar', 'teachingspelling', 'for', 'ks1', '.'], ['🐝all', 'you', 'need', 'resource', '!'], ['rvvsagr9nl', 'mondaythoughts', 'education', 'spelling', 'satsdays', 'of', 'the', 'week', 'and', 'simple', 'present', 'tense', '.'], ['perfect', 'resource', 'for', 'ks1', 'and', 'early', 'ks2', '👩\\u200d🎓🧑\\u200d🎓', 'arizhjcrqu', 'grammar', 'education', 'learningfromhome', 'inspiration', 'educhat', 'satsgreat', 'fire', 'of', 'london', '!'], ['🔥🏘great', 'resource', 'for', 'the', 'new', 'year', '.'], ['suitable', 'for', 'ks1', 'and', 'early', 'ks2', '!'], ['ei7hrp6zas', 'education', 'great', 'motivation', 'newyear', 'teacher', 'onlinelearningrt', 'jaimesaavedra22', 'the', 'worldbank', 'provides', 'implementation', 'support', 'on', 'education', 'through', 'knowledge', 'and', 'lending', '.'], ['it', '’', 's', 'portfolio', 'has', 'been', 'growing', 'during', 'the', 'last', 'years', ',', 'particularly', 'in', 'poorer', 'countries', '(', 'ida', ')', '.'], ['now', 'it', 'totals', 'us', '$', '24', 'billion', '.'], ['🔽download', 'our', 'new', 'brochure', '21dtj90rre', 'kkcecllfvdcvc', 'words', 'and', 'phonics', 'fun', 'x56x1tpfxd', 'phonics', 'education', 'edutechrt', 'maud2nimes', 'sauvegardé', '.'], ['je', 'le', 'ressortirai', 'à', 'chaque', 'ien', 'qui', 'me', 'chiera', 'dans', 'les', 'bottes', 'en', 'me', 'demandant', 'où', 'est', 'ma', 'programmation', 'et', 'comment', 'je', 'pense', 'emmener', 'mes', 'gosses', 'vers', 'l', 'acquisition', 'du', 'socle', 'commun', '.'], ['que', 'l', 'etat', 'fasse', 'son', 'job', 'en', 'matière', 'd', 'education', '.'], ['conseil_etat', 'ief', 'instructionenfamille', 'xknpk3j22frt', 'virginiebeck3', 'porte', 'cassée', 'dans', 'un', 'village', 'alsacien', '...', 'si', 'l', 'école', 'ne', 'sert', 'à', 'rien', 'pour', 'certains', ',', 'nous', 'remettrons', 'une', 'école', 'dans', 'chaque', 'village', '!'], ['nous', 'redonnerons', 'l', 'autorité', 'abandonnée', ',', 'nous', 'rétablirons', 'des', 'valeurs', 'dignes', 'pour', 'nos', 'enfants', '.'], ['instructionscolaire', 'éducation', 'civisme', 'zemmour2022', 'vtblynu7nwchristmas', 'story', 'ken', 'the', 'elf', 'for', 'eyfs', 'ks1', 'eal', 'esl', 'reading', 'and', 'writing', 'activity', 'pack', '🎄🥳', '🎅🏽🧝🏽', 'ha3oz68rhg', 'education', 'learning', 'school', 'covid', 'teacher', 'children', 'kids', 'sen', 'learn', 'uuteaching', 'inspiration', 'instagood', 'teachers', 'christmasrt', 'dlberke', 'traumainformed', 'higher', 'education', 'framework', 'so', 'excited', 'to', 'announce', 'the', 'launching', 'of', 'our', 'developmental', 'framework', 'for', 'trauma-informed', 'higher', 'education', '!'], ['wilmu', 'rspkoewutnindia', 's', 'semiconductor', 'mission', 'and', 'how', 'it', 'can', 'drive', 'employment', 'ico', 'education', 'via', '4dtomvlk9w', 'rsazuzaeskearth', 'day', 'complete', 'unit', 'ks1', 'eal', '🌎🌍🌏🌈🌱🌿🍃', 'h3bozbn58n', 'education', 'learning', 'school', 'motivation', 'covid', 'student', 'teacher', 'children', 'indiadf', 'knowledge', 'kids', 'sen', 'learn', 'success', 'teaching', 'inspiration', 'instagood', 'teachers', 'english', 'earthday', 'eal', 'eslrt', 'jaimesaavedra22', 'the', 'worldbank', 'provides', 'implementation', 'support', 'on', 'education', 'through', 'knowledge', 'and', 'lending', '.'], ['it', '’', 's', 'portfolio', 'has', 'been', 'growing', 'during', 'the', 'last', 'years', ',', 'particularly', 'in', 'poorer', 'countries', '(', 'ida', ')', '.'], ['now', 'it', 'totals', 'us', '$', '24', 'billion', '.'], ['🔽download', 'our', 'new', 'brochure', '21dtj90rre', 'kkcecllfvdrt', 'news_ghana', 'boarding', 'school', 'system', 'increases', 'government', '’', 's', 'financial', 'burden-samuel', 'aryeequaye', '5hc3gj6v30', 'education', 'abolish', 'boardingschoolsystem', 'chairman', 'nin3grc0krrt', 'news_ghana', 'boarding', 'school', 'system', 'increases', 'government', '’', 's', 'financial', 'burden-samuel', 'aryeequaye', '5hc3gj6v30', 'education', 'abolish', 'boardingschoolsystem', 'chairman', 'nin3grc0krelmer', 'the', 'elephant', 'maths', 'game', 'for', 'ks1', 'sen', 'eal', 'eyfs', '🐘🏳️\\u200d🌈🔢🆒➕➖🥳', 'mqdo0yt5ns', 'education', 'learning', 'school', 'motivation', 'covid', 'student', 'teacher', 'children', 'india', 'knowledge', 'kids', 'sen', 'learn', 'success', 'teaching', 'inspiration', 'instagood', 'teachers', 'english', 'maths', 'mathrt', 'bantucola', 'mocha', 'podcasts', 'network', 'celebrates', 'first', 'anniversary', '‘', 'two', 'funny', 'mamas', '’', 'podcast', 'naacp', 'image', 'win', 'vy3a3cr2tn', 'microeconomics', 'university', 'stocks', 'economists', 'entrepreneur', 'politics', 'askmehow', 'ias', 'knowledge', 'education', 'dwavbyqkrzrainforest', 'maths', 'game', 'for', 'ks1', 'sen', 'eal', 'eyfs🌴🌳🌲🦎🐍🐛🐞🔢🆒➕➖🥳', 'sxm264xdmb', 'education', 'learning', 'school', 'motivation', 'covid', 'student', 'teacher', 'children', 'india', 'knowledge', 'kids', 'sen', 'learn', 'success', 'teaching', 'inspiration', 'instagood', 'teachers', 'english', 'mathsboarding', 'school', 'system', 'increases', 'government', '’', 's', 'financial', 'burden-samuel', 'aryeequaye', '5hc3gj6v30', 'education', 'abolish', 'boardingschoolsystem', 'chairman', 'nin3grc0krapple', 's', 'education', 'savings', 'up', 'to', '$', '400', 'off', 'macs', ',', '$', '100', 'off', 'ipads', 'ziyw9iq8homay', 's', 'issue', 'features', 'advice', 'from', 'awci', 'members', 'on', 'some', 'of', 'the', 'best', 'tactics', 'they', 'use', 'to', 'get', 'paid', 'on', 'time', ',', 'a', 'member', 'spotlight', 'on', 'life', 'drywall', 'systems', 'and', 'so', 'much', 'more', '!'], ['read', 'the', 'digital', 'edition', 'here', '85gljsjtad', 'awci22', 'magazine', 'leadership', 'education', 'lpcrndiznxcontext', 'clues', 'free', 'english', 'resource', 'for', 'ks3', ',', 'ks4', 'and', 'gcse', '.'], ['check', 'it', 'out', '!'], ['👍😄', 'txs8juv3tt', 'teaching', 'education', 'learning', 'teacher', 'teachersofinstagram', 'teachers', 'teacherlife', 'school', 'teachersfollowteachers', 'english', 'students', 'classroom', 'teach', 'learn', 'iteachrt', 'maud2nimes', 'sauvegardé', '.'], ['je', 'le', 'ressortirai', 'à', 'chaque', 'ien', 'qui', 'me', 'chiera', 'dans', 'les', 'bottes', 'en', 'me', 'demandant', 'où', 'est', 'ma', 'programmation', 'et', 'comment', 'je', 'pense', 'emmener', 'mes', 'gosses', 'vers', 'l', 'acquisition', 'du', 'socle', 'commun', '.'], ['que', 'l', 'etat', 'fasse', 'son', 'job', 'en', 'matière', 'd', 'education', '.'], ['conseil_etat', 'ief', 'instructionenfamille', 'xknpk3j22fdick', 'and', 'his', 'cat', 'oxford', 'reading', 'tree', 'for', 'ks1', 'and', 'eal', '🚶\\u200d♂️🐱', 'xcv3qsuti7', 'teaching', 'education', 'learning', 'teacher', 'teachersofinstagram', 'teachers', 'teacherlife', 'school', 'teachersfollowteachers', 'english', 'students', 'classroom', 'teach', 'learn', 'iteachbarnhart', 'concise', 'dictionary', 'of', 'etymology', 'ebay🇺🇸', 'textbooks', 'education', 'reference', 'zll0vocydsbarnhart', 'concise', 'dictionary', 'of', 'etymology', 'ebay🇺🇸', 'textbooks', 'education', 'reference', 'zll0vocydsthe', 'little', 'red', 'hen', '🐔🍞', '.'], ['ks1', 'and', 'ks2', 'literacy', 'resource', '.'], ['c3pbmpqpx9', 'teaching', 'education', 'learning', 'teacher', 'teachersofinstagram', 'teachers', 'teacherlife', 'school', 'teachersfollowteachers', 'students', 'classroom', 'learn', 'iteach', 'iteachtoo', 'student', 'covid19new', 'resource', '!'], ['of', 'mice', 'and', 'men', 'for', 'ks3', '4', 'and', 'gcse', 'vyteqchmwp', 'edchat', 'art', 'teachergram', 'englishteacher', 'elearning', 'onlinelearning', 'educator', 'inspiration', 'covid', 'tutoring', 'success', 'teachingideas', 'life', 'technology', 'language', 'parents', 'covid19', 'gcse', 'education', 'teachinggreat', 'resource', '.'], ['make', 'more', 'like', 'this', 'please', '!'], ['rxscokuagn', 'teaching', 'education', 'learning', 'teacher', 'teachersofinstagram', 'teachers', 'teacherlife', 'school', 'teachersfollowteachers', 'english', 'students', 'classroom', 'teach', 'learn', 'iteach', 'iteachtoo', 'student', 'covid19rt', 'sarsyc', 'education', 'stakeholders', 'ought', 'to', 'take', 'an', 'active', 'role', 'in', 'ensuring', 'the', 'well-being', 'and', 'success', 'of', 'a', 'school', 'and', 'its', 'students', '.'], ['catching', 'up', 'on', 'progress', 'lost', 'to', 'covid19', '.'], ['a', 'focus', 'on', 'the', 'girlchild', 'qualityeducation', 'educationforall', 'educationoutloud', 'gpe', 'globalgoals', 'pmp5hwda8e2022.05.12', 'on', 'block', 'days', 'students', 'always', 'seem', 'to', 'struggle', 'with', 'creativity', 'and', 'focus', ';', 'any', 'period', 'of', 'the', 'day', '.'], ['tyrannosaurusteacher', 'education', 'teaching', 'teachinginapandemic', 'covid19rt', 'mckongov', 'even', 'before', 'covid19', ',', 'inequalities', 'were', 'baked', 'into', 'the', 'education', 'system—but', 'new', 'data', 'shows', 'the', 'preexisting', 'achievement', 'gap', 'between', 'black', 'and', 'white', 'students', 'has', 'increased', 'by', 'about', 'a', 'third', '.'], ['here', 's', 'why', 'inclusivegrowth', 'will', 'be', 'key', 'to', 'moving', 'forward', 'rknu9olj26', 'nquaituhbueven', 'before', 'covid19', ',', 'inequalities', 'were', 'baked', 'into', 'the', 'education', 'system—but', 'new', 'data', 'shows', 'the', 'preexisting', 'achievement', 'gap', 'between', 'black', 'and', 'white', 'students', 'has', 'increased', 'by', 'about', 'a', 'third', '.'], ['here', 's', 'why', 'inclusivegrowth', 'will', 'be', 'key', 'to', 'moving', 'forward', 'rknu9olj26', 'nquaituhburt', 'jpazvd', '🆘', 'covid19', 'could', 'drive', 'up', 'learningpoverty', ',', 'the', 'share', 'of', '10-year-olds', 'who', 'can', 'not', 'read', 'a', 'basic', 'text', ',', 'to', 'around', '70', '%', 'in', 'low-', 'and', 'middle-income', 'countries', '.'], ['🚨check', 'out', 'the', 'state', 'of', 'the', 'crisis', 'report', '0b60yqn6dc', 'rewiredsummit', 'expo2020dubai', 'education', 'rewired2021', 'te29zcmo6ra', 'pre', 'covid', 'article', 'states', 'art', 'education', 'needs', 'to', 'be', 'modified', '.'], ['do', 'you', 'think', ',', 'a', 'lot', 'has', 'changed', 'post', 'covid', '.'], ['do', 'read', 'and', 'comment', 'k5k0vc3quv', 'art', 'teacher', 'schools', 'schoolsbill', 'education', 'indianeducation', 'covid19', 'artistontwitter', 'article', 'inked', 'yusluhkw5bat', '8', '15pm', 'the', 'nrw', 'tvdebate', 'between', 'wüst', 'and', 'kutschaty', 'takes', 'place', '.'], ['which', 'topics', 'will', 'be', 'important', 'on', 'twitter', ',', 'the', 'twittersphere', 'has', 'so', 'far', 'focused', 'on', 'education', ',', 'covid19', ',', 'internationalaffairs', 'and', 'internal', 'and', 'external', 'security', '.'], ['live', 'data', '👇', 'mt37xqtpkj', 'xlnp43da1bat', '8', '15pm', 'the', 'nrw', 'tvdebate', 'between', 'wüst', 'and', 'kutschaty', 'takes', 'place', '.'], ['which', 'topics', 'will', 'be', 'important', 'on', 'twitter', ',', 'the', 'twittersphere', 'has', 'so', 'far', 'focused', 'on', 'education', ',', 'covid19', ',', 'internationalaffairs', 'and', 'internal', 'and', 'external', 'security', '.'], ['live', 'data', '👇', 'mt37xqtpkj', 'xlnp43da1b']]\n"
     ]
    }
   ],
   "source": [
    "print(big_data)"
   ]
  },
  {
   "cell_type": "code",
   "execution_count": 64,
   "id": "66159e24",
   "metadata": {},
   "outputs": [],
   "source": [
    "import gensim\n",
    "import multiprocessing\n",
    "#Gensim kütüphanesinden yararlanarak, 300 değişkenli bir Word2Vec modeli ortaya çıkartalım\n",
    "model = gensim.models.Word2Vec(big_data,  window=5, min_count=5, workers=multiprocessing.cpu_count())"
   ]
  },
  {
   "cell_type": "code",
   "execution_count": 80,
   "id": "a08d9b66",
   "metadata": {},
   "outputs": [],
   "source": [
    "from gensim.models import Word2Vec \n",
    "import sklearn\n",
    "from sklearn.manifold import TSNE\n",
    "\n",
    "keys = ['education','covid19','covid','world','learning','learn','teaching','study','student','school']\n",
    "embedding_clusters = []\n",
    "word_clusters = []\n",
    "for word in keys:\n",
    "    embeddings = []\n",
    "    words = []\n",
    "    for similar_word, _ in model.wv.most_similar(word, topn=30):\n",
    "        words.append(similar_word)\n",
    "        embeddings.append(model.wv[similar_word])\n",
    "    embedding_clusters.append(embeddings)\n",
    "    word_clusters.append(words)\n",
    "tsne_model_en_2d = TSNE(perplexity=15, n_components=2, init='pca', n_iter=3500, random_state=32)\n",
    "embedding_clusters = np.array(embedding_clusters)\n",
    "n, m, k = embedding_clusters.shape\n",
    "embeddings_en_2d = np.array(tsne_model_en_2d.fit_transform(embedding_clusters.reshape(n * m, k))).reshape(n, m, 2)"
   ]
  },
  {
   "cell_type": "code",
   "execution_count": 83,
   "id": "747ff250",
   "metadata": {},
   "outputs": [
    {
     "name": "stderr",
     "output_type": "stream",
     "text": [
      "*c* argument looks like a single numeric RGB or RGBA sequence, which should be avoided as value-mapping will have precedence in case its length matches with *x* & *y*.  Please use the *color* keyword-argument or provide a 2D array with a single row if you intend to specify the same RGB or RGBA value for all points.\n",
      "*c* argument looks like a single numeric RGB or RGBA sequence, which should be avoided as value-mapping will have precedence in case its length matches with *x* & *y*.  Please use the *color* keyword-argument or provide a 2D array with a single row if you intend to specify the same RGB or RGBA value for all points.\n",
      "*c* argument looks like a single numeric RGB or RGBA sequence, which should be avoided as value-mapping will have precedence in case its length matches with *x* & *y*.  Please use the *color* keyword-argument or provide a 2D array with a single row if you intend to specify the same RGB or RGBA value for all points.\n",
      "*c* argument looks like a single numeric RGB or RGBA sequence, which should be avoided as value-mapping will have precedence in case its length matches with *x* & *y*.  Please use the *color* keyword-argument or provide a 2D array with a single row if you intend to specify the same RGB or RGBA value for all points.\n",
      "*c* argument looks like a single numeric RGB or RGBA sequence, which should be avoided as value-mapping will have precedence in case its length matches with *x* & *y*.  Please use the *color* keyword-argument or provide a 2D array with a single row if you intend to specify the same RGB or RGBA value for all points.\n",
      "*c* argument looks like a single numeric RGB or RGBA sequence, which should be avoided as value-mapping will have precedence in case its length matches with *x* & *y*.  Please use the *color* keyword-argument or provide a 2D array with a single row if you intend to specify the same RGB or RGBA value for all points.\n",
      "*c* argument looks like a single numeric RGB or RGBA sequence, which should be avoided as value-mapping will have precedence in case its length matches with *x* & *y*.  Please use the *color* keyword-argument or provide a 2D array with a single row if you intend to specify the same RGB or RGBA value for all points.\n",
      "*c* argument looks like a single numeric RGB or RGBA sequence, which should be avoided as value-mapping will have precedence in case its length matches with *x* & *y*.  Please use the *color* keyword-argument or provide a 2D array with a single row if you intend to specify the same RGB or RGBA value for all points.\n",
      "*c* argument looks like a single numeric RGB or RGBA sequence, which should be avoided as value-mapping will have precedence in case its length matches with *x* & *y*.  Please use the *color* keyword-argument or provide a 2D array with a single row if you intend to specify the same RGB or RGBA value for all points.\n",
      "*c* argument looks like a single numeric RGB or RGBA sequence, which should be avoided as value-mapping will have precedence in case its length matches with *x* & *y*.  Please use the *color* keyword-argument or provide a 2D array with a single row if you intend to specify the same RGB or RGBA value for all points.\n",
      "C:\\Users\\Ceylan\\anaconda3\\lib\\site-packages\\matplotlib\\backends\\backend_agg.py:240: RuntimeWarning:\n",
      "\n",
      "Glyph 128073 missing from current font.\n",
      "\n",
      "C:\\Users\\Ceylan\\anaconda3\\lib\\site-packages\\matplotlib\\backends\\backend_agg.py:203: RuntimeWarning:\n",
      "\n",
      "Glyph 128073 missing from current font.\n",
      "\n"
     ]
    },
    {
     "data": {
      "image/png": "[encoded data removed]",
      "text/plain": [
       "<Figure size 1440x864 with 1 Axes>"
      ]
     },
     "metadata": {
      "needs_background": "light"
     },
     "output_type": "display_data"
    }
   ],
   "source": [
    "#Kelimelerin görselleştirmesi\n",
    "import matplotlib.cm as cm\n",
    "\n",
    "def tsne_plot_similar_words(labels, embedding_clusters, word_clusters, a=0.7):\n",
    "    plt.figure(figsize=(20, 12))\n",
    "    colors = cm.rainbow(np.linspace(0, 1, len(labels)))\n",
    "    for label, embeddings, words, color in zip(labels, embedding_clusters, word_clusters, colors):\n",
    "        x = embeddings[:,0]\n",
    "        y = embeddings[:,1]\n",
    "        plt.scatter(x, y, c=color, alpha=a, label=label)\n",
    "        for i, word in enumerate(words):\n",
    "            plt.annotate(word, alpha=0.5, xy=(x[i], y[i]), xytext=(5, 2), \n",
    "                         textcoords='offset points', ha='right', va='bottom', size=8)\n",
    "    plt.legend(loc=4)\n",
    "    plt.grid(True)\n",
    "    plt.show()\n",
    "tsne_plot_similar_words(keys, embeddings_en_2d, word_clusters)"
   ]
  },
  {
   "cell_type": "code",
   "execution_count": 84,
   "id": "ccfe496b",
   "metadata": {},
   "outputs": [
    {
     "name": "stdout",
     "output_type": "stream",
     "text": [
      "Collecting scattertext\n",
      "  Downloading scattertext-0.1.6-py3-none-any.whl (7.3 MB)\n",
      "Requirement already satisfied: numpy in c:\\users\\ceylan\\anaconda3\\lib\\site-packages (from scattertext) (1.20.3)\n",
      "Collecting flashtext\n",
      "  Downloading flashtext-2.7.tar.gz (14 kB)\n",
      "Requirement already satisfied: pandas in c:\\users\\ceylan\\anaconda3\\lib\\site-packages (from scattertext) (1.3.4)\n",
      "Requirement already satisfied: statsmodels in c:\\users\\ceylan\\anaconda3\\lib\\site-packages (from scattertext) (0.12.2)\n",
      "Requirement already satisfied: six in c:\\users\\ceylan\\anaconda3\\lib\\site-packages (from scattertext) (1.16.0)\n",
      "Requirement already satisfied: scikit-learn in c:\\users\\ceylan\\anaconda3\\lib\\site-packages (from scattertext) (0.24.2)\n",
      "Requirement already satisfied: mock in c:\\users\\ceylan\\anaconda3\\lib\\site-packages (from scattertext) (4.0.3)\n",
      "Requirement already satisfied: scipy in c:\\users\\ceylan\\anaconda3\\lib\\site-packages (from scattertext) (1.7.1)\n",
      "Requirement already satisfied: gensim>=4.0.0 in c:\\users\\ceylan\\anaconda3\\lib\\site-packages (from scattertext) (4.2.0)\n",
      "Requirement already satisfied: Cython==0.29.28 in c:\\users\\ceylan\\anaconda3\\lib\\site-packages (from gensim>=4.0.0->scattertext) (0.29.28)\n",
      "Requirement already satisfied: smart-open>=1.8.1 in c:\\users\\ceylan\\anaconda3\\lib\\site-packages (from gensim>=4.0.0->scattertext) (6.0.0)\n",
      "Requirement already satisfied: python-dateutil>=2.7.3 in c:\\users\\ceylan\\anaconda3\\lib\\site-packages (from pandas->scattertext) (2.8.2)\n",
      "Requirement already satisfied: pytz>=2017.3 in c:\\users\\ceylan\\anaconda3\\lib\\site-packages (from pandas->scattertext) (2021.3)\n",
      "Requirement already satisfied: threadpoolctl>=2.0.0 in c:\\users\\ceylan\\anaconda3\\lib\\site-packages (from scikit-learn->scattertext) (2.2.0)\n",
      "Requirement already satisfied: joblib>=0.11 in c:\\users\\ceylan\\anaconda3\\lib\\site-packages (from scikit-learn->scattertext) (1.1.0)\n",
      "Requirement already satisfied: patsy>=0.5 in c:\\users\\ceylan\\anaconda3\\lib\\site-packages (from statsmodels->scattertext) (0.5.2)\n",
      "Building wheels for collected packages: flashtext\n",
      "  Building wheel for flashtext (setup.py): started\n",
      "  Building wheel for flashtext (setup.py): finished with status 'done'\n",
      "  Created wheel for flashtext: filename=flashtext-2.7-py2.py3-none-any.whl size=9310 sha256=0fe9bf7f625210346417ed88462c62cbd71c406a30f2a9076cf000bf81273e5f\n",
      "  Stored in directory: c:\\users\\ceylan\\appdata\\local\\pip\\cache\\wheels\\65\\3c\\c7\\44672c5062c16d05760b1eaddbf611d2f6a4b715c6d6777418\n",
      "Successfully built flashtext\n",
      "Installing collected packages: flashtext, scattertext\n",
      "Successfully installed flashtext-2.7 scattertext-0.1.6\n",
      "Note: you may need to restart the kernel to use updated packages.\n"
     ]
    }
   ],
   "source": [
    "pip install scattertext"
   ]
  },
  {
   "cell_type": "code",
   "execution_count": 91,
   "id": "184edb09",
   "metadata": {},
   "outputs": [
    {
     "name": "stdout",
     "output_type": "stream",
     "text": [
      "Collecting spacy\n",
      "  Downloading spacy-3.3.0-cp39-cp39-win_amd64.whl (11.6 MB)\n",
      "Collecting cymem<2.1.0,>=2.0.2\n",
      "  Downloading cymem-2.0.6-cp39-cp39-win_amd64.whl (36 kB)\n",
      "Collecting preshed<3.1.0,>=3.0.2\n",
      "  Downloading preshed-3.0.6-cp39-cp39-win_amd64.whl (112 kB)\n",
      "Requirement already satisfied: requests<3.0.0,>=2.13.0 in c:\\users\\ceylan\\anaconda3\\lib\\site-packages (from spacy) (2.27.1)\n",
      "Requirement already satisfied: jinja2 in c:\\users\\ceylan\\anaconda3\\lib\\site-packages (from spacy) (2.11.3)\n",
      "Requirement already satisfied: setuptools in c:\\users\\ceylan\\anaconda3\\lib\\site-packages (from spacy) (58.0.4)\n",
      "Requirement already satisfied: tqdm<5.0.0,>=4.38.0 in c:\\users\\ceylan\\anaconda3\\lib\\site-packages (from spacy) (4.62.3)\n",
      "Collecting spacy-loggers<2.0.0,>=1.0.0\n",
      "  Downloading spacy_loggers-1.0.2-py3-none-any.whl (7.2 kB)\n",
      "Collecting srsly<3.0.0,>=2.4.3\n",
      "  Downloading srsly-2.4.3-cp39-cp39-win_amd64.whl (448 kB)\n",
      "Collecting spacy-legacy<3.1.0,>=3.0.9\n",
      "  Downloading spacy_legacy-3.0.9-py2.py3-none-any.whl (20 kB)\n",
      "Collecting catalogue<2.1.0,>=2.0.6\n",
      "  Downloading catalogue-2.0.7-py3-none-any.whl (17 kB)\n",
      "Collecting blis<0.8.0,>=0.4.0\n",
      "  Downloading blis-0.7.7-cp39-cp39-win_amd64.whl (6.6 MB)\n",
      "Collecting thinc<8.1.0,>=8.0.14\n",
      "  Downloading thinc-8.0.16-cp39-cp39-win_amd64.whl (1.0 MB)\n",
      "Collecting murmurhash<1.1.0,>=0.28.0\n",
      "  Downloading murmurhash-1.0.7-cp39-cp39-win_amd64.whl (18 kB)\n",
      "Collecting pydantic!=1.8,!=1.8.1,<1.9.0,>=1.7.4\n",
      "  Downloading pydantic-1.8.2-cp39-cp39-win_amd64.whl (1.9 MB)\n",
      "Collecting typer<0.5.0,>=0.3.0\n",
      "  Downloading typer-0.4.1-py3-none-any.whl (27 kB)\n",
      "Collecting langcodes<4.0.0,>=3.2.0\n",
      "  Downloading langcodes-3.3.0-py3-none-any.whl (181 kB)\n",
      "Requirement already satisfied: packaging>=20.0 in c:\\users\\ceylan\\anaconda3\\lib\\site-packages (from spacy) (21.0)\n",
      "Requirement already satisfied: numpy>=1.15.0 in c:\\users\\ceylan\\anaconda3\\lib\\site-packages (from spacy) (1.20.3)\n",
      "Collecting wasabi<1.1.0,>=0.9.1\n",
      "  Downloading wasabi-0.9.1-py3-none-any.whl (26 kB)\n",
      "Note: you may need to restart the kernel to use updated packages.\n",
      "Collecting pathy>=0.3.5\n",
      "  Downloading pathy-0.6.1-py3-none-any.whl (42 kB)\n",
      "Requirement already satisfied: pyparsing>=2.0.2 in c:\\users\\ceylan\\anaconda3\\lib\\site-packages (from packaging>=20.0->spacy) (3.0.4)\n",
      "Collecting smart-open<6.0.0,>=5.0.0\n",
      "  Downloading smart_open-5.2.1-py3-none-any.whl (58 kB)\n",
      "Requirement already satisfied: typing-extensions>=3.7.4.3 in c:\\users\\ceylan\\anaconda3\\lib\\site-packages (from pydantic!=1.8,!=1.8.1,<1.9.0,>=1.7.4->spacy) (3.10.0.2)\n",
      "Requirement already satisfied: certifi>=2017.4.17 in c:\\users\\ceylan\\anaconda3\\lib\\site-packages (from requests<3.0.0,>=2.13.0->spacy) (2021.10.8)\n",
      "Requirement already satisfied: charset-normalizer~=2.0.0 in c:\\users\\ceylan\\anaconda3\\lib\\site-packages (from requests<3.0.0,>=2.13.0->spacy) (2.0.4)\n",
      "Requirement already satisfied: urllib3<1.27,>=1.21.1 in c:\\users\\ceylan\\anaconda3\\lib\\site-packages (from requests<3.0.0,>=2.13.0->spacy) (1.26.7)\n",
      "Requirement already satisfied: idna<4,>=2.5 in c:\\users\\ceylan\\anaconda3\\lib\\site-packages (from requests<3.0.0,>=2.13.0->spacy) (3.2)\n",
      "Requirement already satisfied: colorama in c:\\users\\ceylan\\anaconda3\\lib\\site-packages (from tqdm<5.0.0,>=4.38.0->spacy) (0.4.4)\n",
      "Requirement already satisfied: click<9.0.0,>=7.1.1 in c:\\users\\ceylan\\anaconda3\\lib\\site-packages (from typer<0.5.0,>=0.3.0->spacy) (8.0.3)\n",
      "Requirement already satisfied: MarkupSafe>=0.23 in c:\\users\\ceylan\\anaconda3\\lib\\site-packages (from jinja2->spacy) (1.1.1)\n",
      "Installing collected packages: murmurhash, cymem, catalogue, wasabi, typer, srsly, smart-open, pydantic, preshed, blis, thinc, spacy-loggers, spacy-legacy, pathy, langcodes, spacy\n",
      "  Attempting uninstall: smart-open\n",
      "    Found existing installation: smart-open 6.0.0\n",
      "    Uninstalling smart-open-6.0.0:\n",
      "      Successfully uninstalled smart-open-6.0.0\n",
      "Successfully installed blis-0.7.7 catalogue-2.0.7 cymem-2.0.6 langcodes-3.3.0 murmurhash-1.0.7 pathy-0.6.1 preshed-3.0.6 pydantic-1.8.2 smart-open-5.2.1 spacy-3.3.0 spacy-legacy-3.0.9 spacy-loggers-1.0.2 srsly-2.4.3 thinc-8.0.16 typer-0.4.1 wasabi-0.9.1\n"
     ]
    }
   ],
   "source": [
    "pip install -U spacy"
   ]
  },
  {
   "cell_type": "code",
   "execution_count": 112,
   "id": "802475cb",
   "metadata": {},
   "outputs": [
    {
     "name": "stdout",
     "output_type": "stream",
     "text": [
      "Requirement already satisfied: spacy[lookups] in c:\\users\\ceylan\\anaconda3\\lib\\site-packages (3.3.0)\n",
      "Requirement already satisfied: pathy>=0.3.5 in c:\\users\\ceylan\\anaconda3\\lib\\site-packages (from spacy[lookups]) (0.6.1)\n",
      "Requirement already satisfied: pydantic!=1.8,!=1.8.1,<1.9.0,>=1.7.4 in c:\\users\\ceylan\\anaconda3\\lib\\site-packages (from spacy[lookups]) (1.8.2)\n",
      "Requirement already satisfied: numpy>=1.15.0 in c:\\users\\ceylan\\anaconda3\\lib\\site-packages (from spacy[lookups]) (1.20.3)\n",
      "Requirement already satisfied: cymem<2.1.0,>=2.0.2 in c:\\users\\ceylan\\anaconda3\\lib\\site-packages (from spacy[lookups]) (2.0.6)\n",
      "Requirement already satisfied: setuptools in c:\\users\\ceylan\\anaconda3\\lib\\site-packages (from spacy[lookups]) (58.0.4)\n",
      "Requirement already satisfied: tqdm<5.0.0,>=4.38.0 in c:\\users\\ceylan\\anaconda3\\lib\\site-packages (from spacy[lookups]) (4.62.3)\n",
      "Requirement already satisfied: requests<3.0.0,>=2.13.0 in c:\\users\\ceylan\\anaconda3\\lib\\site-packages (from spacy[lookups]) (2.27.1)\n",
      "Requirement already satisfied: typer<0.5.0,>=0.3.0 in c:\\users\\ceylan\\anaconda3\\lib\\site-packages (from spacy[lookups]) (0.4.1)\n",
      "Requirement already satisfied: preshed<3.1.0,>=3.0.2 in c:\\users\\ceylan\\anaconda3\\lib\\site-packages (from spacy[lookups]) (3.0.6)\n",
      "Requirement already satisfied: catalogue<2.1.0,>=2.0.6 in c:\\users\\ceylan\\anaconda3\\lib\\site-packages (from spacy[lookups]) (2.0.7)\n",
      "Requirement already satisfied: langcodes<4.0.0,>=3.2.0 in c:\\users\\ceylan\\anaconda3\\lib\\site-packages (from spacy[lookups]) (3.3.0)\n",
      "Requirement already satisfied: spacy-loggers<2.0.0,>=1.0.0 in c:\\users\\ceylan\\anaconda3\\lib\\site-packages (from spacy[lookups]) (1.0.2)\n",
      "Requirement already satisfied: packaging>=20.0 in c:\\users\\ceylan\\anaconda3\\lib\\site-packages (from spacy[lookups]) (21.0)\n",
      "Requirement already satisfied: spacy-legacy<3.1.0,>=3.0.9 in c:\\users\\ceylan\\anaconda3\\lib\\site-packages (from spacy[lookups]) (3.0.9)\n",
      "Requirement already satisfied: jinja2 in c:\\users\\ceylan\\anaconda3\\lib\\site-packages (from spacy[lookups]) (2.11.3)\n",
      "Requirement already satisfied: srsly<3.0.0,>=2.4.3 in c:\\users\\ceylan\\anaconda3\\lib\\site-packages (from spacy[lookups]) (2.4.3)\n",
      "Requirement already satisfied: murmurhash<1.1.0,>=0.28.0 in c:\\users\\ceylan\\anaconda3\\lib\\site-packages (from spacy[lookups]) (1.0.7)\n",
      "Requirement already satisfied: blis<0.8.0,>=0.4.0 in c:\\users\\ceylan\\anaconda3\\lib\\site-packages (from spacy[lookups]) (0.7.7)\n",
      "Requirement already satisfied: thinc<8.1.0,>=8.0.14 in c:\\users\\ceylan\\anaconda3\\lib\\site-packages (from spacy[lookups]) (8.0.16)\n",
      "Requirement already satisfied: wasabi<1.1.0,>=0.9.1 in c:\\users\\ceylan\\anaconda3\\lib\\site-packages (from spacy[lookups]) (0.9.1)\n",
      "Collecting spacy-lookups-data<1.1.0,>=1.0.3\n",
      "  Downloading spacy_lookups_data-1.0.3-py2.py3-none-any.whl (98.5 MB)\n",
      "Requirement already satisfied: pyparsing>=2.0.2 in c:\\users\\ceylan\\anaconda3\\lib\\site-packages (from packaging>=20.0->spacy[lookups]) (3.0.4)\n",
      "Requirement already satisfied: smart-open<6.0.0,>=5.0.0 in c:\\users\\ceylan\\anaconda3\\lib\\site-packages (from pathy>=0.3.5->spacy[lookups]) (5.2.1)\n",
      "Requirement already satisfied: typing-extensions>=3.7.4.3 in c:\\users\\ceylan\\anaconda3\\lib\\site-packages (from pydantic!=1.8,!=1.8.1,<1.9.0,>=1.7.4->spacy[lookups]) (3.10.0.2)\n",
      "Requirement already satisfied: certifi>=2017.4.17 in c:\\users\\ceylan\\anaconda3\\lib\\site-packages (from requests<3.0.0,>=2.13.0->spacy[lookups]) (2021.10.8)\n",
      "Requirement already satisfied: charset-normalizer~=2.0.0 in c:\\users\\ceylan\\anaconda3\\lib\\site-packages (from requests<3.0.0,>=2.13.0->spacy[lookups]) (2.0.4)\n",
      "Requirement already satisfied: urllib3<1.27,>=1.21.1 in c:\\users\\ceylan\\anaconda3\\lib\\site-packages (from requests<3.0.0,>=2.13.0->spacy[lookups]) (1.26.7)\n",
      "Requirement already satisfied: idna<4,>=2.5 in c:\\users\\ceylan\\anaconda3\\lib\\site-packages (from requests<3.0.0,>=2.13.0->spacy[lookups]) (3.2)\n",
      "Requirement already satisfied: colorama in c:\\users\\ceylan\\anaconda3\\lib\\site-packages (from tqdm<5.0.0,>=4.38.0->spacy[lookups]) (0.4.4)\n",
      "Requirement already satisfied: click<9.0.0,>=7.1.1 in c:\\users\\ceylan\\anaconda3\\lib\\site-packages (from typer<0.5.0,>=0.3.0->spacy[lookups]) (8.0.3)\n",
      "Requirement already satisfied: MarkupSafe>=0.23 in c:\\users\\ceylan\\anaconda3\\lib\\site-packages (from jinja2->spacy[lookups]) (1.1.1)\n",
      "Installing collected packages: spacy-lookups-data\n",
      "Successfully installed spacy-lookups-data-1.0.3\n",
      "Note: you may need to restart the kernel to use updated packages.\n"
     ]
    }
   ],
   "source": [
    "pip install -U spacy[lookups]\n"
   ]
  },
  {
   "cell_type": "code",
   "execution_count": null,
   "id": "2bb21c7c",
   "metadata": {},
   "outputs": [],
   "source": []
  }
 ],
 "metadata": {
  "kernelspec": {
   "display_name": "Python 3 (ipykernel)",
   "language": "python",
   "name": "python3"
  },
  "language_info": {
   "codemirror_mode": {
    "name": "ipython",
    "version": 3
   },
   "file_extension": ".py",
   "mimetype": "text/x-python",
   "name": "python",
   "nbconvert_exporter": "python",
   "pygments_lexer": "ipython3",
   "version": "3.9.7"
  }
 },
 "nbformat": 4,
 "nbformat_minor": 5
}
