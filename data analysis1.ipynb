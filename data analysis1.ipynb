{
 "cells": [
  {
   "cell_type": "code",
   "execution_count": 3,
   "id": "31e39295",
   "metadata": {},
   "outputs": [],
   "source": [
    "import numpy as np\n",
    "import pandas as pd\n",
    "import matplotlib.pyplot as plt\n",
    "import tensorflow as tf\n",
    "import keras\n",
    "from keras import layers\n"
   ]
  },
  {
   "cell_type": "code",
   "execution_count": 2,
   "id": "c4155dad",
   "metadata": {},
   "outputs": [
    {
     "name": "stdout",
     "output_type": "stream",
     "text": [
      "Requirement already satisfied: tensorflow in c:\\users\\ceylan\\anaconda3\\lib\\site-packages (2.9.1)\n",
      "Requirement already satisfied: grpcio<2.0,>=1.24.3 in c:\\users\\ceylan\\anaconda3\\lib\\site-packages (from tensorflow) (1.46.3)\n",
      "Requirement already satisfied: opt-einsum>=2.3.2 in c:\\users\\ceylan\\anaconda3\\lib\\site-packages (from tensorflow) (3.3.0)\n",
      "Requirement already satisfied: tensorflow-io-gcs-filesystem>=0.23.1 in c:\\users\\ceylan\\anaconda3\\lib\\site-packages (from tensorflow) (0.26.0)\n",
      "Requirement already satisfied: six>=1.12.0 in c:\\users\\ceylan\\anaconda3\\lib\\site-packages (from tensorflow) (1.16.0)\n",
      "Requirement already satisfied: keras-preprocessing>=1.1.1 in c:\\users\\ceylan\\anaconda3\\lib\\site-packages (from tensorflow) (1.1.2)\n",
      "Requirement already satisfied: astunparse>=1.6.0 in c:\\users\\ceylan\\anaconda3\\lib\\site-packages (from tensorflow) (1.6.3)\n",
      "Requirement already satisfied: protobuf<3.20,>=3.9.2 in c:\\users\\ceylan\\anaconda3\\lib\\site-packages (from tensorflow) (3.19.4)\n",
      "Requirement already satisfied: tensorflow-estimator<2.10.0,>=2.9.0rc0 in c:\\users\\ceylan\\anaconda3\\lib\\site-packages (from tensorflow) (2.9.0)\n",
      "Requirement already satisfied: gast<=0.4.0,>=0.2.1 in c:\\users\\ceylan\\anaconda3\\lib\\site-packages (from tensorflow) (0.4.0)\n",
      "Requirement already satisfied: h5py>=2.9.0 in c:\\users\\ceylan\\anaconda3\\lib\\site-packages (from tensorflow) (3.2.1)\n",
      "Requirement already satisfied: google-pasta>=0.1.1 in c:\\users\\ceylan\\anaconda3\\lib\\site-packages (from tensorflow) (0.2.0)\n",
      "Requirement already satisfied: typing-extensions>=3.6.6 in c:\\users\\ceylan\\anaconda3\\lib\\site-packages (from tensorflow) (3.10.0.2)\n",
      "Requirement already satisfied: wrapt>=1.11.0 in c:\\users\\ceylan\\anaconda3\\lib\\site-packages (from tensorflow) (1.12.1)\n",
      "Requirement already satisfied: setuptools in c:\\users\\ceylan\\anaconda3\\lib\\site-packages (from tensorflow) (58.0.4)\n",
      "Requirement already satisfied: numpy>=1.20 in c:\\users\\ceylan\\anaconda3\\lib\\site-packages (from tensorflow) (1.20.3)\n",
      "Note: you may need to restart the kernel to use updated packages.\n",
      "Requirement already satisfied: libclang>=13.0.0 in c:\\users\\ceylan\\anaconda3\\lib\\site-packages (from tensorflow) (14.0.1)\n",
      "Requirement already satisfied: keras<2.10.0,>=2.9.0rc0 in c:\\users\\ceylan\\anaconda3\\lib\\site-packages (from tensorflow) (2.9.0)\n",
      "Requirement already satisfied: packaging in c:\\users\\ceylan\\anaconda3\\lib\\site-packages (from tensorflow) (21.0)\n",
      "Requirement already satisfied: termcolor>=1.1.0 in c:\\users\\ceylan\\anaconda3\\lib\\site-packages (from tensorflow) (1.1.0)\n",
      "Requirement already satisfied: tensorboard<2.10,>=2.9 in c:\\users\\ceylan\\anaconda3\\lib\\site-packages (from tensorflow) (2.9.0)\n",
      "Requirement already satisfied: absl-py>=1.0.0 in c:\\users\\ceylan\\anaconda3\\lib\\site-packages (from tensorflow) (1.0.0)\n",
      "Requirement already satisfied: flatbuffers<2,>=1.12 in c:\\users\\ceylan\\anaconda3\\lib\\site-packages (from tensorflow) (1.12)\n",
      "Requirement already satisfied: wheel<1.0,>=0.23.0 in c:\\users\\ceylan\\anaconda3\\lib\\site-packages (from astunparse>=1.6.0->tensorflow) (0.37.0)\n",
      "Requirement already satisfied: tensorboard-data-server<0.7.0,>=0.6.0 in c:\\users\\ceylan\\anaconda3\\lib\\site-packages (from tensorboard<2.10,>=2.9->tensorflow) (0.6.1)\n",
      "Requirement already satisfied: tensorboard-plugin-wit>=1.6.0 in c:\\users\\ceylan\\anaconda3\\lib\\site-packages (from tensorboard<2.10,>=2.9->tensorflow) (1.8.1)\n",
      "Requirement already satisfied: requests<3,>=2.21.0 in c:\\users\\ceylan\\anaconda3\\lib\\site-packages (from tensorboard<2.10,>=2.9->tensorflow) (2.26.0)\n",
      "Requirement already satisfied: google-auth<3,>=1.6.3 in c:\\users\\ceylan\\anaconda3\\lib\\site-packages (from tensorboard<2.10,>=2.9->tensorflow) (2.6.6)\n",
      "Requirement already satisfied: markdown>=2.6.8 in c:\\users\\ceylan\\anaconda3\\lib\\site-packages (from tensorboard<2.10,>=2.9->tensorflow) (3.3.7)\n",
      "Requirement already satisfied: werkzeug>=1.0.1 in c:\\users\\ceylan\\anaconda3\\lib\\site-packages (from tensorboard<2.10,>=2.9->tensorflow) (2.0.2)\n",
      "Requirement already satisfied: google-auth-oauthlib<0.5,>=0.4.1 in c:\\users\\ceylan\\anaconda3\\lib\\site-packages (from tensorboard<2.10,>=2.9->tensorflow) (0.4.6)\n",
      "Requirement already satisfied: cachetools<6.0,>=2.0.0 in c:\\users\\ceylan\\anaconda3\\lib\\site-packages (from google-auth<3,>=1.6.3->tensorboard<2.10,>=2.9->tensorflow) (5.1.0)\n",
      "Requirement already satisfied: pyasn1-modules>=0.2.1 in c:\\users\\ceylan\\anaconda3\\lib\\site-packages (from google-auth<3,>=1.6.3->tensorboard<2.10,>=2.9->tensorflow) (0.2.8)\n",
      "Requirement already satisfied: rsa<5,>=3.1.4 in c:\\users\\ceylan\\anaconda3\\lib\\site-packages (from google-auth<3,>=1.6.3->tensorboard<2.10,>=2.9->tensorflow) (4.8)\n",
      "Requirement already satisfied: requests-oauthlib>=0.7.0 in c:\\users\\ceylan\\anaconda3\\lib\\site-packages (from google-auth-oauthlib<0.5,>=0.4.1->tensorboard<2.10,>=2.9->tensorflow) (1.3.1)\n",
      "Requirement already satisfied: importlib-metadata>=4.4 in c:\\users\\ceylan\\anaconda3\\lib\\site-packages (from markdown>=2.6.8->tensorboard<2.10,>=2.9->tensorflow) (4.8.1)\n",
      "Requirement already satisfied: zipp>=0.5 in c:\\users\\ceylan\\anaconda3\\lib\\site-packages (from importlib-metadata>=4.4->markdown>=2.6.8->tensorboard<2.10,>=2.9->tensorflow) (3.6.0)\n",
      "Requirement already satisfied: pyasn1<0.5.0,>=0.4.6 in c:\\users\\ceylan\\anaconda3\\lib\\site-packages (from pyasn1-modules>=0.2.1->google-auth<3,>=1.6.3->tensorboard<2.10,>=2.9->tensorflow) (0.4.8)\n",
      "Requirement already satisfied: certifi>=2017.4.17 in c:\\users\\ceylan\\anaconda3\\lib\\site-packages (from requests<3,>=2.21.0->tensorboard<2.10,>=2.9->tensorflow) (2021.10.8)\n",
      "Requirement already satisfied: idna<4,>=2.5 in c:\\users\\ceylan\\anaconda3\\lib\\site-packages (from requests<3,>=2.21.0->tensorboard<2.10,>=2.9->tensorflow) (3.2)\n",
      "Requirement already satisfied: charset-normalizer~=2.0.0 in c:\\users\\ceylan\\anaconda3\\lib\\site-packages (from requests<3,>=2.21.0->tensorboard<2.10,>=2.9->tensorflow) (2.0.4)\n",
      "Requirement already satisfied: urllib3<1.27,>=1.21.1 in c:\\users\\ceylan\\anaconda3\\lib\\site-packages (from requests<3,>=2.21.0->tensorboard<2.10,>=2.9->tensorflow) (1.26.7)\n",
      "Requirement already satisfied: oauthlib>=3.0.0 in c:\\users\\ceylan\\anaconda3\\lib\\site-packages (from requests-oauthlib>=0.7.0->google-auth-oauthlib<0.5,>=0.4.1->tensorboard<2.10,>=2.9->tensorflow) (3.2.0)\n",
      "Requirement already satisfied: pyparsing>=2.0.2 in c:\\users\\ceylan\\anaconda3\\lib\\site-packages (from packaging->tensorflow) (3.0.4)\n"
     ]
    }
   ],
   "source": [
    "pip install tensorflow"
   ]
  },
  {
   "cell_type": "code",
   "execution_count": 4,
   "id": "09a62db7",
   "metadata": {},
   "outputs": [],
   "source": [
    "all_data=pd.read_csv(\"C:/Users/Ceylan/Desktop/YapayZeka/EducationCovid19_VeriSeti_2100003340.csv\")"
   ]
  },
  {
   "cell_type": "code",
   "execution_count": 5,
   "id": "2e556c12",
   "metadata": {},
   "outputs": [
    {
     "data": {
      "text/html": [
       "<div>\n",
       "<style scoped>\n",
       "    .dataframe tbody tr th:only-of-type {\n",
       "        vertical-align: middle;\n",
       "    }\n",
       "\n",
       "    .dataframe tbody tr th {\n",
       "        vertical-align: top;\n",
       "    }\n",
       "\n",
       "    .dataframe thead th {\n",
       "        text-align: right;\n",
       "    }\n",
       "</style>\n",
       "<table border=\"1\" class=\"dataframe\">\n",
       "  <thead>\n",
       "    <tr style=\"text-align: right;\">\n",
       "      <th></th>\n",
       "      <th>id_str</th>\n",
       "      <th>from_user</th>\n",
       "      <th>text</th>\n",
       "      <th>created_at</th>\n",
       "      <th>time</th>\n",
       "      <th>geo_coordinates</th>\n",
       "      <th>user_lang</th>\n",
       "      <th>in_reply_to_user_id_str</th>\n",
       "      <th>in_reply_to_screen_name</th>\n",
       "      <th>from_user_id_str</th>\n",
       "      <th>in_reply_to_status_id_str</th>\n",
       "      <th>source</th>\n",
       "      <th>profile_image_url</th>\n",
       "      <th>user_followers_count</th>\n",
       "      <th>user_friends_count</th>\n",
       "      <th>user_location</th>\n",
       "      <th>status_url</th>\n",
       "      <th>entities_str</th>\n",
       "    </tr>\n",
       "  </thead>\n",
       "  <tbody>\n",
       "    <tr>\n",
       "      <th>0</th>\n",
       "      <td>1526221843379666944</td>\n",
       "      <td>fintechna</td>\n",
       "      <td>RT @HardBikiniAngel: Thank you @P_McCulloughMD...</td>\n",
       "      <td>Mon May 16 15:23:37 +0000 2022</td>\n",
       "      <td>16/05/2022 16:23:37</td>\n",
       "      <td>NaN</td>\n",
       "      <td>NaN</td>\n",
       "      <td>NaN</td>\n",
       "      <td>NaN</td>\n",
       "      <td>2933447393</td>\n",
       "      <td>NaN</td>\n",
       "      <td>&lt;a href=\"http://news.fintechna.com\" rel=\"nofol...</td>\n",
       "      <td>http://pbs.twimg.com/profile_images/1388850978...</td>\n",
       "      <td>33787.0</td>\n",
       "      <td>2347.0</td>\n",
       "      <td>LON | NYC | HKG  | SYD | SIN</td>\n",
       "      <td>http://twitter.com/fintechna/statuses/15262218...</td>\n",
       "      <td>{\"hashtags\":[],\"symbols\":[],\"user_mentions\":[{...</td>\n",
       "    </tr>\n",
       "    <tr>\n",
       "      <th>1</th>\n",
       "      <td>1526221580715663363</td>\n",
       "      <td>HardBikiniAngel</td>\n",
       "      <td>Thank you @P_McCulloughMD &amp;amp; @theRealKiyosa...</td>\n",
       "      <td>Mon May 16 15:22:35 +0000 2022</td>\n",
       "      <td>16/05/2022 16:22:35</td>\n",
       "      <td>NaN</td>\n",
       "      <td>NaN</td>\n",
       "      <td>NaN</td>\n",
       "      <td>NaN</td>\n",
       "      <td>157459685</td>\n",
       "      <td>NaN</td>\n",
       "      <td>&lt;a href=\"http://twitter.com/download/iphone\" r...</td>\n",
       "      <td>http://pbs.twimg.com/profile_images/1363712638...</td>\n",
       "      <td>7935.0</td>\n",
       "      <td>834.0</td>\n",
       "      <td>NaN</td>\n",
       "      <td>http://twitter.com/HardBikiniAngel/statuses/15...</td>\n",
       "      <td>{\"hashtags\":[{\"text\":\"health\",\"indices\":[123,1...</td>\n",
       "    </tr>\n",
       "    <tr>\n",
       "      <th>2</th>\n",
       "      <td>1526216220617351168</td>\n",
       "      <td>UNFPANigeria</td>\n",
       "      <td>RT @EduCannotWait: In emergency &amp;amp; protract...</td>\n",
       "      <td>Mon May 16 15:01:17 +0000 2022</td>\n",
       "      <td>16/05/2022 16:01:17</td>\n",
       "      <td>NaN</td>\n",
       "      <td>NaN</td>\n",
       "      <td>NaN</td>\n",
       "      <td>NaN</td>\n",
       "      <td>1903677397</td>\n",
       "      <td>NaN</td>\n",
       "      <td>&lt;a href=\"https://mobile.twitter.com\" rel=\"nofo...</td>\n",
       "      <td>http://pbs.twimg.com/profile_images/1027535912...</td>\n",
       "      <td>25433.0</td>\n",
       "      <td>1006.0</td>\n",
       "      <td>Abuja, Nigeria</td>\n",
       "      <td>http://twitter.com/UNFPANigeria/statuses/15262...</td>\n",
       "      <td>{\"hashtags\":[{\"text\":\"ECW\",\"indices\":[68,72]},...</td>\n",
       "    </tr>\n",
       "    <tr>\n",
       "      <th>3</th>\n",
       "      <td>1526213883869941760</td>\n",
       "      <td>rominapetrini2</td>\n",
       "      <td>#BBC\\n#CNBC\\n#NinoDiMatteo\\n#FrancescoLalla\\n#...</td>\n",
       "      <td>Mon May 16 14:52:00 +0000 2022</td>\n",
       "      <td>16/05/2022 15:52:00</td>\n",
       "      <td>NaN</td>\n",
       "      <td>NaN</td>\n",
       "      <td>NaN</td>\n",
       "      <td>NaN</td>\n",
       "      <td>1465633736171696129</td>\n",
       "      <td>NaN</td>\n",
       "      <td>&lt;a href=\"http://twitter.com/download/android\" ...</td>\n",
       "      <td>http://pbs.twimg.com/profile_images/1524794081...</td>\n",
       "      <td>1005.0</td>\n",
       "      <td>5001.0</td>\n",
       "      <td>NaN</td>\n",
       "      <td>http://twitter.com/rominapetrini2/statuses/152...</td>\n",
       "      <td>{\"hashtags\":[{\"text\":\"BBC\",\"indices\":[0,4]},{\"...</td>\n",
       "    </tr>\n",
       "    <tr>\n",
       "      <th>4</th>\n",
       "      <td>1526211554873573378</td>\n",
       "      <td>nanzanic</td>\n",
       "      <td>#domainsforsale #domainname #domainNames #doma...</td>\n",
       "      <td>Mon May 16 14:42:44 +0000 2022</td>\n",
       "      <td>16/05/2022 15:42:44</td>\n",
       "      <td>NaN</td>\n",
       "      <td>NaN</td>\n",
       "      <td>NaN</td>\n",
       "      <td>NaN</td>\n",
       "      <td>2204698297</td>\n",
       "      <td>NaN</td>\n",
       "      <td>&lt;a href=\"http://www.oneupapp.io\" rel=\"nofollow...</td>\n",
       "      <td>http://pbs.twimg.com/profile_images/1470383632...</td>\n",
       "      <td>1080.0</td>\n",
       "      <td>1533.0</td>\n",
       "      <td>NaN</td>\n",
       "      <td>http://twitter.com/nanzanic/statuses/152621155...</td>\n",
       "      <td>{\"hashtags\":[{\"text\":\"domainsforsale\",\"indices...</td>\n",
       "    </tr>\n",
       "  </tbody>\n",
       "</table>\n",
       "</div>"
      ],
      "text/plain": [
       "                id_str        from_user  \\\n",
       "0  1526221843379666944        fintechna   \n",
       "1  1526221580715663363  HardBikiniAngel   \n",
       "2  1526216220617351168     UNFPANigeria   \n",
       "3  1526213883869941760   rominapetrini2   \n",
       "4  1526211554873573378         nanzanic   \n",
       "\n",
       "                                                text  \\\n",
       "0  RT @HardBikiniAngel: Thank you @P_McCulloughMD...   \n",
       "1  Thank you @P_McCulloughMD &amp; @theRealKiyosa...   \n",
       "2  RT @EduCannotWait: In emergency &amp; protract...   \n",
       "3  #BBC\\n#CNBC\\n#NinoDiMatteo\\n#FrancescoLalla\\n#...   \n",
       "4  #domainsforsale #domainname #domainNames #doma...   \n",
       "\n",
       "                       created_at                 time geo_coordinates  \\\n",
       "0  Mon May 16 15:23:37 +0000 2022  16/05/2022 16:23:37             NaN   \n",
       "1  Mon May 16 15:22:35 +0000 2022  16/05/2022 16:22:35             NaN   \n",
       "2  Mon May 16 15:01:17 +0000 2022  16/05/2022 16:01:17             NaN   \n",
       "3  Mon May 16 14:52:00 +0000 2022  16/05/2022 15:52:00             NaN   \n",
       "4  Mon May 16 14:42:44 +0000 2022  16/05/2022 15:42:44             NaN   \n",
       "\n",
       "   user_lang  in_reply_to_user_id_str in_reply_to_screen_name  \\\n",
       "0        NaN                      NaN                     NaN   \n",
       "1        NaN                      NaN                     NaN   \n",
       "2        NaN                      NaN                     NaN   \n",
       "3        NaN                      NaN                     NaN   \n",
       "4        NaN                      NaN                     NaN   \n",
       "\n",
       "      from_user_id_str  in_reply_to_status_id_str  \\\n",
       "0           2933447393                        NaN   \n",
       "1            157459685                        NaN   \n",
       "2           1903677397                        NaN   \n",
       "3  1465633736171696129                        NaN   \n",
       "4           2204698297                        NaN   \n",
       "\n",
       "                                              source  \\\n",
       "0  <a href=\"http://news.fintechna.com\" rel=\"nofol...   \n",
       "1  <a href=\"http://twitter.com/download/iphone\" r...   \n",
       "2  <a href=\"https://mobile.twitter.com\" rel=\"nofo...   \n",
       "3  <a href=\"http://twitter.com/download/android\" ...   \n",
       "4  <a href=\"http://www.oneupapp.io\" rel=\"nofollow...   \n",
       "\n",
       "                                   profile_image_url  user_followers_count  \\\n",
       "0  http://pbs.twimg.com/profile_images/1388850978...               33787.0   \n",
       "1  http://pbs.twimg.com/profile_images/1363712638...                7935.0   \n",
       "2  http://pbs.twimg.com/profile_images/1027535912...               25433.0   \n",
       "3  http://pbs.twimg.com/profile_images/1524794081...                1005.0   \n",
       "4  http://pbs.twimg.com/profile_images/1470383632...                1080.0   \n",
       "\n",
       "   user_friends_count                 user_location  \\\n",
       "0              2347.0  LON | NYC | HKG  | SYD | SIN   \n",
       "1               834.0                           NaN   \n",
       "2              1006.0                Abuja, Nigeria   \n",
       "3              5001.0                           NaN   \n",
       "4              1533.0                           NaN   \n",
       "\n",
       "                                          status_url  \\\n",
       "0  http://twitter.com/fintechna/statuses/15262218...   \n",
       "1  http://twitter.com/HardBikiniAngel/statuses/15...   \n",
       "2  http://twitter.com/UNFPANigeria/statuses/15262...   \n",
       "3  http://twitter.com/rominapetrini2/statuses/152...   \n",
       "4  http://twitter.com/nanzanic/statuses/152621155...   \n",
       "\n",
       "                                        entities_str  \n",
       "0  {\"hashtags\":[],\"symbols\":[],\"user_mentions\":[{...  \n",
       "1  {\"hashtags\":[{\"text\":\"health\",\"indices\":[123,1...  \n",
       "2  {\"hashtags\":[{\"text\":\"ECW\",\"indices\":[68,72]},...  \n",
       "3  {\"hashtags\":[{\"text\":\"BBC\",\"indices\":[0,4]},{\"...  \n",
       "4  {\"hashtags\":[{\"text\":\"domainsforsale\",\"indices...  "
      ]
     },
     "execution_count": 5,
     "metadata": {},
     "output_type": "execute_result"
    }
   ],
   "source": [
    "all_data.head()"
   ]
  },
  {
   "cell_type": "code",
   "execution_count": 6,
   "id": "df63bccc",
   "metadata": {},
   "outputs": [
    {
     "name": "stdout",
     "output_type": "stream",
     "text": [
      "<class 'pandas.core.frame.DataFrame'>\n",
      "RangeIndex: 7247 entries, 0 to 7246\n",
      "Data columns (total 18 columns):\n",
      " #   Column                     Non-Null Count  Dtype  \n",
      "---  ------                     --------------  -----  \n",
      " 0   id_str                     7247 non-null   int64  \n",
      " 1   from_user                  7247 non-null   object \n",
      " 2   text                       7247 non-null   object \n",
      " 3   created_at                 7247 non-null   object \n",
      " 4   time                       7247 non-null   object \n",
      " 5   geo_coordinates            31 non-null     object \n",
      " 6   user_lang                  0 non-null      float64\n",
      " 7   in_reply_to_user_id_str    257 non-null    float64\n",
      " 8   in_reply_to_screen_name    257 non-null    object \n",
      " 9   from_user_id_str           7247 non-null   int64  \n",
      " 10  in_reply_to_status_id_str  219 non-null    float64\n",
      " 11  source                     7247 non-null   object \n",
      " 12  profile_image_url          7247 non-null   object \n",
      " 13  user_followers_count       7208 non-null   float64\n",
      " 14  user_friends_count         7187 non-null   float64\n",
      " 15  user_location              4509 non-null   object \n",
      " 16  status_url                 7247 non-null   object \n",
      " 17  entities_str               7247 non-null   object \n",
      "dtypes: float64(5), int64(2), object(11)\n",
      "memory usage: 1019.2+ KB\n"
     ]
    }
   ],
   "source": [
    "all_data.info()"
   ]
  },
  {
   "cell_type": "code",
   "execution_count": 7,
   "id": "b3175457",
   "metadata": {},
   "outputs": [
    {
     "data": {
      "text/plain": [
       "education_24x7     95\n",
       "educationbnb       54\n",
       "TheResourceHub2    50\n",
       "borrell_armando    43\n",
       "TaxmanTm           23\n",
       "                   ..\n",
       "UCSFCAPS            1\n",
       "eason27             1\n",
       "JoyceluiQ           1\n",
       "FRANCISCOJVERD1     1\n",
       "BornThisWay1966     1\n",
       "Name: from_user, Length: 5601, dtype: int64"
      ]
     },
     "execution_count": 7,
     "metadata": {},
     "output_type": "execute_result"
    }
   ],
   "source": [
    "all_data.from_user.value_counts()"
   ]
  },
  {
   "cell_type": "code",
   "execution_count": 8,
   "id": "cf9e83ef",
   "metadata": {},
   "outputs": [
    {
     "data": {
      "text/plain": [
       "RT @DrPacoMoreno1: Los problemas de salud en México no se resuleven contratando 500 médicos cubanos.\\nLa falta de vacunas en menores no es excusa para usar Abdala, la vacuna cubana contra #COVID19 para los niños. \\nUna vacuna no aprobada por la OMS.\\n\\nLa política sigue enfermando la salud de México.                                                   204\n",
       "RT @DrEricDing: SURGING—This should NOT be the new normal. Last month, this #COVID19 transmission chart was mostly blue or yellow (tiny bit of orange). But some got arrogant. Some got dismissive. Some got selfish. And now the pandemic continues. #CovidIsNotOver https://t.co/SQy7Y7nGVk                                                                   199\n",
       "RT @drkerrynphelps: Pre-polling has started around the country. \\nPlease wear a mask in and around polling booths.\\nAustralia currently has one of the highest per capita rates of #covid19 infection in the world.\\nAs yes, you can catch COVID more than once, even if vaccinated.\\n #maskUp                                                                  134\n",
       "RT @PeterSchiff: The entire U.S. economy is about to shut down again, but this time it won't be a dress rehearsal like with #Covid19. This will be the real thing. We won't ask businesses to close they'll have no choice but to close. Tens of millions will be fired from jobs that will never return!                                                        98\n",
       "RT @IsabellaBardoel: Doug Ford in majority territory? Seriously?\\nAfter LTC death camps, #COVID19 catastrophe, selling the Green Belt to developers, autism waitlists, firing nurses, starving ODSP &amp; OW, opening hc to US profiteers, gutting #Toronto Council, selling ON water to Nestle &amp; so much more? 😳                                            93\n",
       "                                                                                                                                                                                                                                                                                                                                                               ... \n",
       "RT @TeamReillyNY: 🚨 BREAKING 🚨\\n\\nThank you to @NYCMayor Eric Adams for listening to his government colleagues, public school parents, and, most importantly, the students, in lifting the #COVID19 vaccine requirement for high school seniors to attend prom and graduation.  https://t.co/QLwvZBytTL                                                           1\n",
       "A partir de mañana en los puntos de vacunación de la #ESESaludPereira, se iniciará con la aplicación de la cuarta dosis de la vacuna contra el #Covid19 para mayores de 50 años, que hayan cumplido 4 meses después de aplicada la tercera dosis.\\nhttps://t.co/Q6bJLaYc6W https://t.co/ehAulHT90f                                                                1\n",
       "RT @tekugislab: 新型コロナウイルス感染症、5月8日（日）東京都内発生分、新規患者数（4711人）の区市町村別地図です。\\n都の区市町村別患者数は翌日公表のため、地図は1日分タイムラグがあります。\\n#COVID19 #Tokyo https://t.co/Qk2oj1E5ot                                                                                                                                                                                                                1\n",
       "RT @EveryNashThing: .@HomeFreeGuys have wrapped up their tour, which was no small feat, especially in the last few weeks with two positive cases of #COVID19.\\n\\n“This was FAR from an easy tour,\" @TheAdamChance says.\\n\\nhttps://t.co/NAsl4VE1uF                                                                                                                1\n",
       "RT @TimeIsFinishing: @FockGoogle @EelcoBB #USA #jesuits #Espionage #Terrorism #Terrorists #Crime #Murder #COVID19 #pandemic #Warinukraine #Food #health #Education #Finance #StockMarket #news \\n\\nThe Destruction of Jerusalem\\nGreat Controversy (1911)\\nhttps://t.co/hS59sEZ3m7\\n\\nThe Secret Terrorists\\nhttps://t.co/nSEmzGCYtt https://t.co/zqVm1NKjBK      1\n",
       "Name: text, Length: 3628, dtype: int64"
      ]
     },
     "execution_count": 8,
     "metadata": {},
     "output_type": "execute_result"
    }
   ],
   "source": [
    "all_data.text.value_counts()"
   ]
  },
  {
   "cell_type": "code",
   "execution_count": 11,
   "id": "fb615196",
   "metadata": {},
   "outputs": [
    {
     "data": {
      "text/plain": [
       "{\"hashtags\":[],\"symbols\":[],\"user_mentions\":[{\"screen_name\":\"DrPacoMoreno1\",\"name\":\"Dr Francisco Moreno Sánchez\",\"id\":1193721035490807800,\"id_str\":\"1193721035490807808\",\"indices\":[3,17]}],\"urls\":[]}                                                                                                                                                                                                                                                                                                                                                                                             230\n",
       "{\"hashtags\":[{\"text\":\"COVID19\",\"indices\":[76,84]}],\"symbols\":[],\"user_mentions\":[{\"screen_name\":\"DrEricDing\",\"name\":\"Eric Feigl-Ding\",\"id\":18831926,\"id_str\":\"18831926\",\"indices\":[3,14]}],\"urls\":[]}                                                                                                                                                                                                                                                                                                                                                                                              199\n",
       "{\"hashtags\":[],\"symbols\":[],\"user_mentions\":[{\"screen_name\":\"drkerrynphelps\",\"name\":\"Prof Kerryn Phelps AM\",\"id\":173672963,\"id_str\":\"173672963\",\"indices\":[3,18]}],\"urls\":[]}                                                                                                                                                                                                                                                                                                                                                                                                                      134\n",
       "{\"hashtags\":[{\"text\":\"Covid19\",\"indices\":[124,132]}],\"symbols\":[],\"user_mentions\":[{\"screen_name\":\"PeterSchiff\",\"name\":\"Peter Schiff\",\"id\":56562803,\"id_str\":\"56562803\",\"indices\":[3,15]}],\"urls\":[]}                                                                                                                                                                                                                                                                                                                                                                                               98\n",
       "{\"hashtags\":[{\"text\":\"COVID19\",\"indices\":[88,96]}],\"symbols\":[],\"user_mentions\":[{\"screen_name\":\"IsabellaBardoel\",\"name\":\"(((Social Democrat))) 🇳🇱🇨🇦\",\"id\":4280220914,\"id_str\":\"4280220914\",\"indices\":[3,19]}],\"urls\":[]}                                                                                                                                                                                                                                                                                                                                                                           93\n",
       "                                                                                                                                                                                                                                                                                                                                                                                                                                                                                                                                                                                                  ... \n",
       "{\"hashtags\":[{\"text\":\"COVID19\",\"indices\":[115,123]}],\"symbols\":[],\"user_mentions\":[],\"urls\":[{\"url\":\"https://t.co/RPGgB4AGBc\",\"expanded_url\":\"https://twitter.com/LPOArg/status/1523793216868216832\",\"display_url\":\"twitter.com/LPOArg/status/…\",\"indices\":[124,147]}]}                                                                                                                                                                                                                                                                                                                              1\n",
       "{\"hashtags\":[{\"text\":\"Dengue\",\"indices\":[58,65]},{\"text\":\"COVID19\",\"indices\":[145,153]}],\"symbols\":[],\"user_mentions\":[{\"screen_name\":\"caro_centeno82\",\"name\":\"Carolina Centeno\",\"id\":3248703003,\"id_str\":\"3248703003\",\"indices\":[0,15]}],\"urls\":[]}                                                                                                                                                                                                                                                                                                                                                 1\n",
       "{\"hashtags\":[{\"text\":\"FOIA\",\"indices\":[59,64]},{\"text\":\"COVID19\",\"indices\":[190,198]}],\"symbols\":[],\"user_mentions\":[{\"screen_name\":\"akheriaty\",\"name\":\"Aaron Kheriaty, MD\",\"id\":54322957,\"id_str\":\"54322957\",\"indices\":[11,21]},{\"screen_name\":\"CDCgov\",\"name\":\"CDC\",\"id\":146569971,\"id_str\":\"146569971\",\"indices\":[74,81]}],\"urls\":[{\"url\":\"https://t.co/btShNSvOw2\",\"expanded_url\":\"https://www.theepochtimes.com/the-digital-panopticon_4455087.html?utm_medium=social&utm_source=twitter&utm_campaign=digitalsub\",\"display_url\":\"theepochtimes.com/the-digital-pa…\",\"indices\":[248,271]}]}      1\n",
       "{\"hashtags\":[{\"text\":\"SARSCoV2\",\"indices\":[24,33]},{\"text\":\"enfermedad\",\"indices\":[48,59]},{\"text\":\"Cronicas\",\"indices\":[104,113]}],\"symbols\":[],\"user_mentions\":[{\"screen_name\":\"dr_santianespat\",\"name\":\"Jesús Santianes\",\"id\":393372618,\"id_str\":\"393372618\",\"indices\":[3,19]}],\"urls\":[]}                                                                                                                                                                                                                                                                                                        1\n",
       "{\"hashtags\":[],\"symbols\":[],\"user_mentions\":[],\"urls\":[]}                                                                                                                                                                                                                                                                                                                                                                                                                                                                                                                                            1\n",
       "Name: entities_str, Length: 3482, dtype: int64"
      ]
     },
     "execution_count": 11,
     "metadata": {},
     "output_type": "execute_result"
    }
   ],
   "source": [
    "all_data.entities_str.value_counts()"
   ]
  },
  {
   "cell_type": "code",
   "execution_count": 9,
   "id": "79be7bcc",
   "metadata": {},
   "outputs": [
    {
     "data": {
      "text/plain": [
       "Delhi                             95\n",
       "México                            83\n",
       "Washington, DC                    57\n",
       "Australia                         49\n",
       "Canada                            43\n",
       "                                  ..\n",
       "Greenwood, SC                      1\n",
       "San Pedro Cholula, Puebla          1\n",
       "Swansea                            1\n",
       "69+1=70 countries and growing!     1\n",
       "Rural 🇨🇦                           1\n",
       "Name: user_location, Length: 2284, dtype: int64"
      ]
     },
     "execution_count": 9,
     "metadata": {},
     "output_type": "execute_result"
    }
   ],
   "source": [
    "all_data.user_location.value_counts()"
   ]
  },
  {
   "cell_type": "code",
   "execution_count": 10,
   "id": "de43fb5e",
   "metadata": {},
   "outputs": [
    {
     "data": {
      "text/plain": [
       "id_str                          0\n",
       "from_user                       0\n",
       "text                            0\n",
       "created_at                      0\n",
       "time                            0\n",
       "geo_coordinates              7216\n",
       "user_lang                    7247\n",
       "in_reply_to_user_id_str      6990\n",
       "in_reply_to_screen_name      6990\n",
       "from_user_id_str                0\n",
       "in_reply_to_status_id_str    7028\n",
       "source                          0\n",
       "profile_image_url               0\n",
       "user_followers_count           39\n",
       "user_friends_count             60\n",
       "user_location                2738\n",
       "status_url                      0\n",
       "entities_str                    0\n",
       "dtype: int64"
      ]
     },
     "execution_count": 10,
     "metadata": {},
     "output_type": "execute_result"
    }
   ],
   "source": [
    "#for missing values\n",
    "\n",
    "all_data.isnull().sum()"
   ]
  },
  {
   "cell_type": "code",
   "execution_count": 11,
   "id": "8b6b9904",
   "metadata": {},
   "outputs": [],
   "source": [
    "df1=all_data.copy()\n",
    "\n",
    "#missing value için 10 random değer belirliyoruz.\n",
    "import random\n",
    "\n",
    "for i in range(0,10):\n",
    "    for j in range(0,4):\n",
    "        x=random.randint(0,149)\n",
    "        df1.iloc[x,j]=None\n"
   ]
  },
  {
   "cell_type": "code",
   "execution_count": 12,
   "id": "5df2eeed",
   "metadata": {},
   "outputs": [
    {
     "data": {
      "text/html": [
       "<div>\n",
       "<style scoped>\n",
       "    .dataframe tbody tr th:only-of-type {\n",
       "        vertical-align: middle;\n",
       "    }\n",
       "\n",
       "    .dataframe tbody tr th {\n",
       "        vertical-align: top;\n",
       "    }\n",
       "\n",
       "    .dataframe thead th {\n",
       "        text-align: right;\n",
       "    }\n",
       "</style>\n",
       "<table border=\"1\" class=\"dataframe\">\n",
       "  <thead>\n",
       "    <tr style=\"text-align: right;\">\n",
       "      <th></th>\n",
       "      <th>id_str</th>\n",
       "      <th>from_user</th>\n",
       "      <th>text</th>\n",
       "      <th>created_at</th>\n",
       "      <th>time</th>\n",
       "      <th>geo_coordinates</th>\n",
       "      <th>user_lang</th>\n",
       "      <th>in_reply_to_user_id_str</th>\n",
       "      <th>in_reply_to_screen_name</th>\n",
       "      <th>from_user_id_str</th>\n",
       "      <th>in_reply_to_status_id_str</th>\n",
       "      <th>source</th>\n",
       "      <th>profile_image_url</th>\n",
       "      <th>user_followers_count</th>\n",
       "      <th>user_friends_count</th>\n",
       "      <th>user_location</th>\n",
       "      <th>status_url</th>\n",
       "      <th>entities_str</th>\n",
       "    </tr>\n",
       "  </thead>\n",
       "  <tbody>\n",
       "    <tr>\n",
       "      <th>0</th>\n",
       "      <td>1.526222e+18</td>\n",
       "      <td>fintechna</td>\n",
       "      <td>RT @HardBikiniAngel: Thank you @P_McCulloughMD...</td>\n",
       "      <td>Mon May 16 15:23:37 +0000 2022</td>\n",
       "      <td>16/05/2022 16:23:37</td>\n",
       "      <td>NaN</td>\n",
       "      <td>NaN</td>\n",
       "      <td>NaN</td>\n",
       "      <td>NaN</td>\n",
       "      <td>2933447393</td>\n",
       "      <td>NaN</td>\n",
       "      <td>&lt;a href=\"http://news.fintechna.com\" rel=\"nofol...</td>\n",
       "      <td>http://pbs.twimg.com/profile_images/1388850978...</td>\n",
       "      <td>33787.0</td>\n",
       "      <td>2347.0</td>\n",
       "      <td>LON | NYC | HKG  | SYD | SIN</td>\n",
       "      <td>http://twitter.com/fintechna/statuses/15262218...</td>\n",
       "      <td>{\"hashtags\":[],\"symbols\":[],\"user_mentions\":[{...</td>\n",
       "    </tr>\n",
       "    <tr>\n",
       "      <th>1</th>\n",
       "      <td>1.526222e+18</td>\n",
       "      <td>HardBikiniAngel</td>\n",
       "      <td>Thank you @P_McCulloughMD &amp;amp; @theRealKiyosa...</td>\n",
       "      <td>Mon May 16 15:22:35 +0000 2022</td>\n",
       "      <td>16/05/2022 16:22:35</td>\n",
       "      <td>NaN</td>\n",
       "      <td>NaN</td>\n",
       "      <td>NaN</td>\n",
       "      <td>NaN</td>\n",
       "      <td>157459685</td>\n",
       "      <td>NaN</td>\n",
       "      <td>&lt;a href=\"http://twitter.com/download/iphone\" r...</td>\n",
       "      <td>http://pbs.twimg.com/profile_images/1363712638...</td>\n",
       "      <td>7935.0</td>\n",
       "      <td>834.0</td>\n",
       "      <td>NaN</td>\n",
       "      <td>http://twitter.com/HardBikiniAngel/statuses/15...</td>\n",
       "      <td>{\"hashtags\":[{\"text\":\"health\",\"indices\":[123,1...</td>\n",
       "    </tr>\n",
       "    <tr>\n",
       "      <th>2</th>\n",
       "      <td>1.526216e+18</td>\n",
       "      <td>UNFPANigeria</td>\n",
       "      <td>RT @EduCannotWait: In emergency &amp;amp; protract...</td>\n",
       "      <td>Mon May 16 15:01:17 +0000 2022</td>\n",
       "      <td>16/05/2022 16:01:17</td>\n",
       "      <td>NaN</td>\n",
       "      <td>NaN</td>\n",
       "      <td>NaN</td>\n",
       "      <td>NaN</td>\n",
       "      <td>1903677397</td>\n",
       "      <td>NaN</td>\n",
       "      <td>&lt;a href=\"https://mobile.twitter.com\" rel=\"nofo...</td>\n",
       "      <td>http://pbs.twimg.com/profile_images/1027535912...</td>\n",
       "      <td>25433.0</td>\n",
       "      <td>1006.0</td>\n",
       "      <td>Abuja, Nigeria</td>\n",
       "      <td>http://twitter.com/UNFPANigeria/statuses/15262...</td>\n",
       "      <td>{\"hashtags\":[{\"text\":\"ECW\",\"indices\":[68,72]},...</td>\n",
       "    </tr>\n",
       "    <tr>\n",
       "      <th>3</th>\n",
       "      <td>1.526214e+18</td>\n",
       "      <td>rominapetrini2</td>\n",
       "      <td>#BBC\\n#CNBC\\n#NinoDiMatteo\\n#FrancescoLalla\\n#...</td>\n",
       "      <td>Mon May 16 14:52:00 +0000 2022</td>\n",
       "      <td>16/05/2022 15:52:00</td>\n",
       "      <td>NaN</td>\n",
       "      <td>NaN</td>\n",
       "      <td>NaN</td>\n",
       "      <td>NaN</td>\n",
       "      <td>1465633736171696129</td>\n",
       "      <td>NaN</td>\n",
       "      <td>&lt;a href=\"http://twitter.com/download/android\" ...</td>\n",
       "      <td>http://pbs.twimg.com/profile_images/1524794081...</td>\n",
       "      <td>1005.0</td>\n",
       "      <td>5001.0</td>\n",
       "      <td>NaN</td>\n",
       "      <td>http://twitter.com/rominapetrini2/statuses/152...</td>\n",
       "      <td>{\"hashtags\":[{\"text\":\"BBC\",\"indices\":[0,4]},{\"...</td>\n",
       "    </tr>\n",
       "    <tr>\n",
       "      <th>4</th>\n",
       "      <td>1.526212e+18</td>\n",
       "      <td>nanzanic</td>\n",
       "      <td>#domainsforsale #domainname #domainNames #doma...</td>\n",
       "      <td>Mon May 16 14:42:44 +0000 2022</td>\n",
       "      <td>16/05/2022 15:42:44</td>\n",
       "      <td>NaN</td>\n",
       "      <td>NaN</td>\n",
       "      <td>NaN</td>\n",
       "      <td>NaN</td>\n",
       "      <td>2204698297</td>\n",
       "      <td>NaN</td>\n",
       "      <td>&lt;a href=\"http://www.oneupapp.io\" rel=\"nofollow...</td>\n",
       "      <td>http://pbs.twimg.com/profile_images/1470383632...</td>\n",
       "      <td>1080.0</td>\n",
       "      <td>1533.0</td>\n",
       "      <td>NaN</td>\n",
       "      <td>http://twitter.com/nanzanic/statuses/152621155...</td>\n",
       "      <td>{\"hashtags\":[{\"text\":\"domainsforsale\",\"indices...</td>\n",
       "    </tr>\n",
       "  </tbody>\n",
       "</table>\n",
       "</div>"
      ],
      "text/plain": [
       "         id_str        from_user  \\\n",
       "0  1.526222e+18        fintechna   \n",
       "1  1.526222e+18  HardBikiniAngel   \n",
       "2  1.526216e+18     UNFPANigeria   \n",
       "3  1.526214e+18   rominapetrini2   \n",
       "4  1.526212e+18         nanzanic   \n",
       "\n",
       "                                                text  \\\n",
       "0  RT @HardBikiniAngel: Thank you @P_McCulloughMD...   \n",
       "1  Thank you @P_McCulloughMD &amp; @theRealKiyosa...   \n",
       "2  RT @EduCannotWait: In emergency &amp; protract...   \n",
       "3  #BBC\\n#CNBC\\n#NinoDiMatteo\\n#FrancescoLalla\\n#...   \n",
       "4  #domainsforsale #domainname #domainNames #doma...   \n",
       "\n",
       "                       created_at                 time geo_coordinates  \\\n",
       "0  Mon May 16 15:23:37 +0000 2022  16/05/2022 16:23:37             NaN   \n",
       "1  Mon May 16 15:22:35 +0000 2022  16/05/2022 16:22:35             NaN   \n",
       "2  Mon May 16 15:01:17 +0000 2022  16/05/2022 16:01:17             NaN   \n",
       "3  Mon May 16 14:52:00 +0000 2022  16/05/2022 15:52:00             NaN   \n",
       "4  Mon May 16 14:42:44 +0000 2022  16/05/2022 15:42:44             NaN   \n",
       "\n",
       "   user_lang  in_reply_to_user_id_str in_reply_to_screen_name  \\\n",
       "0        NaN                      NaN                     NaN   \n",
       "1        NaN                      NaN                     NaN   \n",
       "2        NaN                      NaN                     NaN   \n",
       "3        NaN                      NaN                     NaN   \n",
       "4        NaN                      NaN                     NaN   \n",
       "\n",
       "      from_user_id_str  in_reply_to_status_id_str  \\\n",
       "0           2933447393                        NaN   \n",
       "1            157459685                        NaN   \n",
       "2           1903677397                        NaN   \n",
       "3  1465633736171696129                        NaN   \n",
       "4           2204698297                        NaN   \n",
       "\n",
       "                                              source  \\\n",
       "0  <a href=\"http://news.fintechna.com\" rel=\"nofol...   \n",
       "1  <a href=\"http://twitter.com/download/iphone\" r...   \n",
       "2  <a href=\"https://mobile.twitter.com\" rel=\"nofo...   \n",
       "3  <a href=\"http://twitter.com/download/android\" ...   \n",
       "4  <a href=\"http://www.oneupapp.io\" rel=\"nofollow...   \n",
       "\n",
       "                                   profile_image_url  user_followers_count  \\\n",
       "0  http://pbs.twimg.com/profile_images/1388850978...               33787.0   \n",
       "1  http://pbs.twimg.com/profile_images/1363712638...                7935.0   \n",
       "2  http://pbs.twimg.com/profile_images/1027535912...               25433.0   \n",
       "3  http://pbs.twimg.com/profile_images/1524794081...                1005.0   \n",
       "4  http://pbs.twimg.com/profile_images/1470383632...                1080.0   \n",
       "\n",
       "   user_friends_count                 user_location  \\\n",
       "0              2347.0  LON | NYC | HKG  | SYD | SIN   \n",
       "1               834.0                           NaN   \n",
       "2              1006.0                Abuja, Nigeria   \n",
       "3              5001.0                           NaN   \n",
       "4              1533.0                           NaN   \n",
       "\n",
       "                                          status_url  \\\n",
       "0  http://twitter.com/fintechna/statuses/15262218...   \n",
       "1  http://twitter.com/HardBikiniAngel/statuses/15...   \n",
       "2  http://twitter.com/UNFPANigeria/statuses/15262...   \n",
       "3  http://twitter.com/rominapetrini2/statuses/152...   \n",
       "4  http://twitter.com/nanzanic/statuses/152621155...   \n",
       "\n",
       "                                        entities_str  \n",
       "0  {\"hashtags\":[],\"symbols\":[],\"user_mentions\":[{...  \n",
       "1  {\"hashtags\":[{\"text\":\"health\",\"indices\":[123,1...  \n",
       "2  {\"hashtags\":[{\"text\":\"ECW\",\"indices\":[68,72]},...  \n",
       "3  {\"hashtags\":[{\"text\":\"BBC\",\"indices\":[0,4]},{\"...  \n",
       "4  {\"hashtags\":[{\"text\":\"domainsforsale\",\"indices...  "
      ]
     },
     "execution_count": 12,
     "metadata": {},
     "output_type": "execute_result"
    }
   ],
   "source": [
    "df1.head()"
   ]
  },
  {
   "cell_type": "code",
   "execution_count": 13,
   "id": "6fce11d3",
   "metadata": {},
   "outputs": [
    {
     "data": {
      "text/plain": [
       "id_str                         10\n",
       "from_user                      10\n",
       "text                           10\n",
       "created_at                     10\n",
       "time                            0\n",
       "geo_coordinates              7216\n",
       "user_lang                    7247\n",
       "in_reply_to_user_id_str      6990\n",
       "in_reply_to_screen_name      6990\n",
       "from_user_id_str                0\n",
       "in_reply_to_status_id_str    7028\n",
       "source                          0\n",
       "profile_image_url               0\n",
       "user_followers_count           39\n",
       "user_friends_count             60\n",
       "user_location                2738\n",
       "status_url                      0\n",
       "entities_str                    0\n",
       "dtype: int64"
      ]
     },
     "execution_count": 13,
     "metadata": {},
     "output_type": "execute_result"
    }
   ],
   "source": [
    "df1.isnull().sum()"
   ]
  },
  {
   "cell_type": "code",
   "execution_count": 14,
   "id": "cd9495e8",
   "metadata": {},
   "outputs": [
    {
     "name": "stdout",
     "output_type": "stream",
     "text": [
      "29.366941109731233\n"
     ]
    }
   ],
   "source": [
    "\n",
    "missingvaluecount=all_data.isnull().sum()\n",
    "\n",
    "total_cells=np.product(all_data.shape)\n",
    "totalmissing= missingvaluecount.sum()\n",
    "\n",
    "#Eksik verilerin yüzde(%) olarak ne kadar olduğuna bakalım\n",
    "print((totalmissing/total_cells)*100)"
   ]
  },
  {
   "cell_type": "code",
   "execution_count": 15,
   "id": "0565c183",
   "metadata": {},
   "outputs": [
    {
     "name": "stdout",
     "output_type": "stream",
     "text": [
      "29.397605139291354\n"
     ]
    }
   ],
   "source": [
    "missingvaluecount=df1.isnull().sum()\n",
    "\n",
    "total_cells=np.product(df1.shape)\n",
    "totalmissing= missingvaluecount.sum()\n",
    "\n",
    "#Eksik verilerin yüzde(%) olarak ne kadar olduğuna bakalım\n",
    "print((totalmissing/total_cells)*100)"
   ]
  },
  {
   "cell_type": "code",
   "execution_count": 16,
   "id": "d46b21b3",
   "metadata": {},
   "outputs": [
    {
     "data": {
      "text/plain": [
       "10"
      ]
     },
     "execution_count": 16,
     "metadata": {},
     "output_type": "execute_result"
    }
   ],
   "source": [
    "#missing value olan satırdaki değeri bulmak için\n",
    "df1['text'].isnull().sum()"
   ]
  },
  {
   "cell_type": "code",
   "execution_count": 17,
   "id": "95f1da0b",
   "metadata": {},
   "outputs": [
    {
     "name": "stdout",
     "output_type": "stream",
     "text": [
      "nan\n",
      "13695.087957824639\n"
     ]
    },
    {
     "data": {
      "text/plain": [
       "RT @DrPacoMoreno1: Los problemas de salud en México no se resuleven contratando 500 médicos cubanos.\\nLa falta de vacunas en menores no es excusa para usar Abdala, la vacuna cubana contra #COVID19 para los niños. \\nUna vacuna no aprobada por la OMS.\\n\\nLa política sigue enfermando la salud de México.                                                   204\n",
       "RT @DrEricDing: SURGING—This should NOT be the new normal. Last month, this #COVID19 transmission chart was mostly blue or yellow (tiny bit of orange). But some got arrogant. Some got dismissive. Some got selfish. And now the pandemic continues. #CovidIsNotOver https://t.co/SQy7Y7nGVk                                                                   199\n",
       "RT @drkerrynphelps: Pre-polling has started around the country. \\nPlease wear a mask in and around polling booths.\\nAustralia currently has one of the highest per capita rates of #covid19 infection in the world.\\nAs yes, you can catch COVID more than once, even if vaccinated.\\n #maskUp                                                                  134\n",
       "RT @PeterSchiff: The entire U.S. economy is about to shut down again, but this time it won't be a dress rehearsal like with #Covid19. This will be the real thing. We won't ask businesses to close they'll have no choice but to close. Tens of millions will be fired from jobs that will never return!                                                        98\n",
       "RT @IsabellaBardoel: Doug Ford in majority territory? Seriously?\\nAfter LTC death camps, #COVID19 catastrophe, selling the Green Belt to developers, autism waitlists, firing nurses, starving ODSP &amp; OW, opening hc to US profiteers, gutting #Toronto Council, selling ON water to Nestle &amp; so much more? 😳                                            93\n",
       "                                                                                                                                                                                                                                                                                                                                                               ... \n",
       "RT @EveryNashThing: .@HomeFreeGuys have wrapped up their tour, which was no small feat, especially in the last few weeks with two positive cases of #COVID19.\\n\\n“This was FAR from an easy tour,\" @TheAdamChance says.\\n\\nhttps://t.co/NAsl4VE1uF                                                                                                                1\n",
       "Guía para entender a las subvariantes de ómicron #ImpactoLatino #Salud #Covid19 #Omicron\\n https://t.co/vJw5hn6uKX https://t.co/x5HvzTynN9                                                                                                                                                                                                                        1\n",
       "#COVID19 day 6 fatigue is horrendous still testing positive coughing definitely not worse just not sure I’m getting any better either.\\nIs this the antibody treatment??\\nWell going to take two paracetamol for this never ending headache                                                                                                                       1\n",
       "Assessing symptoms of long COVID, exercise slowing down kidney function decline, and failed non-operative management of appendicitis in kids, are the topics discussed by experts in a new podcast. https://t.co/Lo8Pn2sba8 #COVID19 #IDtwitter @MedPageID                                                                                                        1\n",
       "RT @TimeIsFinishing: @FockGoogle @EelcoBB #USA #jesuits #Espionage #Terrorism #Terrorists #Crime #Murder #COVID19 #pandemic #Warinukraine #Food #health #Education #Finance #StockMarket #news \\n\\nThe Destruction of Jerusalem\\nGreat Controversy (1911)\\nhttps://t.co/hS59sEZ3m7\\n\\nThe Secret Terrorists\\nhttps://t.co/nSEmzGCYtt https://t.co/zqVm1NKjBK      1\n",
       "Name: text, Length: 3621, dtype: int64"
      ]
     },
     "execution_count": 17,
     "metadata": {},
     "output_type": "execute_result"
    }
   ],
   "source": [
    "#satıra ait medyanı bulmak için\n",
    "\n",
    "\n",
    "print(df1['user_lang'].mean())\n",
    "\n",
    "print(df1['user_followers_count'].mean())\n",
    "\n",
    "df1['text'].value_counts()\n"
   ]
  },
  {
   "cell_type": "code",
   "execution_count": 18,
   "id": "f4ebfe94",
   "metadata": {},
   "outputs": [
    {
     "data": {
      "text/plain": [
       "id_str                         10\n",
       "from_user                      10\n",
       "text                           10\n",
       "created_at                     10\n",
       "time                            0\n",
       "geo_coordinates              7216\n",
       "user_lang                    7247\n",
       "in_reply_to_user_id_str      6990\n",
       "in_reply_to_screen_name      6990\n",
       "from_user_id_str                0\n",
       "in_reply_to_status_id_str    7028\n",
       "source                          0\n",
       "profile_image_url               0\n",
       "user_followers_count           39\n",
       "user_friends_count             60\n",
       "user_location                2738\n",
       "status_url                      0\n",
       "entities_str                    0\n",
       "dtype: int64"
      ]
     },
     "execution_count": 18,
     "metadata": {},
     "output_type": "execute_result"
    }
   ],
   "source": [
    "df1.isnull().sum()"
   ]
  },
  {
   "cell_type": "code",
   "execution_count": 36,
   "id": "99167906",
   "metadata": {},
   "outputs": [
    {
     "name": "stdout",
     "output_type": "stream",
     "text": [
      "id_str                         10\n",
      "from_user                      10\n",
      "text                           10\n",
      "created_at                     10\n",
      "time                            0\n",
      "geo_coordinates              7216\n",
      "user_lang                    7247\n",
      "in_reply_to_user_id_str      6990\n",
      "in_reply_to_screen_name      6990\n",
      "from_user_id_str                0\n",
      "in_reply_to_status_id_str    7028\n",
      "source                          0\n",
      "profile_image_url               0\n",
      "user_followers_count           39\n",
      "user_friends_count             60\n",
      "user_location                2738\n",
      "status_url                      0\n",
      "entities_str                    0\n",
      "dtype: int64\n",
      "25.44359459964724\n"
     ]
    }
   ],
   "source": [
    "df2=df1.copy()\n",
    "\n",
    "print(df2.isnull().sum())\n",
    "missingvaluecount=df3.isnull().sum()\n",
    "\n",
    "total_cells=np.product(df3.shape)\n",
    "totalmissing= missingvaluecount.sum()\n",
    "\n",
    "#Eksik verilerin yüzde(%) olarak ne kadar olduğuna bakalım\n",
    "print((totalmissing/total_cells)*100)"
   ]
  },
  {
   "cell_type": "code",
   "execution_count": 37,
   "id": "26f2c0ba",
   "metadata": {},
   "outputs": [],
   "source": [
    "#missing Value fazla olan sütunu tamamen kaldırdık.\n",
    "\n",
    "\n",
    "df2.drop('geo_coordinates',axis=1,inplace=True)\n",
    "\n",
    "df2.drop('in_reply_to_user_id_str',axis=1,inplace=True)\n",
    "\n"
   ]
  },
  {
   "cell_type": "code",
   "execution_count": 38,
   "id": "c15e500a",
   "metadata": {
    "scrolled": true
   },
   "outputs": [
    {
     "name": "stdout",
     "output_type": "stream",
     "text": [
      "id_str                  10\n",
      "from_user               10\n",
      "text                    10\n",
      "created_at              10\n",
      "time                     0\n",
      "from_user_id_str         0\n",
      "source                   0\n",
      "profile_image_url        0\n",
      "user_followers_count    39\n",
      "user_friends_count      60\n",
      "status_url               0\n",
      "entities_str             0\n",
      "dtype: int64\n"
     ]
    }
   ],
   "source": [
    "df2.drop('in_reply_to_screen_name',axis=1,inplace=True)\n",
    "df2.drop('in_reply_to_status_id_str',axis=1,inplace=True)\n",
    "df2.drop('user_location',axis=1,inplace=True)\n",
    "df2.drop('user_lang',axis=1,inplace=True)\n",
    "print(df2.isnull().sum())"
   ]
  },
  {
   "cell_type": "code",
   "execution_count": 39,
   "id": "7f465c9a",
   "metadata": {},
   "outputs": [
    {
     "name": "stdout",
     "output_type": "stream",
     "text": [
      "0.15983625408214894\n"
     ]
    }
   ],
   "source": [
    "missingvaluecount=df2.isnull().sum()\n",
    "\n",
    "total_cells=np.product(df2.shape)\n",
    "totalmissing= missingvaluecount.sum()\n",
    "\n",
    "#Eksik verilerin yüzde(%) olarak ne kadar olduğuna bakalım\n",
    "print((totalmissing/total_cells)*100)"
   ]
  },
  {
   "cell_type": "code",
   "execution_count": 254,
   "id": "08126485",
   "metadata": {},
   "outputs": [
    {
     "name": "stdout",
     "output_type": "stream",
     "text": [
      "            id_str        from_user  \\\n",
      "0     1.526222e+18        fintechna   \n",
      "1     1.526222e+18  HardBikiniAngel   \n",
      "2     1.526216e+18     UNFPANigeria   \n",
      "3     1.526214e+18   rominapetrini2   \n",
      "4     1.526212e+18             None   \n",
      "...            ...              ...   \n",
      "7242  1.527479e+18       Splashgain   \n",
      "7243  1.527479e+18  moneycontrolcom   \n",
      "7244  1.527475e+18   Kitestyle_twit   \n",
      "7245  1.527473e+18         DrRimmer   \n",
      "7246  1.527469e+18   videolib_store   \n",
      "\n",
      "                                                   text  \\\n",
      "0     RT @HardBikiniAngel: Thank you @P_McCulloughMD...   \n",
      "1                                                  None   \n",
      "2     RT @EduCannotWait: In emergency &amp; protract...   \n",
      "3     #BBC\\n#CNBC\\n#NinoDiMatteo\\n#FrancescoLalla\\n#...   \n",
      "4     #domainsforsale #domainname #domainNames #doma...   \n",
      "...                                                 ...   \n",
      "7242  \"The twenty-first century is the century of te...   \n",
      "7243  #RealEstate | Experts say the new education po...   \n",
      "7244  RT @DrRimmer: Hundreds of millions of dollars ...   \n",
      "7245  Hundreds of millions of dollars in JobKeeper w...   \n",
      "7246  Lineal Explainer\\nhttps://t.co/ljqTIYVS55\\n\\n#...   \n",
      "\n",
      "                          created_at                 time  \\\n",
      "0     Mon May 16 15:23:37 +0000 2022  16/05/2022 16:23:37   \n",
      "1                               None  16/05/2022 16:22:35   \n",
      "2     Mon May 16 15:01:17 +0000 2022  16/05/2022 16:01:17   \n",
      "3     Mon May 16 14:52:00 +0000 2022  16/05/2022 15:52:00   \n",
      "4     Mon May 16 14:42:44 +0000 2022  16/05/2022 15:42:44   \n",
      "...                              ...                  ...   \n",
      "7242  Fri May 20 02:41:02 +0000 2022  20/05/2022 03:41:02   \n",
      "7243  Fri May 20 02:37:55 +0000 2022  20/05/2022 03:37:55   \n",
      "7244  Fri May 20 02:23:21 +0000 2022  20/05/2022 03:23:21   \n",
      "7245  Fri May 20 02:15:24 +0000 2022  20/05/2022 03:15:24   \n",
      "7246  Fri May 20 02:00:26 +0000 2022  20/05/2022 03:00:26   \n",
      "\n",
      "         from_user_id_str                                             source  \\\n",
      "0              2933447393  <a href=\"http://news.fintechna.com\" rel=\"nofol...   \n",
      "1               157459685  <a href=\"http://twitter.com/download/iphone\" r...   \n",
      "2              1903677397  <a href=\"https://mobile.twitter.com\" rel=\"nofo...   \n",
      "3     1465633736171696129  <a href=\"http://twitter.com/download/android\" ...   \n",
      "4              2204698297  <a href=\"http://www.oneupapp.io\" rel=\"nofollow...   \n",
      "...                   ...                                                ...   \n",
      "7242             42068278  <a href=\"https://buffer.com\" rel=\"nofollow\">Bu...   \n",
      "7243             68927629  <a href=\"https://mobile.twitter.com\" rel=\"nofo...   \n",
      "7244            755865674  <a href=\"http://www.samruston.co.uk\" rel=\"nofo...   \n",
      "7245             51002583  <a href=\"https://mobile.twitter.com\" rel=\"nofo...   \n",
      "7246  1470397701623894023  <a href=\"https://videolib.store/\" rel=\"nofollo...   \n",
      "\n",
      "                                      profile_image_url  user_followers_count  \\\n",
      "0     http://pbs.twimg.com/profile_images/1388850978...               33787.0   \n",
      "1     http://pbs.twimg.com/profile_images/1363712638...                7935.0   \n",
      "2     http://pbs.twimg.com/profile_images/1027535912...               25433.0   \n",
      "3     http://pbs.twimg.com/profile_images/1524794081...                1005.0   \n",
      "4     http://pbs.twimg.com/profile_images/1470383632...                1080.0   \n",
      "...                                                 ...                   ...   \n",
      "7242  http://pbs.twimg.com/profile_images/1180414378...                 133.0   \n",
      "7243  http://pbs.twimg.com/profile_images/8415196996...             1290151.0   \n",
      "7244  http://pbs.twimg.com/profile_images/1528134195...                 335.0   \n",
      "7245  http://pbs.twimg.com/profile_images/8107999396...               17187.0   \n",
      "7246  http://pbs.twimg.com/profile_images/1471196994...                  44.0   \n",
      "\n",
      "      user_friends_count                                         status_url  \\\n",
      "0                 2347.0  http://twitter.com/fintechna/statuses/15262218...   \n",
      "1                  834.0  http://twitter.com/HardBikiniAngel/statuses/15...   \n",
      "2                 1006.0  http://twitter.com/UNFPANigeria/statuses/15262...   \n",
      "3                 5001.0  http://twitter.com/rominapetrini2/statuses/152...   \n",
      "4                 1533.0  http://twitter.com/nanzanic/statuses/152621155...   \n",
      "...                  ...                                                ...   \n",
      "7242               201.0  http://twitter.com/Splashgain/statuses/1527479...   \n",
      "7243               345.0  http://twitter.com/moneycontrolcom/statuses/15...   \n",
      "7244              1571.0  http://twitter.com/Kitestyle_twit/statuses/152...   \n",
      "7245             18910.0  http://twitter.com/DrRimmer/statuses/152747303...   \n",
      "7246                 3.0  http://twitter.com/videolib_store/statuses/152...   \n",
      "\n",
      "                                           entities_str  \n",
      "0     {\"hashtags\":[],\"symbols\":[],\"user_mentions\":[{...  \n",
      "1     {\"hashtags\":[{\"text\":\"health\",\"indices\":[123,1...  \n",
      "2     {\"hashtags\":[{\"text\":\"ECW\",\"indices\":[68,72]},...  \n",
      "3     {\"hashtags\":[{\"text\":\"BBC\",\"indices\":[0,4]},{\"...  \n",
      "4     {\"hashtags\":[{\"text\":\"domainsforsale\",\"indices...  \n",
      "...                                                 ...  \n",
      "7242  {\"hashtags\":[{\"text\":\"COVID19\",\"indices\":[69,7...  \n",
      "7243  {\"hashtags\":[{\"text\":\"RealEstate\",\"indices\":[0...  \n",
      "7244  {\"hashtags\":[],\"symbols\":[],\"user_mentions\":[{...  \n",
      "7245  {\"hashtags\":[{\"text\":\"education\",\"indices\":[16...  \n",
      "7246  {\"hashtags\":[{\"text\":\"aftereffectsprojectfiles...  \n",
      "\n",
      "[7247 rows x 12 columns]\n"
     ]
    },
    {
     "ename": "AttributeError",
     "evalue": "'NoneType' object has no attribute 'head'",
     "output_type": "error",
     "traceback": [
      "\u001b[1;31m---------------------------------------------------------------------------\u001b[0m",
      "\u001b[1;31mAttributeError\u001b[0m                            Traceback (most recent call last)",
      "\u001b[1;32m~\\AppData\\Local\\Temp/ipykernel_7408/2567346161.py\u001b[0m in \u001b[0;36m<module>\u001b[1;34m\u001b[0m\n\u001b[0;32m      2\u001b[0m \u001b[1;33m\u001b[0m\u001b[0m\n\u001b[0;32m      3\u001b[0m \u001b[0mdf2\u001b[0m\u001b[1;33m=\u001b[0m \u001b[0mnp\u001b[0m\u001b[1;33m.\u001b[0m\u001b[0mround\u001b[0m\u001b[1;33m(\u001b[0m\u001b[0mdf2\u001b[0m\u001b[1;33m,\u001b[0m\u001b[1;36m1\u001b[0m\u001b[1;33m)\u001b[0m\u001b[1;33m\u001b[0m\u001b[1;33m\u001b[0m\u001b[0m\n\u001b[1;32m----> 4\u001b[1;33m \u001b[0mprint\u001b[0m\u001b[1;33m(\u001b[0m\u001b[0mdf2\u001b[0m\u001b[1;33m)\u001b[0m\u001b[1;33m.\u001b[0m\u001b[0mhead\u001b[0m\u001b[1;33m(\u001b[0m\u001b[1;33m)\u001b[0m\u001b[1;33m\u001b[0m\u001b[1;33m\u001b[0m\u001b[0m\n\u001b[0m",
      "\u001b[1;31mAttributeError\u001b[0m: 'NoneType' object has no attribute 'head'"
     ]
    }
   ],
   "source": [
    "#Tüm verilerin aynı hassasiyette olmasını sağlamak için round kullanıyoruz.\n",
    "\n",
    "df2= np.round(df2,1)\n",
    "print(df2).head()"
   ]
  },
  {
   "cell_type": "code",
   "execution_count": 40,
   "id": "763aa470",
   "metadata": {},
   "outputs": [
    {
     "data": {
      "text/html": [
       "<div>\n",
       "<style scoped>\n",
       "    .dataframe tbody tr th:only-of-type {\n",
       "        vertical-align: middle;\n",
       "    }\n",
       "\n",
       "    .dataframe tbody tr th {\n",
       "        vertical-align: top;\n",
       "    }\n",
       "\n",
       "    .dataframe thead th {\n",
       "        text-align: right;\n",
       "    }\n",
       "</style>\n",
       "<table border=\"1\" class=\"dataframe\">\n",
       "  <thead>\n",
       "    <tr style=\"text-align: right;\">\n",
       "      <th></th>\n",
       "      <th>id_str</th>\n",
       "      <th>from_user</th>\n",
       "      <th>text</th>\n",
       "      <th>created_at</th>\n",
       "      <th>time</th>\n",
       "      <th>from_user_id_str</th>\n",
       "      <th>source</th>\n",
       "      <th>profile_image_url</th>\n",
       "      <th>user_followers_count</th>\n",
       "      <th>user_friends_count</th>\n",
       "      <th>status_url</th>\n",
       "      <th>entities_str</th>\n",
       "    </tr>\n",
       "  </thead>\n",
       "  <tbody>\n",
       "    <tr>\n",
       "      <th>0</th>\n",
       "      <td>1.526222e+18</td>\n",
       "      <td>fintechna</td>\n",
       "      <td>RT @HardBikiniAngel: Thank you @P_McCulloughMD...</td>\n",
       "      <td>Mon May 16 15:23:37 +0000 2022</td>\n",
       "      <td>16/05/2022 16:23:37</td>\n",
       "      <td>2933447393</td>\n",
       "      <td>&lt;a href=\"http://news.fintechna.com\" rel=\"nofol...</td>\n",
       "      <td>http://pbs.twimg.com/profile_images/1388850978...</td>\n",
       "      <td>33787.0</td>\n",
       "      <td>2347.0</td>\n",
       "      <td>http://twitter.com/fintechna/statuses/15262218...</td>\n",
       "      <td>{\"hashtags\":[],\"symbols\":[],\"user_mentions\":[{...</td>\n",
       "    </tr>\n",
       "    <tr>\n",
       "      <th>1</th>\n",
       "      <td>1.526222e+18</td>\n",
       "      <td>HardBikiniAngel</td>\n",
       "      <td>Thank you @P_McCulloughMD &amp;amp; @theRealKiyosa...</td>\n",
       "      <td>Mon May 16 15:22:35 +0000 2022</td>\n",
       "      <td>16/05/2022 16:22:35</td>\n",
       "      <td>157459685</td>\n",
       "      <td>&lt;a href=\"http://twitter.com/download/iphone\" r...</td>\n",
       "      <td>http://pbs.twimg.com/profile_images/1363712638...</td>\n",
       "      <td>7935.0</td>\n",
       "      <td>834.0</td>\n",
       "      <td>http://twitter.com/HardBikiniAngel/statuses/15...</td>\n",
       "      <td>{\"hashtags\":[{\"text\":\"health\",\"indices\":[123,1...</td>\n",
       "    </tr>\n",
       "    <tr>\n",
       "      <th>2</th>\n",
       "      <td>1.526216e+18</td>\n",
       "      <td>UNFPANigeria</td>\n",
       "      <td>RT @EduCannotWait: In emergency &amp;amp; protract...</td>\n",
       "      <td>Mon May 16 15:01:17 +0000 2022</td>\n",
       "      <td>16/05/2022 16:01:17</td>\n",
       "      <td>1903677397</td>\n",
       "      <td>&lt;a href=\"https://mobile.twitter.com\" rel=\"nofo...</td>\n",
       "      <td>http://pbs.twimg.com/profile_images/1027535912...</td>\n",
       "      <td>25433.0</td>\n",
       "      <td>1006.0</td>\n",
       "      <td>http://twitter.com/UNFPANigeria/statuses/15262...</td>\n",
       "      <td>{\"hashtags\":[{\"text\":\"ECW\",\"indices\":[68,72]},...</td>\n",
       "    </tr>\n",
       "    <tr>\n",
       "      <th>3</th>\n",
       "      <td>1.526214e+18</td>\n",
       "      <td>rominapetrini2</td>\n",
       "      <td>#BBC\\n#CNBC\\n#NinoDiMatteo\\n#FrancescoLalla\\n#...</td>\n",
       "      <td>Mon May 16 14:52:00 +0000 2022</td>\n",
       "      <td>16/05/2022 15:52:00</td>\n",
       "      <td>1465633736171696129</td>\n",
       "      <td>&lt;a href=\"http://twitter.com/download/android\" ...</td>\n",
       "      <td>http://pbs.twimg.com/profile_images/1524794081...</td>\n",
       "      <td>1005.0</td>\n",
       "      <td>5001.0</td>\n",
       "      <td>http://twitter.com/rominapetrini2/statuses/152...</td>\n",
       "      <td>{\"hashtags\":[{\"text\":\"BBC\",\"indices\":[0,4]},{\"...</td>\n",
       "    </tr>\n",
       "    <tr>\n",
       "      <th>4</th>\n",
       "      <td>1.526212e+18</td>\n",
       "      <td>nanzanic</td>\n",
       "      <td>#domainsforsale #domainname #domainNames #doma...</td>\n",
       "      <td>Mon May 16 14:42:44 +0000 2022</td>\n",
       "      <td>16/05/2022 15:42:44</td>\n",
       "      <td>2204698297</td>\n",
       "      <td>&lt;a href=\"http://www.oneupapp.io\" rel=\"nofollow...</td>\n",
       "      <td>http://pbs.twimg.com/profile_images/1470383632...</td>\n",
       "      <td>1080.0</td>\n",
       "      <td>1533.0</td>\n",
       "      <td>http://twitter.com/nanzanic/statuses/152621155...</td>\n",
       "      <td>{\"hashtags\":[{\"text\":\"domainsforsale\",\"indices...</td>\n",
       "    </tr>\n",
       "  </tbody>\n",
       "</table>\n",
       "</div>"
      ],
      "text/plain": [
       "         id_str        from_user  \\\n",
       "0  1.526222e+18        fintechna   \n",
       "1  1.526222e+18  HardBikiniAngel   \n",
       "2  1.526216e+18     UNFPANigeria   \n",
       "3  1.526214e+18   rominapetrini2   \n",
       "4  1.526212e+18         nanzanic   \n",
       "\n",
       "                                                text  \\\n",
       "0  RT @HardBikiniAngel: Thank you @P_McCulloughMD...   \n",
       "1  Thank you @P_McCulloughMD &amp; @theRealKiyosa...   \n",
       "2  RT @EduCannotWait: In emergency &amp; protract...   \n",
       "3  #BBC\\n#CNBC\\n#NinoDiMatteo\\n#FrancescoLalla\\n#...   \n",
       "4  #domainsforsale #domainname #domainNames #doma...   \n",
       "\n",
       "                       created_at                 time     from_user_id_str  \\\n",
       "0  Mon May 16 15:23:37 +0000 2022  16/05/2022 16:23:37           2933447393   \n",
       "1  Mon May 16 15:22:35 +0000 2022  16/05/2022 16:22:35            157459685   \n",
       "2  Mon May 16 15:01:17 +0000 2022  16/05/2022 16:01:17           1903677397   \n",
       "3  Mon May 16 14:52:00 +0000 2022  16/05/2022 15:52:00  1465633736171696129   \n",
       "4  Mon May 16 14:42:44 +0000 2022  16/05/2022 15:42:44           2204698297   \n",
       "\n",
       "                                              source  \\\n",
       "0  <a href=\"http://news.fintechna.com\" rel=\"nofol...   \n",
       "1  <a href=\"http://twitter.com/download/iphone\" r...   \n",
       "2  <a href=\"https://mobile.twitter.com\" rel=\"nofo...   \n",
       "3  <a href=\"http://twitter.com/download/android\" ...   \n",
       "4  <a href=\"http://www.oneupapp.io\" rel=\"nofollow...   \n",
       "\n",
       "                                   profile_image_url  user_followers_count  \\\n",
       "0  http://pbs.twimg.com/profile_images/1388850978...               33787.0   \n",
       "1  http://pbs.twimg.com/profile_images/1363712638...                7935.0   \n",
       "2  http://pbs.twimg.com/profile_images/1027535912...               25433.0   \n",
       "3  http://pbs.twimg.com/profile_images/1524794081...                1005.0   \n",
       "4  http://pbs.twimg.com/profile_images/1470383632...                1080.0   \n",
       "\n",
       "   user_friends_count                                         status_url  \\\n",
       "0              2347.0  http://twitter.com/fintechna/statuses/15262218...   \n",
       "1               834.0  http://twitter.com/HardBikiniAngel/statuses/15...   \n",
       "2              1006.0  http://twitter.com/UNFPANigeria/statuses/15262...   \n",
       "3              5001.0  http://twitter.com/rominapetrini2/statuses/152...   \n",
       "4              1533.0  http://twitter.com/nanzanic/statuses/152621155...   \n",
       "\n",
       "                                        entities_str  \n",
       "0  {\"hashtags\":[],\"symbols\":[],\"user_mentions\":[{...  \n",
       "1  {\"hashtags\":[{\"text\":\"health\",\"indices\":[123,1...  \n",
       "2  {\"hashtags\":[{\"text\":\"ECW\",\"indices\":[68,72]},...  \n",
       "3  {\"hashtags\":[{\"text\":\"BBC\",\"indices\":[0,4]},{\"...  \n",
       "4  {\"hashtags\":[{\"text\":\"domainsforsale\",\"indices...  "
      ]
     },
     "execution_count": 40,
     "metadata": {},
     "output_type": "execute_result"
    }
   ],
   "source": [
    "#Verileri ve özellikleri dataframe'e çıkaralım\n",
    "df3= pd.DataFrame(df2, columns=df2.columns)\n",
    "df3.head()"
   ]
  },
  {
   "cell_type": "code",
   "execution_count": 24,
   "id": "70723401",
   "metadata": {},
   "outputs": [
    {
     "name": "stdout",
     "output_type": "stream",
     "text": [
      "TRAIN: [   0    1    2 ... 7241 7242 7246] \n",
      "TEST: [   6    9   10 ... 7243 7244 7245]\n"
     ]
    },
    {
     "ename": "KeyError",
     "evalue": "\"None of [Int64Index([   0,    1,    2,    3,    4,    5,    7,    8,   11,   12,\\n            ...\\n            7231, 7232, 7233, 7234, 7236, 7237, 7238, 7241, 7242, 7246],\\n           dtype='int64', length=5797)] are in the [columns]\"",
     "output_type": "error",
     "traceback": [
      "\u001b[1;31m---------------------------------------------------------------------------\u001b[0m",
      "\u001b[1;31mKeyError\u001b[0m                                  Traceback (most recent call last)",
      "\u001b[1;32m~\\AppData\\Local\\Temp/ipykernel_1728/1607159314.py\u001b[0m in \u001b[0;36m<module>\u001b[1;34m\u001b[0m\n\u001b[0;32m      5\u001b[0m \u001b[1;32mfor\u001b[0m \u001b[0mtrain_index\u001b[0m\u001b[1;33m,\u001b[0m\u001b[0mtest_index\u001b[0m \u001b[1;32min\u001b[0m \u001b[0mkf\u001b[0m\u001b[1;33m.\u001b[0m\u001b[0msplit\u001b[0m\u001b[1;33m(\u001b[0m\u001b[0mdf3\u001b[0m\u001b[1;33m)\u001b[0m\u001b[1;33m:\u001b[0m\u001b[1;33m\u001b[0m\u001b[1;33m\u001b[0m\u001b[0m\n\u001b[0;32m      6\u001b[0m     \u001b[0mprint\u001b[0m\u001b[1;33m(\u001b[0m\u001b[1;34m\"TRAIN:\"\u001b[0m\u001b[1;33m,\u001b[0m \u001b[0mtrain_index\u001b[0m\u001b[1;33m,\u001b[0m\u001b[1;34m\"\\nTEST:\"\u001b[0m \u001b[1;33m,\u001b[0m \u001b[0mtest_index\u001b[0m\u001b[1;33m)\u001b[0m\u001b[1;33m\u001b[0m\u001b[1;33m\u001b[0m\u001b[0m\n\u001b[1;32m----> 7\u001b[1;33m     \u001b[0mX_train\u001b[0m\u001b[1;33m,\u001b[0m \u001b[0mX_test\u001b[0m\u001b[1;33m=\u001b[0m \u001b[0mdf3\u001b[0m\u001b[1;33m[\u001b[0m\u001b[0mtrain_index\u001b[0m\u001b[1;33m]\u001b[0m\u001b[1;33m,\u001b[0m \u001b[0mdf3\u001b[0m\u001b[1;33m[\u001b[0m\u001b[0mtest_index\u001b[0m\u001b[1;33m]\u001b[0m\u001b[1;33m\u001b[0m\u001b[1;33m\u001b[0m\u001b[0m\n\u001b[0m\u001b[0;32m      8\u001b[0m     \u001b[0my_train\u001b[0m\u001b[1;33m,\u001b[0m \u001b[0my_test\u001b[0m\u001b[1;33m=\u001b[0m \u001b[0mfeatures\u001b[0m\u001b[1;33m[\u001b[0m\u001b[0mtrain_index\u001b[0m\u001b[1;33m]\u001b[0m\u001b[1;33m,\u001b[0m \u001b[0mfeatures\u001b[0m\u001b[1;33m[\u001b[0m\u001b[0mtest_index\u001b[0m\u001b[1;33m]\u001b[0m\u001b[1;33m\u001b[0m\u001b[1;33m\u001b[0m\u001b[0m\n",
      "\u001b[1;32m~\\anaconda3\\lib\\site-packages\\pandas\\core\\frame.py\u001b[0m in \u001b[0;36m__getitem__\u001b[1;34m(self, key)\u001b[0m\n\u001b[0;32m   3462\u001b[0m             \u001b[1;32mif\u001b[0m \u001b[0mis_iterator\u001b[0m\u001b[1;33m(\u001b[0m\u001b[0mkey\u001b[0m\u001b[1;33m)\u001b[0m\u001b[1;33m:\u001b[0m\u001b[1;33m\u001b[0m\u001b[1;33m\u001b[0m\u001b[0m\n\u001b[0;32m   3463\u001b[0m                 \u001b[0mkey\u001b[0m \u001b[1;33m=\u001b[0m \u001b[0mlist\u001b[0m\u001b[1;33m(\u001b[0m\u001b[0mkey\u001b[0m\u001b[1;33m)\u001b[0m\u001b[1;33m\u001b[0m\u001b[1;33m\u001b[0m\u001b[0m\n\u001b[1;32m-> 3464\u001b[1;33m             \u001b[0mindexer\u001b[0m \u001b[1;33m=\u001b[0m \u001b[0mself\u001b[0m\u001b[1;33m.\u001b[0m\u001b[0mloc\u001b[0m\u001b[1;33m.\u001b[0m\u001b[0m_get_listlike_indexer\u001b[0m\u001b[1;33m(\u001b[0m\u001b[0mkey\u001b[0m\u001b[1;33m,\u001b[0m \u001b[0maxis\u001b[0m\u001b[1;33m=\u001b[0m\u001b[1;36m1\u001b[0m\u001b[1;33m)\u001b[0m\u001b[1;33m[\u001b[0m\u001b[1;36m1\u001b[0m\u001b[1;33m]\u001b[0m\u001b[1;33m\u001b[0m\u001b[1;33m\u001b[0m\u001b[0m\n\u001b[0m\u001b[0;32m   3465\u001b[0m \u001b[1;33m\u001b[0m\u001b[0m\n\u001b[0;32m   3466\u001b[0m         \u001b[1;31m# take() does not accept boolean indexers\u001b[0m\u001b[1;33m\u001b[0m\u001b[1;33m\u001b[0m\u001b[0m\n",
      "\u001b[1;32m~\\anaconda3\\lib\\site-packages\\pandas\\core\\indexing.py\u001b[0m in \u001b[0;36m_get_listlike_indexer\u001b[1;34m(self, key, axis)\u001b[0m\n\u001b[0;32m   1312\u001b[0m             \u001b[0mkeyarr\u001b[0m\u001b[1;33m,\u001b[0m \u001b[0mindexer\u001b[0m\u001b[1;33m,\u001b[0m \u001b[0mnew_indexer\u001b[0m \u001b[1;33m=\u001b[0m \u001b[0max\u001b[0m\u001b[1;33m.\u001b[0m\u001b[0m_reindex_non_unique\u001b[0m\u001b[1;33m(\u001b[0m\u001b[0mkeyarr\u001b[0m\u001b[1;33m)\u001b[0m\u001b[1;33m\u001b[0m\u001b[1;33m\u001b[0m\u001b[0m\n\u001b[0;32m   1313\u001b[0m \u001b[1;33m\u001b[0m\u001b[0m\n\u001b[1;32m-> 1314\u001b[1;33m         \u001b[0mself\u001b[0m\u001b[1;33m.\u001b[0m\u001b[0m_validate_read_indexer\u001b[0m\u001b[1;33m(\u001b[0m\u001b[0mkeyarr\u001b[0m\u001b[1;33m,\u001b[0m \u001b[0mindexer\u001b[0m\u001b[1;33m,\u001b[0m \u001b[0maxis\u001b[0m\u001b[1;33m)\u001b[0m\u001b[1;33m\u001b[0m\u001b[1;33m\u001b[0m\u001b[0m\n\u001b[0m\u001b[0;32m   1315\u001b[0m \u001b[1;33m\u001b[0m\u001b[0m\n\u001b[0;32m   1316\u001b[0m         if needs_i8_conversion(ax.dtype) or isinstance(\n",
      "\u001b[1;32m~\\anaconda3\\lib\\site-packages\\pandas\\core\\indexing.py\u001b[0m in \u001b[0;36m_validate_read_indexer\u001b[1;34m(self, key, indexer, axis)\u001b[0m\n\u001b[0;32m   1372\u001b[0m                 \u001b[1;32mif\u001b[0m \u001b[0muse_interval_msg\u001b[0m\u001b[1;33m:\u001b[0m\u001b[1;33m\u001b[0m\u001b[1;33m\u001b[0m\u001b[0m\n\u001b[0;32m   1373\u001b[0m                     \u001b[0mkey\u001b[0m \u001b[1;33m=\u001b[0m \u001b[0mlist\u001b[0m\u001b[1;33m(\u001b[0m\u001b[0mkey\u001b[0m\u001b[1;33m)\u001b[0m\u001b[1;33m\u001b[0m\u001b[1;33m\u001b[0m\u001b[0m\n\u001b[1;32m-> 1374\u001b[1;33m                 \u001b[1;32mraise\u001b[0m \u001b[0mKeyError\u001b[0m\u001b[1;33m(\u001b[0m\u001b[1;34mf\"None of [{key}] are in the [{axis_name}]\"\u001b[0m\u001b[1;33m)\u001b[0m\u001b[1;33m\u001b[0m\u001b[1;33m\u001b[0m\u001b[0m\n\u001b[0m\u001b[0;32m   1375\u001b[0m \u001b[1;33m\u001b[0m\u001b[0m\n\u001b[0;32m   1376\u001b[0m             \u001b[0mnot_found\u001b[0m \u001b[1;33m=\u001b[0m \u001b[0mlist\u001b[0m\u001b[1;33m(\u001b[0m\u001b[0mensure_index\u001b[0m\u001b[1;33m(\u001b[0m\u001b[0mkey\u001b[0m\u001b[1;33m)\u001b[0m\u001b[1;33m[\u001b[0m\u001b[0mmissing_mask\u001b[0m\u001b[1;33m.\u001b[0m\u001b[0mnonzero\u001b[0m\u001b[1;33m(\u001b[0m\u001b[1;33m)\u001b[0m\u001b[1;33m[\u001b[0m\u001b[1;36m0\u001b[0m\u001b[1;33m]\u001b[0m\u001b[1;33m]\u001b[0m\u001b[1;33m.\u001b[0m\u001b[0munique\u001b[0m\u001b[1;33m(\u001b[0m\u001b[1;33m)\u001b[0m\u001b[1;33m)\u001b[0m\u001b[1;33m\u001b[0m\u001b[1;33m\u001b[0m\u001b[0m\n",
      "\u001b[1;31mKeyError\u001b[0m: \"None of [Int64Index([   0,    1,    2,    3,    4,    5,    7,    8,   11,   12,\\n            ...\\n            7231, 7232, 7233, 7234, 7236, 7237, 7238, 7241, 7242, 7246],\\n           dtype='int64', length=5797)] are in the [columns]\""
     ]
    }
   ],
   "source": [
    "from sklearn.model_selection import KFold\n",
    "\n",
    "kf =KFold(n_splits=5, random_state=None, shuffle=True)\n",
    "\n",
    "for train_index,test_index in kf.split(df3):\n",
    "    print(\"TRAIN:\", train_index,\"\\nTEST:\" , test_index)\n",
    "    X_train, X_test= df3[train_index], df3[test_index]\n",
    "    y_train, y_test= features[train_index], features[test_index]"
   ]
  },
  {
   "cell_type": "code",
   "execution_count": 41,
   "id": "486e8987",
   "metadata": {},
   "outputs": [
    {
     "name": "stdout",
     "output_type": "stream",
     "text": [
      "Model: \"sequential_1\"\n",
      "_________________________________________________________________\n",
      " Layer (type)                Output Shape              Param #   \n",
      "=================================================================\n",
      " dense_3 (Dense)             (None, 128)               640       \n",
      "                                                                 \n",
      " dense_4 (Dense)             (None, 128)               16512     \n",
      "                                                                 \n",
      " dense_5 (Dense)             (None, 3)                 387       \n",
      "                                                                 \n",
      "=================================================================\n",
      "Total params: 17,539\n",
      "Trainable params: 17,539\n",
      "Non-trainable params: 0\n",
      "_________________________________________________________________\n"
     ]
    }
   ],
   "source": [
    "#Modellemek için deep learning mimarisini kullanıyoruz. Keras kütüphanesi ile dense layer'lar oluşturuyoruz. \n",
    "\n",
    "model=keras.Sequential()\n",
    "model.add(layers.Dense(128,input_shape=(4,),activation='relu'))\n",
    "model.add(layers.Dense(128,activation='relu'))\n",
    "model.add(layers.Dense(3,activation='softmax'))\n",
    "\n",
    "model.summary()"
   ]
  },
  {
   "cell_type": "code",
   "execution_count": 42,
   "id": "bfb1252e",
   "metadata": {},
   "outputs": [],
   "source": [
    "#modelimizi nasıl train edeceğimizi anlamak için Optimizasyon algoritmasına, loss function ve evalution metric ihtiyacımız var. \n",
    "\n",
    "model.compile(loss='categorical_crossentropy',optimizer='adam',metrics=['accuracy'])"
   ]
  },
  {
   "cell_type": "code",
   "execution_count": 43,
   "id": "aa5dbb86",
   "metadata": {},
   "outputs": [
    {
     "ename": "NameError",
     "evalue": "name 'X_train' is not defined",
     "output_type": "error",
     "traceback": [
      "\u001b[1;31m---------------------------------------------------------------------------\u001b[0m",
      "\u001b[1;31mNameError\u001b[0m                                 Traceback (most recent call last)",
      "\u001b[1;32m~\\AppData\\Local\\Temp/ipykernel_1728/3798163563.py\u001b[0m in \u001b[0;36m<module>\u001b[1;34m\u001b[0m\n\u001b[1;32m----> 1\u001b[1;33m \u001b[0mmodel\u001b[0m\u001b[1;33m.\u001b[0m\u001b[0mfit\u001b[0m\u001b[1;33m(\u001b[0m\u001b[0mX_train\u001b[0m\u001b[1;33m,\u001b[0m \u001b[0my_train\u001b[0m\u001b[1;33m,\u001b[0m\u001b[0mepochs\u001b[0m\u001b[1;33m=\u001b[0m\u001b[1;36m20\u001b[0m\u001b[1;33m)\u001b[0m\u001b[1;33m\u001b[0m\u001b[1;33m\u001b[0m\u001b[0m\n\u001b[0m",
      "\u001b[1;31mNameError\u001b[0m: name 'X_train' is not defined"
     ]
    }
   ],
   "source": [
    "model.fit(X_train, y_train,epochs=20)"
   ]
  },
  {
   "cell_type": "code",
   "execution_count": 44,
   "id": "f5de1fe0",
   "metadata": {},
   "outputs": [
    {
     "data": {
      "text/plain": [
       "0"
      ]
     },
     "execution_count": 44,
     "metadata": {},
     "output_type": "execute_result"
    }
   ],
   "source": [
    "df3.dropna(subset=[\"id_str\"], inplace=True)\n",
    "df3['id_str'].isnull().sum()"
   ]
  },
  {
   "cell_type": "code",
   "execution_count": 45,
   "id": "e08111af",
   "metadata": {},
   "outputs": [
    {
     "data": {
      "text/plain": [
       "id_str                   0\n",
       "from_user                9\n",
       "text                     8\n",
       "created_at              10\n",
       "time                     0\n",
       "from_user_id_str         0\n",
       "source                   0\n",
       "profile_image_url        0\n",
       "user_followers_count     0\n",
       "user_friends_count       0\n",
       "status_url               0\n",
       "entities_str             0\n",
       "dtype: int64"
      ]
     },
     "execution_count": 45,
     "metadata": {},
     "output_type": "execute_result"
    }
   ],
   "source": [
    "df3[\"user_followers_count\"].fillna(value=7141, inplace=True)\n",
    "df3[\"user_friends_count\"].fillna(value=7, inplace=True)\n",
    "df3['user_friends_count'].value_counts()\n",
    "df3.isnull().sum()"
   ]
  },
  {
   "cell_type": "code",
   "execution_count": 46,
   "id": "72ff27ff",
   "metadata": {},
   "outputs": [
    {
     "name": "stdout",
     "output_type": "stream",
     "text": [
      "<class 'pandas.core.frame.DataFrame'>\n",
      "Int64Index: 7237 entries, 0 to 7246\n",
      "Data columns (total 12 columns):\n",
      " #   Column                Non-Null Count  Dtype  \n",
      "---  ------                --------------  -----  \n",
      " 0   id_str                7237 non-null   float64\n",
      " 1   from_user             7228 non-null   object \n",
      " 2   text                  7229 non-null   object \n",
      " 3   created_at            7227 non-null   object \n",
      " 4   time                  7237 non-null   object \n",
      " 5   from_user_id_str      7237 non-null   int64  \n",
      " 6   source                7237 non-null   object \n",
      " 7   profile_image_url     7237 non-null   object \n",
      " 8   user_followers_count  7237 non-null   float64\n",
      " 9   user_friends_count    7237 non-null   float64\n",
      " 10  status_url            7237 non-null   object \n",
      " 11  entities_str          7237 non-null   object \n",
      "dtypes: float64(3), int64(1), object(8)\n",
      "memory usage: 735.0+ KB\n"
     ]
    }
   ],
   "source": [
    "df3.info()"
   ]
  },
  {
   "cell_type": "code",
   "execution_count": 47,
   "id": "5655decf",
   "metadata": {},
   "outputs": [
    {
     "data": {
      "text/html": [
       "<div>\n",
       "<style scoped>\n",
       "    .dataframe tbody tr th:only-of-type {\n",
       "        vertical-align: middle;\n",
       "    }\n",
       "\n",
       "    .dataframe tbody tr th {\n",
       "        vertical-align: top;\n",
       "    }\n",
       "\n",
       "    .dataframe thead th {\n",
       "        text-align: right;\n",
       "    }\n",
       "</style>\n",
       "<table border=\"1\" class=\"dataframe\">\n",
       "  <thead>\n",
       "    <tr style=\"text-align: right;\">\n",
       "      <th></th>\n",
       "      <th>id_str</th>\n",
       "      <th>from_user</th>\n",
       "      <th>text</th>\n",
       "      <th>created_at</th>\n",
       "      <th>time</th>\n",
       "      <th>from_user_id_str</th>\n",
       "      <th>source</th>\n",
       "      <th>profile_image_url</th>\n",
       "      <th>user_followers_count</th>\n",
       "      <th>user_friends_count</th>\n",
       "      <th>status_url</th>\n",
       "      <th>entities_str</th>\n",
       "    </tr>\n",
       "  </thead>\n",
       "  <tbody>\n",
       "    <tr>\n",
       "      <th>0</th>\n",
       "      <td>1.526222e+18</td>\n",
       "      <td>fintechna</td>\n",
       "      <td>RT @HardBikiniAngel: Thank you @P_McCulloughMD...</td>\n",
       "      <td>Mon May 16 15:23:37 +0000 2022</td>\n",
       "      <td>16/05/2022 16:23:37</td>\n",
       "      <td>2933447393</td>\n",
       "      <td>&lt;a href=\"http://news.fintechna.com\" rel=\"nofol...</td>\n",
       "      <td>http://pbs.twimg.com/profile_images/1388850978...</td>\n",
       "      <td>33787.0</td>\n",
       "      <td>2347.0</td>\n",
       "      <td>http://twitter.com/fintechna/statuses/15262218...</td>\n",
       "      <td>{\"hashtags\":[],\"symbols\":[],\"user_mentions\":[{...</td>\n",
       "    </tr>\n",
       "    <tr>\n",
       "      <th>1</th>\n",
       "      <td>1.526222e+18</td>\n",
       "      <td>HardBikiniAngel</td>\n",
       "      <td>Thank you @P_McCulloughMD &amp;amp; @theRealKiyosa...</td>\n",
       "      <td>Mon May 16 15:22:35 +0000 2022</td>\n",
       "      <td>16/05/2022 16:22:35</td>\n",
       "      <td>157459685</td>\n",
       "      <td>&lt;a href=\"http://twitter.com/download/iphone\" r...</td>\n",
       "      <td>http://pbs.twimg.com/profile_images/1363712638...</td>\n",
       "      <td>7935.0</td>\n",
       "      <td>834.0</td>\n",
       "      <td>http://twitter.com/HardBikiniAngel/statuses/15...</td>\n",
       "      <td>{\"hashtags\":[{\"text\":\"health\",\"indices\":[123,1...</td>\n",
       "    </tr>\n",
       "    <tr>\n",
       "      <th>2</th>\n",
       "      <td>1.526216e+18</td>\n",
       "      <td>UNFPANigeria</td>\n",
       "      <td>RT @EduCannotWait: In emergency &amp;amp; protract...</td>\n",
       "      <td>Mon May 16 15:01:17 +0000 2022</td>\n",
       "      <td>16/05/2022 16:01:17</td>\n",
       "      <td>1903677397</td>\n",
       "      <td>&lt;a href=\"https://mobile.twitter.com\" rel=\"nofo...</td>\n",
       "      <td>http://pbs.twimg.com/profile_images/1027535912...</td>\n",
       "      <td>25433.0</td>\n",
       "      <td>1006.0</td>\n",
       "      <td>http://twitter.com/UNFPANigeria/statuses/15262...</td>\n",
       "      <td>{\"hashtags\":[{\"text\":\"ECW\",\"indices\":[68,72]},...</td>\n",
       "    </tr>\n",
       "    <tr>\n",
       "      <th>3</th>\n",
       "      <td>1.526214e+18</td>\n",
       "      <td>rominapetrini2</td>\n",
       "      <td>#BBC\\n#CNBC\\n#NinoDiMatteo\\n#FrancescoLalla\\n#...</td>\n",
       "      <td>Mon May 16 14:52:00 +0000 2022</td>\n",
       "      <td>16/05/2022 15:52:00</td>\n",
       "      <td>1465633736171696129</td>\n",
       "      <td>&lt;a href=\"http://twitter.com/download/android\" ...</td>\n",
       "      <td>http://pbs.twimg.com/profile_images/1524794081...</td>\n",
       "      <td>1005.0</td>\n",
       "      <td>5001.0</td>\n",
       "      <td>http://twitter.com/rominapetrini2/statuses/152...</td>\n",
       "      <td>{\"hashtags\":[{\"text\":\"BBC\",\"indices\":[0,4]},{\"...</td>\n",
       "    </tr>\n",
       "    <tr>\n",
       "      <th>4</th>\n",
       "      <td>1.526212e+18</td>\n",
       "      <td>nanzanic</td>\n",
       "      <td>#domainsforsale #domainname #domainNames #doma...</td>\n",
       "      <td>Mon May 16 14:42:44 +0000 2022</td>\n",
       "      <td>16/05/2022 15:42:44</td>\n",
       "      <td>2204698297</td>\n",
       "      <td>&lt;a href=\"http://www.oneupapp.io\" rel=\"nofollow...</td>\n",
       "      <td>http://pbs.twimg.com/profile_images/1470383632...</td>\n",
       "      <td>1080.0</td>\n",
       "      <td>1533.0</td>\n",
       "      <td>http://twitter.com/nanzanic/statuses/152621155...</td>\n",
       "      <td>{\"hashtags\":[{\"text\":\"domainsforsale\",\"indices...</td>\n",
       "    </tr>\n",
       "  </tbody>\n",
       "</table>\n",
       "</div>"
      ],
      "text/plain": [
       "         id_str        from_user  \\\n",
       "0  1.526222e+18        fintechna   \n",
       "1  1.526222e+18  HardBikiniAngel   \n",
       "2  1.526216e+18     UNFPANigeria   \n",
       "3  1.526214e+18   rominapetrini2   \n",
       "4  1.526212e+18         nanzanic   \n",
       "\n",
       "                                                text  \\\n",
       "0  RT @HardBikiniAngel: Thank you @P_McCulloughMD...   \n",
       "1  Thank you @P_McCulloughMD &amp; @theRealKiyosa...   \n",
       "2  RT @EduCannotWait: In emergency &amp; protract...   \n",
       "3  #BBC\\n#CNBC\\n#NinoDiMatteo\\n#FrancescoLalla\\n#...   \n",
       "4  #domainsforsale #domainname #domainNames #doma...   \n",
       "\n",
       "                       created_at                 time     from_user_id_str  \\\n",
       "0  Mon May 16 15:23:37 +0000 2022  16/05/2022 16:23:37           2933447393   \n",
       "1  Mon May 16 15:22:35 +0000 2022  16/05/2022 16:22:35            157459685   \n",
       "2  Mon May 16 15:01:17 +0000 2022  16/05/2022 16:01:17           1903677397   \n",
       "3  Mon May 16 14:52:00 +0000 2022  16/05/2022 15:52:00  1465633736171696129   \n",
       "4  Mon May 16 14:42:44 +0000 2022  16/05/2022 15:42:44           2204698297   \n",
       "\n",
       "                                              source  \\\n",
       "0  <a href=\"http://news.fintechna.com\" rel=\"nofol...   \n",
       "1  <a href=\"http://twitter.com/download/iphone\" r...   \n",
       "2  <a href=\"https://mobile.twitter.com\" rel=\"nofo...   \n",
       "3  <a href=\"http://twitter.com/download/android\" ...   \n",
       "4  <a href=\"http://www.oneupapp.io\" rel=\"nofollow...   \n",
       "\n",
       "                                   profile_image_url  user_followers_count  \\\n",
       "0  http://pbs.twimg.com/profile_images/1388850978...               33787.0   \n",
       "1  http://pbs.twimg.com/profile_images/1363712638...                7935.0   \n",
       "2  http://pbs.twimg.com/profile_images/1027535912...               25433.0   \n",
       "3  http://pbs.twimg.com/profile_images/1524794081...                1005.0   \n",
       "4  http://pbs.twimg.com/profile_images/1470383632...                1080.0   \n",
       "\n",
       "   user_friends_count                                         status_url  \\\n",
       "0              2347.0  http://twitter.com/fintechna/statuses/15262218...   \n",
       "1               834.0  http://twitter.com/HardBikiniAngel/statuses/15...   \n",
       "2              1006.0  http://twitter.com/UNFPANigeria/statuses/15262...   \n",
       "3              5001.0  http://twitter.com/rominapetrini2/statuses/152...   \n",
       "4              1533.0  http://twitter.com/nanzanic/statuses/152621155...   \n",
       "\n",
       "                                        entities_str  \n",
       "0  {\"hashtags\":[],\"symbols\":[],\"user_mentions\":[{...  \n",
       "1  {\"hashtags\":[{\"text\":\"health\",\"indices\":[123,1...  \n",
       "2  {\"hashtags\":[{\"text\":\"ECW\",\"indices\":[68,72]},...  \n",
       "3  {\"hashtags\":[{\"text\":\"BBC\",\"indices\":[0,4]},{\"...  \n",
       "4  {\"hashtags\":[{\"text\":\"domainsforsale\",\"indices...  "
      ]
     },
     "execution_count": 47,
     "metadata": {},
     "output_type": "execute_result"
    }
   ],
   "source": [
    "df3.head()"
   ]
  },
  {
   "cell_type": "code",
   "execution_count": 32,
   "id": "7b98ea3b",
   "metadata": {},
   "outputs": [],
   "source": [
    "#Verileri Train ve Test olarak ayırıyoruz.\n",
    "\n",
    "from sklearn.model_selection import train_test_split\n",
    "\n",
    "sentences=df3['text'].values\n",
    "labels=df3['entities_str'].values\n",
    "\n",
    "train_data, test_data, y_train, y_test=train_test_split(sentences,\n",
    "                                                       labels,\n",
    "                                                       test_size=0.25,\n",
    "                                                       random_state=1000)\n"
   ]
  },
  {
   "cell_type": "code",
   "execution_count": 33,
   "id": "4bdedec7",
   "metadata": {},
   "outputs": [
    {
     "name": "stdout",
     "output_type": "stream",
     "text": [
      "Train set and train labels: (5427,) (5427,)\n"
     ]
    }
   ],
   "source": [
    "#Shape ve train işlemi uyguladık\n",
    "print(\"Train set and train labels:\", train_data.shape, y_train.shape)"
   ]
  },
  {
   "cell_type": "code",
   "execution_count": 34,
   "id": "f82e655e",
   "metadata": {},
   "outputs": [
    {
     "name": "stdout",
     "output_type": "stream",
     "text": [
      "Test set and test labels: (1810,) (1810,)\n"
     ]
    }
   ],
   "source": [
    "print(\"Test set and test labels:\", test_data.shape, y_test.shape)"
   ]
  },
  {
   "cell_type": "code",
   "execution_count": 111,
   "id": "901f60c8",
   "metadata": {},
   "outputs": [
    {
     "name": "stderr",
     "output_type": "stream",
     "text": [
      "[nltk_data] Downloading package stopwords to\n",
      "[nltk_data]     C:\\Users\\Ceylan\\AppData\\Roaming\\nltk_data...\n",
      "[nltk_data]   Unzipping corpora\\stopwords.zip.\n"
     ]
    },
    {
     "data": {
      "text/plain": [
       "True"
      ]
     },
     "execution_count": 111,
     "metadata": {},
     "output_type": "execute_result"
    }
   ],
   "source": [
    "nltk.download('stopwords')"
   ]
  },
  {
   "cell_type": "code",
   "execution_count": 142,
   "id": "c3b72a7b",
   "metadata": {},
   "outputs": [
    {
     "ename": "TypeError",
     "evalue": "expected string or bytes-like object",
     "output_type": "error",
     "traceback": [
      "\u001b[1;31m---------------------------------------------------------------------------\u001b[0m",
      "\u001b[1;31mTypeError\u001b[0m                                 Traceback (most recent call last)",
      "\u001b[1;32m~\\AppData\\Local\\Temp/ipykernel_1728/2913496202.py\u001b[0m in \u001b[0;36m<module>\u001b[1;34m\u001b[0m\n\u001b[0;32m      7\u001b[0m \u001b[1;33m\u001b[0m\u001b[0m\n\u001b[0;32m      8\u001b[0m \u001b[1;32mfor\u001b[0m \u001b[0mline\u001b[0m \u001b[1;32min\u001b[0m \u001b[0mlines\u001b[0m\u001b[1;33m:\u001b[0m\u001b[1;33m\u001b[0m\u001b[1;33m\u001b[0m\u001b[0m\n\u001b[1;32m----> 9\u001b[1;33m     \u001b[0mtokens\u001b[0m\u001b[1;33m=\u001b[0m\u001b[0mword_tokenize\u001b[0m\u001b[1;33m(\u001b[0m\u001b[0mline\u001b[0m\u001b[1;33m)\u001b[0m\u001b[1;33m\u001b[0m\u001b[1;33m\u001b[0m\u001b[0m\n\u001b[0m\u001b[0;32m     10\u001b[0m     \u001b[0mtokens\u001b[0m\u001b[1;33m=\u001b[0m\u001b[1;33m[\u001b[0m\u001b[0mw\u001b[0m\u001b[1;33m.\u001b[0m\u001b[0mlower\u001b[0m\u001b[1;33m(\u001b[0m\u001b[1;33m)\u001b[0m \u001b[1;32mfor\u001b[0m \u001b[0mw\u001b[0m \u001b[1;32min\u001b[0m \u001b[0mtokens\u001b[0m\u001b[1;33m]\u001b[0m\u001b[1;33m\u001b[0m\u001b[1;33m\u001b[0m\u001b[0m\n\u001b[0;32m     11\u001b[0m     \u001b[0mtable\u001b[0m\u001b[1;33m=\u001b[0m\u001b[0mstr\u001b[0m\u001b[1;33m.\u001b[0m\u001b[0mmaketrans\u001b[0m\u001b[1;33m(\u001b[0m\u001b[1;34m''\u001b[0m\u001b[1;33m,\u001b[0m\u001b[1;34m''\u001b[0m\u001b[1;33m,\u001b[0m\u001b[0mstring\u001b[0m\u001b[1;33m.\u001b[0m\u001b[0mpunctuation\u001b[0m\u001b[1;33m)\u001b[0m\u001b[1;33m\u001b[0m\u001b[1;33m\u001b[0m\u001b[0m\n",
      "\u001b[1;32m~\\anaconda3\\lib\\site-packages\\nltk\\tokenize\\__init__.py\u001b[0m in \u001b[0;36mword_tokenize\u001b[1;34m(text, language, preserve_line)\u001b[0m\n\u001b[0;32m    127\u001b[0m     \u001b[1;33m:\u001b[0m\u001b[0mtype\u001b[0m \u001b[0mpreserve_line\u001b[0m\u001b[1;33m:\u001b[0m \u001b[0mbool\u001b[0m\u001b[1;33m\u001b[0m\u001b[1;33m\u001b[0m\u001b[0m\n\u001b[0;32m    128\u001b[0m     \"\"\"\n\u001b[1;32m--> 129\u001b[1;33m     \u001b[0msentences\u001b[0m \u001b[1;33m=\u001b[0m \u001b[1;33m[\u001b[0m\u001b[0mtext\u001b[0m\u001b[1;33m]\u001b[0m \u001b[1;32mif\u001b[0m \u001b[0mpreserve_line\u001b[0m \u001b[1;32melse\u001b[0m \u001b[0msent_tokenize\u001b[0m\u001b[1;33m(\u001b[0m\u001b[0mtext\u001b[0m\u001b[1;33m,\u001b[0m \u001b[0mlanguage\u001b[0m\u001b[1;33m)\u001b[0m\u001b[1;33m\u001b[0m\u001b[1;33m\u001b[0m\u001b[0m\n\u001b[0m\u001b[0;32m    130\u001b[0m     return [\n\u001b[0;32m    131\u001b[0m         \u001b[0mtoken\u001b[0m \u001b[1;32mfor\u001b[0m \u001b[0msent\u001b[0m \u001b[1;32min\u001b[0m \u001b[0msentences\u001b[0m \u001b[1;32mfor\u001b[0m \u001b[0mtoken\u001b[0m \u001b[1;32min\u001b[0m \u001b[0m_treebank_word_tokenizer\u001b[0m\u001b[1;33m.\u001b[0m\u001b[0mtokenize\u001b[0m\u001b[1;33m(\u001b[0m\u001b[0msent\u001b[0m\u001b[1;33m)\u001b[0m\u001b[1;33m\u001b[0m\u001b[1;33m\u001b[0m\u001b[0m\n",
      "\u001b[1;32m~\\anaconda3\\lib\\site-packages\\nltk\\tokenize\\__init__.py\u001b[0m in \u001b[0;36msent_tokenize\u001b[1;34m(text, language)\u001b[0m\n\u001b[0;32m    105\u001b[0m     \"\"\"\n\u001b[0;32m    106\u001b[0m     \u001b[0mtokenizer\u001b[0m \u001b[1;33m=\u001b[0m \u001b[0mload\u001b[0m\u001b[1;33m(\u001b[0m\u001b[1;34mf\"tokenizers/punkt/{language}.pickle\"\u001b[0m\u001b[1;33m)\u001b[0m\u001b[1;33m\u001b[0m\u001b[1;33m\u001b[0m\u001b[0m\n\u001b[1;32m--> 107\u001b[1;33m     \u001b[1;32mreturn\u001b[0m \u001b[0mtokenizer\u001b[0m\u001b[1;33m.\u001b[0m\u001b[0mtokenize\u001b[0m\u001b[1;33m(\u001b[0m\u001b[0mtext\u001b[0m\u001b[1;33m)\u001b[0m\u001b[1;33m\u001b[0m\u001b[1;33m\u001b[0m\u001b[0m\n\u001b[0m\u001b[0;32m    108\u001b[0m \u001b[1;33m\u001b[0m\u001b[0m\n\u001b[0;32m    109\u001b[0m \u001b[1;33m\u001b[0m\u001b[0m\n",
      "\u001b[1;32m~\\anaconda3\\lib\\site-packages\\nltk\\tokenize\\punkt.py\u001b[0m in \u001b[0;36mtokenize\u001b[1;34m(self, text, realign_boundaries)\u001b[0m\n\u001b[0;32m   1275\u001b[0m         \u001b[0mGiven\u001b[0m \u001b[0ma\u001b[0m \u001b[0mtext\u001b[0m\u001b[1;33m,\u001b[0m \u001b[0mreturns\u001b[0m \u001b[0ma\u001b[0m \u001b[0mlist\u001b[0m \u001b[0mof\u001b[0m \u001b[0mthe\u001b[0m \u001b[0msentences\u001b[0m \u001b[1;32min\u001b[0m \u001b[0mthat\u001b[0m \u001b[0mtext\u001b[0m\u001b[1;33m.\u001b[0m\u001b[1;33m\u001b[0m\u001b[1;33m\u001b[0m\u001b[0m\n\u001b[0;32m   1276\u001b[0m         \"\"\"\n\u001b[1;32m-> 1277\u001b[1;33m         \u001b[1;32mreturn\u001b[0m \u001b[0mlist\u001b[0m\u001b[1;33m(\u001b[0m\u001b[0mself\u001b[0m\u001b[1;33m.\u001b[0m\u001b[0msentences_from_text\u001b[0m\u001b[1;33m(\u001b[0m\u001b[0mtext\u001b[0m\u001b[1;33m,\u001b[0m \u001b[0mrealign_boundaries\u001b[0m\u001b[1;33m)\u001b[0m\u001b[1;33m)\u001b[0m\u001b[1;33m\u001b[0m\u001b[1;33m\u001b[0m\u001b[0m\n\u001b[0m\u001b[0;32m   1278\u001b[0m \u001b[1;33m\u001b[0m\u001b[0m\n\u001b[0;32m   1279\u001b[0m     \u001b[1;32mdef\u001b[0m \u001b[0mdebug_decisions\u001b[0m\u001b[1;33m(\u001b[0m\u001b[0mself\u001b[0m\u001b[1;33m,\u001b[0m \u001b[0mtext\u001b[0m\u001b[1;33m)\u001b[0m\u001b[1;33m:\u001b[0m\u001b[1;33m\u001b[0m\u001b[1;33m\u001b[0m\u001b[0m\n",
      "\u001b[1;32m~\\anaconda3\\lib\\site-packages\\nltk\\tokenize\\punkt.py\u001b[0m in \u001b[0;36msentences_from_text\u001b[1;34m(self, text, realign_boundaries)\u001b[0m\n\u001b[0;32m   1332\u001b[0m         \u001b[0mfollows\u001b[0m \u001b[0mthe\u001b[0m \u001b[0mperiod\u001b[0m\u001b[1;33m.\u001b[0m\u001b[1;33m\u001b[0m\u001b[1;33m\u001b[0m\u001b[0m\n\u001b[0;32m   1333\u001b[0m         \"\"\"\n\u001b[1;32m-> 1334\u001b[1;33m         \u001b[1;32mreturn\u001b[0m \u001b[1;33m[\u001b[0m\u001b[0mtext\u001b[0m\u001b[1;33m[\u001b[0m\u001b[0ms\u001b[0m\u001b[1;33m:\u001b[0m\u001b[0me\u001b[0m\u001b[1;33m]\u001b[0m \u001b[1;32mfor\u001b[0m \u001b[0ms\u001b[0m\u001b[1;33m,\u001b[0m \u001b[0me\u001b[0m \u001b[1;32min\u001b[0m \u001b[0mself\u001b[0m\u001b[1;33m.\u001b[0m\u001b[0mspan_tokenize\u001b[0m\u001b[1;33m(\u001b[0m\u001b[0mtext\u001b[0m\u001b[1;33m,\u001b[0m \u001b[0mrealign_boundaries\u001b[0m\u001b[1;33m)\u001b[0m\u001b[1;33m]\u001b[0m\u001b[1;33m\u001b[0m\u001b[1;33m\u001b[0m\u001b[0m\n\u001b[0m\u001b[0;32m   1335\u001b[0m \u001b[1;33m\u001b[0m\u001b[0m\n\u001b[0;32m   1336\u001b[0m     \u001b[1;32mdef\u001b[0m \u001b[0m_slices_from_text\u001b[0m\u001b[1;33m(\u001b[0m\u001b[0mself\u001b[0m\u001b[1;33m,\u001b[0m \u001b[0mtext\u001b[0m\u001b[1;33m)\u001b[0m\u001b[1;33m:\u001b[0m\u001b[1;33m\u001b[0m\u001b[1;33m\u001b[0m\u001b[0m\n",
      "\u001b[1;32m~\\anaconda3\\lib\\site-packages\\nltk\\tokenize\\punkt.py\u001b[0m in \u001b[0;36m<listcomp>\u001b[1;34m(.0)\u001b[0m\n\u001b[0;32m   1332\u001b[0m         \u001b[0mfollows\u001b[0m \u001b[0mthe\u001b[0m \u001b[0mperiod\u001b[0m\u001b[1;33m.\u001b[0m\u001b[1;33m\u001b[0m\u001b[1;33m\u001b[0m\u001b[0m\n\u001b[0;32m   1333\u001b[0m         \"\"\"\n\u001b[1;32m-> 1334\u001b[1;33m         \u001b[1;32mreturn\u001b[0m \u001b[1;33m[\u001b[0m\u001b[0mtext\u001b[0m\u001b[1;33m[\u001b[0m\u001b[0ms\u001b[0m\u001b[1;33m:\u001b[0m\u001b[0me\u001b[0m\u001b[1;33m]\u001b[0m \u001b[1;32mfor\u001b[0m \u001b[0ms\u001b[0m\u001b[1;33m,\u001b[0m \u001b[0me\u001b[0m \u001b[1;32min\u001b[0m \u001b[0mself\u001b[0m\u001b[1;33m.\u001b[0m\u001b[0mspan_tokenize\u001b[0m\u001b[1;33m(\u001b[0m\u001b[0mtext\u001b[0m\u001b[1;33m,\u001b[0m \u001b[0mrealign_boundaries\u001b[0m\u001b[1;33m)\u001b[0m\u001b[1;33m]\u001b[0m\u001b[1;33m\u001b[0m\u001b[1;33m\u001b[0m\u001b[0m\n\u001b[0m\u001b[0;32m   1335\u001b[0m \u001b[1;33m\u001b[0m\u001b[0m\n\u001b[0;32m   1336\u001b[0m     \u001b[1;32mdef\u001b[0m \u001b[0m_slices_from_text\u001b[0m\u001b[1;33m(\u001b[0m\u001b[0mself\u001b[0m\u001b[1;33m,\u001b[0m \u001b[0mtext\u001b[0m\u001b[1;33m)\u001b[0m\u001b[1;33m:\u001b[0m\u001b[1;33m\u001b[0m\u001b[1;33m\u001b[0m\u001b[0m\n",
      "\u001b[1;32m~\\anaconda3\\lib\\site-packages\\nltk\\tokenize\\punkt.py\u001b[0m in \u001b[0;36mspan_tokenize\u001b[1;34m(self, text, realign_boundaries)\u001b[0m\n\u001b[0;32m   1322\u001b[0m         \u001b[1;32mif\u001b[0m \u001b[0mrealign_boundaries\u001b[0m\u001b[1;33m:\u001b[0m\u001b[1;33m\u001b[0m\u001b[1;33m\u001b[0m\u001b[0m\n\u001b[0;32m   1323\u001b[0m             \u001b[0mslices\u001b[0m \u001b[1;33m=\u001b[0m \u001b[0mself\u001b[0m\u001b[1;33m.\u001b[0m\u001b[0m_realign_boundaries\u001b[0m\u001b[1;33m(\u001b[0m\u001b[0mtext\u001b[0m\u001b[1;33m,\u001b[0m \u001b[0mslices\u001b[0m\u001b[1;33m)\u001b[0m\u001b[1;33m\u001b[0m\u001b[1;33m\u001b[0m\u001b[0m\n\u001b[1;32m-> 1324\u001b[1;33m         \u001b[1;32mfor\u001b[0m \u001b[0msentence\u001b[0m \u001b[1;32min\u001b[0m \u001b[0mslices\u001b[0m\u001b[1;33m:\u001b[0m\u001b[1;33m\u001b[0m\u001b[1;33m\u001b[0m\u001b[0m\n\u001b[0m\u001b[0;32m   1325\u001b[0m             \u001b[1;32myield\u001b[0m \u001b[1;33m(\u001b[0m\u001b[0msentence\u001b[0m\u001b[1;33m.\u001b[0m\u001b[0mstart\u001b[0m\u001b[1;33m,\u001b[0m \u001b[0msentence\u001b[0m\u001b[1;33m.\u001b[0m\u001b[0mstop\u001b[0m\u001b[1;33m)\u001b[0m\u001b[1;33m\u001b[0m\u001b[1;33m\u001b[0m\u001b[0m\n\u001b[0;32m   1326\u001b[0m \u001b[1;33m\u001b[0m\u001b[0m\n",
      "\u001b[1;32m~\\anaconda3\\lib\\site-packages\\nltk\\tokenize\\punkt.py\u001b[0m in \u001b[0;36m_realign_boundaries\u001b[1;34m(self, text, slices)\u001b[0m\n\u001b[0;32m   1363\u001b[0m         \"\"\"\n\u001b[0;32m   1364\u001b[0m         \u001b[0mrealign\u001b[0m \u001b[1;33m=\u001b[0m \u001b[1;36m0\u001b[0m\u001b[1;33m\u001b[0m\u001b[1;33m\u001b[0m\u001b[0m\n\u001b[1;32m-> 1365\u001b[1;33m         \u001b[1;32mfor\u001b[0m \u001b[0msentence1\u001b[0m\u001b[1;33m,\u001b[0m \u001b[0msentence2\u001b[0m \u001b[1;32min\u001b[0m \u001b[0m_pair_iter\u001b[0m\u001b[1;33m(\u001b[0m\u001b[0mslices\u001b[0m\u001b[1;33m)\u001b[0m\u001b[1;33m:\u001b[0m\u001b[1;33m\u001b[0m\u001b[1;33m\u001b[0m\u001b[0m\n\u001b[0m\u001b[0;32m   1366\u001b[0m             \u001b[0msentence1\u001b[0m \u001b[1;33m=\u001b[0m \u001b[0mslice\u001b[0m\u001b[1;33m(\u001b[0m\u001b[0msentence1\u001b[0m\u001b[1;33m.\u001b[0m\u001b[0mstart\u001b[0m \u001b[1;33m+\u001b[0m \u001b[0mrealign\u001b[0m\u001b[1;33m,\u001b[0m \u001b[0msentence1\u001b[0m\u001b[1;33m.\u001b[0m\u001b[0mstop\u001b[0m\u001b[1;33m)\u001b[0m\u001b[1;33m\u001b[0m\u001b[1;33m\u001b[0m\u001b[0m\n\u001b[0;32m   1367\u001b[0m             \u001b[1;32mif\u001b[0m \u001b[1;32mnot\u001b[0m \u001b[0msentence2\u001b[0m\u001b[1;33m:\u001b[0m\u001b[1;33m\u001b[0m\u001b[1;33m\u001b[0m\u001b[0m\n",
      "\u001b[1;32m~\\anaconda3\\lib\\site-packages\\nltk\\tokenize\\punkt.py\u001b[0m in \u001b[0;36m_pair_iter\u001b[1;34m(iterator)\u001b[0m\n\u001b[0;32m    317\u001b[0m     \u001b[0miterator\u001b[0m \u001b[1;33m=\u001b[0m \u001b[0miter\u001b[0m\u001b[1;33m(\u001b[0m\u001b[0miterator\u001b[0m\u001b[1;33m)\u001b[0m\u001b[1;33m\u001b[0m\u001b[1;33m\u001b[0m\u001b[0m\n\u001b[0;32m    318\u001b[0m     \u001b[1;32mtry\u001b[0m\u001b[1;33m:\u001b[0m\u001b[1;33m\u001b[0m\u001b[1;33m\u001b[0m\u001b[0m\n\u001b[1;32m--> 319\u001b[1;33m         \u001b[0mprev\u001b[0m \u001b[1;33m=\u001b[0m \u001b[0mnext\u001b[0m\u001b[1;33m(\u001b[0m\u001b[0miterator\u001b[0m\u001b[1;33m)\u001b[0m\u001b[1;33m\u001b[0m\u001b[1;33m\u001b[0m\u001b[0m\n\u001b[0m\u001b[0;32m    320\u001b[0m     \u001b[1;32mexcept\u001b[0m \u001b[0mStopIteration\u001b[0m\u001b[1;33m:\u001b[0m\u001b[1;33m\u001b[0m\u001b[1;33m\u001b[0m\u001b[0m\n\u001b[0;32m    321\u001b[0m         \u001b[1;32mreturn\u001b[0m\u001b[1;33m\u001b[0m\u001b[1;33m\u001b[0m\u001b[0m\n",
      "\u001b[1;32m~\\anaconda3\\lib\\site-packages\\nltk\\tokenize\\punkt.py\u001b[0m in \u001b[0;36m_slices_from_text\u001b[1;34m(self, text)\u001b[0m\n\u001b[0;32m   1336\u001b[0m     \u001b[1;32mdef\u001b[0m \u001b[0m_slices_from_text\u001b[0m\u001b[1;33m(\u001b[0m\u001b[0mself\u001b[0m\u001b[1;33m,\u001b[0m \u001b[0mtext\u001b[0m\u001b[1;33m)\u001b[0m\u001b[1;33m:\u001b[0m\u001b[1;33m\u001b[0m\u001b[1;33m\u001b[0m\u001b[0m\n\u001b[0;32m   1337\u001b[0m         \u001b[0mlast_break\u001b[0m \u001b[1;33m=\u001b[0m \u001b[1;36m0\u001b[0m\u001b[1;33m\u001b[0m\u001b[1;33m\u001b[0m\u001b[0m\n\u001b[1;32m-> 1338\u001b[1;33m         \u001b[1;32mfor\u001b[0m \u001b[0mmatch\u001b[0m \u001b[1;32min\u001b[0m \u001b[0mself\u001b[0m\u001b[1;33m.\u001b[0m\u001b[0m_lang_vars\u001b[0m\u001b[1;33m.\u001b[0m\u001b[0mperiod_context_re\u001b[0m\u001b[1;33m(\u001b[0m\u001b[1;33m)\u001b[0m\u001b[1;33m.\u001b[0m\u001b[0mfinditer\u001b[0m\u001b[1;33m(\u001b[0m\u001b[0mtext\u001b[0m\u001b[1;33m)\u001b[0m\u001b[1;33m:\u001b[0m\u001b[1;33m\u001b[0m\u001b[1;33m\u001b[0m\u001b[0m\n\u001b[0m\u001b[0;32m   1339\u001b[0m             \u001b[0mcontext\u001b[0m \u001b[1;33m=\u001b[0m \u001b[0mmatch\u001b[0m\u001b[1;33m.\u001b[0m\u001b[0mgroup\u001b[0m\u001b[1;33m(\u001b[0m\u001b[1;33m)\u001b[0m \u001b[1;33m+\u001b[0m \u001b[0mmatch\u001b[0m\u001b[1;33m.\u001b[0m\u001b[0mgroup\u001b[0m\u001b[1;33m(\u001b[0m\u001b[1;34m\"after_tok\"\u001b[0m\u001b[1;33m)\u001b[0m\u001b[1;33m\u001b[0m\u001b[1;33m\u001b[0m\u001b[0m\n\u001b[0;32m   1340\u001b[0m             \u001b[1;32mif\u001b[0m \u001b[0mself\u001b[0m\u001b[1;33m.\u001b[0m\u001b[0mtext_contains_sentbreak\u001b[0m\u001b[1;33m(\u001b[0m\u001b[0mcontext\u001b[0m\u001b[1;33m)\u001b[0m\u001b[1;33m:\u001b[0m\u001b[1;33m\u001b[0m\u001b[1;33m\u001b[0m\u001b[0m\n",
      "\u001b[1;31mTypeError\u001b[0m: expected string or bytes-like object"
     ]
    }
   ],
   "source": [
    "import string\n",
    "from nltk.tokenize import word_tokenize\n",
    "from nltk.corpus import stopwords\n",
    "\n",
    "train_all_data=list()\n",
    "lines =train_data.tolist()\n",
    "\n",
    "for line in lines:\n",
    "    tokens=word_tokenize(line)\n",
    "    tokens=[w.lower() for w in tokens]\n",
    "    table=str.maketrans('','',string.punctuation)\n",
    "    stripped = [w.translate(table) for w in tokens]\n",
    "    words=[word for word in stripped if word.isalpha()]\n",
    "    stop_words = set(stopwords.words('english'))\n",
    "    words=[w for w in words if not w in stop_words]\n",
    "    train_all_data.append(words)\n"
   ]
  },
  {
   "cell_type": "code",
   "execution_count": 143,
   "id": "340777bb",
   "metadata": {},
   "outputs": [
    {
     "data": {
      "text/plain": [
       "['rt',\n",
       " 'isabellabardoel',\n",
       " 'doug',\n",
       " 'ford',\n",
       " 'majority',\n",
       " 'territory',\n",
       " 'seriously',\n",
       " 'ltc',\n",
       " 'death',\n",
       " 'camps',\n",
       " 'catastrophe',\n",
       " 'selling',\n",
       " 'green',\n",
       " 'belt',\n",
       " 'developers',\n",
       " 'autism',\n",
       " 'waitlists',\n",
       " 'firing',\n",
       " 'nurses',\n",
       " 'starving',\n",
       " 'odsp',\n",
       " 'amp',\n",
       " 'ow',\n",
       " 'opening',\n",
       " 'hc',\n",
       " 'us',\n",
       " 'profiteers',\n",
       " 'gutting',\n",
       " 'toronto',\n",
       " 'council',\n",
       " 'selling',\n",
       " 'water',\n",
       " 'nestle',\n",
       " 'amp',\n",
       " 'much']"
      ]
     },
     "execution_count": 143,
     "metadata": {},
     "output_type": "execute_result"
    }
   ],
   "source": [
    "train_all_data[0]"
   ]
  },
  {
   "cell_type": "code",
   "execution_count": 144,
   "id": "58db4556",
   "metadata": {},
   "outputs": [
    {
     "name": "stdout",
     "output_type": "stream",
     "text": [
      "Requirement already satisfied: gensim in c:\\users\\ceylan\\anaconda3\\lib\\site-packages (4.2.0)Note: you may need to restart the kernel to use updated packages.\n",
      "\n",
      "Requirement already satisfied: Cython==0.29.28 in c:\\users\\ceylan\\anaconda3\\lib\\site-packages (from gensim) (0.29.28)\n",
      "Requirement already satisfied: numpy>=1.17.0 in c:\\users\\ceylan\\anaconda3\\lib\\site-packages (from gensim) (1.20.3)\n",
      "Requirement already satisfied: smart-open>=1.8.1 in c:\\users\\ceylan\\anaconda3\\lib\\site-packages (from gensim) (6.0.0)\n",
      "Requirement already satisfied: scipy>=0.18.1 in c:\\users\\ceylan\\anaconda3\\lib\\site-packages (from gensim) (1.7.1)\n"
     ]
    }
   ],
   "source": [
    "pip install gensim"
   ]
  },
  {
   "cell_type": "code",
   "execution_count": 148,
   "id": "7628cf35",
   "metadata": {},
   "outputs": [
    {
     "name": "stdout",
     "output_type": "stream",
     "text": [
      "Vocabulary size 3439\n"
     ]
    }
   ],
   "source": [
    "import gensim\n",
    "\n",
    "embedding_dim= 50\n",
    "model=gensim.models.Word2Vec(sentences=train_all_data,\n",
    "                            vector_size=embedding_dim,\n",
    "                            window=5,\n",
    "                            workers=4,\n",
    "                            min_count=1)\n",
    "\n",
    "words=len(model.wv)\n",
    "print('Vocabulary size %d' %(words))"
   ]
  },
  {
   "cell_type": "code",
   "execution_count": 150,
   "id": "31b9e517",
   "metadata": {},
   "outputs": [
    {
     "data": {
      "text/plain": [
       "[('medical', 0.5015463829040527),\n",
       " ('choice', 0.4835093021392822),\n",
       " ('education', 0.45883888006210327),\n",
       " ('return', 0.4448266625404358),\n",
       " ('una', 0.43494173884391785),\n",
       " ('children', 0.4342077672481537),\n",
       " ('vida', 0.43123847246170044),\n",
       " ('kesihatan', 0.42367395758628845),\n",
       " ('argentinas', 0.42138463258743286),\n",
       " ('raste', 0.4207466244697571)]"
      ]
     },
     "execution_count": 150,
     "metadata": {},
     "output_type": "execute_result"
    }
   ],
   "source": [
    "model.wv.most_similar('covid')"
   ]
  },
  {
   "cell_type": "code",
   "execution_count": 151,
   "id": "11fa12b4",
   "metadata": {},
   "outputs": [
    {
     "data": {
      "text/plain": [
       "[('people', 0.46270638704299927),\n",
       " ('covid', 0.4588387906551361),\n",
       " ('hui', 0.44412168860435486),\n",
       " ('medical', 0.440956711769104),\n",
       " ('halltoons', 0.43217387795448303),\n",
       " ('accept', 0.42508143186569214),\n",
       " ('alberto', 0.4244064390659332),\n",
       " ('talk', 0.42184513807296753),\n",
       " ('kkm', 0.4217580556869507),\n",
       " ('please', 0.41508132219314575)]"
      ]
     },
     "execution_count": 151,
     "metadata": {},
     "output_type": "execute_result"
    }
   ],
   "source": [
    "model.wv.most_similar('education')"
   ]
  },
  {
   "cell_type": "code",
   "execution_count": 156,
   "id": "e27309ed",
   "metadata": {},
   "outputs": [
    {
     "data": {
      "text/plain": [
       "[('incertidumbre', 0.4616605341434479),\n",
       " ('insiders', 0.44055113196372986),\n",
       " ('tallervirtual', 0.43376582860946655),\n",
       " ('maranhão', 0.41099488735198975),\n",
       " ('monkeypox', 0.40794628858566284),\n",
       " ('madeinchinaoff', 0.40073221921920776),\n",
       " ('alfaro', 0.3942224383354187),\n",
       " ('extraordinary', 0.3850104510784149),\n",
       " ('analyses', 0.3790535032749176),\n",
       " ('estado', 0.376743346452713)]"
      ]
     },
     "execution_count": 156,
     "metadata": {},
     "output_type": "execute_result"
    }
   ],
   "source": [
    "model.wv.most_similar('good')"
   ]
  },
  {
   "cell_type": "code",
   "execution_count": 165,
   "id": "64ba01e0",
   "metadata": {},
   "outputs": [
    {
     "ename": "AttributeError",
     "evalue": "'NoneType' object has no attribute 'lower'",
     "output_type": "error",
     "traceback": [
      "\u001b[1;31m---------------------------------------------------------------------------\u001b[0m",
      "\u001b[1;31mAttributeError\u001b[0m                            Traceback (most recent call last)",
      "\u001b[1;32m~\\AppData\\Local\\Temp/ipykernel_1728/242085177.py\u001b[0m in \u001b[0;36m<module>\u001b[1;34m\u001b[0m\n\u001b[0;32m      2\u001b[0m \u001b[1;33m\u001b[0m\u001b[0m\n\u001b[0;32m      3\u001b[0m \u001b[0mtokenizer\u001b[0m \u001b[1;33m=\u001b[0m \u001b[0mTokenizer\u001b[0m\u001b[1;33m(\u001b[0m\u001b[1;33m)\u001b[0m\u001b[1;33m\u001b[0m\u001b[1;33m\u001b[0m\u001b[0m\n\u001b[1;32m----> 4\u001b[1;33m \u001b[0mtokenizer\u001b[0m\u001b[1;33m.\u001b[0m\u001b[0mfit_on_texts\u001b[0m\u001b[1;33m(\u001b[0m\u001b[0mtrain_data\u001b[0m\u001b[1;33m)\u001b[0m\u001b[1;33m\u001b[0m\u001b[1;33m\u001b[0m\u001b[0m\n\u001b[0m\u001b[0;32m      5\u001b[0m \u001b[1;33m\u001b[0m\u001b[0m\n\u001b[0;32m      6\u001b[0m \u001b[0mX_train\u001b[0m\u001b[1;33m=\u001b[0m \u001b[0mtokenizer\u001b[0m\u001b[1;33m.\u001b[0m\u001b[0mtexts_to_sequences\u001b[0m\u001b[1;33m(\u001b[0m\u001b[0mtrain_data\u001b[0m\u001b[1;33m)\u001b[0m\u001b[1;33m\u001b[0m\u001b[1;33m\u001b[0m\u001b[0m\n",
      "\u001b[1;32m~\\anaconda3\\lib\\site-packages\\keras\\preprocessing\\text.py\u001b[0m in \u001b[0;36mfit_on_texts\u001b[1;34m(self, texts)\u001b[0m\n\u001b[0;32m    277\u001b[0m       \u001b[1;32melse\u001b[0m\u001b[1;33m:\u001b[0m\u001b[1;33m\u001b[0m\u001b[1;33m\u001b[0m\u001b[0m\n\u001b[0;32m    278\u001b[0m         \u001b[1;32mif\u001b[0m \u001b[0mself\u001b[0m\u001b[1;33m.\u001b[0m\u001b[0manalyzer\u001b[0m \u001b[1;32mis\u001b[0m \u001b[1;32mNone\u001b[0m\u001b[1;33m:\u001b[0m\u001b[1;33m\u001b[0m\u001b[1;33m\u001b[0m\u001b[0m\n\u001b[1;32m--> 279\u001b[1;33m           seq = text_to_word_sequence(\n\u001b[0m\u001b[0;32m    280\u001b[0m               text, filters=self.filters, lower=self.lower, split=self.split)\n\u001b[0;32m    281\u001b[0m         \u001b[1;32melse\u001b[0m\u001b[1;33m:\u001b[0m\u001b[1;33m\u001b[0m\u001b[1;33m\u001b[0m\u001b[0m\n",
      "\u001b[1;32m~\\anaconda3\\lib\\site-packages\\keras\\preprocessing\\text.py\u001b[0m in \u001b[0;36mtext_to_word_sequence\u001b[1;34m(input_text, filters, lower, split)\u001b[0m\n\u001b[0;32m     70\u001b[0m   \"\"\"\n\u001b[0;32m     71\u001b[0m   \u001b[1;32mif\u001b[0m \u001b[0mlower\u001b[0m\u001b[1;33m:\u001b[0m\u001b[1;33m\u001b[0m\u001b[1;33m\u001b[0m\u001b[0m\n\u001b[1;32m---> 72\u001b[1;33m     \u001b[0minput_text\u001b[0m \u001b[1;33m=\u001b[0m \u001b[0minput_text\u001b[0m\u001b[1;33m.\u001b[0m\u001b[0mlower\u001b[0m\u001b[1;33m(\u001b[0m\u001b[1;33m)\u001b[0m\u001b[1;33m\u001b[0m\u001b[1;33m\u001b[0m\u001b[0m\n\u001b[0m\u001b[0;32m     73\u001b[0m \u001b[1;33m\u001b[0m\u001b[0m\n\u001b[0;32m     74\u001b[0m   \u001b[0mtranslate_dict\u001b[0m \u001b[1;33m=\u001b[0m \u001b[1;33m{\u001b[0m\u001b[0mc\u001b[0m\u001b[1;33m:\u001b[0m \u001b[0msplit\u001b[0m \u001b[1;32mfor\u001b[0m \u001b[0mc\u001b[0m \u001b[1;32min\u001b[0m \u001b[0mfilters\u001b[0m\u001b[1;33m}\u001b[0m\u001b[1;33m\u001b[0m\u001b[1;33m\u001b[0m\u001b[0m\n",
      "\u001b[1;31mAttributeError\u001b[0m: 'NoneType' object has no attribute 'lower'"
     ]
    }
   ],
   "source": [
    "from keras.preprocessing.text import Tokenizer\n",
    "\n",
    "tokenizer = Tokenizer()\n",
    "tokenizer.fit_on_texts(train_data)\n",
    "\n",
    "X_train= tokenizer.texts_to_sequences(train_data)\n",
    "X_test= tokenizer.texts_to_sequences(test_data)\n",
    "\n",
    "word_index= tokenizer.word_index\n",
    "print(\"Unique tokens:%d\" %len(word_index))"
   ]
  },
  {
   "cell_type": "code",
   "execution_count": 166,
   "id": "383715a1",
   "metadata": {},
   "outputs": [
    {
     "name": "stdout",
     "output_type": "stream",
     "text": [
      "RT @IsabellaBardoel: Doug Ford in majority territory? Seriously?\n",
      "After LTC death camps, #COVID19 catastrophe, selling the Green Belt to developers, autism waitlists, firing nurses, starving ODSP &amp; OW, opening hc to US profiteers, gutting #Toronto Council, selling ON water to Nestle &amp; so much more? 😳\n"
     ]
    },
    {
     "ename": "NameError",
     "evalue": "name 'X_train' is not defined",
     "output_type": "error",
     "traceback": [
      "\u001b[1;31m---------------------------------------------------------------------------\u001b[0m",
      "\u001b[1;31mNameError\u001b[0m                                 Traceback (most recent call last)",
      "\u001b[1;32m~\\AppData\\Local\\Temp/ipykernel_1728/481794450.py\u001b[0m in \u001b[0;36m<module>\u001b[1;34m\u001b[0m\n\u001b[0;32m      1\u001b[0m \u001b[0mprint\u001b[0m\u001b[1;33m(\u001b[0m\u001b[0mtrain_data\u001b[0m\u001b[1;33m[\u001b[0m\u001b[1;36m0\u001b[0m\u001b[1;33m]\u001b[0m\u001b[1;33m)\u001b[0m\u001b[1;33m\u001b[0m\u001b[1;33m\u001b[0m\u001b[0m\n\u001b[1;32m----> 2\u001b[1;33m \u001b[0mprint\u001b[0m\u001b[1;33m(\u001b[0m\u001b[0mX_train\u001b[0m\u001b[1;33m[\u001b[0m\u001b[1;36m0\u001b[0m\u001b[1;33m]\u001b[0m\u001b[1;33m)\u001b[0m\u001b[1;33m\u001b[0m\u001b[1;33m\u001b[0m\u001b[0m\n\u001b[0m",
      "\u001b[1;31mNameError\u001b[0m: name 'X_train' is not defined"
     ]
    }
   ],
   "source": [
    "print(train_data[0])\n",
    "print(X_train[0])"
   ]
  },
  {
   "cell_type": "code",
   "execution_count": 167,
   "id": "d2a986f8",
   "metadata": {},
   "outputs": [
    {
     "ename": "ImportError",
     "evalue": "cannot import name 'pad_sequences' from 'keras.preprocessing.sequence' (C:\\Users\\Ceylan\\anaconda3\\lib\\site-packages\\keras\\preprocessing\\sequence.py)",
     "output_type": "error",
     "traceback": [
      "\u001b[1;31m---------------------------------------------------------------------------\u001b[0m",
      "\u001b[1;31mImportError\u001b[0m                               Traceback (most recent call last)",
      "\u001b[1;32m~\\AppData\\Local\\Temp/ipykernel_1728/4138028619.py\u001b[0m in \u001b[0;36m<module>\u001b[1;34m\u001b[0m\n\u001b[1;32m----> 1\u001b[1;33m \u001b[1;32mfrom\u001b[0m \u001b[0mkeras\u001b[0m\u001b[1;33m.\u001b[0m\u001b[0mpreprocessing\u001b[0m\u001b[1;33m.\u001b[0m\u001b[0msequence\u001b[0m \u001b[1;32mimport\u001b[0m \u001b[0mpad_sequences\u001b[0m\u001b[1;33m\u001b[0m\u001b[1;33m\u001b[0m\u001b[0m\n\u001b[0m\u001b[0;32m      2\u001b[0m \u001b[1;33m\u001b[0m\u001b[0m\n\u001b[0;32m      3\u001b[0m \u001b[0mmaxlen\u001b[0m\u001b[1;33m=\u001b[0m \u001b[0mmax\u001b[0m\u001b[1;33m(\u001b[0m\u001b[1;33m[\u001b[0m\u001b[0mlen\u001b[0m\u001b[1;33m(\u001b[0m\u001b[0mx\u001b[0m\u001b[1;33m)\u001b[0m \u001b[1;32mfor\u001b[0m \u001b[0mx\u001b[0m \u001b[1;32min\u001b[0m \u001b[0mX_train\u001b[0m\u001b[1;33m]\u001b[0m\u001b[1;33m)\u001b[0m\u001b[1;33m\u001b[0m\u001b[1;33m\u001b[0m\u001b[0m\n\u001b[0;32m      4\u001b[0m \u001b[0mprint\u001b[0m\u001b[1;33m(\u001b[0m\u001b[1;34m\"Maxlen:\"\u001b[0m\u001b[1;33m,\u001b[0m \u001b[0mmaxlen\u001b[0m\u001b[1;33m)\u001b[0m\u001b[1;33m\u001b[0m\u001b[1;33m\u001b[0m\u001b[0m\n\u001b[0;32m      5\u001b[0m \u001b[1;33m\u001b[0m\u001b[0m\n",
      "\u001b[1;31mImportError\u001b[0m: cannot import name 'pad_sequences' from 'keras.preprocessing.sequence' (C:\\Users\\Ceylan\\anaconda3\\lib\\site-packages\\keras\\preprocessing\\sequence.py)"
     ]
    }
   ],
   "source": [
    "from keras.preprocessing.sequence import pad_sequences\n",
    "\n",
    "maxlen= max([len(x) for x in X_train])\n",
    "print(\"Maxlen:\", maxlen)\n",
    "\n",
    "X_train=pad_sequences(X_train,padding='post',maxlen=maxlen)\n",
    "X_test=pad_sequences(X_test,padding='post',maxlen=maxlen)\n",
    "\n",
    "print(\"Training data:\" , X_train.shape)\n",
    "print(\"Test data:\" , X_test.shape)"
   ]
  },
  {
   "cell_type": "code",
   "execution_count": 169,
   "id": "e6b74985",
   "metadata": {},
   "outputs": [
    {
     "ename": "NameError",
     "evalue": "name 'word_index' is not defined",
     "output_type": "error",
     "traceback": [
      "\u001b[1;31m---------------------------------------------------------------------------\u001b[0m",
      "\u001b[1;31mNameError\u001b[0m                                 Traceback (most recent call last)",
      "\u001b[1;32m~\\AppData\\Local\\Temp/ipykernel_1728/218579967.py\u001b[0m in \u001b[0;36m<module>\u001b[1;34m\u001b[0m\n\u001b[1;32m----> 1\u001b[1;33m \u001b[0mnum_words\u001b[0m\u001b[1;33m=\u001b[0m\u001b[0mlen\u001b[0m\u001b[1;33m(\u001b[0m\u001b[0mword_index\u001b[0m\u001b[1;33m)\u001b[0m \u001b[1;33m+\u001b[0m \u001b[1;36m1\u001b[0m\u001b[1;33m\u001b[0m\u001b[1;33m\u001b[0m\u001b[0m\n\u001b[0m\u001b[0;32m      2\u001b[0m \u001b[0membedding_matrix\u001b[0m\u001b[1;33m=\u001b[0m\u001b[0mnp\u001b[0m\u001b[1;33m.\u001b[0m\u001b[0mzeros\u001b[0m\u001b[1;33m(\u001b[0m\u001b[1;33m(\u001b[0m\u001b[0mnum_words\u001b[0m\u001b[1;33m,\u001b[0m\u001b[0membedding_dim\u001b[0m\u001b[1;33m)\u001b[0m\u001b[1;33m)\u001b[0m\u001b[1;33m\u001b[0m\u001b[1;33m\u001b[0m\u001b[0m\n\u001b[0;32m      3\u001b[0m \u001b[1;33m\u001b[0m\u001b[0m\n\u001b[0;32m      4\u001b[0m \u001b[1;32mfor\u001b[0m \u001b[0mword\u001b[0m \u001b[1;33m,\u001b[0m \u001b[0mi\u001b[0m \u001b[1;32min\u001b[0m \u001b[0mword_index\u001b[0m\u001b[1;33m.\u001b[0m\u001b[0mitems\u001b[0m\u001b[1;33m(\u001b[0m\u001b[1;33m)\u001b[0m\u001b[1;33m:\u001b[0m\u001b[1;33m\u001b[0m\u001b[1;33m\u001b[0m\u001b[0m\n\u001b[0;32m      5\u001b[0m     \u001b[1;32mif\u001b[0m \u001b[0mi\u001b[0m\u001b[1;33m>\u001b[0m\u001b[0mnum_words\u001b[0m\u001b[1;33m:\u001b[0m\u001b[1;33m\u001b[0m\u001b[1;33m\u001b[0m\u001b[0m\n",
      "\u001b[1;31mNameError\u001b[0m: name 'word_index' is not defined"
     ]
    }
   ],
   "source": [
    "num_words=len(word_index) + 1\n",
    "embedding_matrix=np.zeros((num_words,embedding_dim))\n",
    "\n",
    "for word , i in word_index.items():\n",
    "    if i>num_words:\n",
    "        continue\n",
    "        embedding_vector =embedding_index.get(word)\n",
    "    if embedding_vector is not None:\n",
    "        embedding_matrix[i]=embedding_vector\n",
    "         "
   ]
  },
  {
   "cell_type": "code",
   "execution_count": 170,
   "id": "cee00387",
   "metadata": {},
   "outputs": [
    {
     "ename": "NameError",
     "evalue": "name 'num_words' is not defined",
     "output_type": "error",
     "traceback": [
      "\u001b[1;31m---------------------------------------------------------------------------\u001b[0m",
      "\u001b[1;31mNameError\u001b[0m                                 Traceback (most recent call last)",
      "\u001b[1;32m~\\AppData\\Local\\Temp/ipykernel_1728/2404978481.py\u001b[0m in \u001b[0;36m<module>\u001b[1;34m\u001b[0m\n\u001b[1;32m----> 1\u001b[1;33m \u001b[0mprint\u001b[0m\u001b[1;33m(\u001b[0m\u001b[0mnum_words\u001b[0m\u001b[1;33m)\u001b[0m\u001b[1;33m\u001b[0m\u001b[1;33m\u001b[0m\u001b[0m\n\u001b[0m",
      "\u001b[1;31mNameError\u001b[0m: name 'num_words' is not defined"
     ]
    }
   ],
   "source": [
    "print(num_words)"
   ]
  },
  {
   "cell_type": "code",
   "execution_count": 180,
   "id": "71159c29",
   "metadata": {},
   "outputs": [],
   "source": [
    "from tensorflow.keras.layers import Embedding"
   ]
  },
  {
   "cell_type": "code",
   "execution_count": 183,
   "id": "26ab8971",
   "metadata": {},
   "outputs": [
    {
     "ename": "NameError",
     "evalue": "name 'num_words' is not defined",
     "output_type": "error",
     "traceback": [
      "\u001b[1;31m---------------------------------------------------------------------------\u001b[0m",
      "\u001b[1;31mNameError\u001b[0m                                 Traceback (most recent call last)",
      "\u001b[1;32m~\\AppData\\Local\\Temp/ipykernel_1728/2141285298.py\u001b[0m in \u001b[0;36m<module>\u001b[1;34m\u001b[0m\n\u001b[0;32m      5\u001b[0m \u001b[1;33m\u001b[0m\u001b[0m\n\u001b[0;32m      6\u001b[0m \u001b[0mmodel\u001b[0m\u001b[1;33m=\u001b[0m\u001b[0mSequential\u001b[0m\u001b[1;33m(\u001b[0m\u001b[1;33m)\u001b[0m\u001b[1;33m\u001b[0m\u001b[1;33m\u001b[0m\u001b[0m\n\u001b[1;32m----> 7\u001b[1;33m model.add(Embedding(num_words,\n\u001b[0m\u001b[0;32m      8\u001b[0m                    \u001b[0membedding_dim\u001b[0m\u001b[1;33m,\u001b[0m\u001b[1;33m\u001b[0m\u001b[1;33m\u001b[0m\u001b[0m\n\u001b[0;32m      9\u001b[0m                    \u001b[0membedding_initializer\u001b[0m\u001b[1;33m=\u001b[0m\u001b[0mConstant\u001b[0m\u001b[1;33m(\u001b[0m\u001b[0membedding_matrix\u001b[0m\u001b[1;33m)\u001b[0m\u001b[1;33m,\u001b[0m\u001b[1;33m\u001b[0m\u001b[1;33m\u001b[0m\u001b[0m\n",
      "\u001b[1;31mNameError\u001b[0m: name 'num_words' is not defined"
     ]
    }
   ],
   "source": [
    "from keras.models import Sequential\n",
    "from keras.layers import *\n",
    "from keras.initializers import Constant\n",
    "from keras.layers import Embedding\n",
    "\n",
    "model=Sequential()\n",
    "model.add(Embedding(num_words,\n",
    "                   embedding_dim,\n",
    "                   embedding_initializer=Constant(embedding_matrix),\n",
    "                   input_length=maxlen,\n",
    "                   trainable=False))\n",
    "model.add(GlobalMaxPool1D())\n",
    "model.add(Dense(10,activation='relu'))\n",
    "model.add(Dense(1,activation='sigmoid'))\n",
    "\n",
    "model.summary()"
   ]
  },
  {
   "cell_type": "code",
   "execution_count": 184,
   "id": "47e62184",
   "metadata": {},
   "outputs": [],
   "source": [
    "model.compile(optimizer='adam',loss='binary_crossentropy',metrics=['accuracy'])"
   ]
  },
  {
   "cell_type": "code",
   "execution_count": 185,
   "id": "75249946",
   "metadata": {},
   "outputs": [
    {
     "ename": "NameError",
     "evalue": "name 'X_train' is not defined",
     "output_type": "error",
     "traceback": [
      "\u001b[1;31m---------------------------------------------------------------------------\u001b[0m",
      "\u001b[1;31mNameError\u001b[0m                                 Traceback (most recent call last)",
      "\u001b[1;32m~\\AppData\\Local\\Temp/ipykernel_1728/1783346274.py\u001b[0m in \u001b[0;36m<module>\u001b[1;34m\u001b[0m\n\u001b[1;32m----> 1\u001b[1;33m \u001b[0mmodel_history\u001b[0m\u001b[1;33m=\u001b[0m\u001b[0mmodel\u001b[0m\u001b[1;33m.\u001b[0m\u001b[0mfit\u001b[0m\u001b[1;33m(\u001b[0m\u001b[0mX_train\u001b[0m\u001b[1;33m,\u001b[0m \u001b[0my_train\u001b[0m \u001b[1;33m,\u001b[0m\u001b[0mepochs\u001b[0m\u001b[1;33m=\u001b[0m\u001b[1;36m10\u001b[0m\u001b[1;33m,\u001b[0m\u001b[0mvalidation_data\u001b[0m\u001b[1;33m=\u001b[0m\u001b[1;33m(\u001b[0m\u001b[0mX_test\u001b[0m\u001b[1;33m,\u001b[0m \u001b[0my_test\u001b[0m\u001b[1;33m)\u001b[0m\u001b[1;33m)\u001b[0m\u001b[1;33m\u001b[0m\u001b[1;33m\u001b[0m\u001b[0m\n\u001b[0m",
      "\u001b[1;31mNameError\u001b[0m: name 'X_train' is not defined"
     ]
    }
   ],
   "source": [
    "model_history=model.fit(X_train, y_train ,epochs=10,validation_data=(X_test, y_test))\n"
   ]
  },
  {
   "cell_type": "code",
   "execution_count": 186,
   "id": "3f54cf8b",
   "metadata": {},
   "outputs": [
    {
     "ename": "NameError",
     "evalue": "name 'X_train' is not defined",
     "output_type": "error",
     "traceback": [
      "\u001b[1;31m---------------------------------------------------------------------------\u001b[0m",
      "\u001b[1;31mNameError\u001b[0m                                 Traceback (most recent call last)",
      "\u001b[1;32m~\\AppData\\Local\\Temp/ipykernel_1728/1682937848.py\u001b[0m in \u001b[0;36m<module>\u001b[1;34m\u001b[0m\n\u001b[1;32m----> 1\u001b[1;33m \u001b[0mloss\u001b[0m\u001b[1;33m,\u001b[0m\u001b[0maccuracy\u001b[0m\u001b[1;33m=\u001b[0m\u001b[0mmodel\u001b[0m\u001b[1;33m.\u001b[0m\u001b[0mevaluate\u001b[0m\u001b[1;33m(\u001b[0m\u001b[0mX_train\u001b[0m\u001b[1;33m,\u001b[0m \u001b[0my_train\u001b[0m\u001b[1;33m,\u001b[0m \u001b[0mverbose\u001b[0m\u001b[1;33m=\u001b[0m\u001b[1;32mFalse\u001b[0m\u001b[1;33m)\u001b[0m\u001b[1;33m\u001b[0m\u001b[1;33m\u001b[0m\u001b[0m\n\u001b[0m\u001b[0;32m      2\u001b[0m \u001b[0mprint\u001b[0m\u001b[1;33m(\u001b[0m\u001b[1;34m\"Training Accuracy: {:.4f}\"\u001b[0m\u001b[1;33m.\u001b[0m\u001b[0mformat\u001b[0m\u001b[1;33m(\u001b[0m\u001b[0maccuracy\u001b[0m\u001b[1;33m)\u001b[0m\u001b[1;33m)\u001b[0m\u001b[1;33m\u001b[0m\u001b[1;33m\u001b[0m\u001b[0m\n\u001b[0;32m      3\u001b[0m \u001b[1;33m\u001b[0m\u001b[0m\n\u001b[0;32m      4\u001b[0m \u001b[0mloss\u001b[0m\u001b[1;33m,\u001b[0m\u001b[0maccuracy\u001b[0m\u001b[1;33m=\u001b[0m\u001b[0mmodel\u001b[0m\u001b[1;33m.\u001b[0m\u001b[0mevaluate\u001b[0m\u001b[1;33m(\u001b[0m\u001b[0mX_test\u001b[0m\u001b[1;33m,\u001b[0m \u001b[0my_test\u001b[0m\u001b[1;33m,\u001b[0m \u001b[0mverbose\u001b[0m\u001b[1;33m=\u001b[0m\u001b[1;32mFalse\u001b[0m\u001b[1;33m)\u001b[0m\u001b[1;33m\u001b[0m\u001b[1;33m\u001b[0m\u001b[0m\n\u001b[0;32m      5\u001b[0m \u001b[0mprint\u001b[0m\u001b[1;33m(\u001b[0m\u001b[1;34m\"Testing Accuracy: {:.4f}\"\u001b[0m\u001b[1;33m.\u001b[0m\u001b[0mformat\u001b[0m\u001b[1;33m(\u001b[0m\u001b[0maccuracy\u001b[0m\u001b[1;33m)\u001b[0m\u001b[1;33m)\u001b[0m\u001b[1;33m\u001b[0m\u001b[1;33m\u001b[0m\u001b[0m\n",
      "\u001b[1;31mNameError\u001b[0m: name 'X_train' is not defined"
     ]
    }
   ],
   "source": [
    "loss,accuracy=model.evaluate(X_train, y_train, verbose=False)\n",
    "print(\"Training Accuracy: {:.4f}\".format(accuracy))\n",
    "\n",
    "loss,accuracy=model.evaluate(X_test, y_test, verbose=False)\n",
    "print(\"Testing Accuracy: {:.4f}\".format(accuracy))\n"
   ]
  },
  {
   "cell_type": "code",
   "execution_count": 187,
   "id": "a68002a2",
   "metadata": {},
   "outputs": [
    {
     "ename": "NameError",
     "evalue": "name 'model_history' is not defined",
     "output_type": "error",
     "traceback": [
      "\u001b[1;31m---------------------------------------------------------------------------\u001b[0m",
      "\u001b[1;31mNameError\u001b[0m                                 Traceback (most recent call last)",
      "\u001b[1;32m~\\AppData\\Local\\Temp/ipykernel_1728/117297096.py\u001b[0m in \u001b[0;36m<module>\u001b[1;34m\u001b[0m\n\u001b[0;32m      1\u001b[0m \u001b[1;32mimport\u001b[0m \u001b[0mmatplotlib\u001b[0m\u001b[1;33m.\u001b[0m\u001b[0mpyplot\u001b[0m \u001b[1;32mas\u001b[0m \u001b[0mplt\u001b[0m\u001b[1;33m\u001b[0m\u001b[1;33m\u001b[0m\u001b[0m\n\u001b[0;32m      2\u001b[0m \u001b[1;33m\u001b[0m\u001b[0m\n\u001b[1;32m----> 3\u001b[1;33m \u001b[0macc\u001b[0m\u001b[1;33m=\u001b[0m\u001b[0mmodel_history\u001b[0m\u001b[1;33m.\u001b[0m\u001b[0mhistory\u001b[0m\u001b[1;33m[\u001b[0m\u001b[1;34m'accuracy'\u001b[0m\u001b[1;33m]\u001b[0m\u001b[1;33m\u001b[0m\u001b[1;33m\u001b[0m\u001b[0m\n\u001b[0m\u001b[0;32m      4\u001b[0m \u001b[0mval_acc\u001b[0m\u001b[1;33m=\u001b[0m\u001b[0mmodel_history\u001b[0m\u001b[1;33m.\u001b[0m\u001b[0mhistory\u001b[0m\u001b[1;33m[\u001b[0m\u001b[1;34m'val_accuracy'\u001b[0m\u001b[1;33m]\u001b[0m\u001b[1;33m\u001b[0m\u001b[1;33m\u001b[0m\u001b[0m\n\u001b[0;32m      5\u001b[0m \u001b[0mloss\u001b[0m\u001b[1;33m=\u001b[0m\u001b[0mmodel_history\u001b[0m\u001b[1;33m.\u001b[0m\u001b[0mhistory\u001b[0m\u001b[1;33m[\u001b[0m\u001b[1;34m'loss'\u001b[0m\u001b[1;33m]\u001b[0m\u001b[1;33m\u001b[0m\u001b[1;33m\u001b[0m\u001b[0m\n",
      "\u001b[1;31mNameError\u001b[0m: name 'model_history' is not defined"
     ]
    }
   ],
   "source": [
    "import matplotlib.pyplot as plt\n",
    "\n",
    "acc=model_history.history['accuracy']\n",
    "val_acc=model_history.history['val_accuracy']\n",
    "loss=model_history.history['loss']\n",
    "val_loss=model_history.history['val_loss']\n",
    "\n",
    "plt.figure(figsize=(12,6))\n",
    "plt.subplot(1,2,1)\n",
    "plt.plot(acc,'b',label='Training accuracy')\n",
    "plt.plot(val_acc, 'r', label='Validation accuracy')\n",
    "plt.xlabel('Epoch')\n",
    "plt.ylabel('Accuracy Value')\n",
    "plt.title('Training and validation accuracy')\n",
    "plt.legend()\n",
    "\n",
    "plt.subplot(1,2,2)\n",
    "plt.plot(loss,'b',label='Training loss')\n",
    "plt.plot(val_loss,'r',label='Validation loss')\n",
    "plt.xlabel('Epoch')\n",
    "plt.ylabel('Loss Value')\n",
    "plt.title('Training and validation loss')\n",
    "plt.legend()\n",
    "\n",
    "plt.show()"
   ]
  },
  {
   "cell_type": "code",
   "execution_count": 188,
   "id": "27224c11",
   "metadata": {},
   "outputs": [
    {
     "ename": "NameError",
     "evalue": "name 'X_test' is not defined",
     "output_type": "error",
     "traceback": [
      "\u001b[1;31m---------------------------------------------------------------------------\u001b[0m",
      "\u001b[1;31mNameError\u001b[0m                                 Traceback (most recent call last)",
      "\u001b[1;32m~\\AppData\\Local\\Temp/ipykernel_1728/2767337885.py\u001b[0m in \u001b[0;36m<module>\u001b[1;34m\u001b[0m\n\u001b[0;32m      1\u001b[0m \u001b[1;32mfrom\u001b[0m \u001b[0msklearn\u001b[0m\u001b[1;33m.\u001b[0m\u001b[0mmetrics\u001b[0m \u001b[1;32mimport\u001b[0m \u001b[0mconfusion_matrix\u001b[0m\u001b[1;33m\u001b[0m\u001b[1;33m\u001b[0m\u001b[0m\n\u001b[0;32m      2\u001b[0m \u001b[1;33m\u001b[0m\u001b[0m\n\u001b[1;32m----> 3\u001b[1;33m \u001b[0my_pred_class\u001b[0m\u001b[1;33m=\u001b[0m\u001b[0mmodel\u001b[0m\u001b[1;33m.\u001b[0m\u001b[0mpredict\u001b[0m\u001b[1;33m(\u001b[0m\u001b[0mX_test\u001b[0m\u001b[1;33m)\u001b[0m\u001b[1;33m\u001b[0m\u001b[1;33m\u001b[0m\u001b[0m\n\u001b[0m\u001b[0;32m      4\u001b[0m \u001b[0mcf_matrix\u001b[0m\u001b[1;33m=\u001b[0m\u001b[0mconfusion_matrix\u001b[0m\u001b[1;33m(\u001b[0m\u001b[0my_test\u001b[0m\u001b[1;33m,\u001b[0m\u001b[0my_pred_class\u001b[0m\u001b[1;33m.\u001b[0m\u001b[0mround\u001b[0m\u001b[1;33m(\u001b[0m\u001b[1;33m)\u001b[0m\u001b[1;33m,\u001b[0m\u001b[0mlabel\u001b[0m\u001b[1;33m=\u001b[0m\u001b[1;33m[\u001b[0m\u001b[1;36m0\u001b[0m\u001b[1;33m,\u001b[0m\u001b[1;36m1\u001b[0m\u001b[1;33m]\u001b[0m\u001b[1;33m)\u001b[0m\u001b[1;33m\u001b[0m\u001b[1;33m\u001b[0m\u001b[0m\n\u001b[0;32m      5\u001b[0m \u001b[0mprint\u001b[0m\u001b[1;33m(\u001b[0m\u001b[0mcf_matrix\u001b[0m\u001b[1;33m)\u001b[0m\u001b[1;33m\u001b[0m\u001b[1;33m\u001b[0m\u001b[0m\n",
      "\u001b[1;31mNameError\u001b[0m: name 'X_test' is not defined"
     ]
    }
   ],
   "source": [
    "from sklearn.metrics import confusion_matrix\n",
    "\n",
    "y_pred_class=model.predict(X_test)\n",
    "cf_matrix=confusion_matrix(y_test,y_pred_class.round(),label=[0,1])\n",
    "print(cf_matrix)"
   ]
  },
  {
   "cell_type": "code",
   "execution_count": 189,
   "id": "7baee03a",
   "metadata": {},
   "outputs": [
    {
     "ename": "NameError",
     "evalue": "name 'X_test' is not defined",
     "output_type": "error",
     "traceback": [
      "\u001b[1;31m---------------------------------------------------------------------------\u001b[0m",
      "\u001b[1;31mNameError\u001b[0m                                 Traceback (most recent call last)",
      "\u001b[1;32m~\\AppData\\Local\\Temp/ipykernel_1728/80770542.py\u001b[0m in \u001b[0;36m<module>\u001b[1;34m\u001b[0m\n\u001b[0;32m      1\u001b[0m \u001b[1;32mfrom\u001b[0m \u001b[0msklearn\u001b[0m\u001b[1;33m.\u001b[0m\u001b[0mmetrics\u001b[0m \u001b[1;32mimport\u001b[0m \u001b[0mclassification_report\u001b[0m\u001b[1;33m\u001b[0m\u001b[1;33m\u001b[0m\u001b[0m\n\u001b[0;32m      2\u001b[0m \u001b[1;33m\u001b[0m\u001b[0m\n\u001b[1;32m----> 3\u001b[1;33m \u001b[0my_pred_class\u001b[0m\u001b[1;33m=\u001b[0m\u001b[0mmodel\u001b[0m\u001b[1;33m.\u001b[0m\u001b[0mpredict\u001b[0m\u001b[1;33m(\u001b[0m\u001b[0mX_test\u001b[0m\u001b[1;33m)\u001b[0m\u001b[1;33m\u001b[0m\u001b[1;33m\u001b[0m\u001b[0m\n\u001b[0m\u001b[0;32m      4\u001b[0m \u001b[0mprint\u001b[0m\u001b[1;33m(\u001b[0m\u001b[0mclassification_report\u001b[0m\u001b[1;33m(\u001b[0m\u001b[0my_test\u001b[0m\u001b[1;33m,\u001b[0m\u001b[0my_pred_class\u001b[0m\u001b[1;33m.\u001b[0m\u001b[0mround\u001b[0m\u001b[1;33m(\u001b[0m\u001b[1;33m)\u001b[0m\u001b[1;33m)\u001b[0m\u001b[1;33m)\u001b[0m\u001b[1;33m\u001b[0m\u001b[1;33m\u001b[0m\u001b[0m\n",
      "\u001b[1;31mNameError\u001b[0m: name 'X_test' is not defined"
     ]
    }
   ],
   "source": [
    "from sklearn.metrics import classification_report\n",
    "\n",
    "y_pred_class=model.predict(X_test)\n",
    "print(classification_report(y_test,y_pred_class.round()))"
   ]
  },
  {
   "cell_type": "code",
   "execution_count": 190,
   "id": "4efa531d",
   "metadata": {},
   "outputs": [
    {
     "ename": "NameError",
     "evalue": "name 'y_pred_class' is not defined",
     "output_type": "error",
     "traceback": [
      "\u001b[1;31m---------------------------------------------------------------------------\u001b[0m",
      "\u001b[1;31mNameError\u001b[0m                                 Traceback (most recent call last)",
      "\u001b[1;32m~\\AppData\\Local\\Temp/ipykernel_1728/2388390717.py\u001b[0m in \u001b[0;36m<module>\u001b[1;34m\u001b[0m\n\u001b[0;32m      1\u001b[0m \u001b[1;32mfrom\u001b[0m \u001b[0msklearn\u001b[0m\u001b[1;33m.\u001b[0m\u001b[0mmetrics\u001b[0m \u001b[1;32mimport\u001b[0m \u001b[0mroc_curve\u001b[0m\u001b[1;33m\u001b[0m\u001b[1;33m\u001b[0m\u001b[0m\n\u001b[0;32m      2\u001b[0m \u001b[1;33m\u001b[0m\u001b[0m\n\u001b[1;32m----> 3\u001b[1;33m \u001b[0mfpr\u001b[0m\u001b[1;33m,\u001b[0m\u001b[0mtpr\u001b[0m\u001b[1;33m,\u001b[0m\u001b[0mthresholds\u001b[0m\u001b[1;33m=\u001b[0m\u001b[0mroc_curve\u001b[0m\u001b[1;33m(\u001b[0m\u001b[0my_test\u001b[0m\u001b[1;33m.\u001b[0m\u001b[0mravel\u001b[0m\u001b[1;33m(\u001b[0m\u001b[1;33m)\u001b[0m\u001b[1;33m,\u001b[0m\u001b[0my_pred_class\u001b[0m\u001b[1;33m.\u001b[0m\u001b[0mravel\u001b[0m\u001b[1;33m(\u001b[0m\u001b[1;33m)\u001b[0m\u001b[1;33m)\u001b[0m\u001b[1;33m\u001b[0m\u001b[1;33m\u001b[0m\u001b[0m\n\u001b[0m\u001b[0;32m      4\u001b[0m \u001b[0mplt\u001b[0m\u001b[1;33m.\u001b[0m\u001b[0mplot\u001b[0m\u001b[1;33m(\u001b[0m\u001b[0mfpr\u001b[0m\u001b[1;33m,\u001b[0m\u001b[0mtpr\u001b[0m\u001b[1;33m)\u001b[0m\u001b[1;33m\u001b[0m\u001b[1;33m\u001b[0m\u001b[0m\n\u001b[0;32m      5\u001b[0m \u001b[0mplt\u001b[0m\u001b[1;33m.\u001b[0m\u001b[0mxlabel\u001b[0m\u001b[1;33m(\u001b[0m\u001b[1;34m'False positive rate'\u001b[0m\u001b[1;33m)\u001b[0m\u001b[1;33m\u001b[0m\u001b[1;33m\u001b[0m\u001b[0m\n",
      "\u001b[1;31mNameError\u001b[0m: name 'y_pred_class' is not defined"
     ]
    }
   ],
   "source": [
    "from sklearn.metrics import roc_curve\n",
    "\n",
    "fpr,tpr,thresholds=roc_curve(y_test.ravel(),y_pred_class.ravel())\n",
    "plt.plot(fpr,tpr)\n",
    "plt.xlabel('False positive rate')\n",
    "plt.ylabel('True positive rate')\n",
    "plt.title('ROC curve')"
   ]
  },
  {
   "cell_type": "code",
   "execution_count": 191,
   "id": "8fc6c432",
   "metadata": {},
   "outputs": [
    {
     "ename": "NameError",
     "evalue": "name 'fpr' is not defined",
     "output_type": "error",
     "traceback": [
      "\u001b[1;31m---------------------------------------------------------------------------\u001b[0m",
      "\u001b[1;31mNameError\u001b[0m                                 Traceback (most recent call last)",
      "\u001b[1;32m~\\AppData\\Local\\Temp/ipykernel_1728/3031514906.py\u001b[0m in \u001b[0;36m<module>\u001b[1;34m\u001b[0m\n\u001b[0;32m      1\u001b[0m \u001b[1;32mfrom\u001b[0m \u001b[0msklearn\u001b[0m \u001b[1;32mimport\u001b[0m \u001b[0mmetrics\u001b[0m\u001b[1;33m\u001b[0m\u001b[1;33m\u001b[0m\u001b[0m\n\u001b[0;32m      2\u001b[0m \u001b[1;33m\u001b[0m\u001b[0m\n\u001b[1;32m----> 3\u001b[1;33m \u001b[0mprint\u001b[0m\u001b[1;33m(\u001b[0m\u001b[1;34m\"Area Under the Curve(AUC) is %%%.2f\"\u001b[0m \u001b[1;33m%\u001b[0m\u001b[1;33m(\u001b[0m\u001b[0mmetrics\u001b[0m\u001b[1;33m.\u001b[0m\u001b[0mauc\u001b[0m\u001b[1;33m(\u001b[0m\u001b[0mfpr\u001b[0m\u001b[1;33m,\u001b[0m\u001b[0mtpr\u001b[0m\u001b[1;33m)\u001b[0m\u001b[1;33m*\u001b[0m\u001b[1;36m100\u001b[0m\u001b[1;33m)\u001b[0m\u001b[1;33m)\u001b[0m\u001b[1;33m\u001b[0m\u001b[1;33m\u001b[0m\u001b[0m\n\u001b[0m",
      "\u001b[1;31mNameError\u001b[0m: name 'fpr' is not defined"
     ]
    }
   ],
   "source": [
    "from sklearn import metrics\n",
    "\n",
    "print(\"Area Under the Curve(AUC) is %%%.2f\" %(metrics.auc(fpr,tpr)*100))"
   ]
  },
  {
   "cell_type": "code",
   "execution_count": null,
   "id": "c13830b8",
   "metadata": {},
   "outputs": [],
   "source": []
  }
 ],
 "metadata": {
  "kernelspec": {
   "display_name": "Python 3 (ipykernel)",
   "language": "python",
   "name": "python3"
  },
  "language_info": {
   "codemirror_mode": {
    "name": "ipython",
    "version": 3
   },
   "file_extension": ".py",
   "mimetype": "text/x-python",
   "name": "python",
   "nbconvert_exporter": "python",
   "pygments_lexer": "ipython3",
   "version": "3.9.7"
  }
 },
 "nbformat": 4,
 "nbformat_minor": 5
}
